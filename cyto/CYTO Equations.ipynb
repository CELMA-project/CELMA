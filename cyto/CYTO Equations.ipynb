{
 "cells": [
  {
   "cell_type": "markdown",
   "metadata": {},
   "source": [
    "# CYTO equations\n",
    "\n",
    "According to 'https://svn.fysik.dtu.dk/vona/check/TYR' `r42`"
   ]
  },
  {
   "cell_type": "markdown",
   "metadata": {},
   "source": [
    "## General notes about original files\n",
    "\n",
    "1. Assume a field $f$, then\n",
    "\n",
    "Field  | Time\n",
    "-------|---------------------------\n",
    " $f_0$ | Current\n",
    " $f_1$ | Previous time step\n",
    " $f_2$ | Second previous time step\n",
    " $f_3$ | Third previous time step\n",
    " \n",
    "2. Arakwa defined negatively\n",
    "3. Sheath set by `Cyto_DParallelSOL`\n",
    "4. $V$ is the electron velocity\n",
    "5. $U$ is the ion velocity\n",
    "6. Parallel advection is implemented, but outcommented"
   ]
  },
  {
   "cell_type": "markdown",
   "metadata": {},
   "source": [
    "## Density\n",
    "\n",
    "$\\ln(n) = N$, current timestep is denoted $n_0$\n",
    "\n",
    "\\begin{align}\n",
    "  \\partial_t N = - \\{\\phi, N\\} \n",
    "                 - \\partial_\\|u_e\n",
    "                 - u_e\\partial_\\|N\n",
    "                 + \\frac{S}{n}\n",
    "                 + D(\\partial_\\|^2N + [\\partial_\\|N]^2)\n",
    "                 + \\mu_{en}(\\partial_\\rho N \\partial_\\rho N + \\partial_\\theta N \\partial_\\theta N)\n",
    "\\end{align}\n",
    "\n",
    "Explicit field calculated, then implicit part solved with Helmholtz equation (`Laplace_Solve3D`).\n",
    "\n",
    "### Initial condition\n",
    "\n",
    "### BCs"
   ]
  },
  {
   "cell_type": "markdown",
   "metadata": {},
   "source": [
    "## Vorticity\n",
    "\n",
    "Two ways of evolving $\\Omega^D$\n",
    "\n",
    "### Version 1 a)\n",
    "Found in `r42`\n",
    "\n",
    "\\begin{align}\n",
    "  \\partial \\Omega^D = - \\{\\phi, \\Omega\\} \n",
    "                      + \\partial_\\rho \\left(\\frac{S}{n}\\right)\\partial_\\rho \\phi\n",
    "                      + \\left(\n",
    "                            \\partial_\\|u_i\n",
    "                          + u_i\\partial_\\|N\n",
    "                          - \\partial_\\|u_i\n",
    "                          - u_i\\partial_\\|N\n",
    "                        \\right)\n",
    "                      - \\nu_{ei}\\Omega\n",
    "\\end{align}\n",
    "\n",
    "### Version 1 b)\n",
    "Not available in [Version 1 a)](#version-1-a), as the part replaced uses the temporal field `tfeld`.\n",
    "Here\n",
    "\n",
    "\\begin{align}\n",
    "  \\partial_\\rho \\left(\\frac{S}{n}\\right)\\partial_\\rho \\phi\n",
    "\\end{align}\n",
    "\n",
    "is replaced with\n",
    "\n",
    "\\begin{align}\n",
    "  \\partial_\\rho \\text{d}_t N \\partial_\\rho \\phi + \\partial_\\theta \\text{d}_t N \\partial_\\theta \\phi\n",
    "\\end{align}\n",
    "\n",
    "To yield\n",
    "\n",
    "\\begin{align}\n",
    "  \\partial \\Omega^D = - \\{\\phi, \\Omega\\} \n",
    "                      + \\partial_\\rho \\text{d}_t N \\partial_\\rho \\phi\n",
    "                      + \\partial_\\theta \\text{d}_t N \\partial_\\theta \\phi\n",
    "                      + \\left(\n",
    "                            \\partial_\\|u_i\n",
    "                          + u_i\\partial_\\|N\n",
    "                          - \\partial_\\|u_i\n",
    "                          - u_i\\partial_\\|N\n",
    "                        \\right)\n",
    "                      - \\nu_{in}\\Omega\n",
    "\\end{align}\n",
    "\n",
    "### Outcommented parts\n",
    "\n",
    "The following are outcommented in the code\n",
    "\n",
    "\\begin{align}\n",
    "  - \\nabla_\\perp N \\cdot \\{\\phi, \\nabla_\\perp \\phi\\}\\\\\n",
    "  - \\nabla_\\perp N \\cdot (\\nu_{in}\\phi + \\nu_{e,\\Omega} \\Omega)\\\\\n",
    "\\end{align}\n",
    "\n",
    "\n",
    "### Initial condition\n",
    "\n",
    "### BCs"
   ]
  },
  {
   "cell_type": "markdown",
   "metadata": {},
   "source": [
    "## Ion parallel velocity\n",
    "\n",
    "\\begin{align}\n",
    "  \\partial_t u_i = - \\{\\phi, u_i\\} \n",
    "                   - \\partial_\\| \\phi\n",
    "                   - \\nu_{in}u_i\n",
    "                   + \\frac{\\nu_{ei}}{\\mu}n(u_e - 0\\cdot u_i)\n",
    "                   + \\partial_{zz} u_i\n",
    "\\end{align}\n",
    "\n",
    "**NOTE**: $u_i$ is multiplied with 0\n",
    "\n",
    "\n",
    "### Initial condition\n",
    "\n",
    "### BCs"
   ]
  },
  {
   "cell_type": "markdown",
   "metadata": {},
   "source": [
    "## Electron parallel velocity\n",
    "\n",
    "\\begin{align}\n",
    "  \\partial_t u_e = - \\{\\phi, u_e\\} \n",
    "                   + \\mu \\partial_\\| (\\phi - N)\n",
    "                   - 0\\cdot\\nu_{e}u_e\n",
    "                   + \\mu\\frac{\\nu_{ei}}{\\mu}n(u_e - 0\\cdot u_i)\n",
    "                   + 10\\cdot D\\partial_{zz} u_e\n",
    "                   + 100 \\cdot \\text{LAXF} \\partial_zz u_e\n",
    "\\end{align}\n",
    "\n",
    "\n",
    "### Initial condition\n",
    "\n",
    "### BCs"
   ]
  },
  {
   "cell_type": "markdown",
   "metadata": {},
   "source": [
    "## Inversion"
   ]
  },
  {
   "cell_type": "markdown",
   "metadata": {},
   "source": [
    "## Parameters\n",
    "\n",
    "The following parameters are printed if one runs with\n",
    "\n",
    "`./cyto -I cyto_myset.ini`\n",
    "\n",
    "Param       | Name in code | Found at | Val\n",
    "------------|--------------|----------|------\n",
    " D          | `limiter`    |          |\n",
    " $\\mu_{en}$ | `lool`       |          |\n",
    " \n",
    " ### The source"
   ]
  },
  {
   "cell_type": "code",
   "execution_count": null,
   "metadata": {
    "collapsed": true
   },
   "outputs": [],
   "source": []
  }
 ],
 "metadata": {
  "kernelspec": {
   "display_name": "Python 3",
   "language": "python",
   "name": "python3"
  },
  "language_info": {
   "codemirror_mode": {
    "name": "ipython",
    "version": 3
   },
   "file_extension": ".py",
   "mimetype": "text/x-python",
   "name": "python",
   "nbconvert_exporter": "python",
   "pygments_lexer": "ipython3",
   "version": "3.5.1"
  }
 },
 "nbformat": 4,
 "nbformat_minor": 0
}
