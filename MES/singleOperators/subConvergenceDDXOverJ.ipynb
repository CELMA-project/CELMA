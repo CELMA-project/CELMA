{
 "cells": [
  {
   "cell_type": "markdown",
   "metadata": {},
   "source": [
    "# Explanation of observed subconvergence\n",
    "\n",
    "Subconvergence has been observed when MESing operators which multiplies with $\\frac{1}{J}$. In these cases, the error is dominant in the first inner point. Here we will try to explain this observation."
   ]
  },
  {
   "cell_type": "code",
   "execution_count": 1,
   "metadata": {
    "collapsed": false
   },
   "outputs": [],
   "source": [
    "%matplotlib notebook\n",
    "from IPython.display import display\n",
    "\n",
    "from sympy import Function, S, Eq\n",
    "from sympy import symbols, init_printing, simplify, Limit\n",
    "from sympy import sin, cos, tanh, exp, pi, sqrt\n",
    "\n",
    "from boutdata.mms import x\n",
    "\n",
    "# Import common\n",
    "import os, sys\n",
    "# If we add to sys.path, then it must be an absolute path\n",
    "common_dir = os.path.abspath('./../../common')\n",
    "# Sys path is a list of system paths\n",
    "sys.path.append(common_dir)\n",
    "\n",
    "from CELMAPy.MES import get_metric\n",
    "\n",
    "init_printing()"
   ]
  },
  {
   "cell_type": "markdown",
   "metadata": {},
   "source": [
    "## The centered difference\n",
    "\n",
    "The centered finite differecnce approximation can be found by combining the forward and backward finite differences, evaluated half between grid points."
   ]
  },
  {
   "cell_type": "code",
   "execution_count": 2,
   "metadata": {
    "collapsed": true
   },
   "outputs": [],
   "source": [
    "# Symbols to easen printing\n",
    "symFW, symBW, symCFD = symbols('FW, BW, CFD')\n",
    "x0, h = symbols('x0, h')\n",
    "f = Function('f')"
   ]
  },
  {
   "cell_type": "code",
   "execution_count": 3,
   "metadata": {
    "collapsed": false
   },
   "outputs": [
    {
     "data": {
      "image/png": "[encoded data removed]",
      "text/latex": [
       "$$FW = f{\\left (x_{0} \\right )} + \\frac{h}{2} \\left. \\frac{d}{d \\xi_{1}} f{\\left (\\xi_{1} \\right )} \\right|_{\\substack{ \\xi_{1}=x_{0} }} + \\frac{h^{2}}{8} \\left. \\frac{d^{2}}{d \\xi_{1}^{2}}  f{\\left (\\xi_{1} \\right )} \\right|_{\\substack{ \\xi_{1}=x_{0} }} + \\frac{h^{3}}{48} \\left. \\frac{d^{3}}{d \\xi_{1}^{3}}  f{\\left (\\xi_{1} \\right )} \\right|_{\\substack{ \\xi_{1}=x_{0} }} + \\mathcal{O}\\left(h^{4} + h^{3} x + h^{2} x^{2} + h x^{3} + x^{4}; \\left ( h, \\quad x\\right )\\rightarrow\\left ( 0, \\quad 0\\right )\\right)$$"
      ],
      "text/plain": [
       "                                       ⎛  2        ⎞│           ⎛  3        ⎞│\n",
       "                                     2 ⎜ d         ⎟│         3 ⎜ d         ⎟│\n",
       "               ⎛ d        ⎞│        h ⋅⎜────(f(ξ₁))⎟│        h ⋅⎜────(f(ξ₁))⎟│\n",
       "             h⋅⎜───(f(ξ₁))⎟│           ⎜   2       ⎟│           ⎜   3       ⎟│\n",
       "               ⎝dξ₁       ⎠│ξ₁=x₀      ⎝dξ₁        ⎠│ξ₁=x₀      ⎝dξ₁        ⎠│\n",
       "FW = f(x₀) + ──────────────────── + ────────────────────── + ─────────────────\n",
       "                      2                       8                        48     \n",
       "\n",
       "                                                         \n",
       "                                                         \n",
       "                                                         \n",
       "                                                         \n",
       "ξ₁=x₀    ⎛ 4    3      2  2      3    4                 ⎞\n",
       "───── + O⎝h  + h ⋅x + h ⋅x  + h⋅x  + x ; (h, x) → (0, 0)⎠\n",
       "                                                         "
      ]
     },
     "metadata": {},
     "output_type": "display_data"
    }
   ],
   "source": [
    "FW = f(x+h/2).series(x+h/2, x0=x0, n=4)\n",
    "FW = FW.subs(x-x0,0)\n",
    "display(Eq(symFW,FW))"
   ]
  },
  {
   "cell_type": "code",
   "execution_count": 4,
   "metadata": {
    "collapsed": false
   },
   "outputs": [
    {
     "data": {
      "image/png": "[encoded data removed]",
      "text/latex": [
       "$$BW = f{\\left (x_{0} \\right )} - \\frac{h}{2} \\left. \\frac{d}{d \\xi_{1}} f{\\left (\\xi_{1} \\right )} \\right|_{\\substack{ \\xi_{1}=x_{0} }} + \\frac{h^{2}}{8} \\left. \\frac{d^{2}}{d \\xi_{1}^{2}}  f{\\left (\\xi_{1} \\right )} \\right|_{\\substack{ \\xi_{1}=x_{0} }} - \\frac{h^{3}}{48} \\left. \\frac{d^{3}}{d \\xi_{1}^{3}}  f{\\left (\\xi_{1} \\right )} \\right|_{\\substack{ \\xi_{1}=x_{0} }} + \\mathcal{O}\\left(h^{4} + h^{3} x + h^{2} x^{2} + h x^{3} + x^{4}; \\left ( h, \\quad x\\right )\\rightarrow\\left ( 0, \\quad 0\\right )\\right)$$"
      ],
      "text/plain": [
       "                                       ⎛  2        ⎞│           ⎛  3        ⎞│\n",
       "                                     2 ⎜ d         ⎟│         3 ⎜ d         ⎟│\n",
       "               ⎛ d        ⎞│        h ⋅⎜────(f(ξ₁))⎟│        h ⋅⎜────(f(ξ₁))⎟│\n",
       "             h⋅⎜───(f(ξ₁))⎟│           ⎜   2       ⎟│           ⎜   3       ⎟│\n",
       "               ⎝dξ₁       ⎠│ξ₁=x₀      ⎝dξ₁        ⎠│ξ₁=x₀      ⎝dξ₁        ⎠│\n",
       "BW = f(x₀) - ──────────────────── + ────────────────────── - ─────────────────\n",
       "                      2                       8                        48     \n",
       "\n",
       "                                                         \n",
       "                                                         \n",
       "                                                         \n",
       "                                                         \n",
       "ξ₁=x₀    ⎛ 4    3      2  2      3    4                 ⎞\n",
       "───── + O⎝h  + h ⋅x + h ⋅x  + h⋅x  + x ; (h, x) → (0, 0)⎠\n",
       "                                                         "
      ]
     },
     "metadata": {},
     "output_type": "display_data"
    }
   ],
   "source": [
    "BW = f(x-h/2).series(x-h/2, x0=x0, n=4)\n",
    "BW = BW.subs(x-x0,0)\n",
    "display(Eq(symBW,BW))"
   ]
  },
  {
   "cell_type": "code",
   "execution_count": 5,
   "metadata": {
    "collapsed": false
   },
   "outputs": [
    {
     "data": {
      "image/png": "[encoded data removed]",
      "text/latex": [
       "$$- BW + FW = h \\left. \\frac{d}{d \\xi_{1}} f{\\left (\\xi_{1} \\right )} \\right|_{\\substack{ \\xi_{1}=x_{0} }} + \\frac{h^{3}}{24} \\left. \\frac{d^{3}}{d \\xi_{1}^{3}}  f{\\left (\\xi_{1} \\right )} \\right|_{\\substack{ \\xi_{1}=x_{0} }} + \\mathcal{O}\\left(h^{4} + h^{3} x + h^{2} x^{2} + h x^{3} + x^{4}; \\left ( h, \\quad x\\right )\\rightarrow\\left ( 0, \\quad 0\\right )\\right)$$"
      ],
      "text/plain": [
       "                                     ⎛  3        ⎞│                           \n",
       "                                   3 ⎜ d         ⎟│                           \n",
       "                                  h ⋅⎜────(f(ξ₁))⎟│                           \n",
       "                                     ⎜   3       ⎟│                           \n",
       "             ⎛ d        ⎞│           ⎝dξ₁        ⎠│ξ₁=x₀    ⎛ 4    3      2  2\n",
       "-BW + FW = h⋅⎜───(f(ξ₁))⎟│      + ────────────────────── + O⎝h  + h ⋅x + h ⋅x \n",
       "             ⎝dξ₁       ⎠│ξ₁=x₀             24                                \n",
       "\n",
       "                              \n",
       "                              \n",
       "                              \n",
       "                              \n",
       "      3    4                 ⎞\n",
       " + h⋅x  + x ; (h, x) → (0, 0)⎠\n",
       "                              "
      ]
     },
     "metadata": {},
     "output_type": "display_data"
    },
    {
     "data": {
      "image/png": "[encoded data removed]",
      "text/latex": [
       "$$CFD = \\left. \\frac{d}{d \\xi_{1}} f{\\left (\\xi_{1} \\right )} \\right|_{\\substack{ \\xi_{1}=x_{0} }} + \\frac{h^{2}}{24} \\left. \\frac{d^{3}}{d \\xi_{1}^{3}}  f{\\left (\\xi_{1} \\right )} \\right|_{\\substack{ \\xi_{1}=x_{0} }} + \\mathcal{O}\\left(h^{3} + h^{2} x + h x^{2} + x^{3} + \\frac{x^{4}}{h}; \\left ( h, \\quad x\\right )\\rightarrow\\left ( 0, \\quad 0\\right )\\right)$$"
      ],
      "text/plain": [
       "                              ⎛  3        ⎞│                                  \n",
       "                            2 ⎜ d         ⎟│                                  \n",
       "                           h ⋅⎜────(f(ξ₁))⎟│                                  \n",
       "                              ⎜   3       ⎟│         ⎛                        \n",
       "      ⎛ d        ⎞│           ⎝dξ₁        ⎠│ξ₁=x₀    ⎜ 3    2        2    3   \n",
       "CFD = ⎜───(f(ξ₁))⎟│      + ────────────────────── + O⎜h  + h ⋅x + h⋅x  + x  + \n",
       "      ⎝dξ₁       ⎠│ξ₁=x₀             24              ⎝                        \n",
       "\n",
       "                    \n",
       "                    \n",
       "                    \n",
       " 4                 ⎞\n",
       "x                  ⎟\n",
       "──; (h, x) → (0, 0)⎟\n",
       "h                  ⎠"
      ]
     },
     "metadata": {},
     "output_type": "display_data"
    }
   ],
   "source": [
    "display(Eq(symFW-symBW,FW - BW))\n",
    "CFD = simplify((FW-BW)/h)\n",
    "display(Eq(symCFD, CFD))"
   ]
  },
  {
   "cell_type": "markdown",
   "metadata": {},
   "source": [
    "We see that the centered finite difference (CFD) approximation has an expected convergence order of $2$.\n",
    "\n",
    "Mutliplying the FD approximation $\\partial_x f$ with $1/J$ yields (in cylindrical coordinates)"
   ]
  },
  {
   "cell_type": "code",
   "execution_count": 6,
   "metadata": {
    "collapsed": false
   },
   "outputs": [
    {
     "data": {
      "image/png": "[encoded data removed]",
      "text/latex": [
       "$$\\frac{1}{x} \\left(\\left. \\frac{d}{d \\xi_{1}} f{\\left (\\xi_{1} \\right )} \\right|_{\\substack{ \\xi_{1}=x_{0} }} + \\frac{h^{2}}{24} \\left. \\frac{d^{3}}{d \\xi_{1}^{3}}  f{\\left (\\xi_{1} \\right )} \\right|_{\\substack{ \\xi_{1}=x_{0} }} + \\mathcal{O}\\left(h^{3} + h^{2} x + h x^{2} + x^{3} + \\frac{x^{4}}{h}; \\left ( h, \\quad x\\right )\\rightarrow\\left ( 0, \\quad 0\\right )\\right)\\right)$$"
      ],
      "text/plain": [
       "                        ⎛  3        ⎞│                                        \n",
       "                      2 ⎜ d         ⎟│                                        \n",
       "                     h ⋅⎜────(f(ξ₁))⎟│                                        \n",
       "                        ⎜   3       ⎟│         ⎛                         4    \n",
       "⎛ d        ⎞│           ⎝dξ₁        ⎠│ξ₁=x₀    ⎜ 3    2        2    3   x     \n",
       "⎜───(f(ξ₁))⎟│      + ────────────────────── + O⎜h  + h ⋅x + h⋅x  + x  + ──; (h\n",
       "⎝dξ₁       ⎠│ξ₁=x₀             24              ⎝                        h     \n",
       "──────────────────────────────────────────────────────────────────────────────\n",
       "                                             x                                \n",
       "\n",
       "              \n",
       "              \n",
       "              \n",
       "             ⎞\n",
       "             ⎟\n",
       ", x) → (0, 0)⎟\n",
       "             ⎠\n",
       "──────────────\n",
       "              "
      ]
     },
     "metadata": {},
     "output_type": "display_data"
    }
   ],
   "source": [
    "metric = get_metric()\n",
    "invJCFD = CFD*(1/metric.J)\n",
    "display(invJCFD)"
   ]
  },
  {
   "cell_type": "markdown",
   "metadata": {},
   "source": [
    "In the first inner point $x=\\frac{h}{2}$, so we get"
   ]
  },
  {
   "cell_type": "code",
   "execution_count": 7,
   "metadata": {
    "collapsed": false
   },
   "outputs": [
    {
     "data": {
      "image/png": "[encoded data removed]",
      "text/latex": [
       "$$\\frac{2}{h} \\left. \\frac{d}{d \\xi_{1}} f{\\left (\\xi_{1} \\right )} \\right|_{\\substack{ \\xi_{1}=x_{0} }} + \\frac{h}{12} \\left. \\frac{d^{3}}{d \\xi_{1}^{3}}  f{\\left (\\xi_{1} \\right )} \\right|_{\\substack{ \\xi_{1}=x_{0} }} + \\mathcal{O}\\left(h^{2} + h x + x^{2} + \\frac{x^{3}}{h} + \\frac{x^{4}}{h^{2}}; \\left ( h, \\quad x\\right )\\rightarrow\\left ( 0, \\quad 0\\right )\\right)$$"
      ],
      "text/plain": [
       "                         ⎛  3        ⎞│                                       \n",
       "                         ⎜ d         ⎟│                                       \n",
       "  ⎛ d        ⎞│        h⋅⎜────(f(ξ₁))⎟│                                       \n",
       "2⋅⎜───(f(ξ₁))⎟│          ⎜   3       ⎟│         ⎛                 3    4      \n",
       "  ⎝dξ₁       ⎠│ξ₁=x₀     ⎝dξ₁        ⎠│ξ₁=x₀    ⎜ 2          2   x    x       \n",
       "──────────────────── + ───────────────────── + O⎜h  + h⋅x + x  + ── + ──; (h, \n",
       "         h                       12             ⎜                h     2      \n",
       "                                                ⎝                     h       \n",
       "\n",
       "            \n",
       "            \n",
       "            \n",
       "           ⎞\n",
       "           ⎟\n",
       "x) → (0, 0)⎟\n",
       "           ⎟\n",
       "           ⎠"
      ]
     },
     "metadata": {},
     "output_type": "display_data"
    }
   ],
   "source": [
    "# Cannot have to identical symbols in the order, so we do a workaround\n",
    "firstInnerJ = (1/metric.J).subs(x,h/2)\n",
    "invJCFDFirstInner = simplify(CFD*firstInnerJ)\n",
    "display(invJCFDFirstInner)"
   ]
  },
  {
   "cell_type": "markdown",
   "metadata": {},
   "source": [
    "If we subtracting the exact $(1/J)\\partial_x f$ from the equation above, we see that we end up with something with first order convergence in the first inner point. A poorly chosen function can break the convergence completely."
   ]
  }
 ],
 "metadata": {
  "kernelspec": {
   "display_name": "Python [default]",
   "language": "python",
   "name": "python3"
  },
  "language_info": {
   "codemirror_mode": {
    "name": "ipython",
    "version": 3
   },
   "file_extension": ".py",
   "mimetype": "text/x-python",
   "name": "python",
   "nbconvert_exporter": "python",
   "pygments_lexer": "ipython3",
   "version": "3.5.2"
  }
 },
 "nbformat": 4,
 "nbformat_minor": 0
}
