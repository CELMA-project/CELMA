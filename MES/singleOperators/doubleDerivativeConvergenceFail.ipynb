{
 "cells": [
  {
   "cell_type": "markdown",
   "metadata": {},
   "source": [
    "# Investigation of double derivative convergence fail\n",
    "\n",
    "It is observed that `DDX(DDX(f))` fails to converge, whereas `D2DX2(f)` doesn't. This notebooks shows that the expected convergence of `DDX(DDX(f))` indeed is expected to show second order convergence. Hence, it is still a mystery why diverging behaviour is observed.\n",
    "\n",
    "Hypotheses:\n",
    "* The center becomes multivalued"
   ]
  },
  {
   "cell_type": "code",
   "execution_count": 1,
   "metadata": {
    "collapsed": true
   },
   "outputs": [],
   "source": [
    "from IPython.display import display\n",
    "from sympy import init_printing\n",
    "from sympy import symbols, together, as_finite_diff, simplify\n",
    "from sympy import Function, Eq, S\n",
    "\n",
    "init_printing()"
   ]
  },
  {
   "cell_type": "code",
   "execution_count": 2,
   "metadata": {
    "collapsed": false
   },
   "outputs": [],
   "source": [
    "x = symbols('x')\n",
    "h = symbols('h', positive=True)\n",
    "\n",
    "f = Function('f')\n",
    "g = Function('g')\n",
    "\n",
    "# Stencils\n",
    "stencil = [x-h, x, x+h]"
   ]
  },
  {
   "cell_type": "markdown",
   "metadata": {},
   "source": [
    "### Calculate the finite difference approximation of $\\partial_x f$"
   ]
  },
  {
   "cell_type": "code",
   "execution_count": 3,
   "metadata": {
    "collapsed": false
   },
   "outputs": [],
   "source": [
    "fx = f(x).diff(x)\n",
    "fxFD = as_finite_diff(fx, stencil)\n",
    "display(Eq(symbols('f(x)_x'), fx))\n",
    "display(Eq(symbols('f(x)^FD_x'), together(fxFD)))"
   ]
  },
  {
   "cell_type": "markdown",
   "metadata": {},
   "source": [
    "We now have that $f(x-h, \\theta)$ for the first x point in the mesh is identical to $f(x, \\theta+\\pi)$ (i.e. the ghost point corresponding to $f(x, \\theta)$)"
   ]
  },
  {
   "cell_type": "markdown",
   "metadata": {},
   "source": [
    "### Calculate the finite difference approximation of $\\partial_x \\partial_x f$"
   ]
  },
  {
   "cell_type": "markdown",
   "metadata": {},
   "source": [
    "The first derivative of $f(x)$ in $x-h$, will be the first derivative in of $f(x,\\theta+\\pi)$. Denoting $f(x,\\theta+\\pi)$ as $g(x)$, we have"
   ]
  },
  {
   "cell_type": "code",
   "execution_count": 4,
   "metadata": {
    "collapsed": false
   },
   "outputs": [],
   "source": [
    "gx = g(x).diff(x)\n",
    "gxFD = as_finite_diff(gx, stencil)\n",
    "display(Eq(symbols('g(x)_x'), gx))\n",
    "display(Eq(symbols('g(x)^FD_x'), together(gxFD)))"
   ]
  },
  {
   "cell_type": "markdown",
   "metadata": {},
   "source": [
    "We now have that $g(x-h) = f(x-h, \\theta+\\pi) = f(x, \\theta)$ for the first x point in the mesh (i.e. the ghost point corresponding to $f(x, \\theta+\\pi)$). This means that"
   ]
  },
  {
   "cell_type": "code",
   "execution_count": 5,
   "metadata": {
    "collapsed": false
   },
   "outputs": [],
   "source": [
    "# The derivative first derivative of f(x) in x+h\n",
    "gxFD = gxFD.subs([\\\n",
    "                   (g(x-h), f(x-2*h)),\\\n",
    "                   (g(x+h), f(x))\\\n",
    "                  ])\n",
    "display(Eq(symbols('g(x)^FD_x'), together(gxFD)))"
   ]
  },
  {
   "cell_type": "markdown",
   "metadata": {},
   "source": [
    "Further, the first derivative of $f(x)$ in $x+h$ gives"
   ]
  },
  {
   "cell_type": "code",
   "execution_count": 6,
   "metadata": {
    "collapsed": false
   },
   "outputs": [],
   "source": [
    "fxP1x = fxFD.subs([\\\n",
    "                   (f(x-h), f(x)),\\\n",
    "                   (f(x+h), f(x+2*h))\\\n",
    "                  ])\n",
    "display(Eq(symbols('f(x+h)^FD_x'), together(fxP1x)))"
   ]
  },
  {
   "cell_type": "markdown",
   "metadata": {},
   "source": [
    "Thus, the derivative of $f(x)^{FD}_x$ (i.e. $f(x)^{FD}_{xx}$) can be found by substituting $g(x)^{FD}_x$ for $f(x-h)$ and $f(x+h)^{FD}_x$ for $f(x+h)$ in $f(x)^{FD}_x$"
   ]
  },
  {
   "cell_type": "code",
   "execution_count": 7,
   "metadata": {
    "collapsed": false
   },
   "outputs": [],
   "source": [
    "fxxFD = fxFD.subs([\\\n",
    "                   (f(x-h), gxFD),\\\n",
    "                   (f(x+h), fxP1x)\\\n",
    "                  ])\n",
    "\n",
    "display(Eq(symbols('f^FD_xx'), together(fxxFD)))"
   ]
  },
  {
   "cell_type": "markdown",
   "metadata": {},
   "source": [
    "# Calculating the order\n",
    "\n",
    "Let's call the Taylor expansions of $f$ for $T[f(x,a)] = \\sum_{n=0}^\\infty\\frac{f^{(n)}(a)}{n!}(x-a)^n$"
   ]
  },
  {
   "cell_type": "code",
   "execution_count": 8,
   "metadata": {
    "collapsed": true
   },
   "outputs": [],
   "source": [
    "x0 = symbols('x0')\n",
    "terms = 7"
   ]
  },
  {
   "cell_type": "markdown",
   "metadata": {},
   "source": [
    "Taylor expasion of $f$ expanded around $a=x_0-2h$ evaluated in $x=x_0$"
   ]
  },
  {
   "cell_type": "code",
   "execution_count": 9,
   "metadata": {
    "collapsed": false
   },
   "outputs": [],
   "source": [
    "Fm2 = f(x-2*h).series(x-2*h, x0=x0, n=terms)\n",
    "Fm2 = Fm2.subs(x-x0,0)\n",
    "display(Eq(symbols('Fm2'),Fm2))"
   ]
  },
  {
   "cell_type": "markdown",
   "metadata": {},
   "source": [
    "Taylor expasion of $f$ expanded around $a=x_0$ evaluated in $x=x_0$"
   ]
  },
  {
   "cell_type": "code",
   "execution_count": 10,
   "metadata": {
    "collapsed": false
   },
   "outputs": [],
   "source": [
    "F = f(x).series(x, x0=x0, n=terms)\n",
    "F = F.subs(x-x0,0)\n",
    "display(Eq(symbols('F'),F))"
   ]
  },
  {
   "cell_type": "markdown",
   "metadata": {},
   "source": [
    "Taylor expasion of $f$ expanded around $a=x_0+2h$ evaluated in $x=x_0$"
   ]
  },
  {
   "cell_type": "code",
   "execution_count": 11,
   "metadata": {
    "collapsed": false
   },
   "outputs": [],
   "source": [
    "Fp2 = f(x+2*h).series(x+2*h, x0=x0, n=terms)\n",
    "Fp2 = Fp2.subs(x-x0,0)\n",
    "display(Eq(symbols('Fp2'),Fm2))"
   ]
  },
  {
   "cell_type": "markdown",
   "metadata": {},
   "source": [
    "Substitute into the FD scheme"
   ]
  },
  {
   "cell_type": "code",
   "execution_count": 12,
   "metadata": {
    "collapsed": false
   },
   "outputs": [],
   "source": [
    "fxxFDT = fxxFD.subs([(f(x-2*h), Fm2),\n",
    "                     (f(x)    , F   ),\n",
    "                     (f(x+2*h), Fp2 ),\n",
    "                    ])\n",
    "display(simplify(fxxFDT))"
   ]
  },
  {
   "cell_type": "markdown",
   "metadata": {},
   "source": [
    "We see that this method should be convergent to second order. However, we find that in cylinder geometry, this operator is divergent."
   ]
  }
 ],
 "metadata": {
  "kernelspec": {
   "display_name": "Python 3",
   "language": "python",
   "name": "python3"
  },
  "language_info": {
   "codemirror_mode": {
    "name": "ipython",
    "version": 3
   },
   "file_extension": ".py",
   "mimetype": "text/x-python",
   "name": "python",
   "nbconvert_exporter": "python",
   "pygments_lexer": "ipython3",
   "version": "3.5.1"
  }
 },
 "nbformat": 4,
 "nbformat_minor": 0
}
