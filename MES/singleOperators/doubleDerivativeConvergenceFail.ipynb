{
 "cells": [
  {
   "cell_type": "markdown",
   "metadata": {},
   "source": [
    "# Investigation of double derivative convergence fail\n",
    "\n",
    "It is observe that `DDX(DDX(f))` fails to converge, whereas `D2DX2(f)` doesn't.\n",
    "\n",
    "Let's call the FD operator $D$\n",
    "\n",
    "$$\n",
    "D[f_i] = \\frac{-f_{i-1} + f_{i+1}}{hx}\n",
    "$$\n",
    "\n",
    "Thus\n",
    "\n",
    "$$\n",
    "D[D[f_i]] = D\\left[\\frac{-f_{i-1} + f_{i+1}}{hx}\\right]\n",
    "= \\frac{-D[f_{i-1}] + D[f_{i+1}]}{hx}\n",
    "= \\frac{-\\frac{-f_{i-2} + f_{i}}{hx} + \\frac{-f_{i} + f_{i+2}}{hx}}{hx}\n",
    "= \\frac{f_{i-2} - 2f_{i} + f_{i+2}}{hx^2}\n",
    "$$\n",
    "\n",
    "in other words, we see that we need information from $f_{i-2}$. Assuming now that $i$ denotes the first inner point. $f_{i-2}$ is in principle known (as this is point is the second innermost point diametrically opposite of $i$), but after calculating the first $D[f]$, part of this information is lost when we are setting the ghost point for the innermost points."
   ]
  }
 ],
 "metadata": {
  "kernelspec": {
   "display_name": "Python 3",
   "language": "python",
   "name": "python3"
  },
  "language_info": {
   "codemirror_mode": {
    "name": "ipython",
    "version": 3
   },
   "file_extension": ".py",
   "mimetype": "text/x-python",
   "name": "python",
   "nbconvert_exporter": "python",
   "pygments_lexer": "ipython3",
   "version": "3.5.1"
  }
 },
 "nbformat": 4,
 "nbformat_minor": 0
}
