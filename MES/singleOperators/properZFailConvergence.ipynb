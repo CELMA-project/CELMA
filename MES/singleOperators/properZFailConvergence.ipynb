{
 "cells": [
  {
   "cell_type": "markdown",
   "metadata": {},
   "source": [
    "# Why the proper Z function fails to show convergence\n",
    "\n",
    "\n",
    "We will here investigate why the function called \"properZ\" fails to give convergence."
   ]
  },
  {
   "cell_type": "markdown",
   "metadata": {},
   "source": [
    "## Initialize"
   ]
  },
  {
   "cell_type": "code",
   "execution_count": 1,
   "metadata": {
    "collapsed": false
   },
   "outputs": [],
   "source": [
    "%matplotlib notebook\n",
    "\n",
    "from IPython.display import display\n",
    "\n",
    "from sympy import init_printing\n",
    "from sympy import S, Eq, Limit\n",
    "from sympy import sin, cos, tanh, pi\n",
    "from sympy import symbols\n",
    "\n",
    "from boutdata.mms import x, z\n",
    "\n",
    "\n",
    "init_printing()"
   ]
  },
  {
   "cell_type": "markdown",
   "metadata": {},
   "source": [
    "The function called \"proper Z\" (as it )"
   ]
  },
  {
   "cell_type": "code",
   "execution_count": 2,
   "metadata": {
    "collapsed": false
   },
   "outputs": [
    {
     "data": {
      "image/png": "[encoded data removed]",
      "text/latex": [
       "$$f = \\left(- 0.5 \\tanh{\\left (0.15 x - 5.25 \\right )} + 0.5\\right) \\sin{\\left (2 z \\right )} \\cos{\\left (\\frac{3 \\pi}{Lx} x \\right )}$$"
      ],
      "text/plain": [
       "                                                 ⎛3⋅π⋅x⎞\n",
       "f = (-0.5⋅tanh(0.15⋅x - 5.25) + 0.5)⋅sin(2⋅z)⋅cos⎜─────⎟\n",
       "                                                 ⎝  Lx ⎠"
      ]
     },
     "metadata": {},
     "output_type": "display_data"
    }
   ],
   "source": [
    "Lx=symbols('Lx')\n",
    "# We multiply with cos(6*pi*x/(2*Lx)) in order to give it a modulation, and to get a non-zero value at the boundary\n",
    "s = 0.15\n",
    "c = 50\n",
    "w = 30\n",
    "f = ((1/2) - (1/2)*(tanh(s*(x-(c - (w/2))))))*cos(6*pi*x/(2*Lx))*sin(2*z)\n",
    "display(Eq(symbols('f'),f))"
   ]
  },
  {
   "cell_type": "code",
   "execution_count": 3,
   "metadata": {
    "collapsed": false
   },
   "outputs": [
    {
     "data": {
      "image/png": "[encoded data removed]",
      "text/latex": [
       "$$\\lim_{x \\to 0^+}\\left(\\left(- 0.5 \\tanh{\\left (0.15 x - 5.25 \\right )} + 0.5\\right) \\sin{\\left (2 z \\right )} \\cos{\\left (\\frac{3 \\pi}{Lx} x \\right )}\\right) = 0.999972464308885 \\sin{\\left (2 z \\right )}$$"
      ],
      "text/plain": [
       "                                                  ⎛3⋅π⋅x⎞                     \n",
       " lim (-0.5⋅tanh(0.15⋅x - 5.25) + 0.5)⋅sin(2⋅z)⋅cos⎜─────⎟ = 0.999972464308885⋅\n",
       "x─→0⁺                                             ⎝  Lx ⎠                     \n",
       "\n",
       "        \n",
       "sin(2⋅z)\n",
       "        "
      ]
     },
     "metadata": {},
     "output_type": "display_data"
    },
    {
     "data": {
      "image/png": "[encoded data removed]",
      "text/latex": [
       "$$\\lim_{x \\to 0^-}\\left(\\left(- 0.5 \\tanh{\\left (0.15 x - 5.25 \\right )} + 0.5\\right) \\sin{\\left (2 z \\right )} \\cos{\\left (\\frac{3 \\pi}{Lx} x \\right )}\\right) = 0.999972464308885 \\sin{\\left (2 z \\right )}$$"
      ],
      "text/plain": [
       "                                                  ⎛3⋅π⋅x⎞                     \n",
       " lim (-0.5⋅tanh(0.15⋅x - 5.25) + 0.5)⋅sin(2⋅z)⋅cos⎜─────⎟ = 0.999972464308885⋅\n",
       "x─→0⁻                                             ⎝  Lx ⎠                     \n",
       "\n",
       "        \n",
       "sin(2⋅z)\n",
       "        "
      ]
     },
     "metadata": {},
     "output_type": "display_data"
    }
   ],
   "source": [
    "theLimit = Limit(f,x,0,dir='+')\n",
    "display(Eq(theLimit, theLimit.doit()))\n",
    "theLimit = Limit(f,x,0,dir='-')\n",
    "display(Eq(theLimit, theLimit.doit()))"
   ]
  },
  {
   "cell_type": "markdown",
   "metadata": {},
   "source": [
    "We see that the function is multivalued in the origin. Thus the function is not smooth in this point, hence we cannot expect convergence of this function."
   ]
  }
 ],
 "metadata": {
  "kernelspec": {
   "display_name": "Python 3",
   "language": "python",
   "name": "python3"
  },
  "language_info": {
   "codemirror_mode": {
    "name": "ipython",
    "version": 3
   },
   "file_extension": ".py",
   "mimetype": "text/x-python",
   "name": "python",
   "nbconvert_exporter": "python",
   "pygments_lexer": "ipython3",
   "version": "3.5.1"
  }
 },
 "nbformat": 4,
 "nbformat_minor": 0
}
