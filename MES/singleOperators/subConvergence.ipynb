{
 "cells": [
  {
   "cell_type": "markdown",
   "metadata": {},
   "source": [
    "# Explanation of observed subconvergence\n",
    "\n",
    "Subconvergence has been observed when MESing operators which multiplies with $\\frac{1}{J}$. In these cases, the error is dominant in the first inner point. Here we will try to explain this observation."
   ]
  },
  {
   "cell_type": "code",
   "execution_count": 1,
   "metadata": {
    "collapsed": false
   },
   "outputs": [],
   "source": [
    "%matplotlib notebook\n",
    "from IPython.display import display\n",
    "\n",
    "from sympy import Function, S, Eq\n",
    "from sympy import symbols, init_printing, simplify, Limit\n",
    "from sympy import sin, cos, tanh, exp, pi, sqrt\n",
    "\n",
    "from boutdata.mms import x\n",
    "\n",
    "# Import common\n",
    "import os, sys\n",
    "# If we add to sys.path, then it must be an absolute path\n",
    "common_dir = os.path.abspath('./../')\n",
    "# Sys path is a list of system paths\n",
    "sys.path.append(common_dir)\n",
    "\n",
    "from CELMAPy.MES import get_metric\n",
    "\n",
    "init_printing()"
   ]
  },
  {
   "cell_type": "markdown",
   "metadata": {},
   "source": [
    "## The centered difference\n",
    "\n",
    "The centered finite differecnce approximation can be found by combining the forward and backward finite differences, evaluated half between grid points."
   ]
  },
  {
   "cell_type": "code",
   "execution_count": 2,
   "metadata": {
    "collapsed": true
   },
   "outputs": [],
   "source": [
    "# Symbols to easen printing\n",
    "symFW, symBW, symCFD = symbols('FW, BW, CFD')\n",
    "x0, h = symbols('x0, h')\n",
    "f = Function('f')"
   ]
  },
  {
   "cell_type": "code",
   "execution_count": 3,
   "metadata": {
    "collapsed": false
   },
   "outputs": [],
   "source": [
    "FW = f(x+h/2).series(x+h/2, x0=x0, n=4)\n",
    "FW = FW.subs(x-x0,0)\n",
    "display(Eq(symFW,FW))"
   ]
  },
  {
   "cell_type": "code",
   "execution_count": 4,
   "metadata": {
    "collapsed": false
   },
   "outputs": [],
   "source": [
    "BW = f(x-h/2).series(x-h/2, x0=x0, n=4)\n",
    "BW = BW.subs(x-x0,0)\n",
    "display(Eq(symBW,BW))"
   ]
  },
  {
   "cell_type": "code",
   "execution_count": 5,
   "metadata": {
    "collapsed": false
   },
   "outputs": [],
   "source": [
    "display(Eq(symFW-symBW,FW - BW))\n",
    "CFD = simplify((FW-BW)/h)\n",
    "display(Eq(symCFD, CFD))"
   ]
  },
  {
   "cell_type": "markdown",
   "metadata": {},
   "source": [
    "We see that the centered finite difference (CFD) approximation has an expected convergence order of $2$.\n",
    "\n",
    "Mutliplying the FD approximation $\\partial_x f$ with $1/J$ yields (in cylindrical coordinates)"
   ]
  },
  {
   "cell_type": "code",
   "execution_count": 6,
   "metadata": {
    "collapsed": false
   },
   "outputs": [],
   "source": [
    "metric = get_metric()\n",
    "invJCFD = CFD*(1/metric.J)\n",
    "display(invJCFD)"
   ]
  },
  {
   "cell_type": "markdown",
   "metadata": {},
   "source": [
    "In the first inner point $x=\\frac{h}{2}$, so we get"
   ]
  },
  {
   "cell_type": "code",
   "execution_count": 7,
   "metadata": {
    "collapsed": false
   },
   "outputs": [],
   "source": [
    "# Cannot have to identical symbols in the order, so we do a workaround\n",
    "firstInnerJ = (1/metric.J).subs(x,h/2)\n",
    "invJCFDFirstInner = simplify(CFD*firstInnerJ)\n",
    "display(invJCFDFirstInner)"
   ]
  },
  {
   "cell_type": "markdown",
   "metadata": {},
   "source": [
    "If we subtracting the exact $(1/J)\\partial_x f$ from the equation above, we see that we end up with something with first order convergence in the first inner point. A poorly chosen function can break the convergence completely."
   ]
  }
 ],
 "metadata": {
  "kernelspec": {
   "display_name": "Python 3",
   "language": "python",
   "name": "python3"
  },
  "language_info": {
   "codemirror_mode": {
    "name": "ipython",
    "version": 3
   },
   "file_extension": ".py",
   "mimetype": "text/x-python",
   "name": "python",
   "nbconvert_exporter": "python",
   "pygments_lexer": "ipython3",
   "version": "3.5.1"
  }
 },
 "nbformat": 4,
 "nbformat_minor": 0
}
