{
 "cells": [
  {
   "cell_type": "markdown",
   "metadata": {},
   "source": [
    "# Exact solution used in MES runs\n",
    "\n",
    "\n",
    "We would like to MES the operation\n",
    "\n",
    "$$\n",
    "\\partial_\\rho^4 f\n",
    "$$\n",
    "\n",
    "Using cylindrical geometry."
   ]
  },
  {
   "cell_type": "code",
   "execution_count": 1,
   "metadata": {
    "collapsed": false
   },
   "outputs": [],
   "source": [
    "%matplotlib notebook\n",
    "\n",
    "from sympy import init_printing\n",
    "from sympy import S\n",
    "from sympy import sin, cos, tanh, exp, pi, sqrt\n",
    "\n",
    "from boutdata.mms import x, y, z, t\n",
    "from boutdata.mms import DDX\n",
    "\n",
    "import os, sys\n",
    "# If we add to sys.path, then it must be an absolute path\n",
    "common_dir = os.path.abspath('./../../../../common')\n",
    "# Sys path is a list of system paths\n",
    "sys.path.append(common_dir)\n",
    "from CELMAPy.MES import get_metric, make_plot, BOUT_print\n",
    "\n",
    "init_printing()"
   ]
  },
  {
   "cell_type": "markdown",
   "metadata": {},
   "source": [
    "## Initialize"
   ]
  },
  {
   "cell_type": "code",
   "execution_count": 2,
   "metadata": {
    "collapsed": false
   },
   "outputs": [],
   "source": [
    "folder = '../gaussian/'\n",
    "metric = get_metric()"
   ]
  },
  {
   "cell_type": "markdown",
   "metadata": {},
   "source": [
    "## Define the variables"
   ]
  },
  {
   "cell_type": "code",
   "execution_count": 3,
   "metadata": {
    "collapsed": true
   },
   "outputs": [],
   "source": [
    "# Initialization\n",
    "the_vars = {}"
   ]
  },
  {
   "cell_type": "markdown",
   "metadata": {},
   "source": [
    "### Define the function to take the derivative of"
   ]
  },
  {
   "cell_type": "markdown",
   "metadata": {},
   "source": [
    "**NOTE**:\n",
    "\n",
    "1. z must be periodic\n",
    "2. The field $f(\\rho, \\theta)$ must be of class infinity in $z=0$ and $z=2\\pi$\n",
    "3. The field $f(\\rho, \\theta)$ must be single valued when $\\rho\\to0$\n",
    "4. The field $f(\\rho, \\theta)$ must be continuous in the $\\rho$ direction with $f(\\rho, \\theta + \\pi)$\n",
    "5. Eventual BC in $\\rho$ must be satisfied"
   ]
  },
  {
   "cell_type": "code",
   "execution_count": 4,
   "metadata": {
    "collapsed": false
   },
   "outputs": [],
   "source": [
    "# We need Lx\n",
    "from boututils.options import BOUTOptions\n",
    "myOpts = BOUTOptions(folder)\n",
    "Lx = eval(myOpts.geom['Lx'])"
   ]
  },
  {
   "cell_type": "code",
   "execution_count": 5,
   "metadata": {
    "collapsed": false
   },
   "outputs": [],
   "source": [
    "# Mixmode\n",
    "# Mutliply with a mix of modes\n",
    "# Multiply with a tanh in order to make the variation in x more homogeneous\n",
    "the_vars['f'] = (((x/(Lx))**3)*\\\n",
    "                cos(2*z)*\\\n",
    "                (\n",
    "                   cos(2*pi*(x/Lx)) + sin(2*pi*(x/Lx))\n",
    "                 + cos(3*2*pi*(x/Lx)) + cos(2*2*pi*(x/Lx))                \n",
    "                )\\\n",
    "                *(1/2)*(1-tanh((1/8)*(x-10))))\\\n",
    "                *(1/2)*(-1+tanh((1/4)*(x-20)))"
   ]
  },
  {
   "cell_type": "markdown",
   "metadata": {},
   "source": [
    "Calculating the solution"
   ]
  },
  {
   "cell_type": "code",
   "execution_count": 6,
   "metadata": {
    "collapsed": true
   },
   "outputs": [],
   "source": [
    "the_vars['S'] = the_vars['f'].diff(x, 4)"
   ]
  },
  {
   "cell_type": "markdown",
   "metadata": {},
   "source": [
    "## Plot"
   ]
  },
  {
   "cell_type": "code",
   "execution_count": 7,
   "metadata": {
    "collapsed": false
   },
   "outputs": [],
   "source": [
    "make_plot(folder=folder, the_vars=the_vars, plot2d=True, include_aux=False, save=False)"
   ]
  },
  {
   "cell_type": "markdown",
   "metadata": {},
   "source": [
    "## Print the variables in BOUT++ format"
   ]
  },
  {
   "cell_type": "code",
   "execution_count": 8,
   "metadata": {
    "collapsed": false
   },
   "outputs": [],
   "source": [
    "the_vars['neumann'] = the_vars['f'].diff(x)"
   ]
  },
  {
   "cell_type": "code",
   "execution_count": 9,
   "metadata": {
    "collapsed": false,
    "scrolled": false
   },
   "outputs": [],
   "source": [
    "BOUT_print(the_vars, rational=False)"
   ]
  }
 ],
 "metadata": {
  "kernelspec": {
   "display_name": "Python 3",
   "language": "python",
   "name": "python3"
  },
  "language_info": {
   "codemirror_mode": {
    "name": "ipython",
    "version": 3
   },
   "file_extension": ".py",
   "mimetype": "text/x-python",
   "name": "python",
   "nbconvert_exporter": "python",
   "pygments_lexer": "ipython3",
   "version": "3.5.1"
  }
 },
 "nbformat": 4,
 "nbformat_minor": 0
}
