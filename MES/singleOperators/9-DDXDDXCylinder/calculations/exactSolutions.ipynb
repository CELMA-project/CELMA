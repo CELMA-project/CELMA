{
 "cells": [
  {
   "cell_type": "markdown",
   "metadata": {},
   "source": [
    "# Exact solution used in MES runs\n",
    "\n",
    "\n",
    "We would like to MES the operation\n",
    "\n",
    "$$\n",
    "\\partial_\\rho\\partial_\\rho f\n",
    "$$\n",
    "\n",
    "Using cylindrical geometry.\n",
    "\n",
    "This could of course be done with \n",
    "\n",
    "$$\n",
    "\\partial_\\rho^2 f\n",
    "$$\n",
    "\n",
    "but terms like this appears in $\\nabla(f\\nabla_\\perp g)$ and $\\{\\partial_\\rho f, g\\}$"
   ]
  },
  {
   "cell_type": "code",
   "execution_count": 1,
   "metadata": {
    "collapsed": false
   },
   "outputs": [],
   "source": [
    "%matplotlib notebook\n",
    "\n",
    "from IPython.display import display\n",
    "\n",
    "from sympy import init_printing\n",
    "from sympy import Eq, S, symbols\n",
    "from sympy import sin, cos, tanh, exp, pi, sqrt\n",
    "\n",
    "from boutdata.mms import x, y, z, t\n",
    "from boutdata.mms import DDX\n",
    "\n",
    "import os, sys\n",
    "# If we add to sys.path, then it must be an absolute path\n",
    "common_dir = os.path.abspath('./../../../')\n",
    "# Sys path is a list of system paths\n",
    "sys.path.append(common_dir)\n",
    "from common.python.mesGenerator import get_metric, make_plot, BOUT_print\n",
    "\n",
    "init_printing()"
   ]
  },
  {
   "cell_type": "markdown",
   "metadata": {},
   "source": [
    "## Initialize"
   ]
  },
  {
   "cell_type": "code",
   "execution_count": 2,
   "metadata": {
    "collapsed": false
   },
   "outputs": [],
   "source": [
    "folder = '../mixMode/'\n",
    "metric = get_metric()"
   ]
  },
  {
   "cell_type": "markdown",
   "metadata": {},
   "source": [
    "## Define the variables"
   ]
  },
  {
   "cell_type": "code",
   "execution_count": 3,
   "metadata": {
    "collapsed": true
   },
   "outputs": [],
   "source": [
    "# Initialization\n",
    "the_vars = {}"
   ]
  },
  {
   "cell_type": "markdown",
   "metadata": {},
   "source": [
    "### Define the function to take the derivative of"
   ]
  },
  {
   "cell_type": "markdown",
   "metadata": {},
   "source": [
    "**NOTE**:\n",
    "\n",
    "1. z must be periodic\n",
    "2. z must be of class infinity in $0$ and $2\\pi$\n",
    "3. x must be of class infinity in $0$\n",
    "4. The field $f(\\rho, \\theta)$ must be continuous in the $\\rho$ direction with $f(\\rho, \\theta + \\pi)$\n",
    "5. Eventual BC in $\\rho$ must be satisfied"
   ]
  },
  {
   "cell_type": "code",
   "execution_count": 4,
   "metadata": {
    "collapsed": false
   },
   "outputs": [],
   "source": [
    "# We need Lx\n",
    "from boututils.options import BOUTOptions\n",
    "myOpts = BOUTOptions(folder)\n",
    "Lx = eval(myOpts.geom['Lx'])"
   ]
  },
  {
   "cell_type": "code",
   "execution_count": 5,
   "metadata": {
    "collapsed": false
   },
   "outputs": [],
   "source": [
    "# Mixmode\n",
    "\n",
    "# Need the x^3 in order to let the second derivative of the field go towards one value when rho -> 0 (needed in Arakawa brackets)\n",
    "# Mutliply with a mix of modes\n",
    "# Multiply with a tanh in order to make the variation in x more homogeneous\n",
    "the_vars['f'] = 6+((x/(Lx))**3)*\\\n",
    "                cos(2*z)*\\\n",
    "                (\n",
    "                   cos(2*pi*(x/Lx)) + sin(2*pi*(x/Lx))\n",
    "                 + cos(3*2*pi*(x/Lx)) + cos(2*2*pi*(x/Lx))                \n",
    "                )\\\n",
    "                *(1/2)*(1-tanh((1/8)*(x-10)))"
   ]
  },
  {
   "cell_type": "markdown",
   "metadata": {},
   "source": [
    "Check that the function and its derivative is single valued"
   ]
  },
  {
   "cell_type": "code",
   "execution_count": 6,
   "metadata": {
    "collapsed": false
   },
   "outputs": [],
   "source": [
    "display(Eq(symbols('f(x=0, z)'), the_vars['f'].subs([(x,0)])))\n",
    "display(Eq(symbols('f(x=0, z)_x'), the_vars['f'].diff(x).subs([(x,0)])))\n",
    "display(Eq(symbols('f(x=0, z)_xx'), the_vars['f'].diff(x,2).subs([(x,0)])))"
   ]
  },
  {
   "cell_type": "markdown",
   "metadata": {},
   "source": [
    "Calculating the solution"
   ]
  },
  {
   "cell_type": "code",
   "execution_count": 7,
   "metadata": {
    "collapsed": true
   },
   "outputs": [],
   "source": [
    "the_vars['S'] = DDX(DDX(the_vars['f'], metric=metric), metric=metric)"
   ]
  },
  {
   "cell_type": "markdown",
   "metadata": {},
   "source": [
    "## Plot"
   ]
  },
  {
   "cell_type": "code",
   "execution_count": 8,
   "metadata": {
    "collapsed": false
   },
   "outputs": [],
   "source": [
    "make_plot(folder=folder, the_vars=the_vars, plot2d=True, include_aux=False)"
   ]
  },
  {
   "cell_type": "markdown",
   "metadata": {},
   "source": [
    "## Print the variables in BOUT++ format"
   ]
  },
  {
   "cell_type": "code",
   "execution_count": 9,
   "metadata": {
    "collapsed": false,
    "scrolled": false
   },
   "outputs": [],
   "source": [
    "BOUT_print(the_vars, rational=False)"
   ]
  }
 ],
 "metadata": {
  "kernelspec": {
   "display_name": "Python 3",
   "language": "python",
   "name": "python3"
  },
  "language_info": {
   "codemirror_mode": {
    "name": "ipython",
    "version": 3
   },
   "file_extension": ".py",
   "mimetype": "text/x-python",
   "name": "python",
   "nbconvert_exporter": "python",
   "pygments_lexer": "ipython3",
   "version": "3.5.1"
  }
 },
 "nbformat": 4,
 "nbformat_minor": 0
}
