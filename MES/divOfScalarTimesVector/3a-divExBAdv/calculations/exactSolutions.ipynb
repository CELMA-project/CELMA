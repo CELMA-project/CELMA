{
 "cells": [
  {
   "cell_type": "markdown",
   "metadata": {},
   "source": [
    "# Exact solution used in MES runs\n",
    "\n",
    "\n",
    "We would like to MES the operation (in a cylindrical geometry)\n",
    "\n",
    "$$\n",
    "\\nabla \\cdot \\left(\\mathbf{u}_E\\cdot\\nabla \\left[\\frac{\\nabla_\\perp \\phi}{B}n\\right]\\right)\n",
    "$$\n",
    "\n",
    "As we have a homogenenous $B$-field, we have normalized it out, and remain with\n",
    "\n",
    "$$\n",
    "\\nabla \\cdot \\left(\\mathbf{u}_E\\cdot\\nabla\\left[n\\nabla_\\perp \\phi\\right]\\right)\n",
    "$$"
   ]
  },
  {
   "cell_type": "code",
   "execution_count": 1,
   "metadata": {
    "collapsed": false
   },
   "outputs": [],
   "source": [
    "%matplotlib notebook\n",
    "\n",
    "from sympy import init_printing\n",
    "from sympy import S\n",
    "from sympy import sin, cos, tanh, exp, pi, sqrt\n",
    "\n",
    "from boutdata.mms import x, y, z, t\n",
    "\n",
    "import os, sys\n",
    "# If we add to sys.path, then it must be an absolute path\n",
    "common_dir = os.path.abspath('./../../../')\n",
    "# Sys path is a list of system paths\n",
    "sys.path.append(common_dir)\n",
    "from common.python.mesGenerator import get_metric, make_plot, BOUT_print\n",
    "\n",
    "init_printing()"
   ]
  },
  {
   "cell_type": "code",
   "execution_count": 2,
   "metadata": {
    "collapsed": true
   },
   "outputs": [],
   "source": [
    "def DDX(f):\n",
    "    return f.diff(x, 1)\n",
    "\n",
    "def D2DX2(f):\n",
    "    return f.diff(x, 2)\n",
    "\n",
    "def D3DX3(f):\n",
    "    return f.diff(x, 3)\n",
    "\n",
    "def DDZ(f):\n",
    "    return f.diff(z, 1)\n",
    "\n",
    "def D2DZ2(f):\n",
    "    return f.diff(z, 2)\n",
    "\n",
    "def D3DZ3(f):\n",
    "    return f.diff(z, 3)"
   ]
  },
  {
   "cell_type": "markdown",
   "metadata": {},
   "source": [
    "## Initialize"
   ]
  },
  {
   "cell_type": "code",
   "execution_count": 3,
   "metadata": {
    "collapsed": false
   },
   "outputs": [],
   "source": [
    "folder = '../twoGaussians/'\n",
    "metric = get_metric()"
   ]
  },
  {
   "cell_type": "markdown",
   "metadata": {},
   "source": [
    "## Define the variables"
   ]
  },
  {
   "cell_type": "code",
   "execution_count": 4,
   "metadata": {
    "collapsed": true
   },
   "outputs": [],
   "source": [
    "# Initialization\n",
    "the_vars = {}"
   ]
  },
  {
   "cell_type": "markdown",
   "metadata": {},
   "source": [
    "### Define functions\n",
    "\n",
    "One can show that in cylindrical geometry\n",
    "\n",
    "$$\\nabla \\cdot \\left(\\mathbf{u}_E\\cdot\\nabla\\left[n\\nabla_\\perp \\phi\\right]\\right) = \n",
    "(\n",
    "                  n(\n",
    "                    - \\partial_{x}\\phi(\n",
    "                          \\partial_{xxz}\\phi J^3\n",
    "                        + \\partial_{xz}\\phi J^2\n",
    "                        + \\partial_{z}\\phi J\n",
    "                        + \\partial_{zzz}\\phi J)\n",
    "                     + \\partial_{z}\\phi (\n",
    "                           \\partial_{xx}\\phi J^2\n",
    "                         + \\partial_{xxx}\\phi J^3\n",
    "                         + \\partial_{xzz}\\phi J\n",
    "                         - 2 \\partial_{zz}\\phi)\n",
    "                     )\n",
    "                - (\\partial_{x}\\phi^2)(\n",
    "                      \\partial_{xz}n J^3\n",
    "                    + \\partial_{z}n J^2\n",
    "                                  )\n",
    "                + (\\partial_{z}\\phi^2)(\n",
    "                      \\partial_{xz} n J\n",
    "                    - \\partial_{z} n\n",
    "                                  )\n",
    "                + \\partial_{x}\\phi(\n",
    "                      \\partial_{z}\\phi (\n",
    "                          \\partial_{x}n J^2\n",
    "                        + \\partial_{xx}n J^3\n",
    "                        - \\partial_{zz}n J\n",
    "                            )\n",
    "                    - 2 \\partial_{z} n (\n",
    "                        \\partial_{xx}\\phi J^3\n",
    "                        + \\partial_{zz}\\phi J\n",
    "                              )\n",
    "                        )\n",
    "                + 2 \\partial_{x}n \\partial_{z}\\phi (\n",
    "                          \\partial_{xx}\\phi J^3\n",
    "                        + \\partial_{zz}\\phi J\n",
    "                                )\n",
    "             )/J^4\n",
    "$$"
   ]
  },
  {
   "cell_type": "markdown",
   "metadata": {},
   "source": [
    "**NOTE**:\n",
    "\n",
    "1. z must be periodic\n",
    "2. z must be of class infinity in $0$ and $2\\pi$\n",
    "3. x must be of class infinity in $0$\n",
    "4. The field $f(\\rho, \\theta)$ must be continuous in the $\\rho$ direction with $f(\\rho, \\theta + \\pi)$\n",
    "5. Eventual BC in $\\rho$ must be satisfied"
   ]
  },
  {
   "cell_type": "code",
   "execution_count": 5,
   "metadata": {
    "collapsed": false
   },
   "outputs": [],
   "source": [
    "# We need Lx\n",
    "from boututils.options import BOUTOptions\n",
    "myOpts = BOUTOptions(folder)\n",
    "Lx = eval(myOpts.geom['Lx'])"
   ]
  },
  {
   "cell_type": "code",
   "execution_count": 6,
   "metadata": {
    "collapsed": false
   },
   "outputs": [],
   "source": [
    "# Two gaussians\n",
    "\n",
    "# The skew sinus\n",
    "# In cartesian coordinates we would like a sinus with with a wave-vector in the direction\n",
    "# 45 degrees with respect to the first quadrant. This can be achieved with a wave vector\n",
    "# k = [1/sqrt(2), 1/sqrt(2)]\n",
    "# sin((1/sqrt(2))*(x + y))\n",
    "# We would like 2 nodes, so we may write\n",
    "# sin((1/sqrt(2))*(x + y)*(2*pi/(2*Lx)))\n",
    "# Rewriting this to cylindrical coordinates, gives\n",
    "# sin((1/sqrt(2))*(x*(cos(z)+sin(z)))*(2*pi/(2*Lx)))\n",
    "\n",
    "# The gaussian\n",
    "# In cartesian coordinates we would like\n",
    "# f = exp(-(1/(2*w^2))*((x-x0)^2 + (y-y0)^2))\n",
    "# In cylindrical coordinates, this translates to\n",
    "# f = exp(-(1/(2*w^2))*(x^2 + y^2 + x0^2 + y0^2 - 2*(x*x0+y*y0) ))\n",
    "#   = exp(-(1/(2*w^2))*(rho^2 + rho0^2 - 2*rho*rho0*(cos(theta)*cos(theta0)+sin(theta)*sin(theta0)) ))\n",
    "#   = exp(-(1/(2*w^2))*(rho^2 + rho0^2 - 2*rho*rho0*(cos(theta - theta0)) ))\n",
    "\n",
    "# A parabola\n",
    "# In cartesian coordinates, we have\n",
    "# ((x-x0)/Lx)^2\n",
    "# Chosing this function to have a zero value at the edge yields in cylindrical coordinates\n",
    "# ((x*cos(z)+Lx)/(2*Lx))^2\n",
    "\n",
    "\n",
    "w = 0.8*Lx\n",
    "rho0 = 0.3*Lx\n",
    "theta0 = 5*pi/4\n",
    "the_vars['n'] = sin((1/sqrt(2))*(x*(cos(z)+sin(z)))*(2*pi/(2*Lx)))*\\\n",
    "                  exp(-(1/(2*w**2))*(x**2 + rho0**2 - 2*x*rho0*(cos(z - theta0)) ))*\\\n",
    "                  ((x*cos(z)+Lx)/(2*Lx))**2\n",
    "\n",
    "# The gaussian\n",
    "\n",
    "# In cartesian coordinates we would like\n",
    "# f = exp(-(1/(2*w^2))*((x-x0)^2 + (y-y0)^2))\n",
    "# In cylindrical coordinates, this translates to\n",
    "# f = exp(-(1/(2*w^2))*(x^2 + y^2 + x0^2 + y0^2 - 2*(x*x0+y*y0) ))\n",
    "#   = exp(-(1/(2*w^2))*(rho^2 + rho0^2 - 2*rho*rho0*(cos(theta)*cos(theta0)+sin(theta)*sin(theta0)) ))\n",
    "#   = exp(-(1/(2*w^2))*(rho^2 + rho0^2 - 2*rho*rho0*(cos(theta - theta0)) ))\n",
    "\n",
    "w = 0.5*Lx\n",
    "rho0 = 0.2*Lx\n",
    "theta0 = pi\n",
    "the_vars['phi'] = exp(-(1/(2*w**2))*(x**2 + rho0**2 - 2*x*rho0*(cos(z - theta0)) ))"
   ]
  },
  {
   "cell_type": "markdown",
   "metadata": {},
   "source": [
    "Calculate the solution"
   ]
  },
  {
   "cell_type": "code",
   "execution_count": 7,
   "metadata": {
    "collapsed": false
   },
   "outputs": [],
   "source": [
    "# Calculate the derivatives\n",
    "phi_x   = DDX      (the_vars['phi'])\n",
    "phi_xx  = D2DX2    (the_vars['phi'])\n",
    "phi_xxx = D3DX3    (the_vars['phi'])\n",
    "phi_z   = DDZ      (the_vars['phi'])\n",
    "phi_zz  = D2DZ2    (the_vars['phi'])\n",
    "phi_zzz = D3DZ3    (the_vars['phi'])\n",
    "phi_xz  = DDX(DDZ  (the_vars['phi']))\n",
    "phi_xxz = D2DX2(DDZ(the_vars['phi']))\n",
    "phi_xzz = DDX(D2DZ2(the_vars['phi']))\n",
    "n_x     = DDX      (the_vars['n'])\n",
    "n_xx    = D2DX2    (the_vars['n'])\n",
    "n_z     = DDZ      (the_vars['n'])\n",
    "n_zz    = D2DZ2    (the_vars['n'])\n",
    "n_xz    = DDX(DDZ  (the_vars['n']))\n",
    "\n",
    "# Auxiliary variables\n",
    "n       = the_vars['n']\n",
    "x       = metric.J\n",
    "x2      = metric.J**2\n",
    "x3      = metric.J**3\n",
    "x4      = metric.J**4\n",
    "\n",
    "# Solution\n",
    "the_vars['S'] = (n*(\n",
    "                    - phi_x*(\n",
    "                          phi_xxz*x3\n",
    "                        + phi_xz*x2\n",
    "                        + phi_z*x\n",
    "                        + phi_zzz*x)\n",
    "                     + phi_z*(\n",
    "                           phi_xx*x2\n",
    "                         + phi_xxx*x3\n",
    "                         + phi_xzz*x\n",
    "                         - 2*phi_zz)\n",
    "                     )\n",
    "                - (phi_x**(2))*(\n",
    "                      n_xz*x3\n",
    "                    + n_z*x2\n",
    "                                  )\n",
    "                + (phi_z**(2))*(\n",
    "                      n_xz*x\n",
    "                    - n_z\n",
    "                                  )\n",
    "                + phi_x*(\n",
    "                      phi_z*(\n",
    "                          n_x*x2\n",
    "                        + n_xx*x3\n",
    "                        - n_zz*x\n",
    "                            )\n",
    "                    - 2.0*n_z*(\n",
    "                        phi_xx*x3\n",
    "                        + phi_zz*x\n",
    "                              )\n",
    "                        )\n",
    "                + 2.0*n_x*phi_z*(\n",
    "                          phi_xx*x3\n",
    "                        + phi_zz*x\n",
    "                                )\n",
    "             )/x4"
   ]
  },
  {
   "cell_type": "markdown",
   "metadata": {},
   "source": [
    "## Plot"
   ]
  },
  {
   "cell_type": "code",
   "execution_count": 8,
   "metadata": {
    "collapsed": false
   },
   "outputs": [],
   "source": [
    "make_plot(folder=folder, the_vars=the_vars, plot2d=True, include_aux=False)"
   ]
  },
  {
   "cell_type": "markdown",
   "metadata": {},
   "source": [
    "## Print the variables in BOUT++ format"
   ]
  },
  {
   "cell_type": "code",
   "execution_count": 9,
   "metadata": {
    "collapsed": false,
    "scrolled": false
   },
   "outputs": [],
   "source": [
    "BOUT_print(the_vars, rational=False)"
   ]
  }
 ],
 "metadata": {
  "kernelspec": {
   "display_name": "Python 3",
   "language": "python",
   "name": "python3"
  },
  "language_info": {
   "codemirror_mode": {
    "name": "ipython",
    "version": 3
   },
   "file_extension": ".py",
   "mimetype": "text/x-python",
   "name": "python",
   "nbconvert_exporter": "python",
   "pygments_lexer": "ipython3",
   "version": "3.5.1"
  }
 },
 "nbformat": 4,
 "nbformat_minor": 0
}
