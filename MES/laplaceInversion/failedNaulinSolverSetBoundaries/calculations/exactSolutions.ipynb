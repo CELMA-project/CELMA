{
 "cells": [
  {
   "cell_type": "markdown",
   "metadata": {},
   "source": [
    "# Exact solution used in MES runs\n",
    "\n",
    "\n",
    "We would like to MES Laplacian inversions algorithm using cylindrical geometry"
   ]
  },
  {
   "cell_type": "code",
   "execution_count": 1,
   "metadata": {
    "collapsed": false
   },
   "outputs": [],
   "source": [
    "%matplotlib notebook\n",
    "\n",
    "from sympy import init_printing\n",
    "from sympy import S\n",
    "from sympy import sin, cos, tanh, exp, pi, sqrt\n",
    "\n",
    "from boutdata.mms import Delp2, DDX, DDY, DDZ\n",
    "from boutdata.mms import x, y, z, t\n",
    "\n",
    "import os, sys\n",
    "# If we add to sys.path, then it must be an absolute path\n",
    "common_dir = os.path.abspath('./../../../')\n",
    "# Sys path is a list of system paths\n",
    "sys.path.append(common_dir)\n",
    "from common.python.mesGenerator import get_metric, make_plot, BOUT_print\n",
    "\n",
    "init_printing()"
   ]
  },
  {
   "cell_type": "markdown",
   "metadata": {},
   "source": [
    "## Initialize"
   ]
  },
  {
   "cell_type": "code",
   "execution_count": 2,
   "metadata": {
    "collapsed": false
   },
   "outputs": [],
   "source": [
    "folder = '../twoGaussians/'\n",
    "metric = get_metric()"
   ]
  },
  {
   "cell_type": "markdown",
   "metadata": {},
   "source": [
    "## Define the variables"
   ]
  },
  {
   "cell_type": "code",
   "execution_count": 3,
   "metadata": {
    "collapsed": true
   },
   "outputs": [],
   "source": [
    "# Initialization\n",
    "the_vars = {}"
   ]
  },
  {
   "cell_type": "markdown",
   "metadata": {},
   "source": [
    "We have that\n",
    "\n",
    "$$\\Omega^D = \\nabla\\cdot(n\\nabla_\\perp\\phi) = n\\nabla_\\perp^2\\phi + \\nabla n\\cdot \\nabla_\\perp \\phi = n\\nabla_\\perp^2\\phi + \\nabla_\\perp n\\cdot \\nabla_\\perp \\phi$$\n",
    "\n",
    "Due to orthogonality we have that\n",
    "$$\\nabla_\\perp n\\cdot \\nabla_\\perp \\phi = \\mathbf{e}^i\\cdot \\mathbf{e}^i(\\partial_i n)(\\partial_i \\phi)\n",
    " = g^{xx}(\\partial_x n)(\\partial_x \\phi) + g^{zz}(\\partial_z n)(\\partial_z \\phi) = (\\partial_x n)(\\partial_x \\phi) + \\frac{1}{x^2}(\\partial_z n)(\\partial_z \\phi)$$\n",
    " \n",
    "We will use the `Delp2` operator for the perpendicular Laplace operator (as the y-derivatives vanishes). We have\n",
    "\n",
    "`Delp2`$(f)=g^{xx}\\partial_x^2 f + g^{zz}\\partial_z^2 f + 2g^{xz}\\partial_x\\partial_z f + G^1\\partial_x f + G^3\\partial_z f$\n",
    "\n",
    "Using the cylinder geometry, we get that\n",
    "\n",
    "`Delp2`$(f)=\\partial_x^2 f + \\frac{1}{x^2}\\partial_z^2 f + \\frac{1}{x}\\partial_x f$\n",
    "\n",
    "This gives\n",
    "\n",
    "$$\\Omega^D = \\nabla\\cdot(n\\nabla_\\perp\\phi) = n\\partial_x^2 \\phi + n\\frac{1}{x^2}\\partial_z^2 \\phi + n\\frac{1}{x}\\partial_x \\phi + (\\partial_x n)(\\partial_x \\phi) + \\frac{1}{x^2}(\\partial_z n)(\\partial_z \\phi)$$"
   ]
  },
  {
   "cell_type": "markdown",
   "metadata": {},
   "source": [
    "**NOTE**:\n",
    "\n",
    "1. z must be periodic\n",
    "2. The field $f(\\rho, \\theta)$ must be of class infinity in $z=0$ and $z=2\\pi$\n",
    "3. The field $f(\\rho, \\theta)$ must be single valued when $\\rho\\to0$\n",
    "4. The field $f(\\rho, \\theta)$ must be continuous in the $\\rho$ direction with $f(\\rho, \\theta + \\pi)$\n",
    "5. Eventual BC in $\\rho$ must be satisfied"
   ]
  },
  {
   "cell_type": "code",
   "execution_count": 4,
   "metadata": {
    "collapsed": false
   },
   "outputs": [],
   "source": [
    "# We need Lx\n",
    "from boututils.options import BOUTOptions\n",
    "myOpts = BOUTOptions(folder)\n",
    "Lx = eval(myOpts.geom['Lx'])"
   ]
  },
  {
   "cell_type": "code",
   "execution_count": 5,
   "metadata": {
    "collapsed": false
   },
   "outputs": [],
   "source": [
    "# Two gaussians (swapped phi and n)\n",
    "\n",
    "# The skew sinus\n",
    "# In cartesian coordinates we would like a sinus with with a wave-vector in the direction\n",
    "# 45 degrees with respect to the first quadrant. This can be achieved with a wave vector\n",
    "# k = [1/sqrt(2), 1/sqrt(2)]\n",
    "# sin((1/sqrt(2))*(x + y))\n",
    "# We would like 2 nodes, so we may write\n",
    "# sin((1/sqrt(2))*(x + y)*(2*pi/(2*Lx)))\n",
    "# Rewriting this to cylindrical coordinates, gives\n",
    "# sin((1/sqrt(2))*(x*(cos(z)+sin(z)))*(2*pi/(2*Lx)))\n",
    "\n",
    "# The gaussian\n",
    "# In cartesian coordinates we would like\n",
    "# f = exp(-(1/(2*w^2))*((x-x0)^2 + (y-y0)^2))\n",
    "# In cylindrical coordinates, this translates to\n",
    "# f = exp(-(1/(2*w^2))*(x^2 + y^2 + x0^2 + y0^2 - 2*(x*x0+y*y0) ))\n",
    "#   = exp(-(1/(2*w^2))*(rho^2 + rho0^2 - 2*rho*rho0*(cos(theta)*cos(theta0)+sin(theta)*sin(theta0)) ))\n",
    "#   = exp(-(1/(2*w^2))*(rho^2 + rho0^2 - 2*rho*rho0*(cos(theta - theta0)) ))\n",
    "\n",
    "# A parabola\n",
    "# In cartesian coordinates, we have\n",
    "# ((x-x0)/Lx)^2\n",
    "# Chosing this function to have a zero value at the edge yields in cylindrical coordinates\n",
    "# ((x*cos(z)+Lx)/(2*Lx))^2\n",
    "\n",
    "\n",
    "w = 0.8*Lx\n",
    "rho0 = 0.3*Lx\n",
    "theta0 = 5*pi/4\n",
    "the_vars['phi'] = sin((1/sqrt(2))*(x*(cos(z)+sin(z)))*(2*pi/(2*Lx)))*\\\n",
    "                  exp(-(1/(2*w**2))*(x**2 + rho0**2 - 2*x*rho0*(cos(z - theta0)) ))*\\\n",
    "                  ((x*cos(z)+Lx)/(2*Lx))**2\n",
    "\n",
    "# The gaussian\n",
    "\n",
    "# In cartesian coordinates we would like\n",
    "# f = exp(-(1/(2*w^2))*((x-x0)^2 + (y-y0)^2))\n",
    "# In cylindrical coordinates, this translates to\n",
    "# f = exp(-(1/(2*w^2))*(x^2 + y^2 + x0^2 + y0^2 - 2*(x*x0+y*y0) ))\n",
    "#   = exp(-(1/(2*w^2))*(rho^2 + rho0^2 - 2*rho*rho0*(cos(theta)*cos(theta0)+sin(theta)*sin(theta0)) ))\n",
    "#   = exp(-(1/(2*w^2))*(rho^2 + rho0^2 - 2*rho*rho0*(cos(theta - theta0)) ))\n",
    "# Adding of 2 ensures that n is positive\n",
    "\n",
    "w = 0.5*Lx\n",
    "rho0 = 0.2*Lx\n",
    "theta0 = pi\n",
    "the_vars['n'] = 2+exp(-(1/(2*w**2))*(x**2 + rho0**2 - 2*x*rho0*(cos(z - theta0)) ))"
   ]
  },
  {
   "cell_type": "markdown",
   "metadata": {},
   "source": [
    "We have that\n",
    "\n",
    "$$\\Omega^D = \\nabla\\cdot(n\\nabla_\\perp(\\phi))$$"
   ]
  },
  {
   "cell_type": "code",
   "execution_count": 6,
   "metadata": {
    "collapsed": false
   },
   "outputs": [],
   "source": [
    "# Calculate the solution\n",
    "the_vars['vortD'] =   the_vars['n']*Delp2(the_vars['phi'], metric=metric)\\\n",
    "                    + metric.g11*DDX(the_vars['n'], metric=metric)*DDX(the_vars['phi'], metric=metric)\\\n",
    "                    + metric.g33*DDZ(the_vars['n'], metric=metric)*DDZ(the_vars['phi'], metric=metric)"
   ]
  },
  {
   "cell_type": "markdown",
   "metadata": {},
   "source": [
    "## Plot"
   ]
  },
  {
   "cell_type": "code",
   "execution_count": 7,
   "metadata": {
    "collapsed": false
   },
   "outputs": [],
   "source": [
    "make_plot(folder=folder, the_vars=the_vars, plot2d=True, include_aux=False)"
   ]
  },
  {
   "cell_type": "markdown",
   "metadata": {},
   "source": [
    "## Print the variables in BOUT++ format"
   ]
  },
  {
   "cell_type": "code",
   "execution_count": 8,
   "metadata": {
    "collapsed": false,
    "scrolled": false
   },
   "outputs": [],
   "source": [
    "BOUT_print(the_vars, rational=False)"
   ]
  }
 ],
 "metadata": {
  "kernelspec": {
   "display_name": "Python 3",
   "language": "python",
   "name": "python3"
  },
  "language_info": {
   "codemirror_mode": {
    "name": "ipython",
    "version": 3
   },
   "file_extension": ".py",
   "mimetype": "text/x-python",
   "name": "python",
   "nbconvert_exporter": "python",
   "pygments_lexer": "ipython3",
   "version": "3.5.1"
  }
 },
 "nbformat": 4,
 "nbformat_minor": 0
}
