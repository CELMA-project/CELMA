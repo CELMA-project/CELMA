{
 "cells": [
  {
   "cell_type": "markdown",
   "metadata": {},
   "source": [
    "# Exact solution used in MES runs\n",
    "\n",
    "\n",
    "We would like to MES the implementation of the sheath boundary condition in $u_{e,\\|}$. We have that\n",
    "\n",
    "$$\n",
    "u_{e,\\|} = c_s \\exp(\\Lambda - [\\phi_0 + \\phi])\n",
    "$$\n",
    "\n",
    "Which normalized yields\n",
    "\n",
    "$$\n",
    "u_{e,\\|} = \\exp(\\Lambda - [\\phi_0 + \\phi])\n",
    "$$"
   ]
  },
  {
   "cell_type": "code",
   "execution_count": 1,
   "metadata": {
    "collapsed": false
   },
   "outputs": [],
   "source": [
    "%matplotlib notebook\n",
    "\n",
    "from sympy import init_printing\n",
    "from sympy import S\n",
    "from sympy import sin, cos, tanh, exp, pi, sqrt, log\n",
    "\n",
    "from boutdata.mms import x, y, z, t\n",
    "from boutdata.mms import DDX\n",
    "\n",
    "import os, sys\n",
    "# If we add to sys.path, then it must be an absolute path\n",
    "common_dir = os.path.abspath('./../../../../common')\n",
    "# Sys path is a list of system paths\n",
    "sys.path.append(common_dir)\n",
    "from CELMAPy.MES import make_plot, BOUT_print\n",
    "\n",
    "init_printing()"
   ]
  },
  {
   "cell_type": "markdown",
   "metadata": {},
   "source": [
    "## Initialize"
   ]
  },
  {
   "cell_type": "code",
   "execution_count": 2,
   "metadata": {
    "collapsed": false
   },
   "outputs": [],
   "source": [
    "folder = '../gaussianWSinAndParabola/'"
   ]
  },
  {
   "cell_type": "markdown",
   "metadata": {},
   "source": [
    "## Define the variables"
   ]
  },
  {
   "cell_type": "code",
   "execution_count": 3,
   "metadata": {
    "collapsed": true
   },
   "outputs": [],
   "source": [
    "# Initialization\n",
    "the_vars = {}"
   ]
  },
  {
   "cell_type": "code",
   "execution_count": 4,
   "metadata": {
    "collapsed": false
   },
   "outputs": [],
   "source": [
    "# We need Lx\n",
    "from boututils.options import BOUTOptions\n",
    "myOpts = BOUTOptions(folder)\n",
    "Lx = eval(myOpts.geom['Lx'])\n",
    "Ly = eval(myOpts.geom['Ly'])\n",
    "mu = eval(myOpts.cst['mu']) # Needed for Lambda\n",
    "Lambda = eval(myOpts.cst['Lambda'])\n",
    "phiRef = eval(myOpts.cst['phiRef'])"
   ]
  },
  {
   "cell_type": "code",
   "execution_count": 5,
   "metadata": {
    "collapsed": false
   },
   "outputs": [],
   "source": [
    "# No y variation in the profile\n",
    "\n",
    "# The potential\n",
    "\n",
    "# The skew sinus\n",
    "# In cartesian coordinates we would like a sinus with with a wave-vector in the direction\n",
    "# 45 degrees with respect to the first quadrant. This can be achieved with a wave vector\n",
    "# k = [1/sqrt(2), 1/sqrt(2)]\n",
    "# sin((1/sqrt(2))*(x + y))\n",
    "# We would like 2 nodes, so we may write\n",
    "# sin((1/sqrt(2))*(x + y)*(2*pi/(2*Lx)))\n",
    "\n",
    "the_vars['phi'] = sin((1/sqrt(2))*(x + y)*(2*pi/(2*Lx)))\n",
    "\n",
    "# The profile\n",
    "the_vars['profile'] = sin(2*pi*x/Lx)**2\n",
    "\n",
    "# The parallel velocity, given by the sheath boundary condition\n",
    "the_vars['uEPar'] = exp(Lambda-(phiRef+the_vars['phi']))*the_vars['profile']"
   ]
  },
  {
   "cell_type": "markdown",
   "metadata": {},
   "source": [
    "## Plot"
   ]
  },
  {
   "cell_type": "code",
   "execution_count": 6,
   "metadata": {
    "collapsed": false
   },
   "outputs": [],
   "source": [
    "make_plot(folder=folder, the_vars=the_vars, plot2d=True, include_aux=False, direction='y')"
   ]
  },
  {
   "cell_type": "markdown",
   "metadata": {},
   "source": [
    "## Print the variables in BOUT++ format"
   ]
  },
  {
   "cell_type": "code",
   "execution_count": 7,
   "metadata": {
    "collapsed": false,
    "scrolled": false
   },
   "outputs": [],
   "source": [
    "BOUT_print(the_vars, rational=False)"
   ]
  }
 ],
 "metadata": {
  "kernelspec": {
   "display_name": "Python 3",
   "language": "python",
   "name": "python3"
  },
  "language_info": {
   "codemirror_mode": {
    "name": "ipython",
    "version": 3
   },
   "file_extension": ".py",
   "mimetype": "text/x-python",
   "name": "python",
   "nbconvert_exporter": "python",
   "pygments_lexer": "ipython3",
   "version": "3.5.1"
  }
 },
 "nbformat": 4,
 "nbformat_minor": 0
}