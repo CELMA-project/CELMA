{
 "cells": [
  {
   "cell_type": "markdown",
   "metadata": {},
   "source": [
    "# Exact solution used in MES runs\n",
    "\n",
    "\n",
    "We would like to MES the operation\n",
    "\n",
    "\\begin{align*}\n",
    "    \\iint \\mathbf{v} \\cdot \\text{d}\\mathbf{S}\n",
    "\\end{align*}\n",
    "\n",
    "Where $\\text{d}\\mathbf{S}$ is the edge of the domain. That is\n",
    "\n",
    "\\begin{align*}\n",
    "    -\n",
    "    \\int_0^{Lx} \\int_0^{2\\pi} \\mathbf{v} \\cdot \\mathbf{e}^y J\\text{d}\\theta\\text{d}\\rho\n",
    "    =\n",
    "    -\n",
    "    \\int_0^{Lx} \\int_0^{2\\pi} v^y J\\text{d}\\theta\\text{d}\\rho\n",
    "    \\qquad &\\text{Lower circular disk}\n",
    "    \\\\\n",
    "    \\int_0^{Lx} \\int_0^{2\\pi} \\mathbf{v} \\cdot \\mathbf{e}^y J\\text{d}\\theta\\text{d}\\rho\n",
    "    =\n",
    "    \\int_0^{Lx} \\int_0^{2\\pi} v^y J\\text{d}\\theta\\text{d}\\rho\n",
    "    \\qquad &\\text{Upper circular disk}\n",
    "    \\\\\n",
    "    \\int_0^{Ly} \\int_0^{2\\pi} \\mathbf{v} \\cdot \\mathbf{e}^{\\rho} J \\text{d}\\theta\\text{d}y\n",
    "    =\n",
    "    \\int_0^{Ly} \\int_0^{2\\pi} v^{\\rho} J \\text{d}\\theta\\text{d}y\n",
    "    \\qquad &\\text{Outer x surface}\n",
    "    \\\\\n",
    "\\end{align*}\n",
    "\n",
    "Using cylindrical geometry.\n",
    "\n",
    "We will here specify the vector using contravariant components."
   ]
  },
  {
   "cell_type": "code",
   "execution_count": 1,
   "metadata": {
    "collapsed": false
   },
   "outputs": [],
   "source": [
    "%matplotlib notebook\n",
    "import numpy as np\n",
    "\n",
    "from sympy import init_printing\n",
    "from sympy import S\n",
    "from sympy import sin, cos, tanh, exp, pi, sqrt\n",
    "from sympy import integrate\n",
    "\n",
    "from boutdata.mms import x, y, z, t\n",
    "\n",
    "import os, sys\n",
    "# If we add to sys.path, then it must be an absolute path\n",
    "common_dir = os.path.abspath('./../../../')\n",
    "# Sys path is a list of system paths\n",
    "sys.path.append(common_dir)\n",
    "from common.python.mesGenerator import get_metric, BOUT_print\n",
    "\n",
    "init_printing()"
   ]
  },
  {
   "cell_type": "markdown",
   "metadata": {},
   "source": [
    "## Initialize"
   ]
  },
  {
   "cell_type": "code",
   "execution_count": 2,
   "metadata": {
    "collapsed": false
   },
   "outputs": [],
   "source": [
    "folder = '../sumSines/'\n",
    "metric = get_metric()"
   ]
  },
  {
   "cell_type": "markdown",
   "metadata": {},
   "source": [
    "## Define the variables"
   ]
  },
  {
   "cell_type": "code",
   "execution_count": 3,
   "metadata": {
    "collapsed": true
   },
   "outputs": [],
   "source": [
    "# Initialization\n",
    "the_vars = {}"
   ]
  },
  {
   "cell_type": "markdown",
   "metadata": {},
   "source": [
    "### Define the function to volume integrate"
   ]
  },
  {
   "cell_type": "markdown",
   "metadata": {},
   "source": [
    "**NOTE**:\n",
    "\n",
    "1. z must be periodic\n",
    "2. The field $f(\\rho, \\theta)$ must be of class infinity in $z=0$ and $z=2\\pi$\n",
    "3. The field $f(\\rho, \\theta)$ must be single valued when $\\rho\\to0$\n",
    "4. The field $f(\\rho, \\theta)$ must be continuous in the $\\rho$ direction with $f(\\rho, \\theta + \\pi)$\n",
    "5. Eventual BC in $\\rho$ must be satisfied"
   ]
  },
  {
   "cell_type": "code",
   "execution_count": 4,
   "metadata": {
    "collapsed": false
   },
   "outputs": [],
   "source": [
    "# We need Lx and Ly\n",
    "from boututils.options import BOUTOptions\n",
    "myOpts = BOUTOptions(folder)\n",
    "Lx = eval(myOpts.geom['Lx'])\n",
    "Ly = eval(myOpts.geom['Ly'])"
   ]
  },
  {
   "cell_type": "code",
   "execution_count": 5,
   "metadata": {
    "collapsed": false
   },
   "outputs": [],
   "source": [
    "# Normalized sum of sines\n",
    "the_vars['v^x'] = (sin(y/Ly + 0.1) + sin(2.0*y/Ly + 1)   + sin(2.5*y/Ly + 0.3) +\\\n",
    "                   sin(z + 2.0)    + sin(2.0*z + 2.1)    + sin(3.0*z))/\\\n",
    "                 12978.4154791334\n",
    "    \n",
    "the_vars['v^y'] = (sin(x/Lx + 2.0) + sin(2.0*x/Lx + 2.1) + sin(3.0*x/Lx + 0.5) +\\\n",
    "                   sin(z + 2.0)    + sin(2.0*z + 2.1)    + sin(3.0*z))/\\\n",
    "                 48.5002596046463\n",
    "    \n",
    "the_vars['v^z'] = 0.0"
   ]
  },
  {
   "cell_type": "markdown",
   "metadata": {},
   "source": [
    "Calculating the solution"
   ]
  },
  {
   "cell_type": "code",
   "execution_count": 6,
   "metadata": {
    "collapsed": false
   },
   "outputs": [],
   "source": [
    "the_vars['S_yup'] = (\n",
    "                 integrate(\n",
    "                    integrate(x*the_vars['v^y'], (x, 0, Lx)), (z, 0, 2*np.pi)\n",
    "                          )\n",
    "                    ).evalf()\n",
    "\n",
    "# Surface pointing in the negative y-direction\n",
    "the_vars['S_ydown'] = - the_vars['S_yup']\n",
    "\n",
    "# Will be evaluated at the x-edge\n",
    "the_vars['S_xout'] = (\n",
    "                 integrate(\n",
    "                    integrate(x*the_vars['v^x'], (y, 0, Ly)), (z, 0, 2*np.pi)\n",
    "                          )\n",
    "                    ).subs(x, Lx).evalf()"
   ]
  },
  {
   "cell_type": "markdown",
   "metadata": {},
   "source": [
    "## Print the variables in BOUT++ format"
   ]
  },
  {
   "cell_type": "code",
   "execution_count": 7,
   "metadata": {
    "collapsed": false,
    "scrolled": false
   },
   "outputs": [],
   "source": [
    "BOUT_print(the_vars, rational=False)"
   ]
  }
 ],
 "metadata": {
  "anaconda-cloud": {},
  "kernelspec": {
   "display_name": "Python [default]",
   "language": "python",
   "name": "python3"
  },
  "language_info": {
   "codemirror_mode": {
    "name": "ipython",
    "version": 3
   },
   "file_extension": ".py",
   "mimetype": "text/x-python",
   "name": "python",
   "nbconvert_exporter": "python",
   "pygments_lexer": "ipython3",
   "version": "3.5.2"
  }
 },
 "nbformat": 4,
 "nbformat_minor": 0
}
