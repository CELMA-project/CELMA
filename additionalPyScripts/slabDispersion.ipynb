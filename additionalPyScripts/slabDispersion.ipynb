{
 "cells": [
  {
   "cell_type": "markdown",
   "metadata": {},
   "source": [
    "# Get the dispersion relation for slab geometry\n",
    "\n",
    "We will here calculate the real and imaginary part of the dispersion relation given in \n",
    "Pécseli, H -Low Frequency Waves and Turbulence in Magnetized Laboratory Plasmas and in the Ionosphere, 2016"
   ]
  },
  {
   "cell_type": "code",
   "execution_count": 1,
   "metadata": {
    "collapsed": false
   },
   "outputs": [],
   "source": [
    "from sympy import init_printing\n",
    "from sympy import Eq, I\n",
    "from sympy import re, im\n",
    "from sympy import symbols\n",
    "from sympy.solvers import solve\n",
    "from IPython.display import display\n",
    "\n",
    "om     = symbols('omega')\n",
    "omI    = symbols('omega_i', real=True)\n",
    "omStar = symbols('omega_S', real=True)\n",
    "\n",
    "sigmaPar = symbols('sigma', positive=True)\n",
    "\n",
    "b = symbols('b', real=True)\n",
    "\n",
    "init_printing()"
   ]
  },
  {
   "cell_type": "markdown",
   "metadata": {},
   "source": [
    "## The pure drift wave\n",
    "\n",
    "We are here checking if the dispersion relation in *6.4.1 - Pure drift-wave* is easy to work with"
   ]
  },
  {
   "cell_type": "code",
   "execution_count": 2,
   "metadata": {
    "collapsed": false
   },
   "outputs": [],
   "source": [
    "LHS = om*(om-omI)+I*sigmaPar*(om-omStar + b*(om-omI))\n",
    "RHS = 0\n",
    "eq = Eq(LHS, RHS)"
   ]
  },
  {
   "cell_type": "code",
   "execution_count": 3,
   "metadata": {
    "collapsed": false
   },
   "outputs": [
    {
     "data": {
      "image/png": "[encoded data removed]",
      "text/latex": [
       "$$\\omega \\left(\\omega - \\omega_{i}\\right) + i \\sigma \\left(b \\left(\\omega - \\omega_{i}\\right) + \\omega - \\omega_{S}\\right) = 0$$"
      ],
      "text/plain": [
       "ω⋅(ω - ωᵢ) + ⅈ⋅σ⋅(b⋅(ω - ωᵢ) + ω - ω_S) = 0"
      ]
     },
     "metadata": {},
     "output_type": "display_data"
    }
   ],
   "source": [
    "display(eq)"
   ]
  },
  {
   "cell_type": "code",
   "execution_count": 4,
   "metadata": {
    "collapsed": false
   },
   "outputs": [
    {
     "data": {
      "image/png": "[encoded data removed]",
      "text/latex": [
       "$$- \\frac{i b}{2} \\sigma + \\frac{\\omega_{i}}{2} - \\frac{i \\sigma}{2} - \\frac{1}{2} \\sqrt{- b^{2} \\sigma^{2} + 2 i b \\omega_{i} \\sigma - 2 b \\sigma^{2} + 4 i \\omega_{S} \\sigma + \\omega_{i}^{2} - 2 i \\omega_{i} \\sigma - \\sigma^{2}}$$"
      ],
      "text/plain": [
       "                        ______________________________________________________\n",
       "                       ╱    2  2                     2                 2      \n",
       "  ⅈ⋅b⋅σ   ωᵢ   ⅈ⋅σ   ╲╱  - b ⋅σ  + 2⋅ⅈ⋅b⋅ωᵢ⋅σ - 2⋅b⋅σ  + 4⋅ⅈ⋅ω_S⋅σ + ωᵢ  - 2⋅ⅈ\n",
       "- ───── + ── - ─── - ─────────────────────────────────────────────────────────\n",
       "    2     2     2                                     2                       \n",
       "\n",
       "___________\n",
       "         2 \n",
       "⋅ωᵢ⋅σ - σ  \n",
       "───────────\n",
       "           "
      ]
     },
     "metadata": {},
     "output_type": "display_data"
    },
    {
     "data": {
      "image/png": "[encoded data removed]",
      "text/latex": [
       "$$- \\frac{i b}{2} \\sigma + \\frac{\\omega_{i}}{2} - \\frac{i \\sigma}{2} + \\frac{1}{2} \\sqrt{- b^{2} \\sigma^{2} + 2 i b \\omega_{i} \\sigma - 2 b \\sigma^{2} + 4 i \\omega_{S} \\sigma + \\omega_{i}^{2} - 2 i \\omega_{i} \\sigma - \\sigma^{2}}$$"
      ],
      "text/plain": [
       "                        ______________________________________________________\n",
       "                       ╱    2  2                     2                 2      \n",
       "  ⅈ⋅b⋅σ   ωᵢ   ⅈ⋅σ   ╲╱  - b ⋅σ  + 2⋅ⅈ⋅b⋅ωᵢ⋅σ - 2⋅b⋅σ  + 4⋅ⅈ⋅ω_S⋅σ + ωᵢ  - 2⋅ⅈ\n",
       "- ───── + ── - ─── + ─────────────────────────────────────────────────────────\n",
       "    2     2     2                                     2                       \n",
       "\n",
       "___________\n",
       "         2 \n",
       "⋅ωᵢ⋅σ - σ  \n",
       "───────────\n",
       "           "
      ]
     },
     "metadata": {},
     "output_type": "display_data"
    }
   ],
   "source": [
    "sol1, sol2 = solve(eq, om)\n",
    "\n",
    "display(sol1)\n",
    "display(sol2)"
   ]
  },
  {
   "cell_type": "markdown",
   "metadata": {},
   "source": [
    "The difference in the two solutions are just the sign of the square-root"
   ]
  },
  {
   "cell_type": "code",
   "execution_count": 5,
   "metadata": {
    "collapsed": false
   },
   "outputs": [
    {
     "data": {
      "image/png": "[encoded data removed]",
      "text/latex": [
       "$$\\frac{\\omega_{i}}{2} - \\frac{1}{2} \\sqrt[4]{\\left(2 b \\omega_{i} \\sigma + 4 \\omega_{S} \\sigma - 2 \\omega_{i} \\sigma\\right)^{2} + \\left(- b^{2} \\sigma^{2} - 2 b \\sigma^{2} + \\omega_{i}^{2} - \\sigma^{2}\\right)^{2}} \\cos{\\left (\\frac{1}{2} \\operatorname{atan_{2}}{\\left (2 b \\omega_{i} \\sigma + 4 \\omega_{S} \\sigma - 2 \\omega_{i} \\sigma,- b^{2} \\sigma^{2} - 2 b \\sigma^{2} + \\omega_{i}^{2} - \\sigma^{2} \\right )} \\right )}$$"
      ],
      "text/plain": [
       "         _________________________________________________________________    \n",
       "        ╱                                                               2     \n",
       "     4 ╱                               2   ⎛   2  2        2     2    2⎞      \n",
       "     ╲╱   (2⋅b⋅ωᵢ⋅σ + 4⋅ω_S⋅σ - 2⋅ωᵢ⋅σ)  + ⎝- b ⋅σ  - 2⋅b⋅σ  + ωᵢ  - σ ⎠  ⋅cos\n",
       "ωᵢ                                                                            \n",
       "── - ─────────────────────────────────────────────────────────────────────────\n",
       "2                                                                        2    \n",
       "\n",
       "                                                                 \n",
       "⎛     ⎛                                2  2        2     2    2⎞⎞\n",
       "⎜atan2⎝2⋅b⋅ωᵢ⋅σ + 4⋅ω_S⋅σ - 2⋅ωᵢ⋅σ, - b ⋅σ  - 2⋅b⋅σ  + ωᵢ  - σ ⎠⎟\n",
       "⎜───────────────────────────────────────────────────────────────⎟\n",
       "⎝                               2                               ⎠\n",
       "─────────────────────────────────────────────────────────────────\n",
       "                                                                 "
      ]
     },
     "metadata": {},
     "output_type": "display_data"
    },
    {
     "data": {
      "image/png": "[encoded data removed]",
      "text/latex": [
       "$$- \\frac{b \\sigma}{2} - \\frac{\\sigma}{2} - \\frac{1}{2} \\sqrt[4]{\\left(2 b \\omega_{i} \\sigma + 4 \\omega_{S} \\sigma - 2 \\omega_{i} \\sigma\\right)^{2} + \\left(- b^{2} \\sigma^{2} - 2 b \\sigma^{2} + \\omega_{i}^{2} - \\sigma^{2}\\right)^{2}} \\sin{\\left (\\frac{1}{2} \\operatorname{atan_{2}}{\\left (2 b \\omega_{i} \\sigma + 4 \\omega_{S} \\sigma - 2 \\omega_{i} \\sigma,- b^{2} \\sigma^{2} - 2 b \\sigma^{2} + \\omega_{i}^{2} - \\sigma^{2} \\right )} \\right )}$$"
      ],
      "text/plain": [
       "                ______________________________________________________________\n",
       "               ╱                                                              \n",
       "            4 ╱                               2   ⎛   2  2        2     2    2\n",
       "            ╲╱   (2⋅b⋅ωᵢ⋅σ + 4⋅ω_S⋅σ - 2⋅ωᵢ⋅σ)  + ⎝- b ⋅σ  - 2⋅b⋅σ  + ωᵢ  - σ \n",
       "  b⋅σ   σ                                                                     \n",
       "- ─── - ─ - ──────────────────────────────────────────────────────────────────\n",
       "   2    2                                                                     \n",
       "\n",
       "___                                                                     \n",
       " 2     ⎛     ⎛                                2  2        2     2    2⎞⎞\n",
       "⎞      ⎜atan2⎝2⋅b⋅ωᵢ⋅σ + 4⋅ω_S⋅σ - 2⋅ωᵢ⋅σ, - b ⋅σ  - 2⋅b⋅σ  + ωᵢ  - σ ⎠⎟\n",
       "⎠  ⋅sin⎜───────────────────────────────────────────────────────────────⎟\n",
       "       ⎝                               2                               ⎠\n",
       "────────────────────────────────────────────────────────────────────────\n",
       "  2                                                                     "
      ]
     },
     "metadata": {},
     "output_type": "display_data"
    }
   ],
   "source": [
    "sol1Re = re(sol1)\n",
    "sol1Im = im(sol1)\n",
    "\n",
    "display(sol1Re)\n",
    "display(sol1Im)"
   ]
  },
  {
   "cell_type": "markdown",
   "metadata": {},
   "source": [
    "This is cumbersome to work with.\n",
    "Using something easier."
   ]
  },
  {
   "cell_type": "markdown",
   "metadata": {},
   "source": [
    "## Resistive drift waves with $T_i=0$\n",
    "\n",
    "We are here checking if the dispersion relation in *5.5 - Dispersion relation*, is easy to work with."
   ]
  },
  {
   "cell_type": "code",
   "execution_count": 6,
   "metadata": {
    "collapsed": false
   },
   "outputs": [],
   "source": [
    "LHS = om**2 + I*sigmaPar*(om*(1+b)-omStar)\n",
    "RHS = 0\n",
    "eq = Eq(LHS, RHS)"
   ]
  },
  {
   "cell_type": "code",
   "execution_count": 7,
   "metadata": {
    "collapsed": false
   },
   "outputs": [
    {
     "data": {
      "image/png": "[encoded data removed]",
      "text/latex": [
       "$$\\omega^{2} + i \\sigma \\left(\\omega \\left(b + 1\\right) - \\omega_{S}\\right) = 0$$"
      ],
      "text/plain": [
       " 2                            \n",
       "ω  + ⅈ⋅σ⋅(ω⋅(b + 1) - ω_S) = 0"
      ]
     },
     "metadata": {},
     "output_type": "display_data"
    }
   ],
   "source": [
    "display(eq)"
   ]
  },
  {
   "cell_type": "code",
   "execution_count": 8,
   "metadata": {
    "collapsed": false
   },
   "outputs": [
    {
     "data": {
      "image/png": "[encoded data removed]",
      "text/latex": [
       "$$- \\frac{\\sqrt{\\sigma}}{2} \\sqrt{- b^{2} \\sigma - 2 b \\sigma + 4 i \\omega_{S} - \\sigma} - \\frac{i \\sigma}{2} \\left(b + 1\\right)$$"
      ],
      "text/plain": [
       "        ______________________________              \n",
       "       ╱    2                                       \n",
       "  √σ⋅╲╱  - b ⋅σ - 2⋅b⋅σ + 4⋅ⅈ⋅ω_S - σ    ⅈ⋅σ⋅(b + 1)\n",
       "- ──────────────────────────────────── - ───────────\n",
       "                   2                          2     "
      ]
     },
     "metadata": {},
     "output_type": "display_data"
    },
    {
     "data": {
      "image/png": "[encoded data removed]",
      "text/latex": [
       "$$\\frac{\\sqrt{\\sigma}}{2} \\sqrt{- b^{2} \\sigma - 2 b \\sigma + 4 i \\omega_{S} - \\sigma} - \\frac{i \\sigma}{2} \\left(b + 1\\right)$$"
      ],
      "text/plain": [
       "      ______________________________              \n",
       "     ╱    2                                       \n",
       "√σ⋅╲╱  - b ⋅σ - 2⋅b⋅σ + 4⋅ⅈ⋅ω_S - σ    ⅈ⋅σ⋅(b + 1)\n",
       "──────────────────────────────────── - ───────────\n",
       "                 2                          2     "
      ]
     },
     "metadata": {},
     "output_type": "display_data"
    }
   ],
   "source": [
    "sol1, sol2 = solve(eq, om)\n",
    "\n",
    "display(sol1)\n",
    "display(sol2)"
   ]
  },
  {
   "cell_type": "markdown",
   "metadata": {},
   "source": [
    "The difference in the two solutions are just the sign of the square-root"
   ]
  },
  {
   "cell_type": "code",
   "execution_count": 13,
   "metadata": {
    "collapsed": false
   },
   "outputs": [
    {
     "data": {
      "image/png": "[encoded data removed]",
      "text/latex": [
       "$$- \\frac{\\sqrt{\\sigma}}{2} \\sqrt[4]{16 \\omega_{S}^{2} + \\sigma^{2} \\left(b^{2} + 2 b + 1\\right)^{2}} \\cos{\\left (\\frac{1}{2} \\operatorname{atan_{2}}{\\left (4 \\omega_{S},- \\sigma \\left(b^{2} + 2 b + 1\\right) \\right )} \\right )}$$"
      ],
      "text/plain": [
       "        ______________________________                                      \n",
       "       ╱                            2     ⎛     ⎛          ⎛ 2          ⎞⎞⎞ \n",
       "    4 ╱        2    2 ⎛ 2          ⎞      ⎜atan2⎝4⋅ω_S, -σ⋅⎝b  + 2⋅b + 1⎠⎠⎟ \n",
       "-√σ⋅╲╱   16⋅ω_S  + σ ⋅⎝b  + 2⋅b + 1⎠  ⋅cos⎜───────────────────────────────⎟ \n",
       "                                          ⎝               2               ⎠ \n",
       "────────────────────────────────────────────────────────────────────────────\n",
       "                                     2                                      "
      ]
     },
     "metadata": {},
     "output_type": "display_data"
    },
    {
     "data": {
      "image/png": "[encoded data removed]",
      "text/latex": [
       "$$- \\frac{b \\sigma}{2} - \\frac{\\sqrt{\\sigma}}{2} \\sqrt[4]{16 \\omega_{S}^{2} + \\sigma^{2} \\left(b^{2} + 2 b + 1\\right)^{2}} \\sin{\\left (\\frac{1}{2} \\operatorname{atan_{2}}{\\left (4 \\omega_{S},- \\sigma \\left(b^{2} + 2 b + 1\\right) \\right )} \\right )} - \\frac{\\sigma}{2}$$"
      ],
      "text/plain": [
       "               ______________________________                                 \n",
       "              ╱                            2     ⎛     ⎛          ⎛ 2         \n",
       "           4 ╱        2    2 ⎛ 2          ⎞      ⎜atan2⎝4⋅ω_S, -σ⋅⎝b  + 2⋅b + \n",
       "        √σ⋅╲╱   16⋅ω_S  + σ ⋅⎝b  + 2⋅b + 1⎠  ⋅sin⎜────────────────────────────\n",
       "  b⋅σ                                            ⎝               2            \n",
       "- ─── - ──────────────────────────────────────────────────────────────────────\n",
       "   2                                        2                                 \n",
       "\n",
       "        \n",
       " ⎞⎞⎞    \n",
       "1⎠⎠⎟    \n",
       "───⎟    \n",
       "   ⎠   σ\n",
       "──── - ─\n",
       "       2"
      ]
     },
     "metadata": {},
     "output_type": "display_data"
    }
   ],
   "source": [
    "sol1Re = re(sol1.expand())\n",
    "sol1Im = im(sol1.expand())\n",
    "\n",
    "display(sol1Re.simplify())\n",
    "display(sol1Im.simplify())"
   ]
  },
  {
   "cell_type": "markdown",
   "metadata": {},
   "source": [
    "This also gives quite the mess..."
   ]
  }
 ],
 "metadata": {
  "anaconda-cloud": {},
  "kernelspec": {
   "display_name": "Python [default]",
   "language": "python",
   "name": "python3"
  },
  "language_info": {
   "codemirror_mode": {
    "name": "ipython",
    "version": 3
   },
   "file_extension": ".py",
   "mimetype": "text/x-python",
   "name": "python",
   "nbconvert_exporter": "python",
   "pygments_lexer": "ipython3",
   "version": "3.5.2"
  }
 },
 "nbformat": 4,
 "nbformat_minor": 0
}
