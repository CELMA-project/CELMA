{
 "cells": [
  {
   "cell_type": "markdown",
   "metadata": {},
   "source": [
    "# Calculation of initial profiles\n",
    "\n",
    "Calculation of initial profiles of $\\ln(n)$ and $u_{\\parallel}$ are here calculated."
   ]
  },
  {
   "cell_type": "code",
   "execution_count": 1,
   "metadata": {
    "collapsed": true
   },
   "outputs": [],
   "source": [
    "from IPython.display import display\n",
    "\n",
    "from sympy import symbols\n",
    "from sympy import integrate\n",
    "from sympy import ln, exp\n",
    "from sympy import init_printing\n",
    "from sympy import Function, Eq\n",
    "\n",
    "init_printing()"
   ]
  },
  {
   "cell_type": "code",
   "execution_count": 2,
   "metadata": {
    "collapsed": false
   },
   "outputs": [],
   "source": [
    "z, Lz = symbols('z, L_z', positive = True)\n",
    "\n",
    "S = Function('S', positive = True)\n",
    "n = Function('n', positive = True)\n",
    "u = Function('u', real = True)"
   ]
  },
  {
   "cell_type": "markdown",
   "metadata": {},
   "source": [
    "From the continuity equation we have\n",
    "\n",
    "$\\partial_t n + \\nabla \\cdot (nu) = S$\n",
    "\n",
    "Assuming only the parallel part contributes, we get\n",
    "\n",
    "$\\partial_t n + \\partial_z (nu) = S$\n",
    "\n",
    "In steady state, we have then that\n",
    "\n",
    "\\begin{align*}\n",
    "\\partial_z (nu) &= S\\\\\n",
    "\\int_{z}^{L_z}\\partial_z (nu) dz&= \\int_{z}^{L_z} S dz\\\\\n",
    "(nu)\\big|_z - (nu)\\big|_{L_z} &= \\int_{z}^{L_z} S dz\\\\\n",
    "u(z) &= \\frac{\\int_{z}^{L_z} S dz + (nu)\\big|_{L_z}}{n(z)}\n",
    "\\end{align*}\n",
    "\n",
    "This gives (using $u(L_z)=c_s=1$ in normalized units)"
   ]
  },
  {
   "cell_type": "code",
   "execution_count": 3,
   "metadata": {
    "collapsed": false
   },
   "outputs": [
    {
     "data": {
      "image/png": "[encoded data removed]",
      "text/latex": [
       "$$u{\\left (z \\right )} = \\frac{1}{n{\\left (z \\right )}} \\left(n{\\left (L_{z} \\right )} + \\int_{z}^{L_{z}} S{\\left (z \\right )}\\, dz\\right)$$"
      ],
      "text/plain": [
       "                L_z        \n",
       "                 ⌠         \n",
       "       n(L_z) +  ⎮  S(z) dz\n",
       "                 ⌡         \n",
       "                 z         \n",
       "u(z) = ────────────────────\n",
       "               n(z)        "
      ]
     },
     "metadata": {},
     "output_type": "display_data"
    }
   ],
   "source": [
    "rhs = (integrate(S(z), (z, z, Lz)) + n(z).subs(z, Lz)*1)/n(z)\n",
    "display(Eq(u(z), rhs))"
   ]
  },
  {
   "cell_type": "markdown",
   "metadata": {},
   "source": [
    "## Specification of the functions"
   ]
  },
  {
   "cell_type": "code",
   "execution_count": 4,
   "metadata": {
    "collapsed": true
   },
   "outputs": [],
   "source": [
    "# Starts at 1, ends at -0.5\n",
    "nF = 1 - 1.5*z/Lz\n",
    "\n",
    "# Made as a gaussian function\n",
    "a    = 0.05 \n",
    "bRho = 0 \n",
    "bZ   = 25\n",
    "cRho = 10\n",
    "cZ   = 7 \n",
    "# The source\n",
    "# SF = a*exp(-(z-bZ)**2.0/(2.0*(cZ**2.0)))\n",
    "SF = 0"
   ]
  },
  {
   "cell_type": "code",
   "execution_count": 5,
   "metadata": {
    "collapsed": false
   },
   "outputs": [
    {
     "data": {
      "image/png": "[encoded data removed]",
      "text/latex": [
       "$$u{\\left (z \\right )} = - \\frac{0.5}{1 - \\frac{1.5 z}{L_{z}}}$$"
      ],
      "text/plain": [
       "         -0.5   \n",
       "u(z) = ─────────\n",
       "           1.5⋅z\n",
       "       1 - ─────\n",
       "            L_z "
      ]
     },
     "metadata": {},
     "output_type": "display_data"
    }
   ],
   "source": [
    "rhs = rhs.subs([(n(z), nF),\\\n",
    "                (n(Lz), nF.subs(z, Lz)),\\\n",
    "                (S(z), SF),\\\n",
    "               ]).doit()\n",
    "\n",
    "display(Eq(u(z),rhs))"
   ]
  },
  {
   "cell_type": "code",
   "execution_count": 6,
   "metadata": {
    "collapsed": false
   },
   "outputs": [
    {
     "name": "stdout",
     "output_type": "stream",
     "text": [
      "n = 1 - 1.5*z/L_z\n",
      "u = -0.5/(1 - 1.5*z/L_z)\n"
     ]
    }
   ],
   "source": [
    "print('n = {}'.format(nF))\n",
    "print('u = {}'.format(rhs))"
   ]
  },
  {
   "cell_type": "markdown",
   "metadata": {},
   "source": [
    "Hmmm...this is not quite satisfying as profile does not look like what is found in the simulations. As a bonus, get singularities."
   ]
  }
 ],
 "metadata": {
  "kernelspec": {
   "display_name": "Python 3",
   "language": "python",
   "name": "python3"
  },
  "language_info": {
   "codemirror_mode": {
    "name": "ipython",
    "version": 3
   },
   "file_extension": ".py",
   "mimetype": "text/x-python",
   "name": "python",
   "nbconvert_exporter": "python",
   "pygments_lexer": "ipython3",
   "version": "3.5.1"
  }
 },
 "nbformat": 4,
 "nbformat_minor": 0
}
