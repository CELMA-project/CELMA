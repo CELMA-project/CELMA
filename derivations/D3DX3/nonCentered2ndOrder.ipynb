{
 "cells": [
  {
   "cell_type": "markdown",
   "metadata": {},
   "source": [
    "# Derivation of non-centered D3DX3 scheme without using ghost points\n",
    "\n",
    "The non-centre version is used when the processors is at the outer x boundary. The following scheme is 2nd order convergent."
   ]
  },
  {
   "cell_type": "code",
   "execution_count": 1,
   "metadata": {
    "collapsed": false
   },
   "outputs": [],
   "source": [
    "from IPython.display import display\n",
    "from sympy import init_printing\n",
    "from sympy import symbols, together, as_finite_diff, simplify\n",
    "from sympy import Function, Eq, S\n",
    "\n",
    "init_printing()"
   ]
  },
  {
   "cell_type": "code",
   "execution_count": 2,
   "metadata": {
    "collapsed": false
   },
   "outputs": [],
   "source": [
    "x = symbols('x')\n",
    "h = symbols('h', positive=True)\n",
    "\n",
    "f = Function('f')\n",
    "\n",
    "# Stencils\n",
    "stencil = [x-3*h, x-2*h, x-h, x, x+h/2]"
   ]
  },
  {
   "cell_type": "markdown",
   "metadata": {},
   "source": [
    "We are here discretizing the equation\n",
    "\n",
    "$$ \\partial_\\rho^3 f$$"
   ]
  },
  {
   "cell_type": "markdown",
   "metadata": {},
   "source": [
    "### Calculate the finite difference approximation of $\\partial_x^3 f$"
   ]
  },
  {
   "cell_type": "code",
   "execution_count": 3,
   "metadata": {
    "collapsed": false
   },
   "outputs": [
    {
     "data": {
      "image/png": "iVBORw0KGgoAAAANSUhEUgAAAIMAAAAvBAMAAAAybWTAAAAAMFBMVEX///8AAAAAAAAAAAAAAAAA\nAAAAAAAAAAAAAAAAAAAAAAAAAAAAAAAAAAAAAAAAAAAv3aB7AAAAD3RSTlMAEJl2IquJVETdZu8y\nu83OyatpAAAACXBIWXMAAA7EAAAOxAGVKw4bAAACyUlEQVRIDaVVO4gTURQ9L07+XxRESZGAYiEo\nSRaChcg0NlpsNMs2WkTCIgE/EbRORLCxMMUGtFCCn8IPiGijWAwIFjYbCytBwtoJShaLLLKg933y\ndklmJkPmFpP7zj33zpubd98BPFmofMYTz4V0GEdcop5Ch/DKE8+VdNQ16iXIPnhhOXIi3/LsRMEx\n7CmQbsJvO+9mgDUq48Ma1InFno8CwDpW8YJ2Mq8Zy8dH+FRemjef8u6YyQ0f6ZTK3iMw8FcisIFo\nzV+JeB+5tr8SuRpa8PFv0NtzTXwPm762kSrEuiFfFcCql04emy7xWUEv5e/ukjnNcUTYgYOA0Vfx\noCWc5VbTMWE6ELw4AlK6wQPOYJv7ponOSO5mGyjruPDCQ7324rQ46a1mZrkX6ui1F6dBpMh2SqoJ\nxM51815SFefpu7P0VspgC0u36tJFuiCj9ZUMd6785rYuMZvnH8KSPWAvnhUe0g4GtF606AEEeoG+\ncNwfxhbFo7T7C7iauQ6EO7QW/aEStdhwMvvfhFFcND/eBs3NL05P8CTeH2Ge7gXRfF4C4J8kS3yl\nnpQ+ngeyFsca97l1uWtnyQqh/EOQ2AJTf84boBgc3MOeH3YpGlPiHi8Qwtt5bdcQRdlOtglYKcLg\n3k4l7uL+CVUQGSWHBmUF8rQTfrmmTXok6PA7mxJ3Lkv8aLFqsfyc3FSb+tAnZw1W1jL+kjdpJKhj\nSIj7ZbFaHWM4DdygbzCGDdSiZuy1DuxwuKAK4+IervwU/iOFAXRAH+yns1q9vZBJ1FdMHdjhiJ3T\nWoh79EtHhJKmYrAB8JguEFfTx4aLe6xkCrK+cnQttxrb07JT3E+plCduqfJtXFDFTM4t7kJQ5UzO\nKe5SUOVMzinuUlDVTM78alvCWFDFTNoyZoJKUOVMzmTbEqSgqpm0ZcwEhaCOZ3Im25YgBHU8k7YM\nAv8DobWtbqXgNqYAAAAASUVORK5CYII=\n",
      "text/latex": [
       "$$f_{x3} = \\frac{d^{3}}{d x^{3}}  f{\\left (x \\right )}$$"
      ],
      "text/plain": [
       "        3      \n",
       "       d       \n",
       "fₓ₃ = ───(f(x))\n",
       "        3      \n",
       "      dx       "
      ]
     },
     "metadata": {},
     "output_type": "display_data"
    },
    {
     "data": {
      "image/png": "iVBORw0KGgoAAAANSUhEUgAAA04AAAAyBAMAAACZhpaVAAAAMFBMVEX///8AAAAAAAAAAAAAAAAA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\n",
      "text/latex": [
       "$$f^{FD}_{x3} = \\frac{1}{35 h^{3}} \\left(- 385 f{\\left (x \\right )} + 25 f{\\left (- 3 h + x \\right )} - 147 f{\\left (- 2 h + x \\right )} + 315 f{\\left (- h + x \\right )} + 192 f{\\left (\\frac{h}{2} + x \\right )}\\right)$$"
      ],
      "text/plain": [
       "                                                                              \n",
       "           -385⋅f(x) + 25⋅f(-3⋅h + x) - 147⋅f(-2⋅h + x) + 315⋅f(-h + x) + 192⋅\n",
       "                                                                              \n",
       "f_x3__FD = ───────────────────────────────────────────────────────────────────\n",
       "                                                  3                           \n",
       "                                              35⋅h                            \n",
       "\n",
       " ⎛h    ⎞\n",
       "f⎜─ + x⎟\n",
       " ⎝2    ⎠\n",
       "────────\n",
       "        \n",
       "        "
      ]
     },
     "metadata": {},
     "output_type": "display_data"
    }
   ],
   "source": [
    "fx3 = f(x).diff(x,3)\n",
    "fx3FD = as_finite_diff(fx3, stencil)\n",
    "display(Eq(symbols('f_x3'), fx3))\n",
    "display(Eq(symbols('f^FD_x3'), together(fx3FD)))"
   ]
  },
  {
   "cell_type": "markdown",
   "metadata": {},
   "source": [
    "# Calculating the order\n",
    "\n",
    "Let's call the Taylor expansions of $f$ for $T[f(x,a)] = \\sum_{n=0}^\\infty\\frac{f^{(n)}(a)}{n!}(x-a)^n$"
   ]
  },
  {
   "cell_type": "code",
   "execution_count": 4,
   "metadata": {
    "collapsed": true
   },
   "outputs": [],
   "source": [
    "x0 = symbols('x0')\n",
    "terms = 7"
   ]
  },
  {
   "cell_type": "markdown",
   "metadata": {},
   "source": [
    "Taylor expasion of $f$ expanded around $a=x_0$ evaluated in $x=x_0$
   ]
  },
  {
   "cell_type": "code",
   "execution_count": 5,
   "metadata": {
    "collapsed": false
   },
   "outputs": [
    {
     "data": {
      "image/png": "iVBORw0KGgoAAAANSUhEUgAAAFsAAAAVBAMAAADbSo+2AAAAMFBMVEX///8AAAAAAAAAAAAAAAAA\nAAAAAAAAAAAAAAAAAAAAAAAAAAAAAAAAAAAAAAAAAAAv3aB7AAAAD3RSTlMAdrur781mRIlUMhAi\n3ZlAc+EGAAAACXBIWXMAAA7EAAAOxAGVKw4bAAABpElEQVQoFa1Tv0vDYBB9/RWTptGqSycVFBcF\nCzqK6CQOQkF0cWjAQRCH7iKtCoKDtbMO5j9oSt0bRHRtF8FBiLtDFcQfRfTuS1KS1NEH+d69d8fx\n3SUB/hNJ3ddtR8RDP+OzEy8+2wnVp2fg2m/HDKHe6Jz0+yKOnXwCmwE7x6rvg47tgM+isVdApBSw\nM6xk6oLzgM/ikp64xVEXVxwlOkjhout5wSkF+55wOFEhHmjiNmiz2lpdAMoU1IbvMmknL9vERRvz\nQsrrAuwReFe0ALUktbQcMnxviWc9W5tbJAoh9UXGA01myh3FkkpKFlCa5OVNlcIwlDY5y9QdiTFA\nM9ABkux9Q9WJQpC5E5XTbGnaqoUVp1ysXdTKjwJZIaJMdBmgasCsmrinN0Qt5HeRDh9x6smjKuYo\nIlzeckbV2uFKoRsFoiPaW2WG9ly1sAT026jnX+lT6kXRJI9eU32wdqyjYYAukeAWf+OQbc1yk1qB\nN3Pjqh5SshvsSbabidi89wNX9ZA21RTetJcpl02oOU+FWRqxhBX4PaKOF6716ZTuE7vAL99RZDSf\n6CttAAAAAElFTkSuQmCC\n",
      "text/latex": [
       "$$F = f{\\left (x_{0} \\right )}$$"
      ],
      "text/plain": [
       "F = f(x₀)"
      ]
     },
     "metadata": {},
     "output_type": "display_data"
    }
   ],
   "source": [
    "F = f(x).series(x, x0=x0, n=terms)\n",
    "F = F.subs(x-x0,0)\n",
    "display(Eq(symbols('F'),F))"
   ]
  },
  {
   "cell_type": "markdown",
   "metadata": {},
   "source": [
    "Taylor expasion of $f$ expanded around $a=x_0+\\frac{h}{2}$ evaluated in $x=x_0$
   ]
  },
  {
   "cell_type": "code",
   "execution_count": 6,
   "metadata": {
    "collapsed": false
   },
   "outputs": [
    {
     "data": {
      "image/png": "iVBORw0KGgoAAAANSUhEUgAAB60AAAA4CAMAAACR4Z0CAAAAOVBMVEX///8AAAAAAAAAAAAAAAAA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\nRK5CYII=\n",
      "text/latex": [
       "$$Fp_{05} = f{\\left (x_{0} \\right )} + \\frac{h}{2} \\left. \\frac{d}{d \\xi_{1}} f{\\left (\\xi_{1} \\right )} \\right|_{\\substack{ \\xi_{1}=x_{0} }} + \\frac{h^{2}}{8} \\left. \\frac{d^{2}}{d \\xi_{1}^{2}}  f{\\left (\\xi_{1} \\right )} \\right|_{\\substack{ \\xi_{1}=x_{0} }} + \\frac{h^{3}}{48} \\left. \\frac{d^{3}}{d \\xi_{1}^{3}}  f{\\left (\\xi_{1} \\right )} \\right|_{\\substack{ \\xi_{1}=x_{0} }} + \\frac{h^{4}}{384} \\left. \\frac{d^{4}}{d \\xi_{1}^{4}}  f{\\left (\\xi_{1} \\right )} \\right|_{\\substack{ \\xi_{1}=x_{0} }} + \\frac{h^{5}}{3840} \\left. \\frac{d^{5}}{d \\xi_{1}^{5}}  f{\\left (\\xi_{1} \\right )} \\right|_{\\substack{ \\xi_{1}=x_{0} }} + \\frac{h^{6}}{46080} \\left. \\frac{d^{6}}{d \\xi_{1}^{6}}  f{\\left (\\xi_{1} \\right )} \\right|_{\\substack{ \\xi_{1}=x_{0} }} + \\mathcal{O}\\left(h^{7} + h^{6} x + h^{5} x^{2} + h^{4} x^{3} + h^{3} x^{4} + h^{2} x^{5} + h x^{6} + x^{7}; \\left ( h, \\quad x\\right )\\rightarrow\\left ( 0, \\quad 0\\right )\\right)$$"
      ],
      "text/plain": [
       "                                         ⎛  2        ⎞│           ⎛  3        \n",
       "                                       2 ⎜ d         ⎟│         3 ⎜ d         \n",
       "                 ⎛ d        ⎞│        h ⋅⎜────(f(ξ₁))⎟│        h ⋅⎜────(f(ξ₁))\n",
       "               h⋅⎜───(f(ξ₁))⎟│           ⎜   2       ⎟│           ⎜   3       \n",
       "                 ⎝dξ₁       ⎠│ξ₁=x₀      ⎝dξ₁        ⎠│ξ₁=x₀      ⎝dξ₁        \n",
       "Fp₀₅ = f(x₀) + ──────────────────── + ────────────────────── + ───────────────\n",
       "                        2                       8                        48   \n",
       "\n",
       "⎞│           ⎛  4        ⎞│           ⎛  5        ⎞│           ⎛  6        ⎞│ \n",
       "⎟│         4 ⎜ d         ⎟│         5 ⎜ d         ⎟│         6 ⎜ d         ⎟│ \n",
       "⎟│        h ⋅⎜────(f(ξ₁))⎟│        h ⋅⎜────(f(ξ₁))⎟│        h ⋅⎜────(f(ξ₁))⎟│ \n",
       "⎟│           ⎜   4       ⎟│           ⎜   5       ⎟│           ⎜   6       ⎟│ \n",
       "⎠│ξ₁=x₀      ⎝dξ₁        ⎠│ξ₁=x₀      ⎝dξ₁        ⎠│ξ₁=x₀      ⎝dξ₁        ⎠│ξ\n",
       "─────── + ────────────────────── + ────────────────────── + ──────────────────\n",
       "                   384                      3840                    46080     \n",
       "\n",
       "                                                                              \n",
       "                                                                              \n",
       "                                                                              \n",
       "                                                                              \n",
       "₁=x₀    ⎛ 7    6      5  2    4  3    3  4    2  5      6    7                \n",
       "──── + O⎝h  + h ⋅x + h ⋅x  + h ⋅x  + h ⋅x  + h ⋅x  + h⋅x  + x ; (h, x) → (0, 0\n",
       "                                                                              \n",
       "\n",
       "  \n",
       "  \n",
       "  \n",
       "  \n",
       " ⎞\n",
       ")⎠\n",
       "  "
      ]
     },
     "metadata": {},
     "output_type": "display_data"
    }
   ],
   "source": [
    "Fp05 = f(x+h/2).series(x+h/2, x0=x0, n=terms)\n",
    "Fp05 = Fp05.subs(x-x0,0)\n",
    "display(Eq(symbols('Fp05'),Fp05))"
   ]
  },
  {
   "cell_type": "markdown",
   "metadata": {},
   "source": [
    "Taylor expasion of $f$ expanded around $a=x_0-h$ evaluated in $x=x_x0$
   ]
  },
  {
   "cell_type": "code",
   "execution_count": 7,
   "metadata": {
    "collapsed": false
   },
   "outputs": [
    {
     "data": {
      "image/png": "iVBORw0KGgoAAAANSUhEUgAAB34AAAA4CAMAAAAlx6lIAAAAOVBMVEX///8AAAAAAAAAAAAAAAAA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\n",
      "text/latex": [
       "$$Fm_{1} = f{\\left (x_{0} \\right )} - h \\left. \\frac{d}{d \\xi_{1}} f{\\left (\\xi_{1} \\right )} \\right|_{\\substack{ \\xi_{1}=x_{0} }} + \\frac{h^{2}}{2} \\left. \\frac{d^{2}}{d \\xi_{1}^{2}}  f{\\left (\\xi_{1} \\right )} \\right|_{\\substack{ \\xi_{1}=x_{0} }} - \\frac{h^{3}}{6} \\left. \\frac{d^{3}}{d \\xi_{1}^{3}}  f{\\left (\\xi_{1} \\right )} \\right|_{\\substack{ \\xi_{1}=x_{0} }} + \\frac{h^{4}}{24} \\left. \\frac{d^{4}}{d \\xi_{1}^{4}}  f{\\left (\\xi_{1} \\right )} \\right|_{\\substack{ \\xi_{1}=x_{0} }} - \\frac{h^{5}}{120} \\left. \\frac{d^{5}}{d \\xi_{1}^{5}}  f{\\left (\\xi_{1} \\right )} \\right|_{\\substack{ \\xi_{1}=x_{0} }} + \\frac{h^{6}}{720} \\left. \\frac{d^{6}}{d \\xi_{1}^{6}}  f{\\left (\\xi_{1} \\right )} \\right|_{\\substack{ \\xi_{1}=x_{0} }} + \\mathcal{O}\\left(h^{7} + h^{6} x + h^{5} x^{2} + h^{4} x^{3} + h^{3} x^{4} + h^{2} x^{5} + h x^{6} + x^{7}; \\left ( h, \\quad x\\right )\\rightarrow\\left ( 0, \\quad 0\\right )\\right)$$"
      ],
      "text/plain": [
       "                                        ⎛  2        ⎞│           ⎛  3        ⎞\n",
       "                                      2 ⎜ d         ⎟│         3 ⎜ d         ⎟\n",
       "                                     h ⋅⎜────(f(ξ₁))⎟│        h ⋅⎜────(f(ξ₁))⎟\n",
       "                                        ⎜   2       ⎟│           ⎜   3       ⎟\n",
       "                ⎛ d        ⎞│           ⎝dξ₁        ⎠│ξ₁=x₀      ⎝dξ₁        ⎠\n",
       "Fm₁ = f(x₀) - h⋅⎜───(f(ξ₁))⎟│      + ────────────────────── - ────────────────\n",
       "                ⎝dξ₁       ⎠│ξ₁=x₀             2                        6     \n",
       "\n",
       "│           ⎛  4        ⎞│           ⎛  5        ⎞│           ⎛  6        ⎞│  \n",
       "│         4 ⎜ d         ⎟│         5 ⎜ d         ⎟│         6 ⎜ d         ⎟│  \n",
       "│        h ⋅⎜────(f(ξ₁))⎟│        h ⋅⎜────(f(ξ₁))⎟│        h ⋅⎜────(f(ξ₁))⎟│  \n",
       "│           ⎜   4       ⎟│           ⎜   5       ⎟│           ⎜   6       ⎟│  \n",
       "│ξ₁=x₀      ⎝dξ₁        ⎠│ξ₁=x₀      ⎝dξ₁        ⎠│ξ₁=x₀      ⎝dξ₁        ⎠│ξ₁\n",
       "────── + ────────────────────── - ────────────────────── + ───────────────────\n",
       "                   24                      120                      720       \n",
       "\n",
       "                                                                              \n",
       "                                                                              \n",
       "                                                                              \n",
       "                                                                              \n",
       "=x₀    ⎛ 7    6      5  2    4  3    3  4    2  5      6    7                 \n",
       "─── + O⎝h  + h ⋅x + h ⋅x  + h ⋅x  + h ⋅x  + h ⋅x  + h⋅x  + x ; (h, x) → (0, 0)\n",
       "                                                                              \n",
       "\n",
       " \n",
       " \n",
       " \n",
       " \n",
       "⎞\n",
       "⎠\n",
       " "
      ]
     },
     "metadata": {},
     "output_type": "display_data"
    }
   ],
   "source": [
    "Fm1 = f(x-h).series(x-h, x0=x0, n=terms)\n",
    "Fm1 = Fm1.subs(x-x0,0)\n",
    "display(Eq(symbols('Fm1'),Fm1))"
   ]
  },
  {
   "cell_type": "markdown",
   "metadata": {},
   "source": [
    "Taylor expasion of $f$ expanded around $a=x_0-2h$ evaluated in $x=x_0$
   ]
  },
  {
   "cell_type": "code",
   "execution_count": 8,
   "metadata": {
    "collapsed": false
   },
   "outputs": [
    {
     "data": {
      "image/png": "iVBORw0KGgoAAAANSUhEUgAAB6QAAAA4CAMAAABt9LbIAAAAOVBMVEX///8AAAAAAAAAAAAAAAAA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\nAABJRU5ErkJggg==\n",
      "text/latex": [
       "$$Fm_{2} = f{\\left (x_{0} \\right )} - 2 h \\left. \\frac{d}{d \\xi_{1}} f{\\left (\\xi_{1} \\right )} \\right|_{\\substack{ \\xi_{1}=x_{0} }} + 2 h^{2} \\left. \\frac{d^{2}}{d \\xi_{1}^{2}}  f{\\left (\\xi_{1} \\right )} \\right|_{\\substack{ \\xi_{1}=x_{0} }} - \\frac{4 h^{3}}{3} \\left. \\frac{d^{3}}{d \\xi_{1}^{3}}  f{\\left (\\xi_{1} \\right )} \\right|_{\\substack{ \\xi_{1}=x_{0} }} + \\frac{2 h^{4}}{3} \\left. \\frac{d^{4}}{d \\xi_{1}^{4}}  f{\\left (\\xi_{1} \\right )} \\right|_{\\substack{ \\xi_{1}=x_{0} }} - \\frac{4 h^{5}}{15} \\left. \\frac{d^{5}}{d \\xi_{1}^{5}}  f{\\left (\\xi_{1} \\right )} \\right|_{\\substack{ \\xi_{1}=x_{0} }} + \\frac{4 h^{6}}{45} \\left. \\frac{d^{6}}{d \\xi_{1}^{6}}  f{\\left (\\xi_{1} \\right )} \\right|_{\\substack{ \\xi_{1}=x_{0} }} + \\mathcal{O}\\left(h^{7} + h^{6} x + h^{5} x^{2} + h^{4} x^{3} + h^{3} x^{4} + h^{2} x^{5} + h x^{6} + x^{7}; \\left ( h, \\quad x\\right )\\rightarrow\\left ( 0, \\quad 0\\right )\\right)$$"
      ],
      "text/plain": [
       "                                                                       ⎛  3   \n",
       "                                                                     3 ⎜ d    \n",
       "                                                                  4⋅h ⋅⎜────(f\n",
       "                                            ⎛  2        ⎞│             ⎜   3  \n",
       "                  ⎛ d        ⎞│           2 ⎜ d         ⎟│             ⎝dξ₁   \n",
       "Fm₂ = f(x₀) - 2⋅h⋅⎜───(f(ξ₁))⎟│      + 2⋅h ⋅⎜────(f(ξ₁))⎟│      - ────────────\n",
       "                  ⎝dξ₁       ⎠│ξ₁=x₀        ⎜   2       ⎟│                   3\n",
       "                                            ⎝dξ₁        ⎠│ξ₁=x₀               \n",
       "\n",
       "     ⎞│             ⎛  4        ⎞│             ⎛  5        ⎞│             ⎛  6\n",
       "     ⎟│           4 ⎜ d         ⎟│           5 ⎜ d         ⎟│           6 ⎜ d \n",
       "(ξ₁))⎟│        2⋅h ⋅⎜────(f(ξ₁))⎟│        4⋅h ⋅⎜────(f(ξ₁))⎟│        4⋅h ⋅⎜───\n",
       "     ⎟│             ⎜   4       ⎟│             ⎜   5       ⎟│             ⎜   \n",
       "     ⎠│ξ₁=x₀        ⎝dξ₁        ⎠│ξ₁=x₀        ⎝dξ₁        ⎠│ξ₁=x₀        ⎝dξ₁\n",
       "──────────── + ──────────────────────── - ──────────────────────── + ─────────\n",
       "                          3                          15                       \n",
       "                                                                              \n",
       "\n",
       "        ⎞│                                                                    \n",
       "        ⎟│                                                                    \n",
       "─(f(ξ₁))⎟│                                                                    \n",
       "6       ⎟│                                                                    \n",
       "        ⎠│ξ₁=x₀    ⎛ 7    6      5  2    4  3    3  4    2  5      6    7     \n",
       "─────────────── + O⎝h  + h ⋅x + h ⋅x  + h ⋅x  + h ⋅x  + h ⋅x  + h⋅x  + x ; (h,\n",
       "  45                                                                          \n",
       "                                                                              \n",
       "\n",
       "             \n",
       "             \n",
       "             \n",
       "             \n",
       "            ⎞\n",
       " x) → (0, 0)⎠\n",
       "             \n",
       "             "
      ]
     },
     "metadata": {},
     "output_type": "display_data"
    }
   ],
   "source": [
    "Fm2 = f(x-2*h).series(x-2*h, x0=x0, n=terms)\n",
    "Fm2 = Fm2.subs(x-x0,0)\n",
    "display(Eq(symbols('Fm2'),Fm2))"
   ]
  },
  {
   "cell_type": "markdown",
   "metadata": {},
   "source": [
    "Taylor expasion of $f$ expanded around $a=x_0-3h$ evaluated in $x=x_0$
   ]
  },
  {
   "cell_type": "code",
   "execution_count": 9,
   "metadata": {
    "collapsed": false
   },
   "outputs": [
    {
     "data": {
      "image/png": "iVBORw0KGgoAAAANSUhEUgAAB8gAAAA4CAMAAACmL1I2AAAAOVBMVEX///8AAAAAAAAAAAAAAAAA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\n",
      "text/latex": [
       "$$Fm_{3} = f{\\left (x_{0} \\right )} - 3 h \\left. \\frac{d}{d \\xi_{1}} f{\\left (\\xi_{1} \\right )} \\right|_{\\substack{ \\xi_{1}=x_{0} }} + \\frac{9 h^{2}}{2} \\left. \\frac{d^{2}}{d \\xi_{1}^{2}}  f{\\left (\\xi_{1} \\right )} \\right|_{\\substack{ \\xi_{1}=x_{0} }} - \\frac{9 h^{3}}{2} \\left. \\frac{d^{3}}{d \\xi_{1}^{3}}  f{\\left (\\xi_{1} \\right )} \\right|_{\\substack{ \\xi_{1}=x_{0} }} + \\frac{27 h^{4}}{8} \\left. \\frac{d^{4}}{d \\xi_{1}^{4}}  f{\\left (\\xi_{1} \\right )} \\right|_{\\substack{ \\xi_{1}=x_{0} }} - \\frac{81 h^{5}}{40} \\left. \\frac{d^{5}}{d \\xi_{1}^{5}}  f{\\left (\\xi_{1} \\right )} \\right|_{\\substack{ \\xi_{1}=x_{0} }} + \\frac{81 h^{6}}{80} \\left. \\frac{d^{6}}{d \\xi_{1}^{6}}  f{\\left (\\xi_{1} \\right )} \\right|_{\\substack{ \\xi_{1}=x_{0} }} + \\mathcal{O}\\left(h^{7} + h^{6} x + h^{5} x^{2} + h^{4} x^{3} + h^{3} x^{4} + h^{2} x^{5} + h x^{6} + x^{7}; \\left ( h, \\quad x\\right )\\rightarrow\\left ( 0, \\quad 0\\right )\\right)$$"
      ],
      "text/plain": [
       "                                            ⎛  2        ⎞│             ⎛  3   \n",
       "                                          2 ⎜ d         ⎟│           3 ⎜ d    \n",
       "                                       9⋅h ⋅⎜────(f(ξ₁))⎟│        9⋅h ⋅⎜────(f\n",
       "                                            ⎜   2       ⎟│             ⎜   3  \n",
       "                  ⎛ d        ⎞│             ⎝dξ₁        ⎠│ξ₁=x₀        ⎝dξ₁   \n",
       "Fm₃ = f(x₀) - 3⋅h⋅⎜───(f(ξ₁))⎟│      + ──────────────────────── - ────────────\n",
       "                  ⎝dξ₁       ⎠│ξ₁=x₀              2                          2\n",
       "\n",
       "     ⎞│              ⎛  4        ⎞│              ⎛  5        ⎞│              ⎛\n",
       "     ⎟│            4 ⎜ d         ⎟│            5 ⎜ d         ⎟│            6 ⎜\n",
       "(ξ₁))⎟│        27⋅h ⋅⎜────(f(ξ₁))⎟│        81⋅h ⋅⎜────(f(ξ₁))⎟│        81⋅h ⋅⎜\n",
       "     ⎟│              ⎜   4       ⎟│              ⎜   5       ⎟│              ⎜\n",
       "     ⎠│ξ₁=x₀         ⎝dξ₁        ⎠│ξ₁=x₀         ⎝dξ₁        ⎠│ξ₁=x₀         ⎝\n",
       "──────────── + ───────────────────────── - ───────────────────────── + ───────\n",
       "                           8                           40                     \n",
       "\n",
       "  6        ⎞│                                                                 \n",
       " d         ⎟│                                                                 \n",
       "────(f(ξ₁))⎟│                                                                 \n",
       "   6       ⎟│                                                                 \n",
       "dξ₁        ⎠│ξ₁=x₀    ⎛ 7    6      5  2    4  3    3  4    2  5      6    7  \n",
       "────────────────── + O⎝h  + h ⋅x + h ⋅x  + h ⋅x  + h ⋅x  + h ⋅x  + h⋅x  + x ; \n",
       "     80                                                                       \n",
       "\n",
       "                \n",
       "                \n",
       "                \n",
       "                \n",
       "               ⎞\n",
       "(h, x) → (0, 0)⎠\n",
       "                "
      ]
     },
     "metadata": {},
     "output_type": "display_data"
    }
   ],
   "source": [
    "Fm3 = f(x-3*h).series(x-3*h, x0=x0, n=terms)\n",
    "Fm3 = Fm3.subs(x-x0,0)\n",
    "display(Eq(symbols('Fm3'),Fm3))"
   ]
  },
  {
   "cell_type": "markdown",
   "metadata": {},
   "source": [
    "Substitute into the FD scheme"
   ]
  },
  {
   "cell_type": "code",
   "execution_count": 10,
   "metadata": {
    "collapsed": false
   },
   "outputs": [
    {
     "data": {
      "image/png": "iVBORw0KGgoAAAANSUhEUgAABJ0AAAA4CAMAAABg8Hk7AAAAOVBMVEX///8AAAAAAAAAAAAAAAAA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\nRS7+7eY7EcMfgGC1+afAWFi/0B/WwP8BQZ/HzYGYQzMAAAAASUVORK5CYII=\n",
      "text/latex": [
       "$$\\left. \\frac{d^{3}}{d \\xi_{1}^{3}}  f{\\left (\\xi_{1} \\right )} \\right|_{\\substack{ \\xi_{1}=x_{0} }} - \\frac{2 h^{2}}{5} \\left. \\frac{d^{5}}{d \\xi_{1}^{5}}  f{\\left (\\xi_{1} \\right )} \\right|_{\\substack{ \\xi_{1}=x_{0} }} + \\frac{29 h^{3}}{80} \\left. \\frac{d^{6}}{d \\xi_{1}^{6}}  f{\\left (\\xi_{1} \\right )} \\right|_{\\substack{ \\xi_{1}=x_{0} }} + \\mathcal{O}\\left(h^{4} + h^{3} x + h^{2} x^{2} + h x^{3} + x^{4} + \\frac{x^{5}}{h} + \\frac{x^{6}}{h^{2}} + \\frac{x^{7}}{h^{3}}; \\left ( h, \\quad x\\right )\\rightarrow\\left ( 0, \\quad 0\\right )\\right)$$"
      ],
      "text/plain": [
       "                           ⎛  5        ⎞│              ⎛  6        ⎞│         \n",
       "                         2 ⎜ d         ⎟│            3 ⎜ d         ⎟│         \n",
       "                      2⋅h ⋅⎜────(f(ξ₁))⎟│        29⋅h ⋅⎜────(f(ξ₁))⎟│         \n",
       "⎛  3        ⎞│             ⎜   5       ⎟│              ⎜   6       ⎟│         \n",
       "⎜ d         ⎟│             ⎝dξ₁        ⎠│ξ₁=x₀         ⎝dξ₁        ⎠│ξ₁=x₀    \n",
       "⎜────(f(ξ₁))⎟│      - ──────────────────────── + ───────────────────────── + O\n",
       "⎜   3       ⎟│                   5                           80               \n",
       "⎝dξ₁        ⎠│ξ₁=x₀                                                           \n",
       "\n",
       "                                                               \n",
       "                                                               \n",
       "                                                               \n",
       "⎛                                 5    6    7                 ⎞\n",
       "⎜ 4    3      2  2      3    4   x    x    x                  ⎟\n",
       "⎜h  + h ⋅x + h ⋅x  + h⋅x  + x  + ── + ── + ──; (h, x) → (0, 0)⎟\n",
       "⎜                                h     2    3                 ⎟\n",
       "⎝                                     h    h                  ⎠"
      ]
     },
     "metadata": {},
     "output_type": "display_data"
    }
   ],
   "source": [
    "fx3FDT = fx3FD.subs([(f(x+h/2), Fp05),\n",
    "                     (f(x)    , F   ),\n",
    "                     (f(x-h)  , Fm1 ),\n",
    "                     (f(x-2*h), Fm2 ),\n",
    "                     (f(x-3*h), Fm3 ),                  \n",
    "                    ])\n",
    "display(simplify(fx3FDT))"
   ]
  },
  {
   "cell_type": "markdown",
   "metadata": {},
   "source": [
    "Thus, we see that this discretization is 2nd order accurate."
   ]
  }
 ],
 "metadata": {
  "kernelspec": {
   "display_name": "Python 3",
   "language": "python",
   "name": "python3"
  },
  "language_info": {
   "codemirror_mode": {
    "name": "ipython",
    "version": 3
   },
   "file_extension": ".py",
   "mimetype": "text/x-python",
   "name": "python",
   "nbconvert_exporter": "python",
   "pygments_lexer": "ipython3",
   "version": "3.5.1"
  }
 },
 "nbformat": 4,
 "nbformat_minor": 0
}
