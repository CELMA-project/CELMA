{
 "cells": [
  {
   "cell_type": "markdown",
   "metadata": {},
   "source": [
    "# Derivation of non-centered D3DX3 scheme for innermost point\n",
    "\n",
    "The non-centre version is used when the processors is at the inner x boundary. The following scheme is 3rd order convergent."
   ]
  },
  {
   "cell_type": "code",
   "execution_count": 1,
   "metadata": {
    "collapsed": false
   },
   "outputs": [],
   "source": [
    "from IPython.display import display\n",
    "from sympy import init_printing\n",
    "from sympy import symbols, together, as_finite_diff, simplify\n",
    "from sympy import Function, Eq, S\n",
    "\n",
    "init_printing()"
   ]
  },
  {
   "cell_type": "code",
   "execution_count": 2,
   "metadata": {
    "collapsed": false
   },
   "outputs": [],
   "source": [
    "x = symbols('x')\n",
    "h = symbols('h', positive=True)\n",
    "\n",
    "f = Function('f')\n",
    "\n",
    "# Stencils\n",
    "stencil = [x-h ,x , x+h, x+2*h, x+3*h, x+4*h]"
   ]
  },
  {
   "cell_type": "markdown",
   "metadata": {},
   "source": [
    "We are here discretizing the equation\n",
    "\n",
    "$$ \\partial_\\rho^3 f$$"
   ]
  },
  {
   "cell_type": "markdown",
   "metadata": {},
   "source": [
    "### Calculate the finite difference approximation of $\\partial_x^3 f$"
   ]
  },
  {
   "cell_type": "code",
   "execution_count": 12,
   "metadata": {
    "collapsed": false
   },
   "outputs": [
    {
     "data": {
      "image/png": "[encoded data removed]",
      "text/latex": [
       "$$f_{x3} = \\frac{d^{3}}{d x^{3}}  f{\\left (x \\right )}$$"
      ],
      "text/plain": [
       "        3      \n",
       "       d       \n",
       "fₓ₃ = ───(f(x))\n",
       "        3      \n",
       "      dx       "
      ]
     },
     "metadata": {},
     "output_type": "display_data"
    },
    {
     "data": {
      "image/png": "[encoded data removed]",
      "text/latex": [
       "$$f^{FD}_{x3} = \\frac{1}{4 h^{3}} \\left(25 f{\\left (x \\right )} - 7 f{\\left (- h + x \\right )} - 34 f{\\left (h + x \\right )} + 22 f{\\left (2 h + x \\right )} - 7 f{\\left (3 h + x \\right )} + f{\\left (4 h + x \\right )}\\right)$$"
      ],
      "text/plain": [
       "           25⋅f(x) - 7⋅f(-h + x) - 34⋅f(h + x) + 22⋅f(2⋅h + x) - 7⋅f(3⋅h + x) \n",
       "f_x3__FD = ───────────────────────────────────────────────────────────────────\n",
       "                                                    3                         \n",
       "                                                 4⋅h                          \n",
       "\n",
       "+ f(4⋅h + x)\n",
       "────────────\n",
       "            \n",
       "            "
      ]
     },
     "metadata": {},
     "output_type": "display_data"
    },
    {
     "name": "stdout",
     "output_type": "stream",
     "text": [
      "(25*f(x) - 7*f(-h + x) - 34*f(h + x) + 22*f(2*h + x) - 7*f(3*h + x) + f(4*h + x))/(4*h**3)\n"
     ]
    }
   ],
   "source": [
    "fx3 = f(x).diff(x,3)\n",
    "fx3FD = as_finite_diff(fx3, stencil)\n",
    "display(Eq(symbols('f_x3'), fx3))\n",
    "display(Eq(symbols('f^FD_x3'), together(fx3FD)))"
   ]
  },
  {
   "cell_type": "markdown",
   "metadata": {},
   "source": [
    "# Calculating the order\n",
    "\n",
    "Let's call the Taylor expansions of $f$ for $T[f(x,a)] = \\sum_{n=0}^\\infty\\frac{f^{(n)}(a)}{n!}(x-a)^n$"
   ]
  },
  {
   "cell_type": "code",
   "execution_count": 4,
   "metadata": {
    "collapsed": true
   },
   "outputs": [],
   "source": [
    "x0 = symbols('x0')\n",
    "terms = 7"
   ]
  },
  {
   "cell_type": "markdown",
   "metadata": {},
   "source": [
    "Taylor expasion of $f$ evaluated in $x_0$ expanded around $x-h$, so that $T[f(x \\to x-h, a \\to x_0)]$"
   ]
  },
  {
   "cell_type": "code",
   "execution_count": 5,
   "metadata": {
    "collapsed": false
   },
   "outputs": [
    {
     "data": {
      "image/png": "[encoded data removed]",
      "text/latex": [
       "$$Fm_{1} = f{\\left (x_{0} \\right )} - h \\left. \\frac{d}{d \\xi_{1}} f{\\left (\\xi_{1} \\right )} \\right|_{\\substack{ \\xi_{1}=x_{0} }} + \\frac{h^{2}}{2} \\left. \\frac{d^{2}}{d \\xi_{1}^{2}}  f{\\left (\\xi_{1} \\right )} \\right|_{\\substack{ \\xi_{1}=x_{0} }} - \\frac{h^{3}}{6} \\left. \\frac{d^{3}}{d \\xi_{1}^{3}}  f{\\left (\\xi_{1} \\right )} \\right|_{\\substack{ \\xi_{1}=x_{0} }} + \\frac{h^{4}}{24} \\left. \\frac{d^{4}}{d \\xi_{1}^{4}}  f{\\left (\\xi_{1} \\right )} \\right|_{\\substack{ \\xi_{1}=x_{0} }} - \\frac{h^{5}}{120} \\left. \\frac{d^{5}}{d \\xi_{1}^{5}}  f{\\left (\\xi_{1} \\right )} \\right|_{\\substack{ \\xi_{1}=x_{0} }} + \\frac{h^{6}}{720} \\left. \\frac{d^{6}}{d \\xi_{1}^{6}}  f{\\left (\\xi_{1} \\right )} \\right|_{\\substack{ \\xi_{1}=x_{0} }} + \\mathcal{O}\\left(h^{7} + h^{6} x + h^{5} x^{2} + h^{4} x^{3} + h^{3} x^{4} + h^{2} x^{5} + h x^{6} + x^{7}; \\left ( h, \\quad x\\right )\\rightarrow\\left ( 0, \\quad 0\\right )\\right)$$"
      ],
      "text/plain": [
       "                                        ⎛  2        ⎞│           ⎛  3        ⎞\n",
       "                                      2 ⎜ d         ⎟│         3 ⎜ d         ⎟\n",
       "                                     h ⋅⎜────(f(ξ₁))⎟│        h ⋅⎜────(f(ξ₁))⎟\n",
       "                                        ⎜   2       ⎟│           ⎜   3       ⎟\n",
       "                ⎛ d        ⎞│           ⎝dξ₁        ⎠│ξ₁=x₀      ⎝dξ₁        ⎠\n",
       "Fm₁ = f(x₀) - h⋅⎜───(f(ξ₁))⎟│      + ────────────────────── - ────────────────\n",
       "                ⎝dξ₁       ⎠│ξ₁=x₀             2                        6     \n",
       "\n",
       "│           ⎛  4        ⎞│           ⎛  5        ⎞│           ⎛  6        ⎞│  \n",
       "│         4 ⎜ d         ⎟│         5 ⎜ d         ⎟│         6 ⎜ d         ⎟│  \n",
       "│        h ⋅⎜────(f(ξ₁))⎟│        h ⋅⎜────(f(ξ₁))⎟│        h ⋅⎜────(f(ξ₁))⎟│  \n",
       "│           ⎜   4       ⎟│           ⎜   5       ⎟│           ⎜   6       ⎟│  \n",
       "│ξ₁=x₀      ⎝dξ₁        ⎠│ξ₁=x₀      ⎝dξ₁        ⎠│ξ₁=x₀      ⎝dξ₁        ⎠│ξ₁\n",
       "────── + ────────────────────── - ────────────────────── + ───────────────────\n",
       "                   24                      120                      720       \n",
       "\n",
       "                                                                              \n",
       "                                                                              \n",
       "                                                                              \n",
       "                                                                              \n",
       "=x₀    ⎛ 7    6      5  2    4  3    3  4    2  5      6    7                 \n",
       "─── + O⎝h  + h ⋅x + h ⋅x  + h ⋅x  + h ⋅x  + h ⋅x  + h⋅x  + x ; (h, x) → (0, 0)\n",
       "                                                                              \n",
       "\n",
       " \n",
       " \n",
       " \n",
       " \n",
       "⎞\n",
       "⎠\n",
       " "
      ]
     },
     "metadata": {},
     "output_type": "display_data"
    }
   ],
   "source": [
    "Fm1 = f(x-h).series(x-h, x0=x0, n=terms)\n",
    "Fm1 = Fm1.subs(x-x0,0)\n",
    "display(Eq(symbols('Fm1'),Fm1))"
   ]
  },
  {
   "cell_type": "markdown",
   "metadata": {},
   "source": [
    "Taylor expasion of $f$ evaluated in $x_0$ expanded around $x$, so that $T[f(x,a \\to x_0)]$"
   ]
  },
  {
   "cell_type": "code",
   "execution_count": 6,
   "metadata": {
    "collapsed": false
   },
   "outputs": [
    {
     "data": {
      "image/png": "[encoded data removed]",
      "text/latex": [
       "$$F = f{\\left (x_{0} \\right )}$$"
      ],
      "text/plain": [
       "F = f(x₀)"
      ]
     },
     "metadata": {},
     "output_type": "display_data"
    }
   ],
   "source": [
    "F = f(x).series(x, x0=x0, n=terms)\n",
    "F = F.subs(x-x0,0)\n",
    "display(Eq(symbols('F'),F))"
   ]
  },
  {
   "cell_type": "markdown",
   "metadata": {},
   "source": [
    "Taylor expasion of $f$ evaluated in $x_0$ expanded around $x+h$, so that $T[f(x \\to x+h, a \\to x_0)]$"
   ]
  },
  {
   "cell_type": "code",
   "execution_count": 7,
   "metadata": {
    "collapsed": false
   },
   "outputs": [
    {
     "data": {
      "image/png": "[encoded data removed]",
      "text/latex": [
       "$$Fp_{1} = f{\\left (x_{0} \\right )} + h \\left. \\frac{d}{d \\xi_{1}} f{\\left (\\xi_{1} \\right )} \\right|_{\\substack{ \\xi_{1}=x_{0} }} + \\frac{h^{2}}{2} \\left. \\frac{d^{2}}{d \\xi_{1}^{2}}  f{\\left (\\xi_{1} \\right )} \\right|_{\\substack{ \\xi_{1}=x_{0} }} + \\frac{h^{3}}{6} \\left. \\frac{d^{3}}{d \\xi_{1}^{3}}  f{\\left (\\xi_{1} \\right )} \\right|_{\\substack{ \\xi_{1}=x_{0} }} + \\frac{h^{4}}{24} \\left. \\frac{d^{4}}{d \\xi_{1}^{4}}  f{\\left (\\xi_{1} \\right )} \\right|_{\\substack{ \\xi_{1}=x_{0} }} + \\frac{h^{5}}{120} \\left. \\frac{d^{5}}{d \\xi_{1}^{5}}  f{\\left (\\xi_{1} \\right )} \\right|_{\\substack{ \\xi_{1}=x_{0} }} + \\frac{h^{6}}{720} \\left. \\frac{d^{6}}{d \\xi_{1}^{6}}  f{\\left (\\xi_{1} \\right )} \\right|_{\\substack{ \\xi_{1}=x_{0} }} + \\mathcal{O}\\left(h^{7} + h^{6} x + h^{5} x^{2} + h^{4} x^{3} + h^{3} x^{4} + h^{2} x^{5} + h x^{6} + x^{7}; \\left ( h, \\quad x\\right )\\rightarrow\\left ( 0, \\quad 0\\right )\\right)$$"
      ],
      "text/plain": [
       "                                        ⎛  2        ⎞│           ⎛  3        ⎞\n",
       "                                      2 ⎜ d         ⎟│         3 ⎜ d         ⎟\n",
       "                                     h ⋅⎜────(f(ξ₁))⎟│        h ⋅⎜────(f(ξ₁))⎟\n",
       "                                        ⎜   2       ⎟│           ⎜   3       ⎟\n",
       "                ⎛ d        ⎞│           ⎝dξ₁        ⎠│ξ₁=x₀      ⎝dξ₁        ⎠\n",
       "Fp₁ = f(x₀) + h⋅⎜───(f(ξ₁))⎟│      + ────────────────────── + ────────────────\n",
       "                ⎝dξ₁       ⎠│ξ₁=x₀             2                        6     \n",
       "\n",
       "│           ⎛  4        ⎞│           ⎛  5        ⎞│           ⎛  6        ⎞│  \n",
       "│         4 ⎜ d         ⎟│         5 ⎜ d         ⎟│         6 ⎜ d         ⎟│  \n",
       "│        h ⋅⎜────(f(ξ₁))⎟│        h ⋅⎜────(f(ξ₁))⎟│        h ⋅⎜────(f(ξ₁))⎟│  \n",
       "│           ⎜   4       ⎟│           ⎜   5       ⎟│           ⎜   6       ⎟│  \n",
       "│ξ₁=x₀      ⎝dξ₁        ⎠│ξ₁=x₀      ⎝dξ₁        ⎠│ξ₁=x₀      ⎝dξ₁        ⎠│ξ₁\n",
       "────── + ────────────────────── + ────────────────────── + ───────────────────\n",
       "                   24                      120                      720       \n",
       "\n",
       "                                                                              \n",
       "                                                                              \n",
       "                                                                              \n",
       "                                                                              \n",
       "=x₀    ⎛ 7    6      5  2    4  3    3  4    2  5      6    7                 \n",
       "─── + O⎝h  + h ⋅x + h ⋅x  + h ⋅x  + h ⋅x  + h ⋅x  + h⋅x  + x ; (h, x) → (0, 0)\n",
       "                                                                              \n",
       "\n",
       " \n",
       " \n",
       " \n",
       " \n",
       "⎞\n",
       "⎠\n",
       " "
      ]
     },
     "metadata": {},
     "output_type": "display_data"
    }
   ],
   "source": [
    "Fp1 = f(x+h).series(x+h, x0=x0, n=terms)\n",
    "Fp1 = Fp1.subs(x-x0,0)\n",
    "display(Eq(symbols('Fp1'),Fp1))"
   ]
  },
  {
   "cell_type": "markdown",
   "metadata": {},
   "source": [
    "Taylor expasion of $f$ evaluated in $x_0$ expanded around $x+2h$, so that $T[f(x \\to x+2h, a \\to x_0)]$"
   ]
  },
  {
   "cell_type": "code",
   "execution_count": 8,
   "metadata": {
    "collapsed": false
   },
   "outputs": [
    {
     "data": {
      "image/png": "[encoded data removed]",
      "text/latex": [
       "$$Fp_{2} = f{\\left (x_{0} \\right )} + 2 h \\left. \\frac{d}{d \\xi_{1}} f{\\left (\\xi_{1} \\right )} \\right|_{\\substack{ \\xi_{1}=x_{0} }} + 2 h^{2} \\left. \\frac{d^{2}}{d \\xi_{1}^{2}}  f{\\left (\\xi_{1} \\right )} \\right|_{\\substack{ \\xi_{1}=x_{0} }} + \\frac{4 h^{3}}{3} \\left. \\frac{d^{3}}{d \\xi_{1}^{3}}  f{\\left (\\xi_{1} \\right )} \\right|_{\\substack{ \\xi_{1}=x_{0} }} + \\frac{2 h^{4}}{3} \\left. \\frac{d^{4}}{d \\xi_{1}^{4}}  f{\\left (\\xi_{1} \\right )} \\right|_{\\substack{ \\xi_{1}=x_{0} }} + \\frac{4 h^{5}}{15} \\left. \\frac{d^{5}}{d \\xi_{1}^{5}}  f{\\left (\\xi_{1} \\right )} \\right|_{\\substack{ \\xi_{1}=x_{0} }} + \\frac{4 h^{6}}{45} \\left. \\frac{d^{6}}{d \\xi_{1}^{6}}  f{\\left (\\xi_{1} \\right )} \\right|_{\\substack{ \\xi_{1}=x_{0} }} + \\mathcal{O}\\left(h^{7} + h^{6} x + h^{5} x^{2} + h^{4} x^{3} + h^{3} x^{4} + h^{2} x^{5} + h x^{6} + x^{7}; \\left ( h, \\quad x\\right )\\rightarrow\\left ( 0, \\quad 0\\right )\\right)$$"
      ],
      "text/plain": [
       "                                                                       ⎛  3   \n",
       "                                                                     3 ⎜ d    \n",
       "                                                                  4⋅h ⋅⎜────(f\n",
       "                                            ⎛  2        ⎞│             ⎜   3  \n",
       "                  ⎛ d        ⎞│           2 ⎜ d         ⎟│             ⎝dξ₁   \n",
       "Fp₂ = f(x₀) + 2⋅h⋅⎜───(f(ξ₁))⎟│      + 2⋅h ⋅⎜────(f(ξ₁))⎟│      + ────────────\n",
       "                  ⎝dξ₁       ⎠│ξ₁=x₀        ⎜   2       ⎟│                   3\n",
       "                                            ⎝dξ₁        ⎠│ξ₁=x₀               \n",
       "\n",
       "     ⎞│             ⎛  4        ⎞│             ⎛  5        ⎞│             ⎛  6\n",
       "     ⎟│           4 ⎜ d         ⎟│           5 ⎜ d         ⎟│           6 ⎜ d \n",
       "(ξ₁))⎟│        2⋅h ⋅⎜────(f(ξ₁))⎟│        4⋅h ⋅⎜────(f(ξ₁))⎟│        4⋅h ⋅⎜───\n",
       "     ⎟│             ⎜   4       ⎟│             ⎜   5       ⎟│             ⎜   \n",
       "     ⎠│ξ₁=x₀        ⎝dξ₁        ⎠│ξ₁=x₀        ⎝dξ₁        ⎠│ξ₁=x₀        ⎝dξ₁\n",
       "──────────── + ──────────────────────── + ──────────────────────── + ─────────\n",
       "                          3                          15                       \n",
       "                                                                              \n",
       "\n",
       "        ⎞│                                                                    \n",
       "        ⎟│                                                                    \n",
       "─(f(ξ₁))⎟│                                                                    \n",
       "6       ⎟│                                                                    \n",
       "        ⎠│ξ₁=x₀    ⎛ 7    6      5  2    4  3    3  4    2  5      6    7     \n",
       "─────────────── + O⎝h  + h ⋅x + h ⋅x  + h ⋅x  + h ⋅x  + h ⋅x  + h⋅x  + x ; (h,\n",
       "  45                                                                          \n",
       "                                                                              \n",
       "\n",
       "             \n",
       "             \n",
       "             \n",
       "             \n",
       "            ⎞\n",
       " x) → (0, 0)⎠\n",
       "             \n",
       "             "
      ]
     },
     "metadata": {},
     "output_type": "display_data"
    }
   ],
   "source": [
    "Fp2 = f(x+2*h).series(x+2*h, x0=x0, n=terms)\n",
    "Fp2 = Fp2.subs(x-x0,0)\n",
    "display(Eq(symbols('Fp2'),Fp2))"
   ]
  },
  {
   "cell_type": "markdown",
   "metadata": {},
   "source": [
    "Taylor expasion of $f$ evaluated in $x_0$ expanded around $x+3h$, so that $T[f(x \\to x+3h, a \\to x_0)]$"
   ]
  },
  {
   "cell_type": "code",
   "execution_count": 9,
   "metadata": {
    "collapsed": false
   },
   "outputs": [
    {
     "data": {
      "image/png": "[encoded data removed]",
      "text/latex": [
       "$$Fp_{3} = f{\\left (x_{0} \\right )} + 3 h \\left. \\frac{d}{d \\xi_{1}} f{\\left (\\xi_{1} \\right )} \\right|_{\\substack{ \\xi_{1}=x_{0} }} + \\frac{9 h^{2}}{2} \\left. \\frac{d^{2}}{d \\xi_{1}^{2}}  f{\\left (\\xi_{1} \\right )} \\right|_{\\substack{ \\xi_{1}=x_{0} }} + \\frac{9 h^{3}}{2} \\left. \\frac{d^{3}}{d \\xi_{1}^{3}}  f{\\left (\\xi_{1} \\right )} \\right|_{\\substack{ \\xi_{1}=x_{0} }} + \\frac{27 h^{4}}{8} \\left. \\frac{d^{4}}{d \\xi_{1}^{4}}  f{\\left (\\xi_{1} \\right )} \\right|_{\\substack{ \\xi_{1}=x_{0} }} + \\frac{81 h^{5}}{40} \\left. \\frac{d^{5}}{d \\xi_{1}^{5}}  f{\\left (\\xi_{1} \\right )} \\right|_{\\substack{ \\xi_{1}=x_{0} }} + \\frac{81 h^{6}}{80} \\left. \\frac{d^{6}}{d \\xi_{1}^{6}}  f{\\left (\\xi_{1} \\right )} \\right|_{\\substack{ \\xi_{1}=x_{0} }} + \\mathcal{O}\\left(h^{7} + h^{6} x + h^{5} x^{2} + h^{4} x^{3} + h^{3} x^{4} + h^{2} x^{5} + h x^{6} + x^{7}; \\left ( h, \\quad x\\right )\\rightarrow\\left ( 0, \\quad 0\\right )\\right)$$"
      ],
      "text/plain": [
       "                                            ⎛  2        ⎞│             ⎛  3   \n",
       "                                          2 ⎜ d         ⎟│           3 ⎜ d    \n",
       "                                       9⋅h ⋅⎜────(f(ξ₁))⎟│        9⋅h ⋅⎜────(f\n",
       "                                            ⎜   2       ⎟│             ⎜   3  \n",
       "                  ⎛ d        ⎞│             ⎝dξ₁        ⎠│ξ₁=x₀        ⎝dξ₁   \n",
       "Fp₃ = f(x₀) + 3⋅h⋅⎜───(f(ξ₁))⎟│      + ──────────────────────── + ────────────\n",
       "                  ⎝dξ₁       ⎠│ξ₁=x₀              2                          2\n",
       "\n",
       "     ⎞│              ⎛  4        ⎞│              ⎛  5        ⎞│              ⎛\n",
       "     ⎟│            4 ⎜ d         ⎟│            5 ⎜ d         ⎟│            6 ⎜\n",
       "(ξ₁))⎟│        27⋅h ⋅⎜────(f(ξ₁))⎟│        81⋅h ⋅⎜────(f(ξ₁))⎟│        81⋅h ⋅⎜\n",
       "     ⎟│              ⎜   4       ⎟│              ⎜   5       ⎟│              ⎜\n",
       "     ⎠│ξ₁=x₀         ⎝dξ₁        ⎠│ξ₁=x₀         ⎝dξ₁        ⎠│ξ₁=x₀         ⎝\n",
       "──────────── + ───────────────────────── + ───────────────────────── + ───────\n",
       "                           8                           40                     \n",
       "\n",
       "  6        ⎞│                                                                 \n",
       " d         ⎟│                                                                 \n",
       "────(f(ξ₁))⎟│                                                                 \n",
       "   6       ⎟│                                                                 \n",
       "dξ₁        ⎠│ξ₁=x₀    ⎛ 7    6      5  2    4  3    3  4    2  5      6    7  \n",
       "────────────────── + O⎝h  + h ⋅x + h ⋅x  + h ⋅x  + h ⋅x  + h ⋅x  + h⋅x  + x ; \n",
       "     80                                                                       \n",
       "\n",
       "                \n",
       "                \n",
       "                \n",
       "                \n",
       "               ⎞\n",
       "(h, x) → (0, 0)⎠\n",
       "                "
      ]
     },
     "metadata": {},
     "output_type": "display_data"
    }
   ],
   "source": [
    "Fp3 = f(x+3*h).series(x+3*h, x0=x0, n=terms)\n",
    "Fp3 = Fp3.subs(x-x0,0)\n",
    "display(Eq(symbols('Fp3'),Fp3))"
   ]
  },
  {
   "cell_type": "markdown",
   "metadata": {},
   "source": [
    "Taylor expasion of $f$ evaluated in $x_0$ expanded around $x+4h$, so that $T\\left[f\\left(x \\to x+4h, a \\to x_0\\right)\\right]$"
   ]
  },
  {
   "cell_type": "code",
   "execution_count": 10,
   "metadata": {
    "collapsed": false
   },
   "outputs": [
    {
     "data": {
      "image/png": "[encoded data removed]",
      "text/latex": [
       "$$Fp_{4} = f{\\left (x_{0} \\right )} + 4 h \\left. \\frac{d}{d \\xi_{1}} f{\\left (\\xi_{1} \\right )} \\right|_{\\substack{ \\xi_{1}=x_{0} }} + 8 h^{2} \\left. \\frac{d^{2}}{d \\xi_{1}^{2}}  f{\\left (\\xi_{1} \\right )} \\right|_{\\substack{ \\xi_{1}=x_{0} }} + \\frac{32 h^{3}}{3} \\left. \\frac{d^{3}}{d \\xi_{1}^{3}}  f{\\left (\\xi_{1} \\right )} \\right|_{\\substack{ \\xi_{1}=x_{0} }} + \\frac{32 h^{4}}{3} \\left. \\frac{d^{4}}{d \\xi_{1}^{4}}  f{\\left (\\xi_{1} \\right )} \\right|_{\\substack{ \\xi_{1}=x_{0} }} + \\frac{128 h^{5}}{15} \\left. \\frac{d^{5}}{d \\xi_{1}^{5}}  f{\\left (\\xi_{1} \\right )} \\right|_{\\substack{ \\xi_{1}=x_{0} }} + \\frac{256 h^{6}}{45} \\left. \\frac{d^{6}}{d \\xi_{1}^{6}}  f{\\left (\\xi_{1} \\right )} \\right|_{\\substack{ \\xi_{1}=x_{0} }} + \\mathcal{O}\\left(h^{7} + h^{6} x + h^{5} x^{2} + h^{4} x^{3} + h^{3} x^{4} + h^{2} x^{5} + h x^{6} + x^{7}; \\left ( h, \\quad x\\right )\\rightarrow\\left ( 0, \\quad 0\\right )\\right)$$"
      ],
      "text/plain": [
       "                                                                        ⎛  3  \n",
       "                                                                      3 ⎜ d   \n",
       "                                                                  32⋅h ⋅⎜────(\n",
       "                                            ⎛  2        ⎞│              ⎜   3 \n",
       "                  ⎛ d        ⎞│           2 ⎜ d         ⎟│              ⎝dξ₁  \n",
       "Fp₄ = f(x₀) + 4⋅h⋅⎜───(f(ξ₁))⎟│      + 8⋅h ⋅⎜────(f(ξ₁))⎟│      + ────────────\n",
       "                  ⎝dξ₁       ⎠│ξ₁=x₀        ⎜   2       ⎟│                    \n",
       "                                            ⎝dξ₁        ⎠│ξ₁=x₀               \n",
       "\n",
       "      ⎞│              ⎛  4        ⎞│               ⎛  5        ⎞│             \n",
       "      ⎟│            4 ⎜ d         ⎟│             5 ⎜ d         ⎟│             \n",
       "f(ξ₁))⎟│        32⋅h ⋅⎜────(f(ξ₁))⎟│        128⋅h ⋅⎜────(f(ξ₁))⎟│        256⋅h\n",
       "      ⎟│              ⎜   4       ⎟│               ⎜   5       ⎟│             \n",
       "      ⎠│ξ₁=x₀         ⎝dξ₁        ⎠│ξ₁=x₀          ⎝dξ₁        ⎠│ξ₁=x₀        \n",
       "───────────── + ───────────────────────── + ────────────────────────── + ─────\n",
       "3                           3                           15                    \n",
       "                                                                              \n",
       "\n",
       "  ⎛  6        ⎞│                                                              \n",
       "6 ⎜ d         ⎟│                                                              \n",
       " ⋅⎜────(f(ξ₁))⎟│                                                              \n",
       "  ⎜   6       ⎟│                                                              \n",
       "  ⎝dξ₁        ⎠│ξ₁=x₀    ⎛ 7    6      5  2    4  3    3  4    2  5      6    \n",
       "───────────────────── + O⎝h  + h ⋅x + h ⋅x  + h ⋅x  + h ⋅x  + h ⋅x  + h⋅x  + x\n",
       "       45                                                                     \n",
       "                                                                              \n",
       "\n",
       "                   \n",
       "                   \n",
       "                   \n",
       "                   \n",
       "7                 ⎞\n",
       " ; (h, x) → (0, 0)⎠\n",
       "                   \n",
       "                   "
      ]
     },
     "metadata": {},
     "output_type": "display_data"
    }
   ],
   "source": [
    "Fp4 = f(x+4*h).series(x+4*h, x0=x0, n=terms)\n",
    "Fp4 = Fp4.subs(x-x0,0)\n",
    "display(Eq(symbols('Fp4'),Fp4))"
   ]
  },
  {
   "cell_type": "markdown",
   "metadata": {},
   "source": [
    "Substitute into the FD scheme"
   ]
  },
  {
   "cell_type": "code",
   "execution_count": 11,
   "metadata": {
    "collapsed": false
   },
   "outputs": [
    {
     "data": {
      "image/png": "[encoded data removed]",
      "text/latex": [
       "$$\\left. \\frac{d^{3}}{d \\xi_{1}^{3}}  f{\\left (\\xi_{1} \\right )} \\right|_{\\substack{ \\xi_{1}=x_{0} }} + \\frac{h^{3}}{8} \\left. \\frac{d^{6}}{d \\xi_{1}^{6}}  f{\\left (\\xi_{1} \\right )} \\right|_{\\substack{ \\xi_{1}=x_{0} }} + \\mathcal{O}\\left(h^{4} + h^{3} x + h^{2} x^{2} + h x^{3} + x^{4} + \\frac{x^{5}}{h} + \\frac{x^{6}}{h^{2}} + \\frac{x^{7}}{h^{3}}; \\left ( h, \\quad x\\right )\\rightarrow\\left ( 0, \\quad 0\\right )\\right)$$"
      ],
      "text/plain": [
       "                         ⎛  6        ⎞│                                       \n",
       "                       3 ⎜ d         ⎟│                                       \n",
       "                      h ⋅⎜────(f(ξ₁))⎟│                                       \n",
       "⎛  3        ⎞│           ⎜   6       ⎟│         ⎛                             \n",
       "⎜ d         ⎟│           ⎝dξ₁        ⎠│ξ₁=x₀    ⎜ 4    3      2  2      3    4\n",
       "⎜────(f(ξ₁))⎟│      + ────────────────────── + O⎜h  + h ⋅x + h ⋅x  + h⋅x  + x \n",
       "⎜   3       ⎟│                  8               ⎜                             \n",
       "⎝dξ₁        ⎠│ξ₁=x₀                             ⎝                             \n",
       "\n",
       "                                 \n",
       "                                 \n",
       "                                 \n",
       "    5    6    7                 ⎞\n",
       "   x    x    x                  ⎟\n",
       " + ── + ── + ──; (h, x) → (0, 0)⎟\n",
       "   h     2    3                 ⎟\n",
       "        h    h                  ⎠"
      ]
     },
     "metadata": {},
     "output_type": "display_data"
    }
   ],
   "source": [
    "fx3FDT = fx3FD.subs([(f(x-h)  , Fm1),\n",
    "                     (f(x)    , F  ),\n",
    "                     (f(x+h)  , Fp1),\n",
    "                     (f(x+2*h), Fp2),\n",
    "                     (f(x+3*h), Fp3),\n",
    "                     (f(x+4*h), Fp4),                     \n",
    "                    ])\n",
    "display(simplify(fx3FDT))"
   ]
  },
  {
   "cell_type": "markdown",
   "metadata": {},
   "source": [
    "Thus, we see that this discretization is 3rd order accurate."
   ]
  }
 ],
 "metadata": {
  "kernelspec": {
   "display_name": "Python 3",
   "language": "python",
   "name": "python3"
  },
  "language_info": {
   "codemirror_mode": {
    "name": "ipython",
    "version": 3
   },
   "file_extension": ".py",
   "mimetype": "text/x-python",
   "name": "python",
   "nbconvert_exporter": "python",
   "pygments_lexer": "ipython3",
   "version": "3.5.1"
  }
 },
 "nbformat": 4,
 "nbformat_minor": 0
}
