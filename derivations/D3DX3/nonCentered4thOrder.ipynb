{
 "cells": [
  {
   "cell_type": "markdown",
   "metadata": {},
   "source": [
    "# Derivation of non-centered D3DX3 scheme without using ghost points\n",
    "\n",
    "The non-centre version is used when the processors is at the outer x boundary. The following scheme is 4th order convergent."
   ]
  },
  {
   "cell_type": "code",
   "execution_count": 1,
   "metadata": {
    "collapsed": false
   },
   "outputs": [],
   "source": [
    "from IPython.display import display\n",
    "from sympy import init_printing\n",
    "from sympy import symbols, together, as_finite_diff, simplify\n",
    "from sympy import Function, Eq, S\n",
    "\n",
    "init_printing()"
   ]
  },
  {
   "cell_type": "code",
   "execution_count": 2,
   "metadata": {
    "collapsed": false
   },
   "outputs": [],
   "source": [
    "x = symbols('x')\n",
    "h = symbols('h', positive=True)\n",
    "\n",
    "f = Function('f')\n",
    "\n",
    "# Stencils\n",
    "stencil = [x-5*h, x-4*h ,x-3*h, x-2*h, x-h, x, x+h/2]"
   ]
  },
  {
   "cell_type": "markdown",
   "metadata": {},
   "source": [
    "We are here discretizing the equation\n",
    "\n",
    "$$ \\partial_\\rho^3 f$$"
   ]
  },
  {
   "cell_type": "markdown",
   "metadata": {},
   "source": [
    "### Calculate the finite difference approximation of $\\partial_x^3 f$"
   ]
  },
  {
   "cell_type": "code",
   "execution_count": 13,
   "metadata": {
    "collapsed": false
   },
   "outputs": [
    {
     "data": {
      "image/png": "[encoded data removed]",
      "text/latex": [
       "$$f_{x3} = \\frac{d^{3}}{d x^{3}}  f{\\left (x \\right )}$$"
      ],
      "text/plain": [
       "        3      \n",
       "       d       \n",
       "fₓ₃ = ───(f(x))\n",
       "        3      \n",
       "      dx       "
      ]
     },
     "metadata": {},
     "output_type": "display_data"
    },
    {
     "data": {
      "image/png": "[encoded data removed]",
      "text/latex": [
       "$$f^{FD}_{x3} = \\frac{1}{308 h^{3}} \\left(- 5621 f{\\left (x \\right )} + 91 f{\\left (- 5 h + x \\right )} - 693 f{\\left (- 4 h + x \\right )} + 2354 f{\\left (- 3 h + x \\right )} - 4774 f{\\left (- 2 h + x \\right )} + 6083 f{\\left (- h + x \\right )} + 2560 f{\\left (\\frac{h}{2} + x \\right )}\\right)$$"
      ],
      "text/plain": [
       "                                                                              \n",
       "           -5621⋅f(x) + 91⋅f(-5⋅h + x) - 693⋅f(-4⋅h + x) + 2354⋅f(-3⋅h + x) - \n",
       "                                                                              \n",
       "f_x3__FD = ───────────────────────────────────────────────────────────────────\n",
       "                                                                       3      \n",
       "                                                                  308⋅h       \n",
       "\n",
       "                                          ⎛h    ⎞\n",
       "4774⋅f(-2⋅h + x) + 6083⋅f(-h + x) + 2560⋅f⎜─ + x⎟\n",
       "                                          ⎝2    ⎠\n",
       "─────────────────────────────────────────────────\n",
       "                                                 \n",
       "                                                 "
      ]
     },
     "metadata": {},
     "output_type": "display_data"
    }
   ],
   "source": [
    "fx3 = f(x).diff(x,3)\n",
    "fx3FD = as_finite_diff(fx3, stencil)\n",
    "display(Eq(symbols('f_x3'), fx3))\n",
    "display(Eq(symbols('f^FD_x3'), together(fx3FD)))"
   ]
  },
  {
   "cell_type": "markdown",
   "metadata": {},
   "source": [
    "# Calculating the order\n",
    "\n",
    "Let's call the Taylor expansions of $f$ for $T[f(x,a)] = \\sum_{n=0}^\\infty\\frac{f^{(n)}(a)}{n!}(x-a)^n$"
   ]
  },
  {
   "cell_type": "code",
   "execution_count": 4,
   "metadata": {
    "collapsed": true
   },
   "outputs": [],
   "source": [
    "x0 = symbols('x0')\n",
    "terms = 9"
   ]
  },
  {
   "cell_type": "markdown",
   "metadata": {},
   "source": [
    "Taylor expasion of $f$ evaluated in $x_0$ expanded around $x$, so that $T[f(x,a \\to x_0)]$"
   ]
  },
  {
   "cell_type": "code",
   "execution_count": 5,
   "metadata": {
    "collapsed": false
   },
   "outputs": [
    {
     "data": {
      "image/png": "[encoded data removed]",
      "text/latex": [
       "$$F = f{\\left (x_{0} \\right )}$$"
      ],
      "text/plain": [
       "F = f(x₀)"
      ]
     },
     "metadata": {},
     "output_type": "display_data"
    }
   ],
   "source": [
    "F = f(x).series(x, x0=x0, n=terms)\n",
    "F = F.subs(x-x0,0)\n",
    "display(Eq(symbols('F'),F))"
   ]
  },
  {
   "cell_type": "markdown",
   "metadata": {},
   "source": [
    "Taylor expasion of $f$ evaluated in $x_0$ expanded around $x+\\frac{h}{2}$, so that $T\\left[f\\left(x \\to x+\\frac{h}{2}, a \\to x_0\\right)\\right]$"
   ]
  },
  {
   "cell_type": "code",
   "execution_count": 6,
   "metadata": {
    "collapsed": false
   },
   "outputs": [
    {
     "data": {
      "image/png": "[encoded data removed]",
      "text/latex": [
       "$$Fp_{05} = f{\\left (x_{0} \\right )} + \\frac{h}{2} \\left. \\frac{d}{d \\xi_{1}} f{\\left (\\xi_{1} \\right )} \\right|_{\\substack{ \\xi_{1}=x_{0} }} + \\frac{h^{2}}{8} \\left. \\frac{d^{2}}{d \\xi_{1}^{2}}  f{\\left (\\xi_{1} \\right )} \\right|_{\\substack{ \\xi_{1}=x_{0} }} + \\frac{h^{3}}{48} \\left. \\frac{d^{3}}{d \\xi_{1}^{3}}  f{\\left (\\xi_{1} \\right )} \\right|_{\\substack{ \\xi_{1}=x_{0} }} + \\frac{h^{4}}{384} \\left. \\frac{d^{4}}{d \\xi_{1}^{4}}  f{\\left (\\xi_{1} \\right )} \\right|_{\\substack{ \\xi_{1}=x_{0} }} + \\frac{h^{5}}{3840} \\left. \\frac{d^{5}}{d \\xi_{1}^{5}}  f{\\left (\\xi_{1} \\right )} \\right|_{\\substack{ \\xi_{1}=x_{0} }} + \\frac{h^{6}}{46080} \\left. \\frac{d^{6}}{d \\xi_{1}^{6}}  f{\\left (\\xi_{1} \\right )} \\right|_{\\substack{ \\xi_{1}=x_{0} }} + \\frac{h^{7}}{645120} \\left. \\frac{d^{7}}{d \\xi_{1}^{7}}  f{\\left (\\xi_{1} \\right )} \\right|_{\\substack{ \\xi_{1}=x_{0} }} + \\frac{h^{8}}{10321920} \\left. \\frac{d^{8}}{d \\xi_{1}^{8}}  f{\\left (\\xi_{1} \\right )} \\right|_{\\substack{ \\xi_{1}=x_{0} }} + \\mathcal{O}\\left(h^{9} + h^{8} x + h^{7} x^{2} + h^{6} x^{3} + h^{5} x^{4} + h^{4} x^{5} + h^{3} x^{6} + h^{2} x^{7} + h x^{8} + x^{9}; \\left ( h, \\quad x\\right )\\rightarrow\\left ( 0, \\quad 0\\right )\\right)$$"
      ],
      "text/plain": [
       "                                         ⎛  2        ⎞│           ⎛  3        \n",
       "                                       2 ⎜ d         ⎟│         3 ⎜ d         \n",
       "                 ⎛ d        ⎞│        h ⋅⎜────(f(ξ₁))⎟│        h ⋅⎜────(f(ξ₁))\n",
       "               h⋅⎜───(f(ξ₁))⎟│           ⎜   2       ⎟│           ⎜   3       \n",
       "                 ⎝dξ₁       ⎠│ξ₁=x₀      ⎝dξ₁        ⎠│ξ₁=x₀      ⎝dξ₁        \n",
       "Fp₀₅ = f(x₀) + ──────────────────── + ────────────────────── + ───────────────\n",
       "                        2                       8                        48   \n",
       "\n",
       "⎞│           ⎛  4        ⎞│           ⎛  5        ⎞│           ⎛  6        ⎞│ \n",
       "⎟│         4 ⎜ d         ⎟│         5 ⎜ d         ⎟│         6 ⎜ d         ⎟│ \n",
       "⎟│        h ⋅⎜────(f(ξ₁))⎟│        h ⋅⎜────(f(ξ₁))⎟│        h ⋅⎜────(f(ξ₁))⎟│ \n",
       "⎟│           ⎜   4       ⎟│           ⎜   5       ⎟│           ⎜   6       ⎟│ \n",
       "⎠│ξ₁=x₀      ⎝dξ₁        ⎠│ξ₁=x₀      ⎝dξ₁        ⎠│ξ₁=x₀      ⎝dξ₁        ⎠│ξ\n",
       "─────── + ────────────────────── + ────────────────────── + ──────────────────\n",
       "                   384                      3840                    46080     \n",
       "\n",
       "          ⎛  7        ⎞│           ⎛  8        ⎞│                             \n",
       "        7 ⎜ d         ⎟│         8 ⎜ d         ⎟│                             \n",
       "       h ⋅⎜────(f(ξ₁))⎟│        h ⋅⎜────(f(ξ₁))⎟│                             \n",
       "          ⎜   7       ⎟│           ⎜   8       ⎟│                             \n",
       "₁=x₀      ⎝dξ₁        ⎠│ξ₁=x₀      ⎝dξ₁        ⎠│ξ₁=x₀    ⎛ 9    8      7  2  \n",
       "──── + ────────────────────── + ────────────────────── + O⎝h  + h ⋅x + h ⋅x  +\n",
       "               645120                  10321920                               \n",
       "\n",
       "                                                                    \n",
       "                                                                    \n",
       "                                                                    \n",
       "                                                                    \n",
       "  6  3    5  4    4  5    3  6    2  7      8    9                 ⎞\n",
       " h ⋅x  + h ⋅x  + h ⋅x  + h ⋅x  + h ⋅x  + h⋅x  + x ; (h, x) → (0, 0)⎠\n",
       "                                                                    "
      ]
     },
     "metadata": {},
     "output_type": "display_data"
    }
   ],
   "source": [
    "Fp05 = f(x+h/2).series(x+h/2, x0=x0, n=terms)\n",
    "Fp05 = Fp05.subs(x-x0,0)\n",
    "display(Eq(symbols('Fp05'),Fp05))"
   ]
  },
  {
   "cell_type": "markdown",
   "metadata": {},
   "source": [
    "Taylor expasion of $f$ evaluated in $x_0$ expanded around $x-h$, so that $T[f(x \\to x-h, a \\to x_0)]$"
   ]
  },
  {
   "cell_type": "code",
   "execution_count": 7,
   "metadata": {
    "collapsed": false
   },
   "outputs": [
    {
     "data": {
      "image/png": "[encoded data removed]",
      "text/latex": [
       "$$Fm_{1} = f{\\left (x_{0} \\right )} - h \\left. \\frac{d}{d \\xi_{1}} f{\\left (\\xi_{1} \\right )} \\right|_{\\substack{ \\xi_{1}=x_{0} }} + \\frac{h^{2}}{2} \\left. \\frac{d^{2}}{d \\xi_{1}^{2}}  f{\\left (\\xi_{1} \\right )} \\right|_{\\substack{ \\xi_{1}=x_{0} }} - \\frac{h^{3}}{6} \\left. \\frac{d^{3}}{d \\xi_{1}^{3}}  f{\\left (\\xi_{1} \\right )} \\right|_{\\substack{ \\xi_{1}=x_{0} }} + \\frac{h^{4}}{24} \\left. \\frac{d^{4}}{d \\xi_{1}^{4}}  f{\\left (\\xi_{1} \\right )} \\right|_{\\substack{ \\xi_{1}=x_{0} }} - \\frac{h^{5}}{120} \\left. \\frac{d^{5}}{d \\xi_{1}^{5}}  f{\\left (\\xi_{1} \\right )} \\right|_{\\substack{ \\xi_{1}=x_{0} }} + \\frac{h^{6}}{720} \\left. \\frac{d^{6}}{d \\xi_{1}^{6}}  f{\\left (\\xi_{1} \\right )} \\right|_{\\substack{ \\xi_{1}=x_{0} }} - \\frac{h^{7}}{5040} \\left. \\frac{d^{7}}{d \\xi_{1}^{7}}  f{\\left (\\xi_{1} \\right )} \\right|_{\\substack{ \\xi_{1}=x_{0} }} + \\frac{h^{8}}{40320} \\left. \\frac{d^{8}}{d \\xi_{1}^{8}}  f{\\left (\\xi_{1} \\right )} \\right|_{\\substack{ \\xi_{1}=x_{0} }} + \\mathcal{O}\\left(h^{9} + h^{8} x + h^{7} x^{2} + h^{6} x^{3} + h^{5} x^{4} + h^{4} x^{5} + h^{3} x^{6} + h^{2} x^{7} + h x^{8} + x^{9}; \\left ( h, \\quad x\\right )\\rightarrow\\left ( 0, \\quad 0\\right )\\right)$$"
      ],
      "text/plain": [
       "                                        ⎛  2        ⎞│           ⎛  3        ⎞\n",
       "                                      2 ⎜ d         ⎟│         3 ⎜ d         ⎟\n",
       "                                     h ⋅⎜────(f(ξ₁))⎟│        h ⋅⎜────(f(ξ₁))⎟\n",
       "                                        ⎜   2       ⎟│           ⎜   3       ⎟\n",
       "                ⎛ d        ⎞│           ⎝dξ₁        ⎠│ξ₁=x₀      ⎝dξ₁        ⎠\n",
       "Fm₁ = f(x₀) - h⋅⎜───(f(ξ₁))⎟│      + ────────────────────── - ────────────────\n",
       "                ⎝dξ₁       ⎠│ξ₁=x₀             2                        6     \n",
       "\n",
       "│           ⎛  4        ⎞│           ⎛  5        ⎞│           ⎛  6        ⎞│  \n",
       "│         4 ⎜ d         ⎟│         5 ⎜ d         ⎟│         6 ⎜ d         ⎟│  \n",
       "│        h ⋅⎜────(f(ξ₁))⎟│        h ⋅⎜────(f(ξ₁))⎟│        h ⋅⎜────(f(ξ₁))⎟│  \n",
       "│           ⎜   4       ⎟│           ⎜   5       ⎟│           ⎜   6       ⎟│  \n",
       "│ξ₁=x₀      ⎝dξ₁        ⎠│ξ₁=x₀      ⎝dξ₁        ⎠│ξ₁=x₀      ⎝dξ₁        ⎠│ξ₁\n",
       "────── + ────────────────────── - ────────────────────── + ───────────────────\n",
       "                   24                      120                      720       \n",
       "\n",
       "         ⎛  7        ⎞│           ⎛  8        ⎞│                              \n",
       "       7 ⎜ d         ⎟│         8 ⎜ d         ⎟│                              \n",
       "      h ⋅⎜────(f(ξ₁))⎟│        h ⋅⎜────(f(ξ₁))⎟│                              \n",
       "         ⎜   7       ⎟│           ⎜   8       ⎟│                              \n",
       "=x₀      ⎝dξ₁        ⎠│ξ₁=x₀      ⎝dξ₁        ⎠│ξ₁=x₀    ⎛ 9    8      7  2   \n",
       "─── - ────────────────────── + ────────────────────── + O⎝h  + h ⋅x + h ⋅x  + \n",
       "               5040                    40320                                  \n",
       "\n",
       "                                                                   \n",
       "                                                                   \n",
       "                                                                   \n",
       "                                                                   \n",
       " 6  3    5  4    4  5    3  6    2  7      8    9                 ⎞\n",
       "h ⋅x  + h ⋅x  + h ⋅x  + h ⋅x  + h ⋅x  + h⋅x  + x ; (h, x) → (0, 0)⎠\n",
       "                                                                   "
      ]
     },
     "metadata": {},
     "output_type": "display_data"
    }
   ],
   "source": [
    "Fm1 = f(x-h).series(x-h, x0=x0, n=terms)\n",
    "Fm1 = Fm1.subs(x-x0,0)\n",
    "display(Eq(symbols('Fm1'),Fm1))"
   ]
  },
  {
   "cell_type": "markdown",
   "metadata": {},
   "source": [
    "Taylor expasion of $f$ evaluated in $x_0$ expanded around $x-2h$, so that $T[f(x \\to x-2h, a \\to x_0)]$"
   ]
  },
  {
   "cell_type": "code",
   "execution_count": 8,
   "metadata": {
    "collapsed": false
   },
   "outputs": [
    {
     "data": {
      "image/png": "[encoded data removed]",
      "text/latex": [
       "$$Fm_{2} = f{\\left (x_{0} \\right )} - 2 h \\left. \\frac{d}{d \\xi_{1}} f{\\left (\\xi_{1} \\right )} \\right|_{\\substack{ \\xi_{1}=x_{0} }} + 2 h^{2} \\left. \\frac{d^{2}}{d \\xi_{1}^{2}}  f{\\left (\\xi_{1} \\right )} \\right|_{\\substack{ \\xi_{1}=x_{0} }} - \\frac{4 h^{3}}{3} \\left. \\frac{d^{3}}{d \\xi_{1}^{3}}  f{\\left (\\xi_{1} \\right )} \\right|_{\\substack{ \\xi_{1}=x_{0} }} + \\frac{2 h^{4}}{3} \\left. \\frac{d^{4}}{d \\xi_{1}^{4}}  f{\\left (\\xi_{1} \\right )} \\right|_{\\substack{ \\xi_{1}=x_{0} }} - \\frac{4 h^{5}}{15} \\left. \\frac{d^{5}}{d \\xi_{1}^{5}}  f{\\left (\\xi_{1} \\right )} \\right|_{\\substack{ \\xi_{1}=x_{0} }} + \\frac{4 h^{6}}{45} \\left. \\frac{d^{6}}{d \\xi_{1}^{6}}  f{\\left (\\xi_{1} \\right )} \\right|_{\\substack{ \\xi_{1}=x_{0} }} - \\frac{8 h^{7}}{315} \\left. \\frac{d^{7}}{d \\xi_{1}^{7}}  f{\\left (\\xi_{1} \\right )} \\right|_{\\substack{ \\xi_{1}=x_{0} }} + \\frac{2 h^{8}}{315} \\left. \\frac{d^{8}}{d \\xi_{1}^{8}}  f{\\left (\\xi_{1} \\right )} \\right|_{\\substack{ \\xi_{1}=x_{0} }} + \\mathcal{O}\\left(h^{9} + h^{8} x + h^{7} x^{2} + h^{6} x^{3} + h^{5} x^{4} + h^{4} x^{5} + h^{3} x^{6} + h^{2} x^{7} + h x^{8} + x^{9}; \\left ( h, \\quad x\\right )\\rightarrow\\left ( 0, \\quad 0\\right )\\right)$$"
      ],
      "text/plain": [
       "                                                                       ⎛  3   \n",
       "                                                                     3 ⎜ d    \n",
       "                                                                  4⋅h ⋅⎜────(f\n",
       "                                            ⎛  2        ⎞│             ⎜   3  \n",
       "                  ⎛ d        ⎞│           2 ⎜ d         ⎟│             ⎝dξ₁   \n",
       "Fm₂ = f(x₀) - 2⋅h⋅⎜───(f(ξ₁))⎟│      + 2⋅h ⋅⎜────(f(ξ₁))⎟│      - ────────────\n",
       "                  ⎝dξ₁       ⎠│ξ₁=x₀        ⎜   2       ⎟│                   3\n",
       "                                            ⎝dξ₁        ⎠│ξ₁=x₀               \n",
       "\n",
       "     ⎞│             ⎛  4        ⎞│             ⎛  5        ⎞│             ⎛  6\n",
       "     ⎟│           4 ⎜ d         ⎟│           5 ⎜ d         ⎟│           6 ⎜ d \n",
       "(ξ₁))⎟│        2⋅h ⋅⎜────(f(ξ₁))⎟│        4⋅h ⋅⎜────(f(ξ₁))⎟│        4⋅h ⋅⎜───\n",
       "     ⎟│             ⎜   4       ⎟│             ⎜   5       ⎟│             ⎜   \n",
       "     ⎠│ξ₁=x₀        ⎝dξ₁        ⎠│ξ₁=x₀        ⎝dξ₁        ⎠│ξ₁=x₀        ⎝dξ₁\n",
       "──────────── + ──────────────────────── - ──────────────────────── + ─────────\n",
       "                          3                          15                       \n",
       "                                                                              \n",
       "\n",
       "        ⎞│             ⎛  7        ⎞│             ⎛  8        ⎞│              \n",
       "        ⎟│           7 ⎜ d         ⎟│           8 ⎜ d         ⎟│              \n",
       "─(f(ξ₁))⎟│        8⋅h ⋅⎜────(f(ξ₁))⎟│        2⋅h ⋅⎜────(f(ξ₁))⎟│              \n",
       "6       ⎟│             ⎜   7       ⎟│             ⎜   8       ⎟│              \n",
       "        ⎠│ξ₁=x₀        ⎝dξ₁        ⎠│ξ₁=x₀        ⎝dξ₁        ⎠│ξ₁=x₀    ⎛ 9  \n",
       "─────────────── - ──────────────────────── + ──────────────────────── + O⎝h  +\n",
       "  45                        315                        315                    \n",
       "                                                                              \n",
       "\n",
       "                                                                              \n",
       "                                                                              \n",
       "                                                                              \n",
       "                                                                              \n",
       "  8      7  2    6  3    5  4    4  5    3  6    2  7      8    9             \n",
       " h ⋅x + h ⋅x  + h ⋅x  + h ⋅x  + h ⋅x  + h ⋅x  + h ⋅x  + h⋅x  + x ; (h, x) → (0\n",
       "                                                                              \n",
       "                                                                              \n",
       "\n",
       "     \n",
       "     \n",
       "     \n",
       "     \n",
       "    ⎞\n",
       ", 0)⎠\n",
       "     \n",
       "     "
      ]
     },
     "metadata": {},
     "output_type": "display_data"
    }
   ],
   "source": [
    "Fm2 = f(x-2*h).series(x-2*h, x0=x0, n=terms)\n",
    "Fm2 = Fm2.subs(x-x0,0)\n",
    "display(Eq(symbols('Fm2'),Fm2))"
   ]
  },
  {
   "cell_type": "markdown",
   "metadata": {},
   "source": [
    "Taylor expasion of $f$ evaluated in $x_0$ expanded around $x-3h$, so that $T[f(x \\to x-3h, a \\to x_0)]$"
   ]
  },
  {
   "cell_type": "code",
   "execution_count": 9,
   "metadata": {
    "collapsed": false
   },
   "outputs": [
    {
     "data": {
      "image/png": "[encoded data removed]",
      "text/latex": [
       "$$Fm_{3} = f{\\left (x_{0} \\right )} - 3 h \\left. \\frac{d}{d \\xi_{1}} f{\\left (\\xi_{1} \\right )} \\right|_{\\substack{ \\xi_{1}=x_{0} }} + \\frac{9 h^{2}}{2} \\left. \\frac{d^{2}}{d \\xi_{1}^{2}}  f{\\left (\\xi_{1} \\right )} \\right|_{\\substack{ \\xi_{1}=x_{0} }} - \\frac{9 h^{3}}{2} \\left. \\frac{d^{3}}{d \\xi_{1}^{3}}  f{\\left (\\xi_{1} \\right )} \\right|_{\\substack{ \\xi_{1}=x_{0} }} + \\frac{27 h^{4}}{8} \\left. \\frac{d^{4}}{d \\xi_{1}^{4}}  f{\\left (\\xi_{1} \\right )} \\right|_{\\substack{ \\xi_{1}=x_{0} }} - \\frac{81 h^{5}}{40} \\left. \\frac{d^{5}}{d \\xi_{1}^{5}}  f{\\left (\\xi_{1} \\right )} \\right|_{\\substack{ \\xi_{1}=x_{0} }} + \\frac{81 h^{6}}{80} \\left. \\frac{d^{6}}{d \\xi_{1}^{6}}  f{\\left (\\xi_{1} \\right )} \\right|_{\\substack{ \\xi_{1}=x_{0} }} - \\frac{243 h^{7}}{560} \\left. \\frac{d^{7}}{d \\xi_{1}^{7}}  f{\\left (\\xi_{1} \\right )} \\right|_{\\substack{ \\xi_{1}=x_{0} }} + \\frac{729 h^{8}}{4480} \\left. \\frac{d^{8}}{d \\xi_{1}^{8}}  f{\\left (\\xi_{1} \\right )} \\right|_{\\substack{ \\xi_{1}=x_{0} }} + \\mathcal{O}\\left(h^{9} + h^{8} x + h^{7} x^{2} + h^{6} x^{3} + h^{5} x^{4} + h^{4} x^{5} + h^{3} x^{6} + h^{2} x^{7} + h x^{8} + x^{9}; \\left ( h, \\quad x\\right )\\rightarrow\\left ( 0, \\quad 0\\right )\\right)$$"
      ],
      "text/plain": [
       "                                            ⎛  2        ⎞│             ⎛  3   \n",
       "                                          2 ⎜ d         ⎟│           3 ⎜ d    \n",
       "                                       9⋅h ⋅⎜────(f(ξ₁))⎟│        9⋅h ⋅⎜────(f\n",
       "                                            ⎜   2       ⎟│             ⎜   3  \n",
       "                  ⎛ d        ⎞│             ⎝dξ₁        ⎠│ξ₁=x₀        ⎝dξ₁   \n",
       "Fm₃ = f(x₀) - 3⋅h⋅⎜───(f(ξ₁))⎟│      + ──────────────────────── - ────────────\n",
       "                  ⎝dξ₁       ⎠│ξ₁=x₀              2                          2\n",
       "\n",
       "     ⎞│              ⎛  4        ⎞│              ⎛  5        ⎞│              ⎛\n",
       "     ⎟│            4 ⎜ d         ⎟│            5 ⎜ d         ⎟│            6 ⎜\n",
       "(ξ₁))⎟│        27⋅h ⋅⎜────(f(ξ₁))⎟│        81⋅h ⋅⎜────(f(ξ₁))⎟│        81⋅h ⋅⎜\n",
       "     ⎟│              ⎜   4       ⎟│              ⎜   5       ⎟│              ⎜\n",
       "     ⎠│ξ₁=x₀         ⎝dξ₁        ⎠│ξ₁=x₀         ⎝dξ₁        ⎠│ξ₁=x₀         ⎝\n",
       "──────────── + ───────────────────────── - ───────────────────────── + ───────\n",
       "                           8                           40                     \n",
       "\n",
       "  6        ⎞│               ⎛  7        ⎞│               ⎛  8        ⎞│       \n",
       " d         ⎟│             7 ⎜ d         ⎟│             8 ⎜ d         ⎟│       \n",
       "────(f(ξ₁))⎟│        243⋅h ⋅⎜────(f(ξ₁))⎟│        729⋅h ⋅⎜────(f(ξ₁))⎟│       \n",
       "   6       ⎟│               ⎜   7       ⎟│               ⎜   8       ⎟│       \n",
       "dξ₁        ⎠│ξ₁=x₀          ⎝dξ₁        ⎠│ξ₁=x₀          ⎝dξ₁        ⎠│ξ₁=x₀  \n",
       "────────────────── - ────────────────────────── + ────────────────────────── +\n",
       "     80                         560                          4480             \n",
       "\n",
       "                                                                              \n",
       "                                                                              \n",
       "                                                                              \n",
       "                                                                              \n",
       "  ⎛ 9    8      7  2    6  3    5  4    4  5    3  6    2  7      8    9      \n",
       " O⎝h  + h ⋅x + h ⋅x  + h ⋅x  + h ⋅x  + h ⋅x  + h ⋅x  + h ⋅x  + h⋅x  + x ; (h, \n",
       "                                                                              \n",
       "\n",
       "            \n",
       "            \n",
       "            \n",
       "            \n",
       "           ⎞\n",
       "x) → (0, 0)⎠\n",
       "            "
      ]
     },
     "metadata": {},
     "output_type": "display_data"
    }
   ],
   "source": [
    "Fm3 = f(x-3*h).series(x-3*h, x0=x0, n=terms)\n",
    "Fm3 = Fm3.subs(x-x0,0)\n",
    "display(Eq(symbols('Fm3'),Fm3))"
   ]
  },
  {
   "cell_type": "markdown",
   "metadata": {},
   "source": [
    "Taylor expasion of $f$ evaluated in $x_0$ expanded around $x-4h$, so that $T[f(x \\to x-4h, a \\to x_0)]$"
   ]
  },
  {
   "cell_type": "code",
   "execution_count": 10,
   "metadata": {
    "collapsed": false
   },
   "outputs": [
    {
     "data": {
      "image/png": "[encoded data removed]",
      "text/latex": [
       "$$Fm_{4} = f{\\left (x_{0} \\right )} - 4 h \\left. \\frac{d}{d \\xi_{1}} f{\\left (\\xi_{1} \\right )} \\right|_{\\substack{ \\xi_{1}=x_{0} }} + 8 h^{2} \\left. \\frac{d^{2}}{d \\xi_{1}^{2}}  f{\\left (\\xi_{1} \\right )} \\right|_{\\substack{ \\xi_{1}=x_{0} }} - \\frac{32 h^{3}}{3} \\left. \\frac{d^{3}}{d \\xi_{1}^{3}}  f{\\left (\\xi_{1} \\right )} \\right|_{\\substack{ \\xi_{1}=x_{0} }} + \\frac{32 h^{4}}{3} \\left. \\frac{d^{4}}{d \\xi_{1}^{4}}  f{\\left (\\xi_{1} \\right )} \\right|_{\\substack{ \\xi_{1}=x_{0} }} - \\frac{128 h^{5}}{15} \\left. \\frac{d^{5}}{d \\xi_{1}^{5}}  f{\\left (\\xi_{1} \\right )} \\right|_{\\substack{ \\xi_{1}=x_{0} }} + \\frac{256 h^{6}}{45} \\left. \\frac{d^{6}}{d \\xi_{1}^{6}}  f{\\left (\\xi_{1} \\right )} \\right|_{\\substack{ \\xi_{1}=x_{0} }} - \\frac{1024 h^{7}}{315} \\left. \\frac{d^{7}}{d \\xi_{1}^{7}}  f{\\left (\\xi_{1} \\right )} \\right|_{\\substack{ \\xi_{1}=x_{0} }} + \\frac{512 h^{8}}{315} \\left. \\frac{d^{8}}{d \\xi_{1}^{8}}  f{\\left (\\xi_{1} \\right )} \\right|_{\\substack{ \\xi_{1}=x_{0} }} + \\mathcal{O}\\left(h^{9} + h^{8} x + h^{7} x^{2} + h^{6} x^{3} + h^{5} x^{4} + h^{4} x^{5} + h^{3} x^{6} + h^{2} x^{7} + h x^{8} + x^{9}; \\left ( h, \\quad x\\right )\\rightarrow\\left ( 0, \\quad 0\\right )\\right)$$"
      ],
      "text/plain": [
       "                                                                        ⎛  3  \n",
       "                                                                      3 ⎜ d   \n",
       "                                                                  32⋅h ⋅⎜────(\n",
       "                                            ⎛  2        ⎞│              ⎜   3 \n",
       "                  ⎛ d        ⎞│           2 ⎜ d         ⎟│              ⎝dξ₁  \n",
       "Fm₄ = f(x₀) - 4⋅h⋅⎜───(f(ξ₁))⎟│      + 8⋅h ⋅⎜────(f(ξ₁))⎟│      - ────────────\n",
       "                  ⎝dξ₁       ⎠│ξ₁=x₀        ⎜   2       ⎟│                    \n",
       "                                            ⎝dξ₁        ⎠│ξ₁=x₀               \n",
       "\n",
       "      ⎞│              ⎛  4        ⎞│               ⎛  5        ⎞│             \n",
       "      ⎟│            4 ⎜ d         ⎟│             5 ⎜ d         ⎟│             \n",
       "f(ξ₁))⎟│        32⋅h ⋅⎜────(f(ξ₁))⎟│        128⋅h ⋅⎜────(f(ξ₁))⎟│        256⋅h\n",
       "      ⎟│              ⎜   4       ⎟│               ⎜   5       ⎟│             \n",
       "      ⎠│ξ₁=x₀         ⎝dξ₁        ⎠│ξ₁=x₀          ⎝dξ₁        ⎠│ξ₁=x₀        \n",
       "───────────── + ───────────────────────── - ────────────────────────── + ─────\n",
       "3                           3                           15                    \n",
       "                                                                              \n",
       "\n",
       "  ⎛  6        ⎞│                ⎛  7        ⎞│               ⎛  8        ⎞│   \n",
       "6 ⎜ d         ⎟│              7 ⎜ d         ⎟│             8 ⎜ d         ⎟│   \n",
       " ⋅⎜────(f(ξ₁))⎟│        1024⋅h ⋅⎜────(f(ξ₁))⎟│        512⋅h ⋅⎜────(f(ξ₁))⎟│   \n",
       "  ⎜   6       ⎟│                ⎜   7       ⎟│               ⎜   8       ⎟│   \n",
       "  ⎝dξ₁        ⎠│ξ₁=x₀           ⎝dξ₁        ⎠│ξ₁=x₀          ⎝dξ₁        ⎠│ξ₁=\n",
       "───────────────────── - ─────────────────────────── + ────────────────────────\n",
       "       45                           315                          315          \n",
       "                                                                              \n",
       "\n",
       "                                                                              \n",
       "                                                                              \n",
       "                                                                              \n",
       "                                                                              \n",
       "x₀    ⎛ 9    8      7  2    6  3    5  4    4  5    3  6    2  7      8    9  \n",
       "── + O⎝h  + h ⋅x + h ⋅x  + h ⋅x  + h ⋅x  + h ⋅x  + h ⋅x  + h ⋅x  + h⋅x  + x ; \n",
       "                                                                              \n",
       "                                                                              \n",
       "\n",
       "                \n",
       "                \n",
       "                \n",
       "                \n",
       "               ⎞\n",
       "(h, x) → (0, 0)⎠\n",
       "                \n",
       "                "
      ]
     },
     "metadata": {},
     "output_type": "display_data"
    }
   ],
   "source": [
    "Fm4 = f(x-4*h).series(x-4*h, x0=x0, n=terms)\n",
    "Fm4 = Fm4.subs(x-x0,0)\n",
    "display(Eq(symbols('Fm4'),Fm4))"
   ]
  },
  {
   "cell_type": "markdown",
   "metadata": {},
   "source": [
    "Taylor expasion of $f$ evaluated in $x_0$ expanded around $x-5h$, so that $T[f(x \\to x-5h, a \\to x_0)]$"
   ]
  },
  {
   "cell_type": "code",
   "execution_count": 11,
   "metadata": {
    "collapsed": false
   },
   "outputs": [
    {
     "data": {
      "image/png": "[encoded data removed]",
      "text/latex": [
       "$$Fm_{5} = f{\\left (x_{0} \\right )} - 5 h \\left. \\frac{d}{d \\xi_{1}} f{\\left (\\xi_{1} \\right )} \\right|_{\\substack{ \\xi_{1}=x_{0} }} + \\frac{25 h^{2}}{2} \\left. \\frac{d^{2}}{d \\xi_{1}^{2}}  f{\\left (\\xi_{1} \\right )} \\right|_{\\substack{ \\xi_{1}=x_{0} }} - \\frac{125 h^{3}}{6} \\left. \\frac{d^{3}}{d \\xi_{1}^{3}}  f{\\left (\\xi_{1} \\right )} \\right|_{\\substack{ \\xi_{1}=x_{0} }} + \\frac{625 h^{4}}{24} \\left. \\frac{d^{4}}{d \\xi_{1}^{4}}  f{\\left (\\xi_{1} \\right )} \\right|_{\\substack{ \\xi_{1}=x_{0} }} - \\frac{625 h^{5}}{24} \\left. \\frac{d^{5}}{d \\xi_{1}^{5}}  f{\\left (\\xi_{1} \\right )} \\right|_{\\substack{ \\xi_{1}=x_{0} }} + \\frac{3125 h^{6}}{144} \\left. \\frac{d^{6}}{d \\xi_{1}^{6}}  f{\\left (\\xi_{1} \\right )} \\right|_{\\substack{ \\xi_{1}=x_{0} }} - \\frac{15625 h^{7}}{1008} \\left. \\frac{d^{7}}{d \\xi_{1}^{7}}  f{\\left (\\xi_{1} \\right )} \\right|_{\\substack{ \\xi_{1}=x_{0} }} + \\frac{78125 h^{8}}{8064} \\left. \\frac{d^{8}}{d \\xi_{1}^{8}}  f{\\left (\\xi_{1} \\right )} \\right|_{\\substack{ \\xi_{1}=x_{0} }} + \\mathcal{O}\\left(h^{9} + h^{8} x + h^{7} x^{2} + h^{6} x^{3} + h^{5} x^{4} + h^{4} x^{5} + h^{3} x^{6} + h^{2} x^{7} + h x^{8} + x^{9}; \\left ( h, \\quad x\\right )\\rightarrow\\left ( 0, \\quad 0\\right )\\right)$$"
      ],
      "text/plain": [
       "                                             ⎛  2        ⎞│               ⎛  3\n",
       "                                           2 ⎜ d         ⎟│             3 ⎜ d \n",
       "                                       25⋅h ⋅⎜────(f(ξ₁))⎟│        125⋅h ⋅⎜───\n",
       "                                             ⎜   2       ⎟│               ⎜   \n",
       "                  ⎛ d        ⎞│              ⎝dξ₁        ⎠│ξ₁=x₀          ⎝dξ₁\n",
       "Fm₅ = f(x₀) - 5⋅h⋅⎜───(f(ξ₁))⎟│      + ───────────────────────── - ───────────\n",
       "                  ⎝dξ₁       ⎠│ξ₁=x₀               2                          \n",
       "\n",
       "        ⎞│               ⎛  4        ⎞│               ⎛  5        ⎞│          \n",
       "        ⎟│             4 ⎜ d         ⎟│             5 ⎜ d         ⎟│          \n",
       "─(f(ξ₁))⎟│        625⋅h ⋅⎜────(f(ξ₁))⎟│        625⋅h ⋅⎜────(f(ξ₁))⎟│        31\n",
       "3       ⎟│               ⎜   4       ⎟│               ⎜   5       ⎟│          \n",
       "        ⎠│ξ₁=x₀          ⎝dξ₁        ⎠│ξ₁=x₀          ⎝dξ₁        ⎠│ξ₁=x₀     \n",
       "─────────────── + ────────────────────────── - ────────────────────────── + ──\n",
       " 6                            24                           24                 \n",
       "\n",
       "      ⎛  6        ⎞│                 ⎛  7        ⎞│                 ⎛  8      \n",
       "    6 ⎜ d         ⎟│               7 ⎜ d         ⎟│               8 ⎜ d       \n",
       "25⋅h ⋅⎜────(f(ξ₁))⎟│        15625⋅h ⋅⎜────(f(ξ₁))⎟│        78125⋅h ⋅⎜────(f(ξ₁\n",
       "      ⎜   6       ⎟│                 ⎜   7       ⎟│                 ⎜   8     \n",
       "      ⎝dξ₁        ⎠│ξ₁=x₀            ⎝dξ₁        ⎠│ξ₁=x₀            ⎝dξ₁      \n",
       "───────────────────────── - ──────────────────────────── + ───────────────────\n",
       "          144                           1008                           8064   \n",
       "\n",
       "  ⎞│                                                                          \n",
       "  ⎟│                                                                          \n",
       "))⎟│                                                                          \n",
       "  ⎟│                                                                          \n",
       "  ⎠│ξ₁=x₀    ⎛ 9    8      7  2    6  3    5  4    4  5    3  6    2  7      8\n",
       "───────── + O⎝h  + h ⋅x + h ⋅x  + h ⋅x  + h ⋅x  + h ⋅x  + h ⋅x  + h ⋅x  + h⋅x \n",
       "                                                                              \n",
       "\n",
       "                       \n",
       "                       \n",
       "                       \n",
       "                       \n",
       "    9                 ⎞\n",
       " + x ; (h, x) → (0, 0)⎠\n",
       "                       "
      ]
     },
     "metadata": {},
     "output_type": "display_data"
    }
   ],
   "source": [
    "Fm5 = f(x-5*h).series(x-5*h, x0=x0, n=terms)\n",
    "Fm5 = Fm5.subs(x-x0,0)\n",
    "display(Eq(symbols('Fm5'),Fm5))"
   ]
  },
  {
   "cell_type": "markdown",
   "metadata": {},
   "source": [
    "Substitute into the FD scheme"
   ]
  },
  {
   "cell_type": "code",
   "execution_count": 12,
   "metadata": {
    "collapsed": false
   },
   "outputs": [
    {
     "data": {
      "image/png": "[encoded data removed]",
      "text/latex": [
       "$$\\left. \\frac{d^{3}}{d \\xi_{1}^{3}}  f{\\left (\\xi_{1} \\right )} \\right|_{\\substack{ \\xi_{1}=x_{0} }} - \\frac{323 h^{4}}{1680} \\left. \\frac{d^{7}}{d \\xi_{1}^{7}}  f{\\left (\\xi_{1} \\right )} \\right|_{\\substack{ \\xi_{1}=x_{0} }} + \\frac{629 h^{5}}{1792} \\left. \\frac{d^{8}}{d \\xi_{1}^{8}}  f{\\left (\\xi_{1} \\right )} \\right|_{\\substack{ \\xi_{1}=x_{0} }} + \\mathcal{O}\\left(h^{6} + h^{5} x + h^{4} x^{2} + h^{3} x^{3} + h^{2} x^{4} + h x^{5} + x^{6} + \\frac{x^{7}}{h} + \\frac{x^{8}}{h^{2}} + \\frac{x^{9}}{h^{3}}; \\left ( h, \\quad x\\right )\\rightarrow\\left ( 0, \\quad 0\\right )\\right)$$"
      ],
      "text/plain": [
       "                             ⎛  7        ⎞│               ⎛  8        ⎞│      \n",
       "                           4 ⎜ d         ⎟│             5 ⎜ d         ⎟│      \n",
       "                      323⋅h ⋅⎜────(f(ξ₁))⎟│        629⋅h ⋅⎜────(f(ξ₁))⎟│      \n",
       "⎛  3        ⎞│               ⎜   7       ⎟│               ⎜   8       ⎟│      \n",
       "⎜ d         ⎟│               ⎝dξ₁        ⎠│ξ₁=x₀          ⎝dξ₁        ⎠│ξ₁=x₀ \n",
       "⎜────(f(ξ₁))⎟│      - ────────────────────────── + ────────────────────────── \n",
       "⎜   3       ⎟│                   1680                         1792            \n",
       "⎝dξ₁        ⎠│ξ₁=x₀                                                           \n",
       "\n",
       "                                                                              \n",
       "                                                                              \n",
       "                                                                              \n",
       "   ⎛                                                 7    8    9              \n",
       "   ⎜ 6    5      4  2    3  3    2  4      5    6   x    x    x               \n",
       "+ O⎜h  + h ⋅x + h ⋅x  + h ⋅x  + h ⋅x  + h⋅x  + x  + ── + ── + ──; (h, x) → (0,\n",
       "   ⎜                                                h     2    3              \n",
       "   ⎝                                                     h    h               \n",
       "\n",
       "    \n",
       "    \n",
       "    \n",
       "   ⎞\n",
       "   ⎟\n",
       " 0)⎟\n",
       "   ⎟\n",
       "   ⎠"
      ]
     },
     "metadata": {},
     "output_type": "display_data"
    }
   ],
   "source": [
    "fx3FDT = fx3FD.subs([(f(x+h/2), Fp05),\n",
    "                     (f(x)    , F   ),\n",
    "                     (f(x-h)  , Fm1 ),\n",
    "                     (f(x-2*h), Fm2 ),\n",
    "                     (f(x-3*h), Fm3 ),\n",
    "                     (f(x-4*h), Fm4 ),                     \n",
    "                     (f(x-5*h), Fm5 ),\n",
    "                    ])\n",
    "display(simplify(fx3FDT))"
   ]
  },
  {
   "cell_type": "markdown",
   "metadata": {},
   "source": [
    "Thus, we see that this discretization is 4th order accurate."
   ]
  }
 ],
 "metadata": {
  "kernelspec": {
   "display_name": "Python 3",
   "language": "python",
   "name": "python3"
  },
  "language_info": {
   "codemirror_mode": {
    "name": "ipython",
    "version": 3
   },
   "file_extension": ".py",
   "mimetype": "text/x-python",
   "name": "python",
   "nbconvert_exporter": "python",
   "pygments_lexer": "ipython3",
   "version": "3.5.1"
  }
 },
 "nbformat": 4,
 "nbformat_minor": 0
}
