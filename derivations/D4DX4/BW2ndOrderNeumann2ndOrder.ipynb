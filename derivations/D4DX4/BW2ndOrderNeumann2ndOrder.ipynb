{
 "cells": [
  {
   "cell_type": "markdown",
   "metadata": {},
   "source": [
    "# Backward D4DX4 scheme\n",
    "\n",
    "Used close to outer x processor boundaries. The following scheme is 2rd order convergent."
   ]
  },
  {
   "cell_type": "code",
   "execution_count": 1,
   "metadata": {
    "collapsed": false
   },
   "outputs": [],
   "source": [
    "from IPython.display import display\n",
    "from sympy import init_printing\n",
    "from sympy import symbols, together, as_finite_diff, simplify, solve\n",
    "from sympy import Function, Eq, S, Subs, Derivative\n",
    "\n",
    "init_printing()"
   ]
  },
  {
   "cell_type": "code",
   "execution_count": 2,
   "metadata": {
    "collapsed": false
   },
   "outputs": [],
   "source": [
    "x = symbols('x')\n",
    "h = symbols('h', positive=True)\n",
    "\n",
    "f = Function('f')\n",
    "\n",
    "# Stencils\n",
    "stencil = [x-4*h ,x-3*h, x-2*h, x-h, x, x+h]"
   ]
  },
  {
   "cell_type": "markdown",
   "metadata": {},
   "source": [
    "We are here discretizing the equation\n",
    "\n",
    "$$ \\partial_\\rho^4 f$$"
   ]
  },
  {
   "cell_type": "markdown",
   "metadata": {},
   "source": [
    "### Calculate the finite difference approximation of $\\partial_x^4 f$"
   ]
  },
  {
   "cell_type": "code",
   "execution_count": 3,
   "metadata": {
    "collapsed": false
   },
   "outputs": [
    {
     "data": {
      "image/png": "[encoded data removed]",
      "text/latex": [
       "$$f_{x4} = \\frac{d^{4}}{d x^{4}}  f{\\left (x \\right )}$$"
      ],
      "text/plain": [
       "        4      \n",
       "       d       \n",
       "fₓ₄ = ───(f(x))\n",
       "        4      \n",
       "      dx       "
      ]
     },
     "metadata": {},
     "output_type": "display_data"
    },
    {
     "data": {
      "image/png": "[encoded data removed]",
      "text/latex": [
       "$$f^{FD}_{x4} = \\frac{1}{h^{4}} \\left(- 9 f{\\left (x \\right )} - f{\\left (- 4 h + x \\right )} + 6 f{\\left (- 3 h + x \\right )} - 14 f{\\left (- 2 h + x \\right )} + 16 f{\\left (- h + x \\right )} + 2 f{\\left (h + x \\right )}\\right)$$"
      ],
      "text/plain": [
       "           -9⋅f(x) - f(-4⋅h + x) + 6⋅f(-3⋅h + x) - 14⋅f(-2⋅h + x) + 16⋅f(-h + \n",
       "f_x4__FD = ───────────────────────────────────────────────────────────────────\n",
       "                                                    4                         \n",
       "                                                   h                          \n",
       "\n",
       "x) + 2⋅f(h + x)\n",
       "───────────────\n",
       "               \n",
       "               "
      ]
     },
     "metadata": {},
     "output_type": "display_data"
    },
    {
     "name": "stdout",
     "output_type": "stream",
     "text": [
      "(-9*f(x) - f(-4*h + x) + 6*f(-3*h + x) - 14*f(-2*h + x) + 16*f(-h + x) + 2*f(h + x))/h**4\n"
     ]
    }
   ],
   "source": [
    "fx4 = f(x).diff(x,4)\n",
    "fx4FD = as_finite_diff(fx4, stencil)\n",
    "display(Eq(symbols('f_x4'), fx4))\n",
    "display(Eq(symbols('f^FD_x4'), together(fx4FD)))\n",
    "print(together(fx4FD))"
   ]
  },
  {
   "cell_type": "markdown",
   "metadata": {},
   "source": [
    "# Calculating the order\n",
    "\n",
    "Let's call the Taylor expansions of $f$ for $T[f(x,a)] = \\sum_{n=0}^\\infty\\frac{f^{(n)}(a)}{n!}(x-a)^n$"
   ]
  },
  {
   "cell_type": "code",
   "execution_count": 4,
   "metadata": {
    "collapsed": true
   },
   "outputs": [],
   "source": [
    "x0 = symbols('x0')\n",
    "terms = 7"
   ]
  },
  {
   "cell_type": "markdown",
   "metadata": {},
   "source": [
    "Taylor expasion of $f$ expanded around $a=x_0$ evaluated in $x=x_0$"
   ]
  },
  {
   "cell_type": "code",
   "execution_count": 5,
   "metadata": {
    "collapsed": false
   },
   "outputs": [
    {
     "data": {
      "image/png": "[encoded data removed]",
      "text/latex": [
       "$$F = f{\\left (x_{0} \\right )}$$"
      ],
      "text/plain": [
       "F = f(x₀)"
      ]
     },
     "metadata": {},
     "output_type": "display_data"
    }
   ],
   "source": [
    "F = f(x).series(x, x0=x0, n=terms)\n",
    "F = F.subs(x-x0,0)\n",
    "display(Eq(symbols('F'),F))"
   ]
  },
  {
   "cell_type": "markdown",
   "metadata": {},
   "source": [
    "Taylor expasion of $f$ expanded around $a=x_0+h$ evaluated in $x=x_0$"
   ]
  },
  {
   "cell_type": "code",
   "execution_count": 6,
   "metadata": {
    "collapsed": false
   },
   "outputs": [
    {
     "data": {
      "image/png": "[encoded data removed]",
      "text/latex": [
       "$$Fp_{1} = f{\\left (x_{0} \\right )} + h \\left. \\frac{d}{d \\xi_{1}} f{\\left (\\xi_{1} \\right )} \\right|_{\\substack{ \\xi_{1}=x_{0} }} + \\frac{h^{2}}{2} \\left. \\frac{d^{2}}{d \\xi_{1}^{2}}  f{\\left (\\xi_{1} \\right )} \\right|_{\\substack{ \\xi_{1}=x_{0} }} + \\frac{h^{3}}{6} \\left. \\frac{d^{3}}{d \\xi_{1}^{3}}  f{\\left (\\xi_{1} \\right )} \\right|_{\\substack{ \\xi_{1}=x_{0} }} + \\frac{h^{4}}{24} \\left. \\frac{d^{4}}{d \\xi_{1}^{4}}  f{\\left (\\xi_{1} \\right )} \\right|_{\\substack{ \\xi_{1}=x_{0} }} + \\frac{h^{5}}{120} \\left. \\frac{d^{5}}{d \\xi_{1}^{5}}  f{\\left (\\xi_{1} \\right )} \\right|_{\\substack{ \\xi_{1}=x_{0} }} + \\frac{h^{6}}{720} \\left. \\frac{d^{6}}{d \\xi_{1}^{6}}  f{\\left (\\xi_{1} \\right )} \\right|_{\\substack{ \\xi_{1}=x_{0} }} + \\mathcal{O}\\left(h^{7} + h^{6} x + h^{5} x^{2} + h^{4} x^{3} + h^{3} x^{4} + h^{2} x^{5} + h x^{6} + x^{7}; \\left ( h, \\quad x\\right )\\rightarrow\\left ( 0, \\quad 0\\right )\\right)$$"
      ],
      "text/plain": [
       "                                        ⎛  2        ⎞│           ⎛  3        ⎞\n",
       "                                      2 ⎜ d         ⎟│         3 ⎜ d         ⎟\n",
       "                                     h ⋅⎜────(f(ξ₁))⎟│        h ⋅⎜────(f(ξ₁))⎟\n",
       "                                        ⎜   2       ⎟│           ⎜   3       ⎟\n",
       "                ⎛ d        ⎞│           ⎝dξ₁        ⎠│ξ₁=x₀      ⎝dξ₁        ⎠\n",
       "Fp₁ = f(x₀) + h⋅⎜───(f(ξ₁))⎟│      + ────────────────────── + ────────────────\n",
       "                ⎝dξ₁       ⎠│ξ₁=x₀             2                        6     \n",
       "\n",
       "│           ⎛  4        ⎞│           ⎛  5        ⎞│           ⎛  6        ⎞│  \n",
       "│         4 ⎜ d         ⎟│         5 ⎜ d         ⎟│         6 ⎜ d         ⎟│  \n",
       "│        h ⋅⎜────(f(ξ₁))⎟│        h ⋅⎜────(f(ξ₁))⎟│        h ⋅⎜────(f(ξ₁))⎟│  \n",
       "│           ⎜   4       ⎟│           ⎜   5       ⎟│           ⎜   6       ⎟│  \n",
       "│ξ₁=x₀      ⎝dξ₁        ⎠│ξ₁=x₀      ⎝dξ₁        ⎠│ξ₁=x₀      ⎝dξ₁        ⎠│ξ₁\n",
       "────── + ────────────────────── + ────────────────────── + ───────────────────\n",
       "                   24                      120                      720       \n",
       "\n",
       "                                                                              \n",
       "                                                                              \n",
       "                                                                              \n",
       "                                                                              \n",
       "=x₀    ⎛ 7    6      5  2    4  3    3  4    2  5      6    7                 \n",
       "─── + O⎝h  + h ⋅x + h ⋅x  + h ⋅x  + h ⋅x  + h ⋅x  + h⋅x  + x ; (h, x) → (0, 0)\n",
       "                                                                              \n",
       "\n",
       " \n",
       " \n",
       " \n",
       " \n",
       "⎞\n",
       "⎠\n",
       " "
      ]
     },
     "metadata": {},
     "output_type": "display_data"
    }
   ],
   "source": [
    "Fp1 = f(x+h).series(x+h, x0=x0, n=terms)\n",
    "Fp1 = Fp1.subs(x-x0,0)\n",
    "display(Eq(symbols('Fp1'),Fp1))"
   ]
  },
  {
   "cell_type": "markdown",
   "metadata": {},
   "source": [
    "Taylor expasion of $f$ expanded around $a=x_0-h$ evaluated in $x=x_0$"
   ]
  },
  {
   "cell_type": "code",
   "execution_count": 7,
   "metadata": {
    "collapsed": false
   },
   "outputs": [
    {
     "data": {
      "image/png": "[encoded data removed]",
      "text/latex": [
       "$$Fm_{1} = f{\\left (x_{0} \\right )} - h \\left. \\frac{d}{d \\xi_{1}} f{\\left (\\xi_{1} \\right )} \\right|_{\\substack{ \\xi_{1}=x_{0} }} + \\frac{h^{2}}{2} \\left. \\frac{d^{2}}{d \\xi_{1}^{2}}  f{\\left (\\xi_{1} \\right )} \\right|_{\\substack{ \\xi_{1}=x_{0} }} - \\frac{h^{3}}{6} \\left. \\frac{d^{3}}{d \\xi_{1}^{3}}  f{\\left (\\xi_{1} \\right )} \\right|_{\\substack{ \\xi_{1}=x_{0} }} + \\frac{h^{4}}{24} \\left. \\frac{d^{4}}{d \\xi_{1}^{4}}  f{\\left (\\xi_{1} \\right )} \\right|_{\\substack{ \\xi_{1}=x_{0} }} - \\frac{h^{5}}{120} \\left. \\frac{d^{5}}{d \\xi_{1}^{5}}  f{\\left (\\xi_{1} \\right )} \\right|_{\\substack{ \\xi_{1}=x_{0} }} + \\frac{h^{6}}{720} \\left. \\frac{d^{6}}{d \\xi_{1}^{6}}  f{\\left (\\xi_{1} \\right )} \\right|_{\\substack{ \\xi_{1}=x_{0} }} + \\mathcal{O}\\left(h^{7} + h^{6} x + h^{5} x^{2} + h^{4} x^{3} + h^{3} x^{4} + h^{2} x^{5} + h x^{6} + x^{7}; \\left ( h, \\quad x\\right )\\rightarrow\\left ( 0, \\quad 0\\right )\\right)$$"
      ],
      "text/plain": [
       "                                        ⎛  2        ⎞│           ⎛  3        ⎞\n",
       "                                      2 ⎜ d         ⎟│         3 ⎜ d         ⎟\n",
       "                                     h ⋅⎜────(f(ξ₁))⎟│        h ⋅⎜────(f(ξ₁))⎟\n",
       "                                        ⎜   2       ⎟│           ⎜   3       ⎟\n",
       "                ⎛ d        ⎞│           ⎝dξ₁        ⎠│ξ₁=x₀      ⎝dξ₁        ⎠\n",
       "Fm₁ = f(x₀) - h⋅⎜───(f(ξ₁))⎟│      + ────────────────────── - ────────────────\n",
       "                ⎝dξ₁       ⎠│ξ₁=x₀             2                        6     \n",
       "\n",
       "│           ⎛  4        ⎞│           ⎛  5        ⎞│           ⎛  6        ⎞│  \n",
       "│         4 ⎜ d         ⎟│         5 ⎜ d         ⎟│         6 ⎜ d         ⎟│  \n",
       "│        h ⋅⎜────(f(ξ₁))⎟│        h ⋅⎜────(f(ξ₁))⎟│        h ⋅⎜────(f(ξ₁))⎟│  \n",
       "│           ⎜   4       ⎟│           ⎜   5       ⎟│           ⎜   6       ⎟│  \n",
       "│ξ₁=x₀      ⎝dξ₁        ⎠│ξ₁=x₀      ⎝dξ₁        ⎠│ξ₁=x₀      ⎝dξ₁        ⎠│ξ₁\n",
       "────── + ────────────────────── - ────────────────────── + ───────────────────\n",
       "                   24                      120                      720       \n",
       "\n",
       "                                                                              \n",
       "                                                                              \n",
       "                                                                              \n",
       "                                                                              \n",
       "=x₀    ⎛ 7    6      5  2    4  3    3  4    2  5      6    7                 \n",
       "─── + O⎝h  + h ⋅x + h ⋅x  + h ⋅x  + h ⋅x  + h ⋅x  + h⋅x  + x ; (h, x) → (0, 0)\n",
       "                                                                              \n",
       "\n",
       " \n",
       " \n",
       " \n",
       " \n",
       "⎞\n",
       "⎠\n",
       " "
      ]
     },
     "metadata": {},
     "output_type": "display_data"
    }
   ],
   "source": [
    "Fm1 = f(x-h).series(x-h, x0=x0, n=terms)\n",
    "Fm1 = Fm1.subs(x-x0,0)\n",
    "display(Eq(symbols('Fm1'),Fm1))"
   ]
  },
  {
   "cell_type": "markdown",
   "metadata": {},
   "source": [
    "Taylor expasion of $f$ expanded around $a=x_0-2h$ evaluated in $x=x_0$"
   ]
  },
  {
   "cell_type": "code",
   "execution_count": 8,
   "metadata": {
    "collapsed": false
   },
   "outputs": [
    {
     "data": {
      "image/png": "[encoded data removed]",
      "text/latex": [
       "$$Fm_{2} = f{\\left (x_{0} \\right )} - 2 h \\left. \\frac{d}{d \\xi_{1}} f{\\left (\\xi_{1} \\right )} \\right|_{\\substack{ \\xi_{1}=x_{0} }} + 2 h^{2} \\left. \\frac{d^{2}}{d \\xi_{1}^{2}}  f{\\left (\\xi_{1} \\right )} \\right|_{\\substack{ \\xi_{1}=x_{0} }} - \\frac{4 h^{3}}{3} \\left. \\frac{d^{3}}{d \\xi_{1}^{3}}  f{\\left (\\xi_{1} \\right )} \\right|_{\\substack{ \\xi_{1}=x_{0} }} + \\frac{2 h^{4}}{3} \\left. \\frac{d^{4}}{d \\xi_{1}^{4}}  f{\\left (\\xi_{1} \\right )} \\right|_{\\substack{ \\xi_{1}=x_{0} }} - \\frac{4 h^{5}}{15} \\left. \\frac{d^{5}}{d \\xi_{1}^{5}}  f{\\left (\\xi_{1} \\right )} \\right|_{\\substack{ \\xi_{1}=x_{0} }} + \\frac{4 h^{6}}{45} \\left. \\frac{d^{6}}{d \\xi_{1}^{6}}  f{\\left (\\xi_{1} \\right )} \\right|_{\\substack{ \\xi_{1}=x_{0} }} + \\mathcal{O}\\left(h^{7} + h^{6} x + h^{5} x^{2} + h^{4} x^{3} + h^{3} x^{4} + h^{2} x^{5} + h x^{6} + x^{7}; \\left ( h, \\quad x\\right )\\rightarrow\\left ( 0, \\quad 0\\right )\\right)$$"
      ],
      "text/plain": [
       "                                                                       ⎛  3   \n",
       "                                                                     3 ⎜ d    \n",
       "                                                                  4⋅h ⋅⎜────(f\n",
       "                                            ⎛  2        ⎞│             ⎜   3  \n",
       "                  ⎛ d        ⎞│           2 ⎜ d         ⎟│             ⎝dξ₁   \n",
       "Fm₂ = f(x₀) - 2⋅h⋅⎜───(f(ξ₁))⎟│      + 2⋅h ⋅⎜────(f(ξ₁))⎟│      - ────────────\n",
       "                  ⎝dξ₁       ⎠│ξ₁=x₀        ⎜   2       ⎟│                   3\n",
       "                                            ⎝dξ₁        ⎠│ξ₁=x₀               \n",
       "\n",
       "     ⎞│             ⎛  4        ⎞│             ⎛  5        ⎞│             ⎛  6\n",
       "     ⎟│           4 ⎜ d         ⎟│           5 ⎜ d         ⎟│           6 ⎜ d \n",
       "(ξ₁))⎟│        2⋅h ⋅⎜────(f(ξ₁))⎟│        4⋅h ⋅⎜────(f(ξ₁))⎟│        4⋅h ⋅⎜───\n",
       "     ⎟│             ⎜   4       ⎟│             ⎜   5       ⎟│             ⎜   \n",
       "     ⎠│ξ₁=x₀        ⎝dξ₁        ⎠│ξ₁=x₀        ⎝dξ₁        ⎠│ξ₁=x₀        ⎝dξ₁\n",
       "──────────── + ──────────────────────── - ──────────────────────── + ─────────\n",
       "                          3                          15                       \n",
       "                                                                              \n",
       "\n",
       "        ⎞│                                                                    \n",
       "        ⎟│                                                                    \n",
       "─(f(ξ₁))⎟│                                                                    \n",
       "6       ⎟│                                                                    \n",
       "        ⎠│ξ₁=x₀    ⎛ 7    6      5  2    4  3    3  4    2  5      6    7     \n",
       "─────────────── + O⎝h  + h ⋅x + h ⋅x  + h ⋅x  + h ⋅x  + h ⋅x  + h⋅x  + x ; (h,\n",
       "  45                                                                          \n",
       "                                                                              \n",
       "\n",
       "             \n",
       "             \n",
       "             \n",
       "             \n",
       "            ⎞\n",
       " x) → (0, 0)⎠\n",
       "             \n",
       "             "
      ]
     },
     "metadata": {},
     "output_type": "display_data"
    }
   ],
   "source": [
    "Fm2 = f(x-2*h).series(x-2*h, x0=x0, n=terms)\n",
    "Fm2 = Fm2.subs(x-x0,0)\n",
    "display(Eq(symbols('Fm2'),Fm2))"
   ]
  },
  {
   "cell_type": "markdown",
   "metadata": {},
   "source": [
    "Taylor expasion of $f$ expanded around $a=x_0-3h$ evaluated in $x=x_0$"
   ]
  },
  {
   "cell_type": "code",
   "execution_count": 9,
   "metadata": {
    "collapsed": false
   },
   "outputs": [
    {
     "data": {
      "image/png": "[encoded data removed]",
      "text/latex": [
       "$$Fm_{3} = f{\\left (x_{0} \\right )} - 3 h \\left. \\frac{d}{d \\xi_{1}} f{\\left (\\xi_{1} \\right )} \\right|_{\\substack{ \\xi_{1}=x_{0} }} + \\frac{9 h^{2}}{2} \\left. \\frac{d^{2}}{d \\xi_{1}^{2}}  f{\\left (\\xi_{1} \\right )} \\right|_{\\substack{ \\xi_{1}=x_{0} }} - \\frac{9 h^{3}}{2} \\left. \\frac{d^{3}}{d \\xi_{1}^{3}}  f{\\left (\\xi_{1} \\right )} \\right|_{\\substack{ \\xi_{1}=x_{0} }} + \\frac{27 h^{4}}{8} \\left. \\frac{d^{4}}{d \\xi_{1}^{4}}  f{\\left (\\xi_{1} \\right )} \\right|_{\\substack{ \\xi_{1}=x_{0} }} - \\frac{81 h^{5}}{40} \\left. \\frac{d^{5}}{d \\xi_{1}^{5}}  f{\\left (\\xi_{1} \\right )} \\right|_{\\substack{ \\xi_{1}=x_{0} }} + \\frac{81 h^{6}}{80} \\left. \\frac{d^{6}}{d \\xi_{1}^{6}}  f{\\left (\\xi_{1} \\right )} \\right|_{\\substack{ \\xi_{1}=x_{0} }} + \\mathcal{O}\\left(h^{7} + h^{6} x + h^{5} x^{2} + h^{4} x^{3} + h^{3} x^{4} + h^{2} x^{5} + h x^{6} + x^{7}; \\left ( h, \\quad x\\right )\\rightarrow\\left ( 0, \\quad 0\\right )\\right)$$"
      ],
      "text/plain": [
       "                                            ⎛  2        ⎞│             ⎛  3   \n",
       "                                          2 ⎜ d         ⎟│           3 ⎜ d    \n",
       "                                       9⋅h ⋅⎜────(f(ξ₁))⎟│        9⋅h ⋅⎜────(f\n",
       "                                            ⎜   2       ⎟│             ⎜   3  \n",
       "                  ⎛ d        ⎞│             ⎝dξ₁        ⎠│ξ₁=x₀        ⎝dξ₁   \n",
       "Fm₃ = f(x₀) - 3⋅h⋅⎜───(f(ξ₁))⎟│      + ──────────────────────── - ────────────\n",
       "                  ⎝dξ₁       ⎠│ξ₁=x₀              2                          2\n",
       "\n",
       "     ⎞│              ⎛  4        ⎞│              ⎛  5        ⎞│              ⎛\n",
       "     ⎟│            4 ⎜ d         ⎟│            5 ⎜ d         ⎟│            6 ⎜\n",
       "(ξ₁))⎟│        27⋅h ⋅⎜────(f(ξ₁))⎟│        81⋅h ⋅⎜────(f(ξ₁))⎟│        81⋅h ⋅⎜\n",
       "     ⎟│              ⎜   4       ⎟│              ⎜   5       ⎟│              ⎜\n",
       "     ⎠│ξ₁=x₀         ⎝dξ₁        ⎠│ξ₁=x₀         ⎝dξ₁        ⎠│ξ₁=x₀         ⎝\n",
       "──────────── + ───────────────────────── - ───────────────────────── + ───────\n",
       "                           8                           40                     \n",
       "\n",
       "  6        ⎞│                                                                 \n",
       " d         ⎟│                                                                 \n",
       "────(f(ξ₁))⎟│                                                                 \n",
       "   6       ⎟│                                                                 \n",
       "dξ₁        ⎠│ξ₁=x₀    ⎛ 7    6      5  2    4  3    3  4    2  5      6    7  \n",
       "────────────────── + O⎝h  + h ⋅x + h ⋅x  + h ⋅x  + h ⋅x  + h ⋅x  + h⋅x  + x ; \n",
       "     80                                                                       \n",
       "\n",
       "                \n",
       "                \n",
       "                \n",
       "                \n",
       "               ⎞\n",
       "(h, x) → (0, 0)⎠\n",
       "                "
      ]
     },
     "metadata": {},
     "output_type": "display_data"
    }
   ],
   "source": [
    "Fm3 = f(x-3*h).series(x-3*h, x0=x0, n=terms)\n",
    "Fm3 = Fm3.subs(x-x0,0)\n",
    "display(Eq(symbols('Fm3'),Fm3))"
   ]
  },
  {
   "cell_type": "markdown",
   "metadata": {},
   "source": [
    "Taylor expasion of $f$ expanded around $a=x_0-4h$ evaluated in $x=x_0$"
   ]
  },
  {
   "cell_type": "code",
   "execution_count": 10,
   "metadata": {
    "collapsed": false
   },
   "outputs": [
    {
     "data": {
      "image/png": "[encoded data removed]",
      "text/latex": [
       "$$Fm_{4} = f{\\left (x_{0} \\right )} - 4 h \\left. \\frac{d}{d \\xi_{1}} f{\\left (\\xi_{1} \\right )} \\right|_{\\substack{ \\xi_{1}=x_{0} }} + 8 h^{2} \\left. \\frac{d^{2}}{d \\xi_{1}^{2}}  f{\\left (\\xi_{1} \\right )} \\right|_{\\substack{ \\xi_{1}=x_{0} }} - \\frac{32 h^{3}}{3} \\left. \\frac{d^{3}}{d \\xi_{1}^{3}}  f{\\left (\\xi_{1} \\right )} \\right|_{\\substack{ \\xi_{1}=x_{0} }} + \\frac{32 h^{4}}{3} \\left. \\frac{d^{4}}{d \\xi_{1}^{4}}  f{\\left (\\xi_{1} \\right )} \\right|_{\\substack{ \\xi_{1}=x_{0} }} - \\frac{128 h^{5}}{15} \\left. \\frac{d^{5}}{d \\xi_{1}^{5}}  f{\\left (\\xi_{1} \\right )} \\right|_{\\substack{ \\xi_{1}=x_{0} }} + \\frac{256 h^{6}}{45} \\left. \\frac{d^{6}}{d \\xi_{1}^{6}}  f{\\left (\\xi_{1} \\right )} \\right|_{\\substack{ \\xi_{1}=x_{0} }} + \\mathcal{O}\\left(h^{7} + h^{6} x + h^{5} x^{2} + h^{4} x^{3} + h^{3} x^{4} + h^{2} x^{5} + h x^{6} + x^{7}; \\left ( h, \\quad x\\right )\\rightarrow\\left ( 0, \\quad 0\\right )\\right)$$"
      ],
      "text/plain": [
       "                                                                        ⎛  3  \n",
       "                                                                      3 ⎜ d   \n",
       "                                                                  32⋅h ⋅⎜────(\n",
       "                                            ⎛  2        ⎞│              ⎜   3 \n",
       "                  ⎛ d        ⎞│           2 ⎜ d         ⎟│              ⎝dξ₁  \n",
       "Fm₄ = f(x₀) - 4⋅h⋅⎜───(f(ξ₁))⎟│      + 8⋅h ⋅⎜────(f(ξ₁))⎟│      - ────────────\n",
       "                  ⎝dξ₁       ⎠│ξ₁=x₀        ⎜   2       ⎟│                    \n",
       "                                            ⎝dξ₁        ⎠│ξ₁=x₀               \n",
       "\n",
       "      ⎞│              ⎛  4        ⎞│               ⎛  5        ⎞│             \n",
       "      ⎟│            4 ⎜ d         ⎟│             5 ⎜ d         ⎟│             \n",
       "f(ξ₁))⎟│        32⋅h ⋅⎜────(f(ξ₁))⎟│        128⋅h ⋅⎜────(f(ξ₁))⎟│        256⋅h\n",
       "      ⎟│              ⎜   4       ⎟│               ⎜   5       ⎟│             \n",
       "      ⎠│ξ₁=x₀         ⎝dξ₁        ⎠│ξ₁=x₀          ⎝dξ₁        ⎠│ξ₁=x₀        \n",
       "───────────── + ───────────────────────── - ────────────────────────── + ─────\n",
       "3                           3                           15                    \n",
       "                                                                              \n",
       "\n",
       "  ⎛  6        ⎞│                                                              \n",
       "6 ⎜ d         ⎟│                                                              \n",
       " ⋅⎜────(f(ξ₁))⎟│                                                              \n",
       "  ⎜   6       ⎟│                                                              \n",
       "  ⎝dξ₁        ⎠│ξ₁=x₀    ⎛ 7    6      5  2    4  3    3  4    2  5      6    \n",
       "───────────────────── + O⎝h  + h ⋅x + h ⋅x  + h ⋅x  + h ⋅x  + h ⋅x  + h⋅x  + x\n",
       "       45                                                                     \n",
       "                                                                              \n",
       "\n",
       "                   \n",
       "                   \n",
       "                   \n",
       "                   \n",
       "7                 ⎞\n",
       " ; (h, x) → (0, 0)⎠\n",
       "                   \n",
       "                   "
      ]
     },
     "metadata": {},
     "output_type": "display_data"
    }
   ],
   "source": [
    "Fm4 = f(x-4*h).series(x-4*h, x0=x0, n=terms)\n",
    "Fm4 = Fm4.subs(x-x0,0)\n",
    "display(Eq(symbols('Fm4'),Fm4))"
   ]
  },
  {
   "cell_type": "markdown",
   "metadata": {},
   "source": [
    "Substitute into the FD scheme"
   ]
  },
  {
   "cell_type": "code",
   "execution_count": 11,
   "metadata": {
    "collapsed": false
   },
   "outputs": [
    {
     "data": {
      "image/png": "[encoded data removed]",
      "text/latex": [
       "$$\\left. \\frac{d^{4}}{d \\xi_{1}^{4}}  f{\\left (\\xi_{1} \\right )} \\right|_{\\substack{ \\xi_{1}=x_{0} }} - \\frac{5 h^{2}}{6} \\left. \\frac{d^{6}}{d \\xi_{1}^{6}}  f{\\left (\\xi_{1} \\right )} \\right|_{\\substack{ \\xi_{1}=x_{0} }} + \\mathcal{O}\\left(h^{3} + h^{2} x + h x^{2} + x^{3} + \\frac{x^{4}}{h} + \\frac{x^{5}}{h^{2}} + \\frac{x^{6}}{h^{3}} + \\frac{x^{7}}{h^{4}}; \\left ( h, \\quad x\\right )\\rightarrow\\left ( 0, \\quad 0\\right )\\right)$$"
      ],
      "text/plain": [
       "                           ⎛  6        ⎞│                                     \n",
       "                         2 ⎜ d         ⎟│                                     \n",
       "                      5⋅h ⋅⎜────(f(ξ₁))⎟│                                     \n",
       "⎛  4        ⎞│             ⎜   6       ⎟│         ⎛                         4 \n",
       "⎜ d         ⎟│             ⎝dξ₁        ⎠│ξ₁=x₀    ⎜ 3    2        2    3   x  \n",
       "⎜────(f(ξ₁))⎟│      - ──────────────────────── + O⎜h  + h ⋅x + h⋅x  + x  + ── \n",
       "⎜   4       ⎟│                   6                ⎜                        h  \n",
       "⎝dξ₁        ⎠│ξ₁=x₀                               ⎝                           \n",
       "\n",
       "                                \n",
       "                                \n",
       "                                \n",
       "   5    6    7                 ⎞\n",
       "  x    x    x                  ⎟\n",
       "+ ── + ── + ──; (h, x) → (0, 0)⎟\n",
       "   2    3    4                 ⎟\n",
       "  h    h    h                  ⎠"
      ]
     },
     "metadata": {},
     "output_type": "display_data"
    }
   ],
   "source": [
    "fx4FDT = fx4FD.subs([\n",
    "                     (f(x+h)  , Fp1),\n",
    "                     (f(x)    , F  ),\n",
    "                     (f(x-h)  , Fm1),\n",
    "                     (f(x-2*h), Fm2),\n",
    "                     (f(x-3*h), Fm3),\n",
    "                     (f(x-4*h), Fm4),                      \n",
    "                    ])\n",
    "display(simplify(fx4FDT))"
   ]
  },
  {
   "cell_type": "markdown",
   "metadata": {},
   "source": [
    "Thus, we see that this discretization is 2nd order accurate."
   ]
  },
  {
   "cell_type": "markdown",
   "metadata": {},
   "source": [
    "## When the last point is a neumann BC\n",
    "\n",
    "First find the equation to solve (use the boundary value as a reference point)"
   ]
  },
  {
   "cell_type": "code",
   "execution_count": 12,
   "metadata": {
    "collapsed": false
   },
   "outputs": [
    {
     "data": {
      "image/png": "[encoded data removed]",
      "text/latex": [
       "$$v = \\frac{d}{d x} f{\\left (x \\right )}$$"
      ],
      "text/plain": [
       "    d       \n",
       "v = ──(f(x))\n",
       "    dx      "
      ]
     },
     "metadata": {},
     "output_type": "display_data"
    },
    {
     "data": {
      "image/png": "[encoded data removed]",
      "text/latex": [
       "$$v^{FD} = \\frac{1}{h} \\left(- f{\\left (- \\frac{h}{2} + x \\right )} + f{\\left (\\frac{h}{2} + x \\right )}\\right)$$"
      ],
      "text/plain": [
       "           ⎛  h    ⎞    ⎛h    ⎞\n",
       "        - f⎜- ─ + x⎟ + f⎜─ + x⎟\n",
       "           ⎝  2    ⎠    ⎝2    ⎠\n",
       "v__FD = ───────────────────────\n",
       "                   h           "
      ]
     },
     "metadata": {},
     "output_type": "display_data"
    }
   ],
   "source": [
    "# Stencil\n",
    "stencil = [x-h/2, x+h/2]\n",
    "\n",
    "v = f(x).diff(x)\n",
    "vFD = as_finite_diff(v, stencil)\n",
    "display(Eq(symbols('v'), v))\n",
    "display(Eq(symbols('v^FD'), together(vFD)))"
   ]
  },
  {
   "cell_type": "markdown",
   "metadata": {},
   "source": [
    "Taylor expasion of $f$ expanded around $a=x_0-\\frac{h}{2}$ evaluated in $x=x_0$"
   ]
  },
  {
   "cell_type": "code",
   "execution_count": 13,
   "metadata": {
    "collapsed": false
   },
   "outputs": [
    {
     "data": {
      "image/png": "[encoded data removed]",
      "text/latex": [
       "$$Fm_{05} = f{\\left (x_{0} \\right )} - \\frac{h}{2} \\left. \\frac{d}{d \\xi_{1}} f{\\left (\\xi_{1} \\right )} \\right|_{\\substack{ \\xi_{1}=x_{0} }} + \\frac{h^{2}}{8} \\left. \\frac{d^{2}}{d \\xi_{1}^{2}}  f{\\left (\\xi_{1} \\right )} \\right|_{\\substack{ \\xi_{1}=x_{0} }} - \\frac{h^{3}}{48} \\left. \\frac{d^{3}}{d \\xi_{1}^{3}}  f{\\left (\\xi_{1} \\right )} \\right|_{\\substack{ \\xi_{1}=x_{0} }} + \\frac{h^{4}}{384} \\left. \\frac{d^{4}}{d \\xi_{1}^{4}}  f{\\left (\\xi_{1} \\right )} \\right|_{\\substack{ \\xi_{1}=x_{0} }} - \\frac{h^{5}}{3840} \\left. \\frac{d^{5}}{d \\xi_{1}^{5}}  f{\\left (\\xi_{1} \\right )} \\right|_{\\substack{ \\xi_{1}=x_{0} }} + \\frac{h^{6}}{46080} \\left. \\frac{d^{6}}{d \\xi_{1}^{6}}  f{\\left (\\xi_{1} \\right )} \\right|_{\\substack{ \\xi_{1}=x_{0} }} + \\mathcal{O}\\left(h^{7} + h^{6} x + h^{5} x^{2} + h^{4} x^{3} + h^{3} x^{4} + h^{2} x^{5} + h x^{6} + x^{7}; \\left ( h, \\quad x\\right )\\rightarrow\\left ( 0, \\quad 0\\right )\\right)$$"
      ],
      "text/plain": [
       "                                         ⎛  2        ⎞│           ⎛  3        \n",
       "                                       2 ⎜ d         ⎟│         3 ⎜ d         \n",
       "                 ⎛ d        ⎞│        h ⋅⎜────(f(ξ₁))⎟│        h ⋅⎜────(f(ξ₁))\n",
       "               h⋅⎜───(f(ξ₁))⎟│           ⎜   2       ⎟│           ⎜   3       \n",
       "                 ⎝dξ₁       ⎠│ξ₁=x₀      ⎝dξ₁        ⎠│ξ₁=x₀      ⎝dξ₁        \n",
       "Fm₀₅ = f(x₀) - ──────────────────── + ────────────────────── - ───────────────\n",
       "                        2                       8                        48   \n",
       "\n",
       "⎞│           ⎛  4        ⎞│           ⎛  5        ⎞│           ⎛  6        ⎞│ \n",
       "⎟│         4 ⎜ d         ⎟│         5 ⎜ d         ⎟│         6 ⎜ d         ⎟│ \n",
       "⎟│        h ⋅⎜────(f(ξ₁))⎟│        h ⋅⎜────(f(ξ₁))⎟│        h ⋅⎜────(f(ξ₁))⎟│ \n",
       "⎟│           ⎜   4       ⎟│           ⎜   5       ⎟│           ⎜   6       ⎟│ \n",
       "⎠│ξ₁=x₀      ⎝dξ₁        ⎠│ξ₁=x₀      ⎝dξ₁        ⎠│ξ₁=x₀      ⎝dξ₁        ⎠│ξ\n",
       "─────── + ────────────────────── - ────────────────────── + ──────────────────\n",
       "                   384                      3840                    46080     \n",
       "\n",
       "                                                                              \n",
       "                                                                              \n",
       "                                                                              \n",
       "                                                                              \n",
       "₁=x₀    ⎛ 7    6      5  2    4  3    3  4    2  5      6    7                \n",
       "──── + O⎝h  + h ⋅x + h ⋅x  + h ⋅x  + h ⋅x  + h ⋅x  + h⋅x  + x ; (h, x) → (0, 0\n",
       "                                                                              \n",
       "\n",
       "  \n",
       "  \n",
       "  \n",
       "  \n",
       " ⎞\n",
       ")⎠\n",
       "  "
      ]
     },
     "metadata": {},
     "output_type": "display_data"
    }
   ],
   "source": [
    "Fm05 = f(x-h/2).series(x-h/2, x0=x0, n=terms)\n",
    "Fm05 = Fm05.subs(x-x0,0)\n",
    "display(Eq(symbols('Fm05'),Fm05))"
   ]
  },
  {
   "cell_type": "markdown",
   "metadata": {},
   "source": [
    "Taylor expasion of $f$ expanded around $a=x_0+\\frac{h}{2}$ evaluated in $x=x_0$"
   ]
  },
  {
   "cell_type": "code",
   "execution_count": 14,
   "metadata": {
    "collapsed": false
   },
   "outputs": [
    {
     "data": {
      "image/png": "[encoded data removed]",
      "text/latex": [
       "$$Fp_{05} = f{\\left (x_{0} \\right )} + \\frac{h}{2} \\left. \\frac{d}{d \\xi_{1}} f{\\left (\\xi_{1} \\right )} \\right|_{\\substack{ \\xi_{1}=x_{0} }} + \\frac{h^{2}}{8} \\left. \\frac{d^{2}}{d \\xi_{1}^{2}}  f{\\left (\\xi_{1} \\right )} \\right|_{\\substack{ \\xi_{1}=x_{0} }} + \\frac{h^{3}}{48} \\left. \\frac{d^{3}}{d \\xi_{1}^{3}}  f{\\left (\\xi_{1} \\right )} \\right|_{\\substack{ \\xi_{1}=x_{0} }} + \\frac{h^{4}}{384} \\left. \\frac{d^{4}}{d \\xi_{1}^{4}}  f{\\left (\\xi_{1} \\right )} \\right|_{\\substack{ \\xi_{1}=x_{0} }} + \\frac{h^{5}}{3840} \\left. \\frac{d^{5}}{d \\xi_{1}^{5}}  f{\\left (\\xi_{1} \\right )} \\right|_{\\substack{ \\xi_{1}=x_{0} }} + \\frac{h^{6}}{46080} \\left. \\frac{d^{6}}{d \\xi_{1}^{6}}  f{\\left (\\xi_{1} \\right )} \\right|_{\\substack{ \\xi_{1}=x_{0} }} + \\mathcal{O}\\left(h^{7} + h^{6} x + h^{5} x^{2} + h^{4} x^{3} + h^{3} x^{4} + h^{2} x^{5} + h x^{6} + x^{7}; \\left ( h, \\quad x\\right )\\rightarrow\\left ( 0, \\quad 0\\right )\\right)$$"
      ],
      "text/plain": [
       "                                         ⎛  2        ⎞│           ⎛  3        \n",
       "                                       2 ⎜ d         ⎟│         3 ⎜ d         \n",
       "                 ⎛ d        ⎞│        h ⋅⎜────(f(ξ₁))⎟│        h ⋅⎜────(f(ξ₁))\n",
       "               h⋅⎜───(f(ξ₁))⎟│           ⎜   2       ⎟│           ⎜   3       \n",
       "                 ⎝dξ₁       ⎠│ξ₁=x₀      ⎝dξ₁        ⎠│ξ₁=x₀      ⎝dξ₁        \n",
       "Fp₀₅ = f(x₀) + ──────────────────── + ────────────────────── + ───────────────\n",
       "                        2                       8                        48   \n",
       "\n",
       "⎞│           ⎛  4        ⎞│           ⎛  5        ⎞│           ⎛  6        ⎞│ \n",
       "⎟│         4 ⎜ d         ⎟│         5 ⎜ d         ⎟│         6 ⎜ d         ⎟│ \n",
       "⎟│        h ⋅⎜────(f(ξ₁))⎟│        h ⋅⎜────(f(ξ₁))⎟│        h ⋅⎜────(f(ξ₁))⎟│ \n",
       "⎟│           ⎜   4       ⎟│           ⎜   5       ⎟│           ⎜   6       ⎟│ \n",
       "⎠│ξ₁=x₀      ⎝dξ₁        ⎠│ξ₁=x₀      ⎝dξ₁        ⎠│ξ₁=x₀      ⎝dξ₁        ⎠│ξ\n",
       "─────── + ────────────────────── + ────────────────────── + ──────────────────\n",
       "                   384                      3840                    46080     \n",
       "\n",
       "                                                                              \n",
       "                                                                              \n",
       "                                                                              \n",
       "                                                                              \n",
       "₁=x₀    ⎛ 7    6      5  2    4  3    3  4    2  5      6    7                \n",
       "──── + O⎝h  + h ⋅x + h ⋅x  + h ⋅x  + h ⋅x  + h ⋅x  + h⋅x  + x ; (h, x) → (0, 0\n",
       "                                                                              \n",
       "\n",
       "  \n",
       "  \n",
       "  \n",
       "  \n",
       " ⎞\n",
       ")⎠\n",
       "  "
      ]
     },
     "metadata": {},
     "output_type": "display_data"
    }
   ],
   "source": [
    "Fp05 = f(x+h/2).series(x+h/2, x0=x0, n=terms)\n",
    "Fp05 = Fp05.subs(x-x0,0)\n",
    "display(Eq(symbols('Fp05'),Fp05))"
   ]
  },
  {
   "cell_type": "markdown",
   "metadata": {
    "collapsed": false
   },
   "source": [
    "Solve FD for $f\\left(x+\\frac{h}{2}\\right)$"
   ]
  },
  {
   "cell_type": "code",
   "execution_count": 15,
   "metadata": {
    "collapsed": false
   },
   "outputs": [
    {
     "data": {
      "image/png": "[encoded data removed]",
      "text/latex": [
       "$$F_{p1Approx} = h v^{FD} + f{\\left (- \\frac{h}{2} + x \\right )}$$"
      ],
      "text/plain": [
       "                        ⎛  h    ⎞\n",
       "F_p1Approx = h⋅v__FD + f⎜- ─ + x⎟\n",
       "                        ⎝  2    ⎠"
      ]
     },
     "metadata": {},
     "output_type": "display_data"
    }
   ],
   "source": [
    "fp1Approx = solve(Eq(symbols('v^FD'), together(vFD)), f(x+h/2))[0]\n",
    "display(Eq(symbols('F_p1Approx'), fp1Approx))"
   ]
  },
  {
   "cell_type": "markdown",
   "metadata": {},
   "source": [
    "Substitute into the Taylor expansion"
   ]
  },
  {
   "cell_type": "code",
   "execution_count": 16,
   "metadata": {
    "collapsed": false
   },
   "outputs": [
    {
     "data": {
      "image/png": "[encoded data removed]",
      "text/latex": [
       "$$F_{p1Approx} = f{\\left (x_{0} \\right )} + \\frac{h}{2} \\left. \\frac{d}{d \\xi_{1}} f{\\left (\\xi_{1} \\right )} \\right|_{\\substack{ \\xi_{1}=x_{0} }} + \\frac{h^{2}}{8} \\left. \\frac{d^{2}}{d \\xi_{1}^{2}}  f{\\left (\\xi_{1} \\right )} \\right|_{\\substack{ \\xi_{1}=x_{0} }} - \\frac{h^{3}}{48} \\left. \\frac{d^{3}}{d \\xi_{1}^{3}}  f{\\left (\\xi_{1} \\right )} \\right|_{\\substack{ \\xi_{1}=x_{0} }} + \\frac{h^{4}}{384} \\left. \\frac{d^{4}}{d \\xi_{1}^{4}}  f{\\left (\\xi_{1} \\right )} \\right|_{\\substack{ \\xi_{1}=x_{0} }} - \\frac{h^{5}}{3840} \\left. \\frac{d^{5}}{d \\xi_{1}^{5}}  f{\\left (\\xi_{1} \\right )} \\right|_{\\substack{ \\xi_{1}=x_{0} }} + \\frac{h^{6}}{46080} \\left. \\frac{d^{6}}{d \\xi_{1}^{6}}  f{\\left (\\xi_{1} \\right )} \\right|_{\\substack{ \\xi_{1}=x_{0} }} + \\mathcal{O}\\left(h^{7} + h^{6} x + h^{5} x^{2} + h^{4} x^{3} + h^{3} x^{4} + h^{2} x^{5} + h x^{6} + x^{7}; \\left ( h, \\quad x\\right )\\rightarrow\\left ( 0, \\quad 0\\right )\\right)$$"
      ],
      "text/plain": [
       "                                               ⎛  2        ⎞│           ⎛  3  \n",
       "                                             2 ⎜ d         ⎟│         3 ⎜ d   \n",
       "                       ⎛ d        ⎞│        h ⋅⎜────(f(ξ₁))⎟│        h ⋅⎜────(\n",
       "                     h⋅⎜───(f(ξ₁))⎟│           ⎜   2       ⎟│           ⎜   3 \n",
       "                       ⎝dξ₁       ⎠│ξ₁=x₀      ⎝dξ₁        ⎠│ξ₁=x₀      ⎝dξ₁  \n",
       "F_p1Approx = f(x₀) + ──────────────────── + ────────────────────── - ─────────\n",
       "                              2                       8                       \n",
       "\n",
       "      ⎞│           ⎛  4        ⎞│           ⎛  5        ⎞│           ⎛  6     \n",
       "      ⎟│         4 ⎜ d         ⎟│         5 ⎜ d         ⎟│         6 ⎜ d      \n",
       "f(ξ₁))⎟│        h ⋅⎜────(f(ξ₁))⎟│        h ⋅⎜────(f(ξ₁))⎟│        h ⋅⎜────(f(ξ\n",
       "      ⎟│           ⎜   4       ⎟│           ⎜   5       ⎟│           ⎜   6    \n",
       "      ⎠│ξ₁=x₀      ⎝dξ₁        ⎠│ξ₁=x₀      ⎝dξ₁        ⎠│ξ₁=x₀      ⎝dξ₁     \n",
       "───────────── + ────────────────────── - ────────────────────── + ────────────\n",
       " 48                      384                      3840                    4608\n",
       "\n",
       "   ⎞│                                                                         \n",
       "   ⎟│                                                                         \n",
       "₁))⎟│                                                                         \n",
       "   ⎟│                                                                         \n",
       "   ⎠│ξ₁=x₀    ⎛ 7    6      5  2    4  3    3  4    2  5      6    7          \n",
       "────────── + O⎝h  + h ⋅x + h ⋅x  + h ⋅x  + h ⋅x  + h ⋅x  + h⋅x  + x ; (h, x) →\n",
       "0                                                                             \n",
       "\n",
       "        \n",
       "        \n",
       "        \n",
       "        \n",
       "       ⎞\n",
       " (0, 0)⎠\n",
       "        "
      ]
     },
     "metadata": {},
     "output_type": "display_data"
    }
   ],
   "source": [
    "fp1ApproxT = fp1Approx.subs([\n",
    "                (f(x-h/2), Fm05),\n",
    "                (symbols('v^FD'),\n",
    "                 Subs(Derivative(f(symbols('xi_1')), symbols('xi_1')), (symbols('xi_1'),), (symbols('x0'),)))\n",
    "                ])\n",
    "display(Eq(symbols('F_p1Approx'), fp1ApproxT))"
   ]
  },
  {
   "cell_type": "markdown",
   "metadata": {},
   "source": [
    "Thus we have that"
   ]
  },
  {
   "cell_type": "code",
   "execution_count": 17,
   "metadata": {
    "collapsed": false
   },
   "outputs": [
    {
     "data": {
      "image/png": "[encoded data removed]",
      "text/latex": [
       "$$- F_{p1} + F_{p1Approx} = - \\frac{h^{3}}{24} \\left. \\frac{d^{3}}{d \\xi_{1}^{3}}  f{\\left (\\xi_{1} \\right )} \\right|_{\\substack{ \\xi_{1}=x_{0} }} - \\frac{h^{5}}{1920} \\left. \\frac{d^{5}}{d \\xi_{1}^{5}}  f{\\left (\\xi_{1} \\right )} \\right|_{\\substack{ \\xi_{1}=x_{0} }} + \\mathcal{O}\\left(h^{7} + h^{6} x + h^{5} x^{2} + h^{4} x^{3} + h^{3} x^{4} + h^{2} x^{5} + h x^{6} + x^{7}; \\left ( h, \\quad x\\right )\\rightarrow\\left ( 0, \\quad 0\\right )\\right)$$"
      ],
      "text/plain": [
       "                         ⎛  3        ⎞│           ⎛  5        ⎞│              \n",
       "                       3 ⎜ d         ⎟│         5 ⎜ d         ⎟│              \n",
       "                      h ⋅⎜────(f(ξ₁))⎟│        h ⋅⎜────(f(ξ₁))⎟│              \n",
       "                         ⎜   3       ⎟│           ⎜   5       ⎟│              \n",
       "                         ⎝dξ₁        ⎠│ξ₁=x₀      ⎝dξ₁        ⎠│ξ₁=x₀    ⎛ 7  \n",
       "-Fₚ₁ + F_p1Approx = - ────────────────────── - ────────────────────── + O⎝h  +\n",
       "                                24                      1920                  \n",
       "\n",
       "                                                                   \n",
       "                                                                   \n",
       "                                                                   \n",
       "                                                                   \n",
       "  6      5  2    4  3    3  4    2  5      6    7                 ⎞\n",
       " h ⋅x + h ⋅x  + h ⋅x  + h ⋅x  + h ⋅x  + h⋅x  + x ; (h, x) → (0, 0)⎠\n",
       "                                                                   "
      ]
     },
     "metadata": {},
     "output_type": "display_data"
    }
   ],
   "source": [
    "display(Eq(symbols('F_p1Approx')-symbols('F_p1'), fp1ApproxT - Fp05))"
   ]
  },
  {
   "cell_type": "markdown",
   "metadata": {},
   "source": [
    "Which means that"
   ]
  },
  {
   "cell_type": "code",
   "execution_count": 18,
   "metadata": {
    "collapsed": false
   },
   "outputs": [
    {
     "data": {
      "image/png": "[encoded data removed]",
      "text/latex": [
       "$$F_{p1Approx} = - \\frac{h^{3}}{24} \\frac{d^{3}}{d \\eta^{3}}  f{\\left (\\eta \\right )} - \\frac{h^{5}}{1920} \\frac{d^{5}}{d \\eta^{5}}  f{\\left (\\eta \\right )} + F_{p1} + \\mathcal{O}\\left(h^{7} + h^{6} x + h^{5} x^{2} + h^{4} x^{3} + h^{3} x^{4} + h^{2} x^{5} + h x^{6} + x^{7}; \\left ( h, \\quad x\\right )\\rightarrow\\left ( 0, \\quad 0\\right )\\right)$$"
      ],
      "text/plain": [
       "                    3              5                                          \n",
       "                3  d           5  d                                           \n",
       "               h ⋅───(f(η))   h ⋅───(f(η))                                    \n",
       "                    3              5                                          \n",
       "                  dη             dη                 ⎛ 7    6      5  2    4  3\n",
       "F_p1Approx = - ──────────── - ──────────── + Fₚ₁ + O⎝h  + h ⋅x + h ⋅x  + h ⋅x \n",
       "                    24            1920                                        \n",
       "\n",
       "                                              \n",
       "                                              \n",
       "                                              \n",
       "                                              \n",
       "    3  4    2  5      6    7                 ⎞\n",
       " + h ⋅x  + h ⋅x  + h⋅x  + x ; (h, x) → (0, 0)⎠\n",
       "                                              "
      ]
     },
     "metadata": {},
     "output_type": "display_data"
    }
   ],
   "source": [
    "fp1ApproxEta = symbols('F_p1') + fp1ApproxT - Fp05\n",
    "fp1ApproxEta = fp1ApproxEta.doit().subs([(x0, symbols('eta'))])\n",
    "\n",
    "display(Eq(symbols('F_p1Approx'), fp1ApproxEta))"
   ]
  },
  {
   "cell_type": "markdown",
   "metadata": {},
   "source": [
    "where we have changed the variable to take the derivative with respect to to $\\eta$, to distinguish between derivatives taken at the boundary, and the last inner point of the domain.\n",
    "\n",
    "Insertion of taylor expansion of $Fp1$ (where the Taylor expansion is around the last point, and NOT the boundary yields)"
   ]
  },
  {
   "cell_type": "code",
   "execution_count": 19,
   "metadata": {
    "collapsed": false
   },
   "outputs": [
    {
     "data": {
      "image/png": "[encoded data removed]",
      "text/latex": [
       "$$F_{p1Approx} = f{\\left (x_{0} \\right )} + h \\left. \\frac{d}{d \\xi_{1}} f{\\left (\\xi_{1} \\right )} \\right|_{\\substack{ \\xi_{1}=x_{0} }} + \\frac{h^{2}}{2} \\left. \\frac{d^{2}}{d \\xi_{1}^{2}}  f{\\left (\\xi_{1} \\right )} \\right|_{\\substack{ \\xi_{1}=x_{0} }} + \\frac{h^{3}}{6} \\left. \\frac{d^{3}}{d \\xi_{1}^{3}}  f{\\left (\\xi_{1} \\right )} \\right|_{\\substack{ \\xi_{1}=x_{0} }} - \\frac{h^{3}}{24} \\frac{d^{3}}{d \\eta^{3}}  f{\\left (\\eta \\right )} + \\frac{h^{4}}{24} \\left. \\frac{d^{4}}{d \\xi_{1}^{4}}  f{\\left (\\xi_{1} \\right )} \\right|_{\\substack{ \\xi_{1}=x_{0} }} + \\frac{h^{5}}{120} \\left. \\frac{d^{5}}{d \\xi_{1}^{5}}  f{\\left (\\xi_{1} \\right )} \\right|_{\\substack{ \\xi_{1}=x_{0} }} - \\frac{h^{5}}{1920} \\frac{d^{5}}{d \\eta^{5}}  f{\\left (\\eta \\right )} + \\frac{h^{6}}{720} \\left. \\frac{d^{6}}{d \\xi_{1}^{6}}  f{\\left (\\xi_{1} \\right )} \\right|_{\\substack{ \\xi_{1}=x_{0} }} + \\mathcal{O}\\left(h^{7} + h^{6} x + h^{5} x^{2} + h^{4} x^{3} + h^{3} x^{4} + h^{2} x^{5} + h x^{6} + x^{7}; \\left ( h, \\quad x\\right )\\rightarrow\\left ( 0, \\quad 0\\right )\\right)$$"
      ],
      "text/plain": [
       "                                               ⎛  2        ⎞│           ⎛  3  \n",
       "                                             2 ⎜ d         ⎟│         3 ⎜ d   \n",
       "                                            h ⋅⎜────(f(ξ₁))⎟│        h ⋅⎜────(\n",
       "                                               ⎜   2       ⎟│           ⎜   3 \n",
       "                       ⎛ d        ⎞│           ⎝dξ₁        ⎠│ξ₁=x₀      ⎝dξ₁  \n",
       "F_p1Approx = f(x₀) + h⋅⎜───(f(ξ₁))⎟│      + ────────────────────── + ─────────\n",
       "                       ⎝dξ₁       ⎠│ξ₁=x₀             2                       \n",
       "\n",
       "      ⎞│             3            ⎛  4        ⎞│           ⎛  5        ⎞│     \n",
       "      ⎟│         3  d           4 ⎜ d         ⎟│         5 ⎜ d         ⎟│     \n",
       "f(ξ₁))⎟│        h ⋅───(f(η))   h ⋅⎜────(f(ξ₁))⎟│        h ⋅⎜────(f(ξ₁))⎟│     \n",
       "      ⎟│             3            ⎜   4       ⎟│           ⎜   5       ⎟│     \n",
       "      ⎠│ξ₁=x₀      dη             ⎝dξ₁        ⎠│ξ₁=x₀      ⎝dξ₁        ⎠│ξ₁=x₀\n",
       "───────────── - ──────────── + ────────────────────── + ──────────────────────\n",
       " 6                   24                  24                      120          \n",
       "\n",
       "        5            ⎛  6        ⎞│                                           \n",
       "    5  d           6 ⎜ d         ⎟│                                           \n",
       "   h ⋅───(f(η))   h ⋅⎜────(f(ξ₁))⎟│                                           \n",
       "        5            ⎜   6       ⎟│                                           \n",
       "      dη             ⎝dξ₁        ⎠│ξ₁=x₀    ⎛ 7    6      5  2    4  3    3  4\n",
       " - ──────────── + ────────────────────── + O⎝h  + h ⋅x + h ⋅x  + h ⋅x  + h ⋅x \n",
       "       1920                720                                                \n",
       "\n",
       "                                      \n",
       "                                      \n",
       "                                      \n",
       "                                      \n",
       "    2  5      6    7                 ⎞\n",
       " + h ⋅x  + h⋅x  + x ; (h, x) → (0, 0)⎠\n",
       "                                      "
      ]
     },
     "metadata": {},
     "output_type": "display_data"
    }
   ],
   "source": [
    "Fp1ApproxEtaT = fp1ApproxEta.subs([(symbols('F_p1'), Fp1)])\n",
    "\n",
    "display(Eq(symbols('F_p1Approx'), Fp1ApproxEtaT))"
   ]
  },
  {
   "cell_type": "markdown",
   "metadata": {},
   "source": [
    "Substitute into the FD scheme"
   ]
  },
  {
   "cell_type": "code",
   "execution_count": 20,
   "metadata": {
    "collapsed": false
   },
   "outputs": [
    {
     "data": {
      "image/png": "[encoded data removed]",
      "text/latex": [
       "$$- \\frac{1}{12 h} \\frac{d^{3}}{d \\eta^{3}}  f{\\left (\\eta \\right )} + \\left. \\frac{d^{4}}{d \\xi_{1}^{4}}  f{\\left (\\xi_{1} \\right )} \\right|_{\\substack{ \\xi_{1}=x_{0} }} - \\frac{h}{960} \\frac{d^{5}}{d \\eta^{5}}  f{\\left (\\eta \\right )} - \\frac{5 h^{2}}{6} \\left. \\frac{d^{6}}{d \\xi_{1}^{6}}  f{\\left (\\xi_{1} \\right )} \\right|_{\\substack{ \\xi_{1}=x_{0} }} + \\mathcal{O}\\left(h^{3} + h^{2} x + h x^{2} + x^{3} + \\frac{x^{4}}{h} + \\frac{x^{5}}{h^{2}} + \\frac{x^{6}}{h^{3}} + \\frac{x^{7}}{h^{4}}; \\left ( h, \\quad x\\right )\\rightarrow\\left ( 0, \\quad 0\\right )\\right)$$"
      ],
      "text/plain": [
       "    3                                   5              ⎛  6        ⎞│         \n",
       "   d                                   d             2 ⎜ d         ⎟│         \n",
       "  ───(f(η))                         h⋅───(f(η))   5⋅h ⋅⎜────(f(ξ₁))⎟│         \n",
       "    3         ⎛  4        ⎞│            5              ⎜   6       ⎟│         \n",
       "  dη          ⎜ d         ⎟│          dη               ⎝dξ₁        ⎠│ξ₁=x₀    \n",
       "- ───────── + ⎜────(f(ξ₁))⎟│      - ─────────── - ──────────────────────── + O\n",
       "     12⋅h     ⎜   4       ⎟│            960                  6                \n",
       "              ⎝dξ₁        ⎠│ξ₁=x₀                                             \n",
       "\n",
       "                                                            \n",
       "                                                            \n",
       "                                                            \n",
       "⎛                         4    5    6    7                 ⎞\n",
       "⎜ 3    2        2    3   x    x    x    x                  ⎟\n",
       "⎜h  + h ⋅x + h⋅x  + x  + ── + ── + ── + ──; (h, x) → (0, 0)⎟\n",
       "⎜                        h     2    3    4                 ⎟\n",
       "⎝                             h    h    h                  ⎠"
      ]
     },
     "metadata": {},
     "output_type": "display_data"
    }
   ],
   "source": [
    "fx4FDT = fx4FD.subs([\n",
    "                     (f(x+h)  , Fp1ApproxEtaT),\n",
    "                     (f(x)    , F  ),\n",
    "                     (f(x-h)  , Fm1),\n",
    "                     (f(x-2*h), Fm2),\n",
    "                     (f(x-3*h), Fm3),\n",
    "                     (f(x-4*h), Fm4),                      \n",
    "                    ])\n",
    "display(simplify(fx4FDT))"
   ]
  },
  {
   "cell_type": "markdown",
   "metadata": {},
   "source": [
    "We see that this is not convergent."
   ]
  }
 ],
 "metadata": {
  "kernelspec": {
   "display_name": "Python 3",
   "language": "python",
   "name": "python3"
  },
  "language_info": {
   "codemirror_mode": {
    "name": "ipython",
    "version": 3
   },
   "file_extension": ".py",
   "mimetype": "text/x-python",
   "name": "python",
   "nbconvert_exporter": "python",
   "pygments_lexer": "ipython3",
   "version": "3.5.1"
  }
 },
 "nbformat": 4,
 "nbformat_minor": 0
}
