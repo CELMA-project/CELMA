{
 "cells": [
  {
   "cell_type": "markdown",
   "metadata": {},
   "source": [
    "# Forward D4DX4 scheme\n",
    "\n",
    "Used close to inner x processor boundaries. The following scheme is 2nd order convergent."
   ]
  },
  {
   "cell_type": "code",
   "execution_count": 1,
   "metadata": {
    "collapsed": false
   },
   "outputs": [],
   "source": [
    "from IPython.display import display\n",
    "from sympy import init_printing\n",
    "from sympy import symbols, together, as_finite_diff, simplify\n",
    "from sympy import Function, Eq, S\n",
    "\n",
    "init_printing()"
   ]
  },
  {
   "cell_type": "code",
   "execution_count": 2,
   "metadata": {
    "collapsed": false
   },
   "outputs": [],
   "source": [
    "x = symbols('x')\n",
    "h = symbols('h', positive=True)\n",
    "\n",
    "f = Function('f')\n",
    "\n",
    "# Stencils\n",
    "stencil = [x-h, x, x+h, x+2*h ,x+3*h, x+4*h]"
   ]
  },
  {
   "cell_type": "markdown",
   "metadata": {},
   "source": [
    "We are here discretizing the equation\n",
    "\n",
    "$$ \\partial_\\rho^4 f$$"
   ]
  },
  {
   "cell_type": "markdown",
   "metadata": {},
   "source": [
    "### Calculate the finite difference approximation of $\\partial_x^4 f$"
   ]
  },
  {
   "cell_type": "code",
   "execution_count": 3,
   "metadata": {
    "collapsed": false
   },
   "outputs": [],
   "source": [
    "fx4 = f(x).diff(x,4)\n",
    "fx4FD = as_finite_diff(fx4, stencil)\n",
    "display(Eq(symbols('f_x4'), fx4))\n",
    "display(Eq(symbols('f^FD_x4'), together(fx4FD)))\n",
    "print(together(fx4FD))"
   ]
  },
  {
   "cell_type": "markdown",
   "metadata": {},
   "source": [
    "# Calculating the order\n",
    "\n",
    "Let's call the Taylor expansions of $f$ for $T[f(x,a)] = \\sum_{n=0}^\\infty\\frac{f^{(n)}(a)}{n!}(x-a)^n$"
   ]
  },
  {
   "cell_type": "code",
   "execution_count": 4,
   "metadata": {
    "collapsed": true
   },
   "outputs": [],
   "source": [
    "x0 = symbols('x0')\n",
    "terms = 7"
   ]
  },
  {
   "cell_type": "markdown",
   "metadata": {},
   "source": [
    "Taylor expasion of $f$ expanded around $a=x_0-h$ evaluated in $x=x_0$"
   ]
  },
  {
   "cell_type": "code",
   "execution_count": 5,
   "metadata": {
    "collapsed": false
   },
   "outputs": [],
   "source": [
    "Fm1 = f(x-h).series(x-h, x0=x0, n=terms)\n",
    "Fm1 = Fm1.subs(x-x0,0)\n",
    "display(Eq(symbols('Fm1'),Fm1))"
   ]
  },
  {
   "cell_type": "markdown",
   "metadata": {},
   "source": [
    "Taylor expasion of $f$ expanded around $a=x_0$ evaluated in $x=x_0$"
   ]
  },
  {
   "cell_type": "code",
   "execution_count": 6,
   "metadata": {
    "collapsed": false
   },
   "outputs": [],
   "source": [
    "F = f(x).series(x, x0=x0, n=terms)\n",
    "F = F.subs(x-x0,0)\n",
    "display(Eq(symbols('F'),F))"
   ]
  },
  {
   "cell_type": "markdown",
   "metadata": {},
   "source": [
    "Taylor expasion of $f$ expanded around $a=x_0+h$ evaluated in $x=x_0$"
   ]
  },
  {
   "cell_type": "code",
   "execution_count": 7,
   "metadata": {
    "collapsed": false
   },
   "outputs": [],
   "source": [
    "Fp1 = f(x+h).series(x+h, x0=x0, n=terms)\n",
    "Fp1 = Fp1.subs(x-x0,0)\n",
    "display(Eq(symbols('Fp1'),Fp1))"
   ]
  },
  {
   "cell_type": "markdown",
   "metadata": {},
   "source": [
    "Taylor expasion of $f$ expanded around $a=x_0+2h$ evaluated in $x=x_0$"
   ]
  },
  {
   "cell_type": "code",
   "execution_count": 8,
   "metadata": {
    "collapsed": false
   },
   "outputs": [],
   "source": [
    "Fp2 = f(x+2*h).series(x+2*h, x0=x0, n=terms)\n",
    "Fp2 = Fp2.subs(x-x0,0)\n",
    "display(Eq(symbols('Fp2'),Fp2))"
   ]
  },
  {
   "cell_type": "markdown",
   "metadata": {},
   "source": [
    "Taylor expasion of $f$ expanded around $a=x_0+3h$ evaluated in $x=x_0$"
   ]
  },
  {
   "cell_type": "code",
   "execution_count": 9,
   "metadata": {
    "collapsed": false
   },
   "outputs": [],
   "source": [
    "Fp3 = f(x+3*h).series(x+3*h, x0=x0, n=terms)\n",
    "Fp3 = Fp3.subs(x-x0,0)\n",
    "display(Eq(symbols('Fp3'),Fp3))"
   ]
  },
  {
   "cell_type": "markdown",
   "metadata": {},
   "source": [
    "Taylor expasion of $f$ expanded around $a=x_0+4h$ evaluated in $x=x_0$"
   ]
  },
  {
   "cell_type": "code",
   "execution_count": 10,
   "metadata": {
    "collapsed": false
   },
   "outputs": [],
   "source": [
    "Fp4 = f(x+4*h).series(x+4*h, x0=x0, n=terms)\n",
    "Fp4 = Fp4.subs(x-x0,0)\n",
    "display(Eq(symbols('Fp4'),Fp4))"
   ]
  },
  {
   "cell_type": "markdown",
   "metadata": {},
   "source": [
    "Substitute into the FD scheme"
   ]
  },
  {
   "cell_type": "code",
   "execution_count": 11,
   "metadata": {
    "collapsed": false
   },
   "outputs": [],
   "source": [
    "fx4FDT = fx4FD.subs([\n",
    "                     (f(x-h)  , Fm1),\n",
    "                     (f(x)    , F  ),\n",
    "                     (f(x+h)  , Fp1),\n",
    "                     (f(x+2*h), Fp2),\n",
    "                     (f(x+3*h), Fp3),\n",
    "                     (f(x+4*h), Fp4),                                         \n",
    "                    ])\n",
    "display(simplify(fx4FDT))"
   ]
  },
  {
   "cell_type": "markdown",
   "metadata": {},
   "source": [
    "Thus, we see that this discretization is 2nd order accurate."
   ]
  }
 ],
 "metadata": {
  "kernelspec": {
   "display_name": "Python 3",
   "language": "python",
   "name": "python3"
  },
  "language_info": {
   "codemirror_mode": {
    "name": "ipython",
    "version": 3
   },
   "file_extension": ".py",
   "mimetype": "text/x-python",
   "name": "python",
   "nbconvert_exporter": "python",
   "pygments_lexer": "ipython3",
   "version": "3.5.1"
  }
 },
 "nbformat": 4,
 "nbformat_minor": 0
}