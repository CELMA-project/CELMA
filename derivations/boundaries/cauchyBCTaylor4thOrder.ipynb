{
 "cells": [
  {
   "cell_type": "markdown",
   "metadata": {},
   "source": [
    "# Derivation of the cauchy BC\n",
    "\n",
    "We would like to derive the cauchy BC, which for a field $f$ reads\n",
    "\n",
    "$$\n",
    "f(0) = a\\\\\n",
    "\\partial_z f\\big|_0 = b\n",
    "$$\n",
    "\n",
    "By using the method of undetermined coefficients. We will use \n",
    "\n",
    "$$\n",
    "f_g^I = f_g^I(f_{BC}, f_{BC}', f_1, f_2, f_3)\n",
    "$$\n",
    "\n",
    "where $f_g^I$ is the function at the ghost point ($f(x_g)=f_{-1}$) extrapolated from the other points. $f_{BC}$ is the function at the boundary, where $x_{BC} = x_{g} + \\frac{h}{2}$.\n",
    "\n",
    "**WARNING**: Only finds first order convergence with this scheme"
   ]
  },
  {
   "cell_type": "markdown",
   "metadata": {},
   "source": [
    "## Initialization"
   ]
  },
  {
   "cell_type": "code",
   "execution_count": 1,
   "metadata": {
    "collapsed": true
   },
   "outputs": [],
   "source": [
    "from IPython.display import display\n",
    "from sympy import init_printing, latex\n",
    "from sympy import symbols, sympify, solve\n",
    "from sympy import Function, Eq\n",
    "\n",
    "init_printing()"
   ]
  },
  {
   "cell_type": "code",
   "execution_count": 2,
   "metadata": {
    "collapsed": false
   },
   "outputs": [],
   "source": [
    "def replaceDerivativesAndFg(eq, terms):\n",
    "    \"\"\"Replaces the derivatives and f(x_BC) with something easier to work with\"\"\"\n",
    "    eq = eq.replace('f(x_BC)', 'f_BC')\n",
    "    for n in range(terms):\n",
    "        eq = eq.replace('Subs(Derivative(f(_xi_1),' + ' _xi_1,'*n + ' _xi_1' + '), (_xi_1,), (x_BC,))', 'f_x' + 'x'*n)\n",
    "    sympify(eq)\n",
    "    return eq"
   ]
  },
  {
   "cell_type": "code",
   "execution_count": 3,
   "metadata": {
    "collapsed": false
   },
   "outputs": [],
   "source": [
    "x, xBC = symbols('x, x_BC')\n",
    "a, b = symbols('a, b')\n",
    "h = symbols('h', positive=True)\n",
    "\n",
    "f = Function('f')\n",
    "fm1, fBC, f1, f2, f3 = symbols('f_-1, f_BC, f_1, f_2, f_3')\n",
    "cm1, c1, c2, c3 = symbols('cm1, c_1, c_2, c_3')\n",
    "\n",
    "\n",
    "terms = 5"
   ]
  },
  {
   "cell_type": "markdown",
   "metadata": {
    "collapsed": true
   },
   "source": [
    "Taylor expasion of $f$ expanded around $a=x_{BC}-\\frac{h}{2}$ evaluated in $x=x_{BC}$"
   ]
  },
  {
   "cell_type": "code",
   "execution_count": 4,
   "metadata": {
    "collapsed": false
   },
   "outputs": [],
   "source": [
    "f_m1 = f(x-(h/2)).series(x-(h/2), x0=xBC, n=terms)\n",
    "f_m1 = f_m1.subs(x-xBC,0)\n",
    "f_m1 = Eq(fm1,f_m1)\n",
    "display(f_m1)\n",
    "f_m1 = replaceDerivativesAndFg(f_m1, terms)\n",
    "display(f_m1)"
   ]
  },
  {
   "cell_type": "markdown",
   "metadata": {
    "collapsed": true
   },
   "source": [
    "Taylor expasion of $f$ expanded around $a=x_{BC}+\\frac{h}{2}$ evaluated in $x=x_{BC}$"
   ]
  },
  {
   "cell_type": "code",
   "execution_count": 5,
   "metadata": {
    "collapsed": false
   },
   "outputs": [],
   "source": [
    "f_1 = f(x+(h/2)).series(x+(h/2), x0=xBC, n=terms)\n",
    "f_1 = f_1.subs(x-xBC,0)\n",
    "f_1 = Eq(f1,f_1)\n",
    "display(f_1)\n",
    "f_1 = replaceDerivativesAndFg(f_1, terms)\n",
    "display(f_1)"
   ]
  },
  {
   "cell_type": "markdown",
   "metadata": {
    "collapsed": true
   },
   "source": [
    "Taylor expasion of $f$ expanded around $a=x_{BC}+\\frac{3h}{2}$ evaluated in $x=x_{BC}$"
   ]
  },
  {
   "cell_type": "code",
   "execution_count": 6,
   "metadata": {
    "collapsed": false
   },
   "outputs": [],
   "source": [
    "f_2 = f(x+(3*h/2)).series(x+(3*h/2), x0=xBC, n=terms)\n",
    "f_2 = f_2.subs(x-xBC,0)\n",
    "f_2 = Eq(f2,f_2)\n",
    "display(f_2)\n",
    "f_2 = replaceDerivativesAndFg(f_2, terms)\n",
    "display(f_2)"
   ]
  },
  {
   "cell_type": "markdown",
   "metadata": {
    "collapsed": true
   },
   "source": [
    "Taylor expasion of $f$ expanded around $a=x_{BC}+\\frac{5h}{2}$ evaluated in $x=x_{BC}$"
   ]
  },
  {
   "cell_type": "code",
   "execution_count": 7,
   "metadata": {
    "collapsed": false
   },
   "outputs": [],
   "source": [
    "f_3 = f(x+(5*h/2)).series(x+(5*h/2), x0=xBC, n=terms)\n",
    "f_3 = f_3.subs(x-xBC,0)\n",
    "f_3 = Eq(f3,f_3)\n",
    "display(f_3)\n",
    "f_3 = replaceDerivativesAndFg(f_3, terms)\n",
    "display(f_3)"
   ]
  },
  {
   "cell_type": "markdown",
   "metadata": {},
   "source": [
    "Add a linear combination of the functions"
   ]
  },
  {
   "cell_type": "code",
   "execution_count": 8,
   "metadata": {
    "collapsed": false
   },
   "outputs": [],
   "source": [
    "linComb = Eq(cm1*f_m1.lhs + c1*f_1.lhs + c2*f_2.lhs + c3*f_3.lhs, cm1*f_m1.rhs + c1*f_1.rhs + c2*f_2.rhs + c3*f_3.rhs)\n",
    "display(linComb)"
   ]
  },
  {
   "cell_type": "markdown",
   "metadata": {},
   "source": [
    "**NOTE**: The linear combination does *NOT* give the same as the [Robin boundary condition](https://en.wikipedia.org/wiki/Robin_boundary_condition), as that BC fixes a linear combination of the field and it derivative to a number. "
   ]
  },
  {
   "cell_type": "code",
   "execution_count": 9,
   "metadata": {
    "collapsed": false
   },
   "outputs": [],
   "source": [
    "linComb = Eq(cm1*f_m1.lhs + c1*f_1.lhs + c2*f_2.lhs + c3*f_3.lhs,\\\n",
    "             linComb.rhs.expand().collect(symbols('f_BC, f_x, f_xx, f_xxx, f_xxxx, f_xxxxx'), exact=True))\n",
    "display(linComb)"
   ]
  },
  {
   "cell_type": "markdown",
   "metadata": {},
   "source": [
    "Make the above copy pastable in order to make a set of equation"
   ]
  },
  {
   "cell_type": "code",
   "execution_count": 10,
   "metadata": {
    "collapsed": false
   },
   "outputs": [],
   "source": [
    "print(linComb.rhs)"
   ]
  },
  {
   "cell_type": "markdown",
   "metadata": {},
   "source": [
    "This gives the following set of equations (which is 4th order accurate as we are not cancelling $f_{xxxx}$)"
   ]
  },
  {
   "cell_type": "code",
   "execution_count": 11,
   "metadata": {
    "collapsed": false
   },
   "outputs": [],
   "source": [
    "eq1 = Eq(1, sympify('cm1 + c_3 + c_2 + c_1'))\n",
    "eq2 = Eq(1, sympify('-cm1*h/2 + 5*c_3*h/2 + 3*c_2*h/2 + c_1*h/2'))\n",
    "eq3 = Eq(0, sympify('cm1*h**2/8 + 25*c_3*h**2/8 + 9*c_2*h**2/8 + c_1*h**2/8'))\n",
    "eq4 = Eq(0, sympify('-cm1*h**3/48 + 125*c_3*h**3/48 + 9*c_2*h**3/16 + c_1*h**3/48'))\n",
    "display(eq1)\n",
    "display(eq2)\n",
    "display(eq3)\n",
    "display(eq4)"
   ]
  },
  {
   "cell_type": "code",
   "execution_count": 12,
   "metadata": {
    "collapsed": false
   },
   "outputs": [],
   "source": [
    "sol = solve([eq1, eq2, eq3, eq4], [cm1, c1, c2, c3])\n",
    "display(sol)"
   ]
  },
  {
   "cell_type": "markdown",
   "metadata": {},
   "source": [
    "This gives us (writing $a=f(x_{BC})$ and $b=f'(x_{BC})$"
   ]
  },
  {
   "cell_type": "code",
   "execution_count": 13,
   "metadata": {
    "collapsed": false
   },
   "outputs": [],
   "source": [
    "eq = Eq(a+b, sol[cm1]*f_m1.lhs + sol[c1]*f_1.lhs + sol[c2]*f_2.lhs + sol[c3]*f_3.lhs)\n",
    "display(eq)"
   ]
  },
  {
   "cell_type": "markdown",
   "metadata": {},
   "source": [
    "Solve for the ghost point $f_{-1}$"
   ]
  },
  {
   "cell_type": "code",
   "execution_count": 14,
   "metadata": {
    "collapsed": false
   },
   "outputs": [],
   "source": [
    "fm1eq = solve(eq, f_m1.lhs)\n",
    "fm1eq = fm1eq[0].collect(symbols('f_1, f_2, f_3, h'), exact=True).simplify()\n",
    "fm1eq = Eq(f_m1.lhs, fm1eq)\n",
    "display(fm1eq)"
   ]
  },
  {
   "cell_type": "markdown",
   "metadata": {},
   "source": [
    "Make the above copy pastable in order to plug it into the code"
   ]
  },
  {
   "cell_type": "code",
   "execution_count": 15,
   "metadata": {
    "collapsed": false
   },
   "outputs": [],
   "source": [
    "print(fm1eq)"
   ]
  },
  {
   "cell_type": "code",
   "execution_count": 16,
   "metadata": {
    "collapsed": false
   },
   "outputs": [],
   "source": [
    "print(latex(fm1eq))"
   ]
  }
 ],
 "metadata": {
  "kernelspec": {
   "display_name": "Python 3",
   "language": "python",
   "name": "python3"
  },
  "language_info": {
   "codemirror_mode": {
    "name": "ipython",
    "version": 3
   },
   "file_extension": ".py",
   "mimetype": "text/x-python",
   "name": "python",
   "nbconvert_exporter": "python",
   "pygments_lexer": "ipython3",
   "version": "3.5.1"
  }
 },
 "nbformat": 4,
 "nbformat_minor": 0
}
