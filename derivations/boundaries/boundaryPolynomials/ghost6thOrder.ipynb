{
 "cells": [
  {
   "cell_type": "markdown",
   "metadata": {},
   "source": [
    "# Extrapolation to ghost point\n",
    "\n",
    "We will here use Newton polynomial in order to extrapolate to the ghost point. This method should be convergent as the grid spacing goes to $0$. This can be done by evaluating the polynomial outside the range of interpolating points."
   ]
  },
  {
   "cell_type": "code",
   "execution_count": 1,
   "metadata": {
    "collapsed": false
   },
   "outputs": [],
   "source": [
    "from IPython.display import display\n",
    "from dividedDifferences import get_coeff, get_polynomial\n",
    "from sympy import init_printing\n",
    "from sympy import symbols, simplify\n",
    "from sympy import Eq, S, Function\n",
    "\n",
    "init_printing()"
   ]
  },
  {
   "cell_type": "code",
   "execution_count": 2,
   "metadata": {
    "collapsed": true
   },
   "outputs": [],
   "source": [
    "# The values in the points we use for the extrapolation\n",
    "f0, f1, f2, f3, f4, f5 = symbols('f_0, f_1, f_2, f_3, f_4, f_5', real=True)\n",
    "values = [f0, f1, f2, f3, f4, f5]\n",
    "\n",
    "# Grid spacing \n",
    "h = symbols('h', real=True)\n",
    "\n",
    "# The value at the ghost\n",
    "fg = symbols('f_g', real=True)\n",
    "\n",
    "# Variables just for illustrative purposes\n",
    "x = symbols('x')\n",
    "# Coefficients in Newton polynomial\n",
    "a0, a1, a2, a3, a4, a5 = symbols('a_0, a_1, a_2, a_3, a_4, a_5')\n",
    "coeffs = [a0, a1, a2, a3, a4, a5]\n",
    "# The points to extrapolate from (when they are unspecified)\n",
    "x0, x1, x2, x3, x4, x5 = symbols('x_0, x_1, x_2, x_3, x_4, x_5')\n",
    "positions = [x0, x1, x2, x3, x4, x5]"
   ]
  },
  {
   "cell_type": "markdown",
   "metadata": {},
   "source": [
    "## Intro"
   ]
  },
  {
   "cell_type": "markdown",
   "metadata": {},
   "source": [
    "We have the following set of points we want to use to build the polynomial"
   ]
  },
  {
   "cell_type": "code",
   "execution_count": 3,
   "metadata": {
    "collapsed": false
   },
   "outputs": [
    {
     "data": {
      "image/png": "[encoded data removed]",
      "text/latex": [
       "$$\\left [ x_{0}, \\quad x_{1}, \\quad x_{2}, \\quad x_{3}, \\quad x_{4}, \\quad x_{5}\\right ]$$"
      ],
      "text/plain": [
       "[x₀, x₁, x₂, x₃, x₄, x₅]"
      ]
     },
     "metadata": {},
     "output_type": "display_data"
    }
   ],
   "source": [
    "display(positions)"
   ]
  },
  {
   "cell_type": "markdown",
   "metadata": {},
   "source": [
    "sorted after increasing value of the coordinate $x$. These points takes the following values"
   ]
  },
  {
   "cell_type": "code",
   "execution_count": 4,
   "metadata": {
    "collapsed": false
   },
   "outputs": [
    {
     "data": {
      "image/png": "[encoded data removed]",
      "text/latex": [
       "$$\\left [ f_{0}, \\quad f_{1}, \\quad f_{2}, \\quad f_{3}, \\quad f_{4}, \\quad f_{5}\\right ]$$"
      ],
      "text/plain": [
       "[f₀, f₁, f₂, f₃, f₄, f₅]"
      ]
     },
     "metadata": {},
     "output_type": "display_data"
    }
   ],
   "source": [
    "display(values)"
   ]
  },
  {
   "cell_type": "markdown",
   "metadata": {},
   "source": [
    "Our goal is to use these four points to build a Newton polynomial we can use to extrapolate to the ghost point $x_g$. \n",
    "\n",
    "$x_g$ may be the first point in an array of the $x$ coordinates (that is we can order $x$ as $[x_g, x_0, x_1, x_2, x_3, x_4, x_5 \\ldots]$), or it may be the last point (we can order $x$ as $[\\ldots, x_0, x_1, x_2, x_3, x_4, x_5, x_g]$).\n",
    "\n",
    "In any case:\n",
    "\n",
    "* Grid points are equally spaced with a gird space $h$ between them.\n",
    "* The boundary may be the first or last point in the points we want to create the polynomial from, and is located $\\frac{h}{2}$ between the ghost point and first/last inner grid points.\n",
    "* $x_0$ serves as the reference point"
   ]
  },
  {
   "cell_type": "markdown",
   "metadata": {},
   "source": [
    "## The Netwon polynomial\n",
    "\n",
    "The newton polynomial reads\n",
    "\n",
    "$$p_N(x) = a_{0} + \\sum_{i=1}^{N} a_{i} \\prod_{j=0}^{i-1} (x - x_j)$$\n",
    "\n",
    "our fourth order polynomial thus reads"
   ]
  },
  {
   "cell_type": "code",
   "execution_count": 5,
   "metadata": {
    "collapsed": false
   },
   "outputs": [
    {
     "data": {
      "image/png": "[encoded data removed]",
      "text/latex": [
       "$$\\operatorname{p_{N}}{\\left (x \\right )} = a_{0} + \\left(a_{1} + \\left(a_{2} + \\left(a_{3} + \\left(a_{4} + a_{5} \\left(x - x_{4}\\right)\\right) \\left(x - x_{3}\\right)\\right) \\left(x - x_{2}\\right)\\right) \\left(x - x_{1}\\right)\\right) \\left(x - x_{0}\\right)$$"
      ],
      "text/plain": [
       "p_N(x) = a₀ + (a₁ + (a₂ + (a₃ + (a₄ + a₅⋅(x - x₄))⋅(x - x₃))⋅(x - x₂))⋅(x - x₁\n",
       "))⋅(x - x₀)"
      ]
     },
     "metadata": {},
     "output_type": "display_data"
    }
   ],
   "source": [
    "display(Eq(symbols('p_N')(x), get_polynomial(coeffs, positions, symbols('x'))))"
   ]
  },
  {
   "cell_type": "markdown",
   "metadata": {},
   "source": [
    "### The coefficients\n",
    "The coefficients in the Newton polynomial reads"
   ]
  },
  {
   "cell_type": "code",
   "execution_count": 6,
   "metadata": {
    "collapsed": false
   },
   "outputs": [
    {
     "data": {
      "image/png": "[encoded data removed]",
      "text/latex": [
       "$$a_{0} = f_{0}$$"
      ],
      "text/plain": [
       "a₀ = f₀"
      ]
     },
     "metadata": {},
     "output_type": "display_data"
    },
    {
     "data": {
      "image/png": "[encoded data removed]",
      "text/latex": [
       "$$a_{1} = \\frac{- f_{0} + f_{1}}{- x_{0} + x_{1}}$$"
      ],
      "text/plain": [
       "     -f₀ + f₁\n",
       "a₁ = ────────\n",
       "     -x₀ + x₁"
      ]
     },
     "metadata": {},
     "output_type": "display_data"
    },
    {
     "data": {
      "image/png": "[encoded data removed]",
      "text/latex": [
       "$$a_{2} = \\frac{1}{- x_{0} + x_{2}} \\left(- \\frac{- f_{0} + f_{1}}{- x_{0} + x_{1}} + \\frac{- f_{1} + f_{2}}{- x_{1} + x_{2}}\\right)$$"
      ],
      "text/plain": [
       "       -f₀ + f₁   -f₁ + f₂\n",
       "     - ──────── + ────────\n",
       "       -x₀ + x₁   -x₁ + x₂\n",
       "a₂ = ─────────────────────\n",
       "            -x₀ + x₂      "
      ]
     },
     "metadata": {},
     "output_type": "display_data"
    },
    {
     "data": {
      "image/png": "[encoded data removed]",
      "text/latex": [
       "$$a_{3} = \\frac{1}{- x_{0} + x_{3}} \\left(\\frac{1}{- x_{1} + x_{3}} \\left(- \\frac{- f_{1} + f_{2}}{- x_{1} + x_{2}} + \\frac{- f_{2} + f_{3}}{- x_{2} + x_{3}}\\right) - \\frac{1}{- x_{0} + x_{2}} \\left(- \\frac{- f_{0} + f_{1}}{- x_{0} + x_{1}} + \\frac{- f_{1} + f_{2}}{- x_{1} + x_{2}}\\right)\\right)$$"
      ],
      "text/plain": [
       "       -f₁ + f₂   -f₂ + f₃     -f₀ + f₁   -f₁ + f₂\n",
       "     - ──────── + ────────   - ──────── + ────────\n",
       "       -x₁ + x₂   -x₂ + x₃     -x₀ + x₁   -x₁ + x₂\n",
       "     ───────────────────── - ─────────────────────\n",
       "            -x₁ + x₃                -x₀ + x₂      \n",
       "a₃ = ─────────────────────────────────────────────\n",
       "                        -x₀ + x₃                  "
      ]
     },
     "metadata": {},
     "output_type": "display_data"
    },
    {
     "data": {
      "image/png": "[encoded data removed]",
      "text/latex": [
       "$$a_{4} = \\frac{1}{- x_{0} + x_{4}} \\left(\\frac{1}{- x_{1} + x_{4}} \\left(\\frac{1}{- x_{2} + x_{4}} \\left(- \\frac{- f_{2} + f_{3}}{- x_{2} + x_{3}} + \\frac{- f_{3} + f_{4}}{- x_{3} + x_{4}}\\right) - \\frac{1}{- x_{1} + x_{3}} \\left(- \\frac{- f_{1} + f_{2}}{- x_{1} + x_{2}} + \\frac{- f_{2} + f_{3}}{- x_{2} + x_{3}}\\right)\\right) - \\frac{1}{- x_{0} + x_{3}} \\left(\\frac{1}{- x_{1} + x_{3}} \\left(- \\frac{- f_{1} + f_{2}}{- x_{1} + x_{2}} + \\frac{- f_{2} + f_{3}}{- x_{2} + x_{3}}\\right) - \\frac{1}{- x_{0} + x_{2}} \\left(- \\frac{- f_{0} + f_{1}}{- x_{0} + x_{1}} + \\frac{- f_{1} + f_{2}}{- x_{1} + x_{2}}\\right)\\right)\\right)$$"
      ],
      "text/plain": [
       "       -f₂ + f₃   -f₃ + f₄     -f₁ + f₂   -f₂ + f₃     -f₁ + f₂   -f₂ + f₃    \n",
       "     - ──────── + ────────   - ──────── + ────────   - ──────── + ────────   -\n",
       "       -x₂ + x₃   -x₃ + x₄     -x₁ + x₂   -x₂ + x₃     -x₁ + x₂   -x₂ + x₃    \n",
       "     ───────────────────── - ─────────────────────   ───────────────────── - ─\n",
       "            -x₂ + x₄                -x₁ + x₃                -x₁ + x₃          \n",
       "     ───────────────────────────────────────────── - ─────────────────────────\n",
       "                        -x₁ + x₄                                        -x₀ + \n",
       "a₄ = ─────────────────────────────────────────────────────────────────────────\n",
       "                                                -x₀ + x₄                      \n",
       "\n",
       " -f₀ + f₁   -f₁ + f₂\n",
       " ──────── + ────────\n",
       " -x₀ + x₁   -x₁ + x₂\n",
       "────────────────────\n",
       "      -x₀ + x₂      \n",
       "────────────────────\n",
       "x₃                  \n",
       "────────────────────\n",
       "                    "
      ]
     },
     "metadata": {},
     "output_type": "display_data"
    },
    {
     "data": {
      "image/png": "[encoded data removed]",
      "text/latex": [
       "$$a_{5} = \\frac{1}{- x_{0} + x_{5}} \\left(\\frac{1}{- x_{1} + x_{5}} \\left(\\frac{1}{- x_{2} + x_{5}} \\left(\\frac{1}{- x_{3} + x_{5}} \\left(- \\frac{- f_{3} + f_{4}}{- x_{3} + x_{4}} + \\frac{- f_{4} + f_{5}}{- x_{4} + x_{5}}\\right) - \\frac{1}{- x_{2} + x_{4}} \\left(- \\frac{- f_{2} + f_{3}}{- x_{2} + x_{3}} + \\frac{- f_{3} + f_{4}}{- x_{3} + x_{4}}\\right)\\right) - \\frac{1}{- x_{1} + x_{4}} \\left(\\frac{1}{- x_{2} + x_{4}} \\left(- \\frac{- f_{2} + f_{3}}{- x_{2} + x_{3}} + \\frac{- f_{3} + f_{4}}{- x_{3} + x_{4}}\\right) - \\frac{1}{- x_{1} + x_{3}} \\left(- \\frac{- f_{1} + f_{2}}{- x_{1} + x_{2}} + \\frac{- f_{2} + f_{3}}{- x_{2} + x_{3}}\\right)\\right)\\right) - \\frac{1}{- x_{0} + x_{4}} \\left(\\frac{1}{- x_{1} + x_{4}} \\left(\\frac{1}{- x_{2} + x_{4}} \\left(- \\frac{- f_{2} + f_{3}}{- x_{2} + x_{3}} + \\frac{- f_{3} + f_{4}}{- x_{3} + x_{4}}\\right) - \\frac{1}{- x_{1} + x_{3}} \\left(- \\frac{- f_{1} + f_{2}}{- x_{1} + x_{2}} + \\frac{- f_{2} + f_{3}}{- x_{2} + x_{3}}\\right)\\right) - \\frac{1}{- x_{0} + x_{3}} \\left(\\frac{1}{- x_{1} + x_{3}} \\left(- \\frac{- f_{1} + f_{2}}{- x_{1} + x_{2}} + \\frac{- f_{2} + f_{3}}{- x_{2} + x_{3}}\\right) - \\frac{1}{- x_{0} + x_{2}} \\left(- \\frac{- f_{0} + f_{1}}{- x_{0} + x_{1}} + \\frac{- f_{1} + f_{2}}{- x_{1} + x_{2}}\\right)\\right)\\right)\\right)$$"
      ],
      "text/plain": [
       "       -f₃ + f₄   -f₄ + f₅     -f₂ + f₃   -f₃ + f₄     -f₂ + f₃   -f₃ + f₄    \n",
       "     - ──────── + ────────   - ──────── + ────────   - ──────── + ────────   -\n",
       "       -x₃ + x₄   -x₄ + x₅     -x₂ + x₃   -x₃ + x₄     -x₂ + x₃   -x₃ + x₄    \n",
       "     ───────────────────── - ─────────────────────   ───────────────────── - ─\n",
       "            -x₃ + x₅                -x₂ + x₄                -x₂ + x₄          \n",
       "     ───────────────────────────────────────────── - ─────────────────────────\n",
       "                        -x₂ + x₅                                        -x₁ + \n",
       "     ─────────────────────────────────────────────────────────────────────────\n",
       "                                                -x₁ + x₅                      \n",
       "a₅ = ─────────────────────────────────────────────────────────────────────────\n",
       "                                                                              \n",
       "\n",
       " -f₁ + f₂   -f₂ + f₃     -f₂ + f₃   -f₃ + f₄     -f₁ + f₂   -f₂ + f₃     -f₁ +\n",
       " ──────── + ────────   - ──────── + ────────   - ──────── + ────────   - ─────\n",
       " -x₁ + x₂   -x₂ + x₃     -x₂ + x₃   -x₃ + x₄     -x₁ + x₂   -x₂ + x₃     -x₁ +\n",
       "────────────────────   ───────────────────── - ─────────────────────   ───────\n",
       "      -x₁ + x₃                -x₂ + x₄                -x₁ + x₃                \n",
       "────────────────────   ───────────────────────────────────────────── - ───────\n",
       "x₄                                        -x₁ + x₄                            \n",
       "──────────────────── - ───────────────────────────────────────────────────────\n",
       "                                                                  -x₀ + x₄    \n",
       "──────────────────────────────────────────────────────────────────────────────\n",
       "                  -x₀ + x₅                                                    \n",
       "\n",
       " f₂   -f₂ + f₃     -f₀ + f₁   -f₁ + f₂\n",
       "─── + ────────   - ──────── + ────────\n",
       " x₂   -x₂ + x₃     -x₀ + x₁   -x₁ + x₂\n",
       "────────────── - ─────────────────────\n",
       "-x₁ + x₃                -x₀ + x₂      \n",
       "──────────────────────────────────────\n",
       "            -x₀ + x₃                  \n",
       "──────────────────────────────────────\n",
       "                                      \n",
       "──────────────────────────────────────\n",
       "                                      "
      ]
     },
     "metadata": {},
     "output_type": "display_data"
    }
   ],
   "source": [
    "solvedCoeffs = get_coeff(values, positions)\n",
    "for nr, coeff in enumerate(solvedCoeffs):\n",
    "    display(Eq(symbols('a_'+str(nr)), coeff))"
   ]
  },
  {
   "cell_type": "markdown",
   "metadata": {},
   "source": [
    "Inserted in the polynomial yields"
   ]
  },
  {
   "cell_type": "code",
   "execution_count": 7,
   "metadata": {
    "collapsed": false
   },
   "outputs": [
    {
     "data": {
      "image/png": "[encoded data removed]",
      "text/latex": [
       "$$\\operatorname{p_{N}}{\\left (x \\right )} = f_{0} + \\left(x - x_{0}\\right) \\left(\\frac{- f_{0} + f_{1}}{- x_{0} + x_{1}} + \\left(x - x_{1}\\right) \\left(\\left(x - x_{2}\\right) \\left(\\left(x - x_{3}\\right) \\left(\\frac{1}{- x_{0} + x_{5}} \\left(x - x_{4}\\right) \\left(\\frac{1}{- x_{1} + x_{5}} \\left(\\frac{1}{- x_{2} + x_{5}} \\left(\\frac{1}{- x_{3} + x_{5}} \\left(- \\frac{- f_{3} + f_{4}}{- x_{3} + x_{4}} + \\frac{- f_{4} + f_{5}}{- x_{4} + x_{5}}\\right) - \\frac{1}{- x_{2} + x_{4}} \\left(- \\frac{- f_{2} + f_{3}}{- x_{2} + x_{3}} + \\frac{- f_{3} + f_{4}}{- x_{3} + x_{4}}\\right)\\right) - \\frac{1}{- x_{1} + x_{4}} \\left(\\frac{1}{- x_{2} + x_{4}} \\left(- \\frac{- f_{2} + f_{3}}{- x_{2} + x_{3}} + \\frac{- f_{3} + f_{4}}{- x_{3} + x_{4}}\\right) - \\frac{1}{- x_{1} + x_{3}} \\left(- \\frac{- f_{1} + f_{2}}{- x_{1} + x_{2}} + \\frac{- f_{2} + f_{3}}{- x_{2} + x_{3}}\\right)\\right)\\right) - \\frac{1}{- x_{0} + x_{4}} \\left(\\frac{1}{- x_{1} + x_{4}} \\left(\\frac{1}{- x_{2} + x_{4}} \\left(- \\frac{- f_{2} + f_{3}}{- x_{2} + x_{3}} + \\frac{- f_{3} + f_{4}}{- x_{3} + x_{4}}\\right) - \\frac{1}{- x_{1} + x_{3}} \\left(- \\frac{- f_{1} + f_{2}}{- x_{1} + x_{2}} + \\frac{- f_{2} + f_{3}}{- x_{2} + x_{3}}\\right)\\right) - \\frac{1}{- x_{0} + x_{3}} \\left(\\frac{1}{- x_{1} + x_{3}} \\left(- \\frac{- f_{1} + f_{2}}{- x_{1} + x_{2}} + \\frac{- f_{2} + f_{3}}{- x_{2} + x_{3}}\\right) - \\frac{1}{- x_{0} + x_{2}} \\left(- \\frac{- f_{0} + f_{1}}{- x_{0} + x_{1}} + \\frac{- f_{1} + f_{2}}{- x_{1} + x_{2}}\\right)\\right)\\right)\\right) + \\frac{1}{- x_{0} + x_{4}} \\left(\\frac{1}{- x_{1} + x_{4}} \\left(\\frac{1}{- x_{2} + x_{4}} \\left(- \\frac{- f_{2} + f_{3}}{- x_{2} + x_{3}} + \\frac{- f_{3} + f_{4}}{- x_{3} + x_{4}}\\right) - \\frac{1}{- x_{1} + x_{3}} \\left(- \\frac{- f_{1} + f_{2}}{- x_{1} + x_{2}} + \\frac{- f_{2} + f_{3}}{- x_{2} + x_{3}}\\right)\\right) - \\frac{1}{- x_{0} + x_{3}} \\left(\\frac{1}{- x_{1} + x_{3}} \\left(- \\frac{- f_{1} + f_{2}}{- x_{1} + x_{2}} + \\frac{- f_{2} + f_{3}}{- x_{2} + x_{3}}\\right) - \\frac{1}{- x_{0} + x_{2}} \\left(- \\frac{- f_{0} + f_{1}}{- x_{0} + x_{1}} + \\frac{- f_{1} + f_{2}}{- x_{1} + x_{2}}\\right)\\right)\\right)\\right) + \\frac{1}{- x_{0} + x_{3}} \\left(\\frac{1}{- x_{1} + x_{3}} \\left(- \\frac{- f_{1} + f_{2}}{- x_{1} + x_{2}} + \\frac{- f_{2} + f_{3}}{- x_{2} + x_{3}}\\right) - \\frac{1}{- x_{0} + x_{2}} \\left(- \\frac{- f_{0} + f_{1}}{- x_{0} + x_{1}} + \\frac{- f_{1} + f_{2}}{- x_{1} + x_{2}}\\right)\\right)\\right) + \\frac{1}{- x_{0} + x_{2}} \\left(- \\frac{- f_{0} + f_{1}}{- x_{0} + x_{1}} + \\frac{- f_{1} + f_{2}}{- x_{1} + x_{2}}\\right)\\right)\\right)$$"
      ],
      "text/plain": [
       "                       ⎛                    ⎛         ⎛         ⎛         ⎛  -\n",
       "                       ⎜                    ⎜         ⎜         ⎜         ⎜- ─\n",
       "                       ⎜                    ⎜         ⎜         ⎜         ⎜  -\n",
       "                       ⎜                    ⎜         ⎜         ⎜         ⎜───\n",
       "                       ⎜                    ⎜         ⎜         ⎜         ⎜   \n",
       "                       ⎜                    ⎜         ⎜         ⎜         ⎜───\n",
       "                       ⎜                    ⎜         ⎜         ⎜         ⎜   \n",
       "                       ⎜                    ⎜         ⎜         ⎜(x - x₄)⋅⎜───\n",
       "                       ⎜-f₀ + f₁            ⎜         ⎜         ⎜         ⎝   \n",
       "p_N(x) = f₀ + (x - x₀)⋅⎜──────── + (x - x₁)⋅⎜(x - x₂)⋅⎜(x - x₃)⋅⎜─────────────\n",
       "                       ⎝-x₀ + x₁            ⎝         ⎝         ⎝             \n",
       "\n",
       "f₃ + f₄   -f₄ + f₅     -f₂ + f₃   -f₃ + f₄     -f₂ + f₃   -f₃ + f₄     -f₁ + f\n",
       "─────── + ────────   - ──────── + ────────   - ──────── + ────────   - ───────\n",
       "x₃ + x₄   -x₄ + x₅     -x₂ + x₃   -x₃ + x₄     -x₂ + x₃   -x₃ + x₄     -x₁ + x\n",
       "────────────────── - ─────────────────────   ───────────────────── - ─────────\n",
       "    -x₃ + x₅                -x₂ + x₄                -x₂ + x₄                -x\n",
       "────────────────────────────────────────── - ─────────────────────────────────\n",
       "                -x₂ + x₅                                        -x₁ + x₄      \n",
       "──────────────────────────────────────────────────────────────────────────────\n",
       "                                        -x₁ + x₅                              \n",
       "──────────────────────────────────────────────────────────────────────────────\n",
       "                                                                              \n",
       "\n",
       "₂   -f₂ + f₃     -f₂ + f₃   -f₃ + f₄     -f₁ + f₂   -f₂ + f₃     -f₁ + f₂   -f\n",
       "─ + ────────   - ──────── + ────────   - ──────── + ────────   - ──────── + ──\n",
       "₂   -x₂ + x₃     -x₂ + x₃   -x₃ + x₄     -x₁ + x₂   -x₂ + x₃     -x₁ + x₂   -x\n",
       "────────────   ───────────────────── - ─────────────────────   ───────────────\n",
       "₁ + x₃                -x₂ + x₄                -x₁ + x₃                -x₁ + x₃\n",
       "────────────   ───────────────────────────────────────────── - ───────────────\n",
       "                                  -x₁ + x₄                                    \n",
       "──────────── - ───────────────────────────────────────────────────────────────\n",
       "                                                          -x₀ + x₄            \n",
       "──────────────────────────────────────────────────────────────────────────────\n",
       "     -x₀ + x₅                                                                 \n",
       "\n",
       "₂ + f₃     -f₀ + f₁   -f₁ + f₂⎞                                               \n",
       "──────   - ──────── + ────────⎟                                               \n",
       "₂ + x₃     -x₀ + x₁   -x₁ + x₂⎟     -f₂ + f₃   -f₃ + f₄     -f₁ + f₂   -f₂ + f\n",
       "────── - ─────────────────────⎟   - ──────── + ────────   - ──────── + ───────\n",
       "                -x₀ + x₂      ⎟     -x₂ + x₃   -x₃ + x₄     -x₁ + x₂   -x₂ + x\n",
       "──────────────────────────────⎟   ───────────────────── - ────────────────────\n",
       "    -x₀ + x₃                  ⎟          -x₂ + x₄                -x₁ + x₃     \n",
       "──────────────────────────────⎟   ────────────────────────────────────────────\n",
       "                              ⎠                      -x₁ + x₄                 \n",
       "─────────────────────────────── + ────────────────────────────────────────────\n",
       "                                                                             -\n",
       "\n",
       "                                                 ⎞                            \n",
       "                                                 ⎟                            \n",
       "₃     -f₁ + f₂   -f₂ + f₃     -f₀ + f₁   -f₁ + f₂⎟                            \n",
       "─   - ──────── + ────────   - ──────── + ────────⎟                            \n",
       "₃     -x₁ + x₂   -x₂ + x₃     -x₀ + x₁   -x₁ + x₂⎟     -f₁ + f₂   -f₂ + f₃    \n",
       "─   ───────────────────── - ─────────────────────⎟   - ──────── + ────────   -\n",
       "           -x₁ + x₃                -x₀ + x₂      ⎟     -x₁ + x₂   -x₂ + x₃    \n",
       "─ - ─────────────────────────────────────────────⎟   ───────────────────── - ─\n",
       "                       -x₀ + x₃                  ⎟          -x₁ + x₃          \n",
       "─────────────────────────────────────────────────⎟ + ─────────────────────────\n",
       "x₀ + x₄                                          ⎠                      -x₀ + \n",
       "\n",
       "                    ⎞                        ⎞⎞\n",
       "                    ⎟                        ⎟⎟\n",
       "                    ⎟                        ⎟⎟\n",
       "                    ⎟                        ⎟⎟\n",
       " -f₀ + f₁   -f₁ + f₂⎟                        ⎟⎟\n",
       " ──────── + ────────⎟                        ⎟⎟\n",
       " -x₀ + x₁   -x₁ + x₂⎟     -f₀ + f₁   -f₁ + f₂⎟⎟\n",
       "────────────────────⎟   - ──────── + ────────⎟⎟\n",
       "      -x₀ + x₂      ⎟     -x₀ + x₁   -x₁ + x₂⎟⎟\n",
       "────────────────────⎟ + ─────────────────────⎟⎟\n",
       "x₃                  ⎠          -x₀ + x₂      ⎠⎠"
      ]
     },
     "metadata": {},
     "output_type": "display_data"
    }
   ],
   "source": [
    "display(Eq(Function('p_N')(x), get_polynomial(solvedCoeffs, positions, x)))"
   ]
  },
  {
   "cell_type": "markdown",
   "metadata": {},
   "source": [
    "## When the ghost point is the first in the $x$ array"
   ]
  },
  {
   "cell_type": "markdown",
   "metadata": {},
   "source": [
    "### When we are using the boundary value in the polynomial\n",
    "\n",
    "Our points to interpolate from are"
   ]
  },
  {
   "cell_type": "code",
   "execution_count": 8,
   "metadata": {
    "collapsed": false
   },
   "outputs": [
    {
     "data": {
      "image/png": "[encoded data removed]",
      "text/latex": [
       "$$\\left [ x_{0}, \\quad \\frac{h}{2} + x_{0}, \\quad \\frac{3 h}{2} + x_{0}, \\quad \\frac{5 h}{2} + x_{0}, \\quad \\frac{7 h}{2} + x_{0}, \\quad \\frac{9 h}{2} + x_{0}\\right ]$$"
      ],
      "text/plain": [
       "⎡    h       3⋅h       5⋅h       7⋅h       9⋅h     ⎤\n",
       "⎢x₀, ─ + x₀, ─── + x₀, ─── + x₀, ─── + x₀, ─── + x₀⎥\n",
       "⎣    2        2         2         2         2      ⎦"
      ]
     },
     "metadata": {},
     "output_type": "display_data"
    }
   ],
   "source": [
    "# Specification of the inner points\n",
    "# Using x_0 as the reference point\n",
    "x_0 = x0\n",
    "x_1 = x0 + (S(1)/2)*h\n",
    "x_2 = x0 + (1+S(1)/2)*h\n",
    "x_3 = x0 + (2+S(1)/2)*h\n",
    "x_4 = x0 + (3+S(1)/2)*h\n",
    "x_5 = x0 + (4+S(1)/2)*h\n",
    "specifiedPositions = [x_0, x_1, x_2, x_3, x_4, x_5]\n",
    "display(specifiedPositions)"
   ]
  },
  {
   "cell_type": "markdown",
   "metadata": {},
   "source": [
    "Evaluating the polynomial in $x_g=x_0-\\frac{h}{2}$ ,where $x_0$ is the boundary yields"
   ]
  },
  {
   "cell_type": "code",
   "execution_count": 9,
   "metadata": {
    "collapsed": false
   },
   "outputs": [
    {
     "data": {
      "image/png": "[encoded data removed]",
      "text/latex": [
       "$$f_{g} = \\frac{256 f_{0}}{63} - 5 f_{1} + \\frac{10 f_{2}}{3} - 2 f_{3} + \\frac{5 f_{4}}{7} - \\frac{f_{5}}{9}$$"
      ],
      "text/plain": [
       "      256⋅f₀          10⋅f₂          5⋅f₄   f₅\n",
       "f_g = ────── - 5⋅f₁ + ───── - 2⋅f₃ + ──── - ──\n",
       "        63              3             7     9 "
      ]
     },
     "metadata": {},
     "output_type": "display_data"
    }
   ],
   "source": [
    "# Specification of the position of the ghost point\n",
    "x_g = x_0 - h*S(1)/2\n",
    "\n",
    "# Evaluate the polynomial\n",
    "p = get_polynomial(get_coeff(values, specifiedPositions), specifiedPositions, x_g)\n",
    "display(Eq(fg, simplify(p)))"
   ]
  },
  {
   "cell_type": "markdown",
   "metadata": {},
   "source": [
    "### When we are not using the boundary value in the polynomial\n",
    "\n",
    "Our points to interpolate from are"
   ]
  },
  {
   "cell_type": "code",
   "execution_count": 10,
   "metadata": {
    "collapsed": false
   },
   "outputs": [
    {
     "data": {
      "image/png": "[encoded data removed]",
      "text/latex": [
       "$$\\left [ x_{0}, \\quad h + x_{0}, \\quad 2 h + x_{0}, \\quad 3 h + x_{0}, \\quad 4 h + x_{0}, \\quad 5 h + x_{0}\\right ]$$"
      ],
      "text/plain": [
       "[x₀, h + x₀, 2⋅h + x₀, 3⋅h + x₀, 4⋅h + x₀, 5⋅h + x₀]"
      ]
     },
     "metadata": {},
     "output_type": "display_data"
    }
   ],
   "source": [
    "# Specification of the inner points\n",
    "# Using x_0 as the reference point\n",
    "x_0 = x0\n",
    "x_1 = x0 + h\n",
    "x_2 = x0 + 2*h\n",
    "x_3 = x0 + 3*h\n",
    "x_4 = x0 + 4*h\n",
    "x_5 = x0 + 5*h\n",
    "specifiedPositions = [x_0, x_1, x_2, x_3, x_4, x_5]\n",
    "display(specifiedPositions)"
   ]
  },
  {
   "cell_type": "markdown",
   "metadata": {},
   "source": [
    "Evaluating the polynomial in $x_g=x_0-h$ yields"
   ]
  },
  {
   "cell_type": "code",
   "execution_count": 11,
   "metadata": {
    "collapsed": false
   },
   "outputs": [
    {
     "data": {
      "image/png": "[encoded data removed]",
      "text/latex": [
       "$$f_{g} = 6 f_{0} - 15 f_{1} + 20 f_{2} - 15 f_{3} + 6 f_{4} - f_{5}$$"
      ],
      "text/plain": [
       "f_g = 6⋅f₀ - 15⋅f₁ + 20⋅f₂ - 15⋅f₃ + 6⋅f₄ - f₅"
      ]
     },
     "metadata": {},
     "output_type": "display_data"
    }
   ],
   "source": [
    "# Specification of the position of the ghost point\n",
    "x_g = x_0 - h\n",
    "\n",
    "# Evaluate the polynomial\n",
    "p = get_polynomial(get_coeff(values, specifiedPositions), specifiedPositions, x_g)\n",
    "display(Eq(fg, simplify(p)))"
   ]
  },
  {
   "cell_type": "markdown",
   "metadata": {},
   "source": [
    "## When the ghost point is the last in the $x$ array"
   ]
  },
  {
   "cell_type": "markdown",
   "metadata": {},
   "source": [
    "### When we are using the boundary value in the polynomial\n",
    "\n",
    "Our points to interpolate from are"
   ]
  },
  {
   "cell_type": "code",
   "execution_count": 12,
   "metadata": {
    "collapsed": false
   },
   "outputs": [
    {
     "data": {
      "image/png": "[encoded data removed]",
      "text/latex": [
       "$$\\left [ x_{0}, \\quad h + x_{0}, \\quad 2 h + x_{0}, \\quad 3 h + x_{0}, \\quad 4 h + x_{0}, \\quad \\frac{9 h}{2} + x_{0}\\right ]$$"
      ],
      "text/plain": [
       "⎡                                          9⋅h     ⎤\n",
       "⎢x₀, h + x₀, 2⋅h + x₀, 3⋅h + x₀, 4⋅h + x₀, ─── + x₀⎥\n",
       "⎣                                           2      ⎦"
      ]
     },
     "metadata": {},
     "output_type": "display_data"
    }
   ],
   "source": [
    "# Specification of the inner points\n",
    "# Using x_0 as the reference point\n",
    "x_0 = x0\n",
    "x_1 = x0 + h\n",
    "x_2 = x0 + 2*h\n",
    "x_3 = x0 + 3*h\n",
    "x_4 = x0 + 4*h\n",
    "x_5 = x0 + (4+S(1)/2)*h\n",
    "specifiedPositions = [x_0, x_1, x_2, x_3, x_4, x_5]\n",
    "display(specifiedPositions)"
   ]
  },
  {
   "cell_type": "markdown",
   "metadata": {},
   "source": [
    "Evaluating the polynomial in $x_g=x_5+\\frac{h}{2}$, where $x_5$ is the boundary yields"
   ]
  },
  {
   "cell_type": "code",
   "execution_count": 13,
   "metadata": {
    "collapsed": false
   },
   "outputs": [
    {
     "data": {
      "image/png": "[encoded data removed]",
      "text/latex": [
       "$$f_{g} = - \\frac{f_{0}}{9} + \\frac{5 f_{1}}{7} - 2 f_{2} + \\frac{10 f_{3}}{3} - 5 f_{4} + \\frac{256 f_{5}}{63}$$"
      ],
      "text/plain": [
       "        f₀   5⋅f₁          10⋅f₃          256⋅f₅\n",
       "f_g = - ── + ──── - 2⋅f₂ + ───── - 5⋅f₄ + ──────\n",
       "        9     7              3              63  "
      ]
     },
     "metadata": {},
     "output_type": "display_data"
    }
   ],
   "source": [
    "# Specification of the position of the ghost point\n",
    "x_g = x_5 + h*S(1)/2\n",
    "\n",
    "# Evaluate the polynomial\n",
    "p = get_polynomial(get_coeff(values, specifiedPositions), specifiedPositions, x_g)\n",
    "display(Eq(fg, simplify(p)))"
   ]
  },
  {
   "cell_type": "markdown",
   "metadata": {},
   "source": [
    "### When we are not using the boundary value in the polynomial\n",
    "\n",
    "Our points to interpolate from are"
   ]
  },
  {
   "cell_type": "code",
   "execution_count": 14,
   "metadata": {
    "collapsed": false
   },
   "outputs": [
    {
     "data": {
      "image/png": "[encoded data removed]",
      "text/latex": [
       "$$\\left [ x_{0}, \\quad h + x_{0}, \\quad 2 h + x_{0}, \\quad 3 h + x_{0}, \\quad 4 h + x_{0}, \\quad 5 h + x_{0}\\right ]$$"
      ],
      "text/plain": [
       "[x₀, h + x₀, 2⋅h + x₀, 3⋅h + x₀, 4⋅h + x₀, 5⋅h + x₀]"
      ]
     },
     "metadata": {},
     "output_type": "display_data"
    }
   ],
   "source": [
    "# Specification of the points\n",
    "# Using x_0 as the reference point\n",
    "x_0 = x0\n",
    "x_1 = x0 + h\n",
    "x_2 = x0 + 2*h\n",
    "x_3 = x0 + 3*h\n",
    "x_4 = x0 + 4*h\n",
    "x_5 = x0 + 5*h\n",
    "specifiedPositions = [x_0, x_1, x_2, x_3, x_4, x_5]\n",
    "display(specifiedPositions)"
   ]
  },
  {
   "cell_type": "markdown",
   "metadata": {},
   "source": [
    "Evaluating the polynomial in $x_g=x_5+h$ yields"
   ]
  },
  {
   "cell_type": "code",
   "execution_count": 15,
   "metadata": {
    "collapsed": false
   },
   "outputs": [
    {
     "data": {
      "image/png": "[encoded data removed]",
      "text/latex": [
       "$$f_{g} = - f_{0} + 6 f_{1} - 15 f_{2} + 20 f_{3} - 15 f_{4} + 6 f_{5}$$"
      ],
      "text/plain": [
       "f_g = -f₀ + 6⋅f₁ - 15⋅f₂ + 20⋅f₃ - 15⋅f₄ + 6⋅f₅"
      ]
     },
     "metadata": {},
     "output_type": "display_data"
    }
   ],
   "source": [
    "# Specification of the position of the ghost point\n",
    "x_g = x_5 + h\n",
    "\n",
    "# Evaluate the polynomial\n",
    "p = get_polynomial(get_coeff(values, specifiedPositions), specifiedPositions, x_g)\n",
    "display(Eq(fg, simplify(p)))"
   ]
  }
 ],
 "metadata": {
  "kernelspec": {
   "display_name": "Python 3",
   "language": "python",
   "name": "python3"
  },
  "language_info": {
   "codemirror_mode": {
    "name": "ipython",
    "version": 3
   },
   "file_extension": ".py",
   "mimetype": "text/x-python",
   "name": "python",
   "nbconvert_exporter": "python",
   "pygments_lexer": "ipython3",
   "version": "3.5.1"
  }
 },
 "nbformat": 4,
 "nbformat_minor": 0
}
