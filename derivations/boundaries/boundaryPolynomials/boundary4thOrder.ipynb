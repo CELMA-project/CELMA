{
 "cells": [
  {
   "cell_type": "markdown",
   "metadata": {},
   "source": [
    "# Interpolation to value at boundary\n",
    "\n",
    "We will here use Newton polynomial in order to interpolate a value at the boundary using ghost points."
   ]
  },
  {
   "cell_type": "code",
   "execution_count": 1,
   "metadata": {
    "collapsed": false
   },
   "outputs": [],
   "source": [
    "from IPython.display import display\n",
    "from dividedDifferences import get_coeff, get_polynomial\n",
    "from sympy import init_printing\n",
    "from sympy import symbols, simplify, solve\n",
    "from sympy import Eq, S, Function\n",
    "\n",
    "init_printing()"
   ]
  },
  {
   "cell_type": "code",
   "execution_count": 2,
   "metadata": {
    "collapsed": true
   },
   "outputs": [],
   "source": [
    "# The values in the points we use for the extrapolation\n",
    "f0, f1, f2, f3 = symbols('f_0, f_1, f_2, f_3', real=True)\n",
    "values = [f0, f1, f2, f3]\n",
    "\n",
    "# Grid spacing \n",
    "h = symbols('h', real=True)\n",
    "\n",
    "# The value at the boundary\n",
    "fb = symbols('f_b', real=True)\n",
    "\n",
    "# Variables just for illustrative purposes\n",
    "x = symbols('x')\n",
    "# Coefficients in Newton polynomial\n",
    "a0, a1, a2, a3 = symbols('a_0, a_1, a_2, a_3')\n",
    "coeffs = [a0, a1, a2, a3]\n",
    "# The points to extrapolate from (when they are unspecified)\n",
    "x0, x1, x2, x3 = symbols('x_0, x_1, x_2, x_3')\n",
    "positions = [x0, x1, x2, x3]"
   ]
  },
  {
   "cell_type": "markdown",
   "metadata": {},
   "source": [
    "## Intro"
   ]
  },
  {
   "cell_type": "markdown",
   "metadata": {},
   "source": [
    "We have the following set of points we want to use to build the polynomial"
   ]
  },
  {
   "cell_type": "code",
   "execution_count": 3,
   "metadata": {
    "collapsed": false
   },
   "outputs": [
    {
     "data": {
      "image/png": "[encoded data removed]",
      "text/latex": [
       "$$\\left [ x_{0}, \\quad x_{1}, \\quad x_{2}, \\quad x_{3}\\right ]$$"
      ],
      "text/plain": [
       "[x₀, x₁, x₂, x₃]"
      ]
     },
     "metadata": {},
     "output_type": "display_data"
    }
   ],
   "source": [
    "display(positions)"
   ]
  },
  {
   "cell_type": "markdown",
   "metadata": {},
   "source": [
    "sorted after increasing value of the coordinate $x$. These points takes the following values"
   ]
  },
  {
   "cell_type": "code",
   "execution_count": 4,
   "metadata": {
    "collapsed": false
   },
   "outputs": [
    {
     "data": {
      "image/png": "[encoded data removed]",
      "text/latex": [
       "$$\\left [ f_{0}, \\quad f_{1}, \\quad f_{2}, \\quad f_{3}\\right ]$$"
      ],
      "text/plain": [
       "[f₀, f₁, f₂, f₃]"
      ]
     },
     "metadata": {},
     "output_type": "display_data"
    }
   ],
   "source": [
    "display(values)"
   ]
  },
  {
   "cell_type": "markdown",
   "metadata": {},
   "source": [
    "Our goal is to use these four points to build a Newton polynomial we can use to interpolate the boundary point $x_b$. \n",
    "\n",
    "$x_b$ may be the second first point in an array of the $x$ coordinates (that is we can order $x$ as $[x_0, x_b, x_1, x_2, x_3 \\ldots]$), or it may be the second last point (we can order $x$ as $[\\ldots, x_0, x_1, x_2, x_b, x_3]$).\n",
    "\n",
    "In any case:\n",
    "\n",
    "* Grid points are equally spaced with a gird space $h$ between them.\n",
    "* The boundary is located $\\frac{h}{2}$ between the ghost point and first/last inner grid points.\n",
    "* $x_0$ serves as the reference point"
   ]
  },
  {
   "cell_type": "markdown",
   "metadata": {},
   "source": [
    "## The Netwon polynomial\n",
    "\n",
    "The newton polynomial reads\n",
    "\n",
    "$$p_N(x) = a_{0} + \\sum_{i=1}^{N} a_{i} \\prod_{j=0}^{i-1} (x - x_j)$$\n",
    "\n",
    "our fourth order polynomial thus reads"
   ]
  },
  {
   "cell_type": "code",
   "execution_count": 5,
   "metadata": {
    "collapsed": false
   },
   "outputs": [
    {
     "data": {
      "image/png": "[encoded data removed]",
      "text/latex": [
       "$$\\operatorname{p_{N}}{\\left (x \\right )} = a_{0} + \\left(a_{1} + \\left(a_{2} + a_{3} \\left(x - x_{2}\\right)\\right) \\left(x - x_{1}\\right)\\right) \\left(x - x_{0}\\right)$$"
      ],
      "text/plain": [
       "p_N(x) = a₀ + (a₁ + (a₂ + a₃⋅(x - x₂))⋅(x - x₁))⋅(x - x₀)"
      ]
     },
     "metadata": {},
     "output_type": "display_data"
    }
   ],
   "source": [
    "display(Eq(symbols('p_N')(x), get_polynomial(coeffs, positions, symbols('x'))))"
   ]
  },
  {
   "cell_type": "markdown",
   "metadata": {},
   "source": [
    "### The coefficients\n",
    "The coefficients in the Newton polynomial reads"
   ]
  },
  {
   "cell_type": "code",
   "execution_count": 6,
   "metadata": {
    "collapsed": false
   },
   "outputs": [
    {
     "data": {
      "image/png": "[encoded data removed]",
      "text/latex": [
       "$$a_{0} = f_{0}$$"
      ],
      "text/plain": [
       "a₀ = f₀"
      ]
     },
     "metadata": {},
     "output_type": "display_data"
    },
    {
     "data": {
      "image/png": "[encoded data removed]",
      "text/latex": [
       "$$a_{1} = \\frac{- f_{0} + f_{1}}{- x_{0} + x_{1}}$$"
      ],
      "text/plain": [
       "     -f₀ + f₁\n",
       "a₁ = ────────\n",
       "     -x₀ + x₁"
      ]
     },
     "metadata": {},
     "output_type": "display_data"
    },
    {
     "data": {
      "image/png": "[encoded data removed]",
      "text/latex": [
       "$$a_{2} = \\frac{1}{- x_{0} + x_{2}} \\left(- \\frac{- f_{0} + f_{1}}{- x_{0} + x_{1}} + \\frac{- f_{1} + f_{2}}{- x_{1} + x_{2}}\\right)$$"
      ],
      "text/plain": [
       "       -f₀ + f₁   -f₁ + f₂\n",
       "     - ──────── + ────────\n",
       "       -x₀ + x₁   -x₁ + x₂\n",
       "a₂ = ─────────────────────\n",
       "            -x₀ + x₂      "
      ]
     },
     "metadata": {},
     "output_type": "display_data"
    },
    {
     "data": {
      "image/png": "[encoded data removed]",
      "text/latex": [
       "$$a_{3} = \\frac{1}{- x_{0} + x_{3}} \\left(\\frac{1}{- x_{1} + x_{3}} \\left(- \\frac{- f_{1} + f_{2}}{- x_{1} + x_{2}} + \\frac{- f_{2} + f_{3}}{- x_{2} + x_{3}}\\right) - \\frac{1}{- x_{0} + x_{2}} \\left(- \\frac{- f_{0} + f_{1}}{- x_{0} + x_{1}} + \\frac{- f_{1} + f_{2}}{- x_{1} + x_{2}}\\right)\\right)$$"
      ],
      "text/plain": [
       "       -f₁ + f₂   -f₂ + f₃     -f₀ + f₁   -f₁ + f₂\n",
       "     - ──────── + ────────   - ──────── + ────────\n",
       "       -x₁ + x₂   -x₂ + x₃     -x₀ + x₁   -x₁ + x₂\n",
       "     ───────────────────── - ─────────────────────\n",
       "            -x₁ + x₃                -x₀ + x₂      \n",
       "a₃ = ─────────────────────────────────────────────\n",
       "                        -x₀ + x₃                  "
      ]
     },
     "metadata": {},
     "output_type": "display_data"
    }
   ],
   "source": [
    "solvedCoeffs = get_coeff(values, positions)\n",
    "for nr, coeff in enumerate(solvedCoeffs):\n",
    "    display(Eq(symbols('a_'+str(nr)), coeff))"
   ]
  },
  {
   "cell_type": "markdown",
   "metadata": {},
   "source": [
    "Inserted in the polynomial yields"
   ]
  },
  {
   "cell_type": "code",
   "execution_count": 7,
   "metadata": {
    "collapsed": false
   },
   "outputs": [
    {
     "data": {
      "image/png": "[encoded data removed]",
      "text/latex": [
       "$$\\operatorname{p_{N}}{\\left (x \\right )} = f_{0} + \\left(x - x_{0}\\right) \\left(\\frac{- f_{0} + f_{1}}{- x_{0} + x_{1}} + \\left(x - x_{1}\\right) \\left(\\frac{1}{- x_{0} + x_{3}} \\left(x - x_{2}\\right) \\left(\\frac{1}{- x_{1} + x_{3}} \\left(- \\frac{- f_{1} + f_{2}}{- x_{1} + x_{2}} + \\frac{- f_{2} + f_{3}}{- x_{2} + x_{3}}\\right) - \\frac{1}{- x_{0} + x_{2}} \\left(- \\frac{- f_{0} + f_{1}}{- x_{0} + x_{1}} + \\frac{- f_{1} + f_{2}}{- x_{1} + x_{2}}\\right)\\right) + \\frac{1}{- x_{0} + x_{2}} \\left(- \\frac{- f_{0} + f_{1}}{- x_{0} + x_{1}} + \\frac{- f_{1} + f_{2}}{- x_{1} + x_{2}}\\right)\\right)\\right)$$"
      ],
      "text/plain": [
       "                       ⎛                    ⎛         ⎛  -f₁ + f₂   -f₂ + f₃  \n",
       "                       ⎜                    ⎜         ⎜- ──────── + ────────  \n",
       "                       ⎜                    ⎜         ⎜  -x₁ + x₂   -x₂ + x₃  \n",
       "                       ⎜                    ⎜(x - x₂)⋅⎜───────────────────── -\n",
       "                       ⎜-f₀ + f₁            ⎜         ⎝       -x₁ + x₃        \n",
       "p_N(x) = f₀ + (x - x₀)⋅⎜──────── + (x - x₁)⋅⎜─────────────────────────────────\n",
       "                       ⎝-x₀ + x₁            ⎝                        -x₀ + x₃ \n",
       "\n",
       "   -f₀ + f₁   -f₁ + f₂⎞                        ⎞⎞\n",
       " - ──────── + ────────⎟                        ⎟⎟\n",
       "   -x₀ + x₁   -x₁ + x₂⎟     -f₀ + f₁   -f₁ + f₂⎟⎟\n",
       " ─────────────────────⎟   - ──────── + ────────⎟⎟\n",
       "        -x₀ + x₂      ⎠     -x₀ + x₁   -x₁ + x₂⎟⎟\n",
       "─────────────────────── + ─────────────────────⎟⎟\n",
       "                                 -x₀ + x₂      ⎠⎠"
      ]
     },
     "metadata": {},
     "output_type": "display_data"
    }
   ],
   "source": [
    "display(Eq(Function('p_N')(x), get_polynomial(solvedCoeffs, positions, x)))"
   ]
  },
  {
   "cell_type": "markdown",
   "metadata": {},
   "source": [
    "Our points to interpolate from are"
   ]
  },
  {
   "cell_type": "code",
   "execution_count": 8,
   "metadata": {
    "collapsed": false
   },
   "outputs": [
    {
     "data": {
      "image/png": "[encoded data removed]",
      "text/latex": [
       "$$\\left [ x_{0}, \\quad h + x_{0}, \\quad 2 h + x_{0}, \\quad 3 h + x_{0}\\right ]$$"
      ],
      "text/plain": [
       "[x₀, h + x₀, 2⋅h + x₀, 3⋅h + x₀]"
      ]
     },
     "metadata": {},
     "output_type": "display_data"
    }
   ],
   "source": [
    "# Specification of the points\n",
    "# Using x_0 as the reference point\n",
    "x_0 = x0\n",
    "x_1 = x0 + h\n",
    "x_2 = x0 + 2*h\n",
    "x_3 = x0 + 3*h\n",
    "specifiedPositions = [x_0, x_1, x_2, x_3]\n",
    "display(specifiedPositions)"
   ]
  },
  {
   "cell_type": "markdown",
   "metadata": {},
   "source": [
    "## When the ghost point is the last in the $x$ array"
   ]
  },
  {
   "cell_type": "markdown",
   "metadata": {},
   "source": [
    "Evaluating the polynomial in $x_g=x_2+\\frac{h}{2}$, where $x_3$ is location of the ghost point"
   ]
  },
  {
   "cell_type": "code",
   "execution_count": 9,
   "metadata": {
    "collapsed": false
   },
   "outputs": [
    {
     "data": {
      "image/png": "[encoded data removed]",
      "text/latex": [
       "$$f_{b} = \\frac{f_{0}}{16} - \\frac{5 f_{1}}{16} + \\frac{15 f_{2}}{16} + \\frac{5 f_{3}}{16}$$"
      ],
      "text/plain": [
       "      f₀   5⋅f₁   15⋅f₂   5⋅f₃\n",
       "f_b = ── - ──── + ───── + ────\n",
       "      16    16      16     16 "
      ]
     },
     "metadata": {},
     "output_type": "display_data"
    }
   ],
   "source": [
    "# Specification of the boundary position\n",
    "x_b = x_3 - h*S(1)/2\n",
    "\n",
    "# Evaluate the polynomial\n",
    "p = get_polynomial(get_coeff(values, specifiedPositions), specifiedPositions, x_b)\n",
    "display(Eq(fb, simplify(p)))"
   ]
  },
  {
   "cell_type": "markdown",
   "metadata": {
    "collapsed": true
   },
   "source": [
    "Solving for the ghost point yields"
   ]
  },
  {
   "cell_type": "code",
   "execution_count": 10,
   "metadata": {
    "collapsed": false
   },
   "outputs": [
    {
     "data": {
      "image/png": "[encoded data removed]",
      "text/latex": [
       "$$f_{3} = - \\frac{f_{0}}{5} + f_{1} - 3 f_{2} + \\frac{16 f_{b}}{5}$$"
      ],
      "text/plain": [
       "       f₀               16⋅f_b\n",
       "f₃ = - ── + f₁ - 3⋅f₂ + ──────\n",
       "       5                  5   "
      ]
     },
     "metadata": {},
     "output_type": "display_data"
    }
   ],
   "source": [
    "sol = solve(Eq(p,fb),f3)\n",
    "display(Eq(f3, sol[0]))"
   ]
  },
  {
   "cell_type": "markdown",
   "metadata": {},
   "source": [
    "## When the ghost point is the first in the $x$ array"
   ]
  },
  {
   "cell_type": "markdown",
   "metadata": {},
   "source": [
    "Evaluating the polynomial in $x_g=x_0+\\frac{h}{2}$, where $x_0$ is the location of the ghost point"
   ]
  },
  {
   "cell_type": "code",
   "execution_count": 11,
   "metadata": {
    "collapsed": false
   },
   "outputs": [
    {
     "data": {
      "image/png": "[encoded data removed]",
      "text/latex": [
       "$$f_{b} = \\frac{5 f_{0}}{16} + \\frac{15 f_{1}}{16} - \\frac{5 f_{2}}{16} + \\frac{f_{3}}{16}$$"
      ],
      "text/plain": [
       "      5⋅f₀   15⋅f₁   5⋅f₂   f₃\n",
       "f_b = ──── + ───── - ──── + ──\n",
       "       16      16     16    16"
      ]
     },
     "metadata": {},
     "output_type": "display_data"
    }
   ],
   "source": [
    "# Specification of the boundary position\n",
    "x_b = x_0 + h*S(1)/2\n",
    "\n",
    "# Evaluate the polynomial\n",
    "p = get_polynomial(get_coeff(values, specifiedPositions), specifiedPositions, x_b)\n",
    "display(Eq(fb, simplify(p)))"
   ]
  },
  {
   "cell_type": "markdown",
   "metadata": {},
   "source": [
    "Solving for the ghost point yields"
   ]
  },
  {
   "cell_type": "code",
   "execution_count": 12,
   "metadata": {
    "collapsed": false
   },
   "outputs": [
    {
     "data": {
      "image/png": "[encoded data removed]",
      "text/latex": [
       "$$f_{0} = - 3 f_{1} + f_{2} - \\frac{f_{3}}{5} + \\frac{16 f_{b}}{5}$$"
      ],
      "text/plain": [
       "                  f₃   16⋅f_b\n",
       "f₀ = -3⋅f₁ + f₂ - ── + ──────\n",
       "                  5      5   "
      ]
     },
     "metadata": {},
     "output_type": "display_data"
    }
   ],
   "source": [
    "sol = solve(Eq(p,fb),f0)\n",
    "display(Eq(f0, sol[0]))"
   ]
  }
 ],
 "metadata": {
  "kernelspec": {
   "display_name": "Python 3",
   "language": "python",
   "name": "python3"
  },
  "language_info": {
   "codemirror_mode": {
    "name": "ipython",
    "version": 3
   },
   "file_extension": ".py",
   "mimetype": "text/x-python",
   "name": "python",
   "nbconvert_exporter": "python",
   "pygments_lexer": "ipython3",
   "version": "3.5.2"
  }
 },
 "nbformat": 4,
 "nbformat_minor": 0
}
