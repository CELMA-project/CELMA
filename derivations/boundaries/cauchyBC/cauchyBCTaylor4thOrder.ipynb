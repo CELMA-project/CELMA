{
 "cells": [
  {
   "cell_type": "markdown",
   "metadata": {},
   "source": [
    "# Derivation of the cauchy BC\n",
    "\n",
    "**WARNING:** Looks like this is a derivation of the Robin boundary condition\n",
    "\n",
    "We would like to derive the cauchy BC, which for a field $f$ reads\n",
    "\n",
    "$$\n",
    "f(0) = a\\\\\n",
    "\\partial_z f\\big|_0 = b\n",
    "$$\n",
    "\n",
    "By using the method of undetermined coefficients. We will use \n",
    "\n",
    "$$\n",
    "f_g^I = f_g^I(f_{BC}, f_{BC}', f_1, f_2, f_3)\n",
    "$$\n",
    "\n",
    "where $f_g^I$ is the function at the ghost point extrapolated from the other points. \n",
    "We will use the notation $f_g=f(x_g)=f_{-1}$ for the ghost point, and $f_{BC}$ for the function at the boundary.\n",
    "Further, we will us $x_{BC} = x_{g} + \\frac{h}{2}$.\n",
    "Here, the prime $f'$ will denote the derivative with respect to the dependent variable.\n",
    "\n",
    "**WARNING**: Only finds first order convergence with this scheme"
   ]
  },
  {
   "cell_type": "markdown",
   "metadata": {},
   "source": [
    "## Initialization"
   ]
  },
  {
   "cell_type": "code",
   "execution_count": 1,
   "metadata": {
    "collapsed": true
   },
   "outputs": [],
   "source": [
    "from IPython.display import display\n",
    "from sympy import init_printing, latex\n",
    "from sympy import symbols, sympify, solve\n",
    "from sympy import Function, Eq\n",
    "\n",
    "init_printing()"
   ]
  },
  {
   "cell_type": "code",
   "execution_count": 2,
   "metadata": {},
   "outputs": [],
   "source": [
    "def replaceDerivativesAndFg(eq, terms):\n",
    "    \"\"\"Replaces the derivatives and f(x_BC) with something easier to work with\"\"\"\n",
    "    eq = eq.replace('f(x_BC)', 'f_BC')\n",
    "    for n in range(terms):\n",
    "        eq = eq.replace('Subs(Derivative(f(_xi_1),' + ' _xi_1,'*n + ' _xi_1' + '), (_xi_1,), (x_BC,))', 'f_x' + 'x'*n)\n",
    "    sympify(eq)\n",
    "    return eq"
   ]
  },
  {
   "cell_type": "code",
   "execution_count": 3,
   "metadata": {},
   "outputs": [],
   "source": [
    "x, xBC = symbols('x, x_BC')\n",
    "a, b = symbols('a, b')\n",
    "h = symbols('h', positive=True)\n",
    "\n",
    "f = Function('f')\n",
    "fm1, fBC, f1, f2, f3 = symbols('f_-1, f_BC, f_1, f_2, f_3')\n",
    "cm1, c1, c2, c3 = symbols('cm1, c_1, c_2, c_3')\n",
    "\n",
    "\n",
    "terms = 5"
   ]
  },
  {
   "cell_type": "markdown",
   "metadata": {
    "collapsed": true
   },
   "source": [
    "Taylor expasion of $f$ expanded around $a=x_{BC}-\\frac{h}{2}$ evaluated in $x=x_{BC}$"
   ]
  },
  {
   "cell_type": "code",
   "execution_count": 4,
   "metadata": {},
   "outputs": [
    {
     "data": {
      "image/png": "[encoded data removed]",
      "text/latex": [
       "$$f_{-1} = f{\\left (x_{BC} \\right )} - \\frac{h}{2} \\left. \\frac{d}{d \\xi_{1}} f{\\left (\\xi_{1} \\right )} \\right|_{\\substack{ \\xi_{1}=x_{BC} }} + \\frac{h^{2}}{8} \\left. \\frac{d^{2}}{d \\xi_{1}^{2}}  f{\\left (\\xi_{1} \\right )} \\right|_{\\substack{ \\xi_{1}=x_{BC} }} - \\frac{h^{3}}{48} \\left. \\frac{d^{3}}{d \\xi_{1}^{3}}  f{\\left (\\xi_{1} \\right )} \\right|_{\\substack{ \\xi_{1}=x_{BC} }} + \\frac{h^{4}}{384} \\left. \\frac{d^{4}}{d \\xi_{1}^{4}}  f{\\left (\\xi_{1} \\right )} \\right|_{\\substack{ \\xi_{1}=x_{BC} }} + \\mathcal{O}\\left(h^{5} + h^{4} x + h^{3} x^{2} + h^{2} x^{3} + h x^{4} + x^{5}; \\left ( h, \\quad x\\right )\\rightarrow\\left ( 0, \\quad 0\\right )\\right)$$"
      ],
      "text/plain": [
       "                                            ⎛  2        ⎞│             ⎛  3   \n",
       "                                          2 ⎜ d         ⎟│           3 ⎜ d    \n",
       "                  ⎛ d        ⎞│          h ⋅⎜────(f(ξ₁))⎟│          h ⋅⎜────(f\n",
       "                h⋅⎜───(f(ξ₁))⎟│             ⎜   2       ⎟│             ⎜   3  \n",
       "                  ⎝dξ₁       ⎠│ξ₁=x_BC      ⎝dξ₁        ⎠│ξ₁=x_BC      ⎝dξ₁   \n",
       "f₋₁ = f(x_BC) - ────────────────────── + ──────────────────────── - ──────────\n",
       "                          2                         8                         \n",
       "\n",
       "     ⎞│             ⎛  4        ⎞│                                            \n",
       "     ⎟│           4 ⎜ d         ⎟│                                            \n",
       "(ξ₁))⎟│          h ⋅⎜────(f(ξ₁))⎟│                                            \n",
       "     ⎟│             ⎜   4       ⎟│                                            \n",
       "     ⎠│ξ₁=x_BC      ⎝dξ₁        ⎠│ξ₁=x_BC    ⎛ 5    4      3  2    2  3      4\n",
       "────────────── + ──────────────────────── + O⎝h  + h ⋅x + h ⋅x  + h ⋅x  + h⋅x \n",
       " 48                        384                                                \n",
       "\n",
       "                       \n",
       "                       \n",
       "                       \n",
       "                       \n",
       "    5                 ⎞\n",
       " + x ; (h, x) → (0, 0)⎠\n",
       "                       "
      ]
     },
     "metadata": {},
     "output_type": "display_data"
    },
    {
     "data": {
      "image/png": "[encoded data removed]",
      "text/latex": [
       "$$f_{-1} = \\frac{f_{xxxx} h^{4}}{384} - \\frac{f_{xxx} h^{3}}{48} + \\frac{f_{xx} h^{2}}{8} - \\frac{f_{x} h}{2} + f_{BC} + \\mathcal{O}\\left(h^{5} + h^{4} x + h^{3} x^{2} + h^{2} x^{3} + h x^{4} + x^{5}; \\left ( h, \\quad x\\right )\\rightarrow\\left ( 0, \\quad 0\\right )\\right)$$"
      ],
      "text/plain": [
       "             4         3        2                                             \n",
       "      fₓₓₓₓ⋅h    fₓₓₓ⋅h    fₓₓ⋅h    fₓ⋅h           ⎛ 5    4      3  2    2  3 \n",
       "f₋₁ = ──────── - ─────── + ────── - ──── + f_BC + O⎝h  + h ⋅x + h ⋅x  + h ⋅x  \n",
       "        384         48       8       2                                        \n",
       "\n",
       "                             \n",
       "     4    5                 ⎞\n",
       "+ h⋅x  + x ; (h, x) → (0, 0)⎠\n",
       "                             "
      ]
     },
     "metadata": {},
     "output_type": "display_data"
    }
   ],
   "source": [
    "f_m1 = f(x-(h/2)).series(x-(h/2), x0=xBC, n=terms)\n",
    "f_m1 = f_m1.subs(x-xBC,0)\n",
    "f_m1 = Eq(fm1,f_m1)\n",
    "display(f_m1)\n",
    "f_m1 = replaceDerivativesAndFg(f_m1, terms)\n",
    "display(f_m1)"
   ]
  },
  {
   "cell_type": "markdown",
   "metadata": {
    "collapsed": true
   },
   "source": [
    "Taylor expasion of $f$ expanded around $a=x_{BC}+\\frac{h}{2}$ evaluated in $x=x_{BC}$"
   ]
  },
  {
   "cell_type": "code",
   "execution_count": 5,
   "metadata": {},
   "outputs": [
    {
     "data": {
      "image/png": "[encoded data removed]",
      "text/latex": [
       "$$f_{1} = f{\\left (x_{BC} \\right )} + \\frac{h}{2} \\left. \\frac{d}{d \\xi_{1}} f{\\left (\\xi_{1} \\right )} \\right|_{\\substack{ \\xi_{1}=x_{BC} }} + \\frac{h^{2}}{8} \\left. \\frac{d^{2}}{d \\xi_{1}^{2}}  f{\\left (\\xi_{1} \\right )} \\right|_{\\substack{ \\xi_{1}=x_{BC} }} + \\frac{h^{3}}{48} \\left. \\frac{d^{3}}{d \\xi_{1}^{3}}  f{\\left (\\xi_{1} \\right )} \\right|_{\\substack{ \\xi_{1}=x_{BC} }} + \\frac{h^{4}}{384} \\left. \\frac{d^{4}}{d \\xi_{1}^{4}}  f{\\left (\\xi_{1} \\right )} \\right|_{\\substack{ \\xi_{1}=x_{BC} }} + \\mathcal{O}\\left(h^{5} + h^{4} x + h^{3} x^{2} + h^{2} x^{3} + h x^{4} + x^{5}; \\left ( h, \\quad x\\right )\\rightarrow\\left ( 0, \\quad 0\\right )\\right)$$"
      ],
      "text/plain": [
       "                                           ⎛  2        ⎞│             ⎛  3    \n",
       "                                         2 ⎜ d         ⎟│           3 ⎜ d     \n",
       "                 ⎛ d        ⎞│          h ⋅⎜────(f(ξ₁))⎟│          h ⋅⎜────(f(\n",
       "               h⋅⎜───(f(ξ₁))⎟│             ⎜   2       ⎟│             ⎜   3   \n",
       "                 ⎝dξ₁       ⎠│ξ₁=x_BC      ⎝dξ₁        ⎠│ξ₁=x_BC      ⎝dξ₁    \n",
       "f₁ = f(x_BC) + ────────────────────── + ──────────────────────── + ───────────\n",
       "                         2                         8                          \n",
       "\n",
       "    ⎞│             ⎛  4        ⎞│                                             \n",
       "    ⎟│           4 ⎜ d         ⎟│                                             \n",
       "ξ₁))⎟│          h ⋅⎜────(f(ξ₁))⎟│                                             \n",
       "    ⎟│             ⎜   4       ⎟│                                             \n",
       "    ⎠│ξ₁=x_BC      ⎝dξ₁        ⎠│ξ₁=x_BC    ⎛ 5    4      3  2    2  3      4 \n",
       "───────────── + ──────────────────────── + O⎝h  + h ⋅x + h ⋅x  + h ⋅x  + h⋅x  \n",
       "48                        384                                                 \n",
       "\n",
       "                      \n",
       "                      \n",
       "                      \n",
       "                      \n",
       "   5                 ⎞\n",
       "+ x ; (h, x) → (0, 0)⎠\n",
       "                      "
      ]
     },
     "metadata": {},
     "output_type": "display_data"
    },
    {
     "data": {
      "image/png": "[encoded data removed]",
      "text/latex": [
       "$$f_{1} = \\frac{f_{xxxx} h^{4}}{384} + \\frac{f_{xxx} h^{3}}{48} + \\frac{f_{xx} h^{2}}{8} + \\frac{f_{x} h}{2} + f_{BC} + \\mathcal{O}\\left(h^{5} + h^{4} x + h^{3} x^{2} + h^{2} x^{3} + h x^{4} + x^{5}; \\left ( h, \\quad x\\right )\\rightarrow\\left ( 0, \\quad 0\\right )\\right)$$"
      ],
      "text/plain": [
       "            4         3        2                                              \n",
       "     fₓₓₓₓ⋅h    fₓₓₓ⋅h    fₓₓ⋅h    fₓ⋅h           ⎛ 5    4      3  2    2  3  \n",
       "f₁ = ──────── + ─────── + ────── + ──── + f_BC + O⎝h  + h ⋅x + h ⋅x  + h ⋅x  +\n",
       "       384         48       8       2                                         \n",
       "\n",
       "                            \n",
       "    4    5                 ⎞\n",
       " h⋅x  + x ; (h, x) → (0, 0)⎠\n",
       "                            "
      ]
     },
     "metadata": {},
     "output_type": "display_data"
    }
   ],
   "source": [
    "f_1 = f(x+(h/2)).series(x+(h/2), x0=xBC, n=terms)\n",
    "f_1 = f_1.subs(x-xBC,0)\n",
    "f_1 = Eq(f1,f_1)\n",
    "display(f_1)\n",
    "f_1 = replaceDerivativesAndFg(f_1, terms)\n",
    "display(f_1)"
   ]
  },
  {
   "cell_type": "markdown",
   "metadata": {
    "collapsed": true
   },
   "source": [
    "Taylor expasion of $f$ expanded around $a=x_{BC}+\\frac{3h}{2}$ evaluated in $x=x_{BC}$"
   ]
  },
  {
   "cell_type": "code",
   "execution_count": 6,
   "metadata": {},
   "outputs": [
    {
     "data": {
      "image/png": "[encoded data removed]",
      "text/latex": [
       "$$f_{2} = f{\\left (x_{BC} \\right )} + \\frac{3 h}{2} \\left. \\frac{d}{d \\xi_{1}} f{\\left (\\xi_{1} \\right )} \\right|_{\\substack{ \\xi_{1}=x_{BC} }} + \\frac{9 h^{2}}{8} \\left. \\frac{d^{2}}{d \\xi_{1}^{2}}  f{\\left (\\xi_{1} \\right )} \\right|_{\\substack{ \\xi_{1}=x_{BC} }} + \\frac{9 h^{3}}{16} \\left. \\frac{d^{3}}{d \\xi_{1}^{3}}  f{\\left (\\xi_{1} \\right )} \\right|_{\\substack{ \\xi_{1}=x_{BC} }} + \\frac{27 h^{4}}{128} \\left. \\frac{d^{4}}{d \\xi_{1}^{4}}  f{\\left (\\xi_{1} \\right )} \\right|_{\\substack{ \\xi_{1}=x_{BC} }} + \\mathcal{O}\\left(h^{5} + h^{4} x + h^{3} x^{2} + h^{2} x^{3} + h x^{4} + x^{5}; \\left ( h, \\quad x\\right )\\rightarrow\\left ( 0, \\quad 0\\right )\\right)$$"
      ],
      "text/plain": [
       "                                               ⎛  2        ⎞│               ⎛ \n",
       "                                             2 ⎜ d         ⎟│             3 ⎜ \n",
       "                   ⎛ d        ⎞│          9⋅h ⋅⎜────(f(ξ₁))⎟│          9⋅h ⋅⎜─\n",
       "               3⋅h⋅⎜───(f(ξ₁))⎟│               ⎜   2       ⎟│               ⎜ \n",
       "                   ⎝dξ₁       ⎠│ξ₁=x_BC        ⎝dξ₁        ⎠│ξ₁=x_BC        ⎝d\n",
       "f₂ = f(x_BC) + ──────────────────────── + ────────────────────────── + ───────\n",
       "                          2                           8                       \n",
       "\n",
       " 3        ⎞│                ⎛  4        ⎞│                                    \n",
       "d         ⎟│              4 ⎜ d         ⎟│                                    \n",
       "───(f(ξ₁))⎟│          27⋅h ⋅⎜────(f(ξ₁))⎟│                                    \n",
       "  3       ⎟│                ⎜   4       ⎟│                                    \n",
       "ξ₁        ⎠│ξ₁=x_BC         ⎝dξ₁        ⎠│ξ₁=x_BC    ⎛ 5    4      3  2    2  \n",
       "─────────────────── + ─────────────────────────── + O⎝h  + h ⋅x + h ⋅x  + h ⋅x\n",
       "     16                           128                                         \n",
       "\n",
       "                               \n",
       "                               \n",
       "                               \n",
       "                               \n",
       "3      4    5                 ⎞\n",
       "  + h⋅x  + x ; (h, x) → (0, 0)⎠\n",
       "                               "
      ]
     },
     "metadata": {},
     "output_type": "display_data"
    },
    {
     "data": {
      "image/png": "[encoded data removed]",
      "text/latex": [
       "$$f_{2} = \\frac{27 f_{xxxx}}{128} h^{4} + \\frac{9 f_{xxx}}{16} h^{3} + \\frac{9 f_{xx}}{8} h^{2} + \\frac{3 f_{x}}{2} h + f_{BC} + \\mathcal{O}\\left(h^{5} + h^{4} x + h^{3} x^{2} + h^{2} x^{3} + h x^{4} + x^{5}; \\left ( h, \\quad x\\right )\\rightarrow\\left ( 0, \\quad 0\\right )\\right)$$"
      ],
      "text/plain": [
       "               4           3          2                                       \n",
       "     27⋅fₓₓₓₓ⋅h    9⋅fₓₓₓ⋅h    9⋅fₓₓ⋅h    3⋅fₓ⋅h           ⎛ 5    4      3  2 \n",
       "f₂ = ─────────── + ───────── + ──────── + ────── + f_BC + O⎝h  + h ⋅x + h ⋅x  \n",
       "         128           16         8         2                                 \n",
       "\n",
       "                                     \n",
       "   2  3      4    5                 ⎞\n",
       "+ h ⋅x  + h⋅x  + x ; (h, x) → (0, 0)⎠\n",
       "                                     "
      ]
     },
     "metadata": {},
     "output_type": "display_data"
    }
   ],
   "source": [
    "f_2 = f(x+(3*h/2)).series(x+(3*h/2), x0=xBC, n=terms)\n",
    "f_2 = f_2.subs(x-xBC,0)\n",
    "f_2 = Eq(f2,f_2)\n",
    "display(f_2)\n",
    "f_2 = replaceDerivativesAndFg(f_2, terms)\n",
    "display(f_2)"
   ]
  },
  {
   "cell_type": "markdown",
   "metadata": {
    "collapsed": true
   },
   "source": [
    "Taylor expasion of $f$ expanded around $a=x_{BC}+\\frac{5h}{2}$ evaluated in $x=x_{BC}$"
   ]
  },
  {
   "cell_type": "code",
   "execution_count": 7,
   "metadata": {},
   "outputs": [
    {
     "data": {
      "image/png": "[encoded data removed]",
      "text/latex": [
       "$$f_{3} = f{\\left (x_{BC} \\right )} + \\frac{5 h}{2} \\left. \\frac{d}{d \\xi_{1}} f{\\left (\\xi_{1} \\right )} \\right|_{\\substack{ \\xi_{1}=x_{BC} }} + \\frac{25 h^{2}}{8} \\left. \\frac{d^{2}}{d \\xi_{1}^{2}}  f{\\left (\\xi_{1} \\right )} \\right|_{\\substack{ \\xi_{1}=x_{BC} }} + \\frac{125 h^{3}}{48} \\left. \\frac{d^{3}}{d \\xi_{1}^{3}}  f{\\left (\\xi_{1} \\right )} \\right|_{\\substack{ \\xi_{1}=x_{BC} }} + \\frac{625 h^{4}}{384} \\left. \\frac{d^{4}}{d \\xi_{1}^{4}}  f{\\left (\\xi_{1} \\right )} \\right|_{\\substack{ \\xi_{1}=x_{BC} }} + \\mathcal{O}\\left(h^{5} + h^{4} x + h^{3} x^{2} + h^{2} x^{3} + h x^{4} + x^{5}; \\left ( h, \\quad x\\right )\\rightarrow\\left ( 0, \\quad 0\\right )\\right)$$"
      ],
      "text/plain": [
       "                                                ⎛  2        ⎞│                \n",
       "                                              2 ⎜ d         ⎟│               3\n",
       "                   ⎛ d        ⎞│          25⋅h ⋅⎜────(f(ξ₁))⎟│          125⋅h \n",
       "               5⋅h⋅⎜───(f(ξ₁))⎟│                ⎜   2       ⎟│                \n",
       "                   ⎝dξ₁       ⎠│ξ₁=x_BC         ⎝dξ₁        ⎠│ξ₁=x_BC         \n",
       "f₃ = f(x_BC) + ──────────────────────── + ─────────────────────────── + ──────\n",
       "                          2                            8                      \n",
       "\n",
       " ⎛  3        ⎞│                 ⎛  4        ⎞│                                \n",
       " ⎜ d         ⎟│               4 ⎜ d         ⎟│                                \n",
       "⋅⎜────(f(ξ₁))⎟│          625⋅h ⋅⎜────(f(ξ₁))⎟│                                \n",
       " ⎜   3       ⎟│                 ⎜   4       ⎟│                                \n",
       " ⎝dξ₁        ⎠│ξ₁=x_BC          ⎝dξ₁        ⎠│ξ₁=x_BC    ⎛ 5    4      3  2   \n",
       "────────────────────── + ──────────────────────────── + O⎝h  + h ⋅x + h ⋅x  + \n",
       "       48                            384                                      \n",
       "\n",
       "                                   \n",
       "                                   \n",
       "                                   \n",
       "                                   \n",
       " 2  3      4    5                 ⎞\n",
       "h ⋅x  + h⋅x  + x ; (h, x) → (0, 0)⎠\n",
       "                                   "
      ]
     },
     "metadata": {},
     "output_type": "display_data"
    },
    {
     "data": {
      "image/png": "[encoded data removed]",
      "text/latex": [
       "$$f_{3} = \\frac{625 f_{xxxx}}{384} h^{4} + \\frac{125 f_{xxx}}{48} h^{3} + \\frac{25 f_{xx}}{8} h^{2} + \\frac{5 f_{x}}{2} h + f_{BC} + \\mathcal{O}\\left(h^{5} + h^{4} x + h^{3} x^{2} + h^{2} x^{3} + h x^{4} + x^{5}; \\left ( h, \\quad x\\right )\\rightarrow\\left ( 0, \\quad 0\\right )\\right)$$"
      ],
      "text/plain": [
       "                4             3           2                                   \n",
       "     625⋅fₓₓₓₓ⋅h    125⋅fₓₓₓ⋅h    25⋅fₓₓ⋅h    5⋅fₓ⋅h           ⎛ 5    4      3\n",
       "f₃ = ──────────── + ─────────── + ───────── + ────── + f_BC + O⎝h  + h ⋅x + h \n",
       "         384             48           8         2                             \n",
       "\n",
       "                                         \n",
       "  2    2  3      4    5                 ⎞\n",
       "⋅x  + h ⋅x  + h⋅x  + x ; (h, x) → (0, 0)⎠\n",
       "                                         "
      ]
     },
     "metadata": {},
     "output_type": "display_data"
    }
   ],
   "source": [
    "f_3 = f(x+(5*h/2)).series(x+(5*h/2), x0=xBC, n=terms)\n",
    "f_3 = f_3.subs(x-xBC,0)\n",
    "f_3 = Eq(f3,f_3)\n",
    "display(f_3)\n",
    "f_3 = replaceDerivativesAndFg(f_3, terms)\n",
    "display(f_3)"
   ]
  },
  {
   "cell_type": "markdown",
   "metadata": {},
   "source": [
    "# Make a linear combination of $f_{-1}$, $f_1$, $f_2$, $f_3$ and $f_4$ \n",
    "\n",
    "The linear combination will be made from the discretizations above. \n",
    "We will rearrange the linear combination, and collect terms of $f_{BC}$, $f_x$, $f_xx$ etc.\n",
    "The goal is to have a Cauchy boundary condition on the form\n",
    "\n",
    "$$f_{BC} + f_x = c_{-1}f_{-1} + c_1f_1 + c_2f_2 + c_3f_3 + \\mathcal{O}(h^4)$$\n",
    "\n",
    "We start by making the linear combination"
   ]
  },
  {
   "cell_type": "code",
   "execution_count": 8,
   "metadata": {},
   "outputs": [
    {
     "data": {
      "image/png": "[encoded data removed]",
      "text/latex": [
       "$$c_{1} f_{1} + c_{2} f_{2} + c_{3} f_{3} + cm_{1} f_{-1} = c_{1} \\left(\\frac{f_{xxxx} h^{4}}{384} + \\frac{f_{xxx} h^{3}}{48} + \\frac{f_{xx} h^{2}}{8} + \\frac{f_{x} h}{2} + f_{BC} + \\mathcal{O}\\left(h^{5} + h^{4} x + h^{3} x^{2} + h^{2} x^{3} + h x^{4} + x^{5}; \\left ( h, \\quad x\\right )\\rightarrow\\left ( 0, \\quad 0\\right )\\right)\\right) + c_{2} \\left(\\frac{27 f_{xxxx}}{128} h^{4} + \\frac{9 f_{xxx}}{16} h^{3} + \\frac{9 f_{xx}}{8} h^{2} + \\frac{3 f_{x}}{2} h + f_{BC} + \\mathcal{O}\\left(h^{5} + h^{4} x + h^{3} x^{2} + h^{2} x^{3} + h x^{4} + x^{5}; \\left ( h, \\quad x\\right )\\rightarrow\\left ( 0, \\quad 0\\right )\\right)\\right) + c_{3} \\left(\\frac{625 f_{xxxx}}{384} h^{4} + \\frac{125 f_{xxx}}{48} h^{3} + \\frac{25 f_{xx}}{8} h^{2} + \\frac{5 f_{x}}{2} h + f_{BC} + \\mathcal{O}\\left(h^{5} + h^{4} x + h^{3} x^{2} + h^{2} x^{3} + h x^{4} + x^{5}; \\left ( h, \\quad x\\right )\\rightarrow\\left ( 0, \\quad 0\\right )\\right)\\right) + cm_{1} \\left(\\frac{f_{xxxx} h^{4}}{384} - \\frac{f_{xxx} h^{3}}{48} + \\frac{f_{xx} h^{2}}{8} - \\frac{f_{x} h}{2} + f_{BC} + \\mathcal{O}\\left(h^{5} + h^{4} x + h^{3} x^{2} + h^{2} x^{3} + h x^{4} + x^{5}; \\left ( h, \\quad x\\right )\\rightarrow\\left ( 0, \\quad 0\\right )\\right)\\right)$$"
      ],
      "text/plain": [
       "                                     ⎛       4         3        2             \n",
       "                                     ⎜fₓₓₓₓ⋅h    fₓₓₓ⋅h    fₓₓ⋅h    fₓ⋅h      \n",
       "c₁⋅f₁ + c₂⋅f₂ + c₃⋅f₃ + cm₁⋅f₋₁ = c₁⋅⎜──────── + ─────── + ────── + ──── + f_B\n",
       "                                     ⎝  384         48       8       2        \n",
       "\n",
       "                                                             ⎞      ⎛         \n",
       "     ⎛ 5    4      3  2    2  3      4    5                 ⎞⎟      ⎜27⋅fₓₓₓₓ⋅\n",
       "C + O⎝h  + h ⋅x + h ⋅x  + h ⋅x  + h⋅x  + x ; (h, x) → (0, 0)⎠⎟ + c₂⋅⎜─────────\n",
       "                                                             ⎠      ⎝    128  \n",
       "\n",
       " 4           3          2                                                     \n",
       "h    9⋅fₓₓₓ⋅h    9⋅fₓₓ⋅h    3⋅fₓ⋅h           ⎛ 5    4      3  2    2  3      4\n",
       "── + ───────── + ──────── + ────── + f_BC + O⎝h  + h ⋅x + h ⋅x  + h ⋅x  + h⋅x \n",
       "         16         8         2                                               \n",
       "\n",
       "                       ⎞      ⎛           4             3           2         \n",
       "    5                 ⎞⎟      ⎜625⋅fₓₓₓₓ⋅h    125⋅fₓₓₓ⋅h    25⋅fₓₓ⋅h    5⋅fₓ⋅h\n",
       " + x ; (h, x) → (0, 0)⎠⎟ + c₃⋅⎜──────────── + ─────────── + ───────── + ──────\n",
       "                       ⎠      ⎝    384             48           8         2   \n",
       "\n",
       "                                                                   ⎞       ⎛  \n",
       "           ⎛ 5    4      3  2    2  3      4    5                 ⎞⎟       ⎜fₓ\n",
       " + f_BC + O⎝h  + h ⋅x + h ⋅x  + h ⋅x  + h⋅x  + x ; (h, x) → (0, 0)⎠⎟ + cm₁⋅⎜──\n",
       "                                                                   ⎠       ⎝  \n",
       "\n",
       "     4         3        2                                                     \n",
       "ₓₓₓ⋅h    fₓₓₓ⋅h    fₓₓ⋅h    fₓ⋅h           ⎛ 5    4      3  2    2  3      4  \n",
       "────── - ─────── + ────── - ──── + f_BC + O⎝h  + h ⋅x + h ⋅x  + h ⋅x  + h⋅x  +\n",
       "384         48       8       2                                                \n",
       "\n",
       "                     ⎞\n",
       "  5                 ⎞⎟\n",
       " x ; (h, x) → (0, 0)⎠⎟\n",
       "                     ⎠"
      ]
     },
     "metadata": {},
     "output_type": "display_data"
    }
   ],
   "source": [
    "linComb = Eq(cm1*f_m1.lhs + c1*f_1.lhs + c2*f_2.lhs + c3*f_3.lhs, cm1*f_m1.rhs + c1*f_1.rhs + c2*f_2.rhs + c3*f_3.rhs)\n",
    "display(linComb)"
   ]
  },
  {
   "cell_type": "markdown",
   "metadata": {},
   "source": [
    "**NOTE**: The linear combination does *NOT* give the same as the [Robin boundary condition](https://en.wikipedia.org/wiki/Robin_boundary_condition), which fixes a linear combination of the field and its derivative to a number. "
   ]
  },
  {
   "cell_type": "markdown",
   "metadata": {},
   "source": [
    "We will now rearrange the equation above, and collect terms of $f_{BC}$, $f_x$, $f_xx$ etc.\n",
    "In the end, the Cauchy boundary can be be written on the form\n",
    "\n",
    "$$f_{BC} + f_x = c_{-1}f_{-1} + c_1f_1 + c_2f_2 + c_3f_3$$\n",
    "\n",
    "I.e. all other terms appearing in the rearraged equation must be equated to zero."
   ]
  },
  {
   "cell_type": "code",
   "execution_count": 9,
   "metadata": {},
   "outputs": [
    {
     "data": {
      "image/png": "[encoded data removed]",
      "text/latex": [
       "$$c_{1} f_{1} + c_{2} f_{2} + c_{3} f_{3} + cm_{1} f_{-1} = f_{BC} \\left(cm_{1} + c_{3} + c_{2} + c_{1} + \\mathcal{O}\\left(h^{5} + h^{4} x + h^{3} x^{2} + h^{2} x^{3} + h x^{4} + x^{5}; \\left ( h, \\quad x\\right )\\rightarrow\\left ( 0, \\quad 0\\right )\\right)\\right) + f_{x} \\left(- \\frac{cm_{1} h}{2} + \\frac{5 c_{3}}{2} h + \\frac{3 c_{2}}{2} h + \\frac{c_{1} h}{2} + \\mathcal{O}\\left(h^{5} + h^{4} x + h^{3} x^{2} + h^{2} x^{3} + h x^{4} + x^{5}; \\left ( h, \\quad x\\right )\\rightarrow\\left ( 0, \\quad 0\\right )\\right)\\right) + f_{xx} \\left(\\frac{cm_{1} h^{2}}{8} + \\frac{25 c_{3}}{8} h^{2} + \\frac{9 c_{2}}{8} h^{2} + \\frac{c_{1} h^{2}}{8} + \\mathcal{O}\\left(h^{5} + h^{4} x + h^{3} x^{2} + h^{2} x^{3} + h x^{4} + x^{5}; \\left ( h, \\quad x\\right )\\rightarrow\\left ( 0, \\quad 0\\right )\\right)\\right) + f_{xxx} \\left(- \\frac{cm_{1} h^{3}}{48} + \\frac{125 c_{3}}{48} h^{3} + \\frac{9 c_{2}}{16} h^{3} + \\frac{c_{1} h^{3}}{48} + \\mathcal{O}\\left(h^{5} + h^{4} x + h^{3} x^{2} + h^{2} x^{3} + h x^{4} + x^{5}; \\left ( h, \\quad x\\right )\\rightarrow\\left ( 0, \\quad 0\\right )\\right)\\right) + f_{xxxx} \\left(\\frac{cm_{1} h^{4}}{384} + \\frac{625 c_{3}}{384} h^{4} + \\frac{27 c_{2}}{128} h^{4} + \\frac{c_{1} h^{4}}{384} + \\mathcal{O}\\left(h^{5} + h^{4} x + h^{3} x^{2} + h^{2} x^{3} + h x^{4} + x^{5}; \\left ( h, \\quad x\\right )\\rightarrow\\left ( 0, \\quad 0\\right )\\right)\\right)$$"
      ],
      "text/plain": [
       "                                                                              \n",
       "                                       ⎛                      ⎛ 5    4      3 \n",
       "c₁⋅f₁ + c₂⋅f₂ + c₃⋅f₃ + cm₁⋅f₋₁ = f_BC⋅⎝cm₁ + c₃ + c₂ + c₁ + O⎝h  + h ⋅x + h ⋅\n",
       "                                                                              \n",
       "\n",
       "                                                                              \n",
       " 2    2  3      4    5                 ⎞⎞      ⎛  cm₁⋅h   5⋅c₃⋅h   3⋅c₂⋅h   c₁\n",
       "x  + h ⋅x  + h⋅x  + x ; (h, x) → (0, 0)⎠⎠ + fₓ⋅⎜- ───── + ────── + ────── + ──\n",
       "                                               ⎝    2       2        2       2\n",
       "\n",
       "                                                                      ⎛     2 \n",
       "⋅h    ⎛ 5    4      3  2    2  3      4    5                 ⎞⎞       ⎜cm₁⋅h  \n",
       "── + O⎝h  + h ⋅x + h ⋅x  + h ⋅x  + h⋅x  + x ; (h, x) → (0, 0)⎠⎟ + fₓₓ⋅⎜────── \n",
       "                                                              ⎠       ⎝  8    \n",
       "\n",
       "         2         2       2                                                  \n",
       "  25⋅c₃⋅h    9⋅c₂⋅h    c₁⋅h     ⎛ 5    4      3  2    2  3      4    5        \n",
       "+ ──────── + ─────── + ───── + O⎝h  + h ⋅x + h ⋅x  + h ⋅x  + h⋅x  + x ; (h, x)\n",
       "     8          8        8                                                    \n",
       "\n",
       "          ⎞        ⎛       3           3         3       3                    \n",
       "         ⎞⎟        ⎜  cm₁⋅h    125⋅c₃⋅h    9⋅c₂⋅h    c₁⋅h     ⎛ 5    4      3 \n",
       " → (0, 0)⎠⎟ + fₓₓₓ⋅⎜- ────── + ───────── + ─────── + ───── + O⎝h  + h ⋅x + h ⋅\n",
       "          ⎠        ⎝    48         48         16       48                     \n",
       "\n",
       "                                        ⎞         ⎛     4           4         \n",
       " 2    2  3      4    5                 ⎞⎟         ⎜cm₁⋅h    625⋅c₃⋅h    27⋅c₂⋅\n",
       "x  + h ⋅x  + h⋅x  + x ; (h, x) → (0, 0)⎠⎟ + fₓₓₓₓ⋅⎜────── + ───────── + ──────\n",
       "                                        ⎠         ⎝ 384        384        128 \n",
       "\n",
       " 4       4                                                            ⎞\n",
       "h    c₁⋅h     ⎛ 5    4      3  2    2  3      4    5                 ⎞⎟\n",
       "── + ───── + O⎝h  + h ⋅x + h ⋅x  + h ⋅x  + h⋅x  + x ; (h, x) → (0, 0)⎠⎟\n",
       "      384                                                             ⎠"
      ]
     },
     "metadata": {},
     "output_type": "display_data"
    }
   ],
   "source": [
    "linComb = Eq(cm1*f_m1.lhs + c1*f_1.lhs + c2*f_2.lhs + c3*f_3.lhs,\\\n",
    "             linComb.rhs.expand().collect(symbols('f_BC, f_x, f_xx, f_xxx, f_xxxx, f_xxxxx'), exact=True))\n",
    "display(linComb)"
   ]
  },
  {
   "cell_type": "markdown",
   "metadata": {},
   "source": [
    "This gives the following set of equations:"
   ]
  },
  {
   "cell_type": "code",
   "execution_count": 10,
   "metadata": {},
   "outputs": [
    {
     "data": {
      "image/png": "[encoded data removed]",
      "text/latex": [
       "$$1 = c_{1} + c_{2} + c_{3} + cm_{1}$$"
      ],
      "text/plain": [
       "1 = c₁ + c₂ + c₃ + cm₁"
      ]
     },
     "metadata": {},
     "output_type": "display_data"
    },
    {
     "data": {
      "image/png": "[encoded data removed]",
      "text/latex": [
       "$$1 = \\frac{c_{1} h}{2} + \\frac{3 c_{2}}{2} h + \\frac{5 c_{3}}{2} h - \\frac{cm_{1} h}{2}$$"
      ],
      "text/plain": [
       "    c₁⋅h   3⋅c₂⋅h   5⋅c₃⋅h   cm₁⋅h\n",
       "1 = ──── + ────── + ────── - ─────\n",
       "     2       2        2        2  "
      ]
     },
     "metadata": {},
     "output_type": "display_data"
    },
    {
     "data": {
      "image/png": "[encoded data removed]",
      "text/latex": [
       "$$0 = \\frac{c_{1} h^{2}}{8} + \\frac{9 c_{2}}{8} h^{2} + \\frac{25 c_{3}}{8} h^{2} + \\frac{cm_{1} h^{2}}{8}$$"
      ],
      "text/plain": [
       "        2         2          2        2\n",
       "    c₁⋅h    9⋅c₂⋅h    25⋅c₃⋅h    cm₁⋅h \n",
       "0 = ───── + ─────── + ──────── + ──────\n",
       "      8        8         8         8   "
      ]
     },
     "metadata": {},
     "output_type": "display_data"
    },
    {
     "data": {
      "image/png": "[encoded data removed]",
      "text/latex": [
       "$$0 = \\frac{c_{1} h^{3}}{48} + \\frac{9 c_{2}}{16} h^{3} + \\frac{125 c_{3}}{48} h^{3} - \\frac{cm_{1} h^{3}}{48}$$"
      ],
      "text/plain": [
       "        3         3           3        3\n",
       "    c₁⋅h    9⋅c₂⋅h    125⋅c₃⋅h    cm₁⋅h \n",
       "0 = ───── + ─────── + ───────── - ──────\n",
       "      48       16         48        48  "
      ]
     },
     "metadata": {},
     "output_type": "display_data"
    }
   ],
   "source": [
    "eq1 = Eq(1, sympify('cm1 + c_3 + c_2 + c_1'))\n",
    "eq2 = Eq(1, sympify('-cm1*h/2 + 5*c_3*h/2 + 3*c_2*h/2 + c_1*h/2'))\n",
    "eq3 = Eq(0, sympify('cm1*h**2/8 + 25*c_3*h**2/8 + 9*c_2*h**2/8 + c_1*h**2/8'))\n",
    "eq4 = Eq(0, sympify('-cm1*h**3/48 + 125*c_3*h**3/48 + 9*c_2*h**3/16 + c_1*h**3/48'))\n",
    "display(eq1)\n",
    "display(eq2)\n",
    "display(eq3)\n",
    "display(eq4)"
   ]
  },
  {
   "cell_type": "markdown",
   "metadata": {},
   "source": [
    "Note that this is 4th order accurate as we are not setting the terms of $f_{xxxx}$ to $0$, and because this will be the first term having a $h$ dependecy."
   ]
  },
  {
   "cell_type": "code",
   "execution_count": 11,
   "metadata": {},
   "outputs": [
    {
     "data": {
      "image/png": "[encoded data removed]",
      "text/latex": [
       "$$\\left \\{ c_{1} : \\frac{15 h + 14}{16 h}, \\quad c_{2} : \\frac{1}{16 h} \\left(- 5 h + 2\\right), \\quad c_{3} : \\frac{3 h - 2}{48 h}, \\quad cm_{1} : \\frac{15 h - 46}{48 h}\\right \\}$$"
      ],
      "text/plain": [
       "⎧    15⋅h + 14      -5⋅h + 2      3⋅h - 2       15⋅h - 46⎫\n",
       "⎨c₁: ─────────, c₂: ────────, c₃: ───────, cm₁: ─────────⎬\n",
       "⎩       16⋅h          16⋅h          48⋅h           48⋅h  ⎭"
      ]
     },
     "metadata": {},
     "output_type": "display_data"
    }
   ],
   "source": [
    "sol = solve([eq1, eq2, eq3, eq4], [cm1, c1, c2, c3])\n",
    "display(sol)"
   ]
  },
  {
   "cell_type": "markdown",
   "metadata": {},
   "source": [
    "This gives us (writing $a=f(x_{BC})$ and $b=f'(x_{BC})$"
   ]
  },
  {
   "cell_type": "code",
   "execution_count": 12,
   "metadata": {},
   "outputs": [
    {
     "data": {
      "image/png": "[encoded data removed]",
      "text/latex": [
       "$$a + b = \\frac{f_{-1}}{48 h} \\left(15 h - 46\\right) + \\frac{f_{1}}{16 h} \\left(15 h + 14\\right) + \\frac{f_{2}}{16 h} \\left(- 5 h + 2\\right) + \\frac{f_{3}}{48 h} \\left(3 h - 2\\right)$$"
      ],
      "text/plain": [
       "        f₋₁⋅(15⋅h - 46)   f₁⋅(15⋅h + 14)   f₂⋅(-5⋅h + 2)   f₃⋅(3⋅h - 2)\n",
       "a + b = ─────────────── + ────────────── + ───────────── + ────────────\n",
       "              48⋅h             16⋅h             16⋅h           48⋅h    "
      ]
     },
     "metadata": {},
     "output_type": "display_data"
    }
   ],
   "source": [
    "eq = Eq(a+b, sol[cm1]*f_m1.lhs + sol[c1]*f_1.lhs + sol[c2]*f_2.lhs + sol[c3]*f_3.lhs)\n",
    "display(eq)"
   ]
  },
  {
   "cell_type": "markdown",
   "metadata": {},
   "source": [
    "Solve for the ghost point $f_{-1}$"
   ]
  },
  {
   "cell_type": "code",
   "execution_count": 13,
   "metadata": {},
   "outputs": [
    {
     "data": {
      "image/png": "[encoded data removed]",
      "text/latex": [
       "$$f_{-1} = \\frac{1}{15 h - 46} \\left(- 3 f_{1} \\left(15 h + 14\\right) + 3 f_{2} \\left(5 h - 2\\right) - f_{3} \\left(3 h - 2\\right) + 48 h \\left(a + b\\right)\\right)$$"
      ],
      "text/plain": [
       "      -3⋅f₁⋅(15⋅h + 14) + 3⋅f₂⋅(5⋅h - 2) - f₃⋅(3⋅h - 2) + 48⋅h⋅(a + b)\n",
       "f₋₁ = ────────────────────────────────────────────────────────────────\n",
       "                                 15⋅h - 46                            "
      ]
     },
     "metadata": {},
     "output_type": "display_data"
    }
   ],
   "source": [
    "fm1eq = solve(eq, f_m1.lhs)\n",
    "fm1eq = fm1eq[0].collect(symbols('f_1, f_2, f_3, h'), exact=True).simplify()\n",
    "fm1eq = Eq(f_m1.lhs, fm1eq)\n",
    "display(fm1eq)"
   ]
  },
  {
   "cell_type": "markdown",
   "metadata": {},
   "source": [
    "Make the above copy pastable in order to plug it into the code"
   ]
  },
  {
   "cell_type": "code",
   "execution_count": 14,
   "metadata": {},
   "outputs": [
    {
     "name": "stdout",
     "output_type": "stream",
     "text": [
      "Eq(f_-1, (-3*f_1*(15*h + 14) + 3*f_2*(5*h - 2) - f_3*(3*h - 2) + 48*h*(a + b))/(15*h - 46))\n"
     ]
    }
   ],
   "source": [
    "print(fm1eq)"
   ]
  },
  {
   "cell_type": "code",
   "execution_count": 15,
   "metadata": {},
   "outputs": [
    {
     "name": "stdout",
     "output_type": "stream",
     "text": [
      "f_{-1} = \\frac{1}{15 h - 46} \\left(- 3 f_{1} \\left(15 h + 14\\right) + 3 f_{2} \\left(5 h - 2\\right) - f_{3} \\left(3 h - 2\\right) + 48 h \\left(a + b\\right)\\right)\n"
     ]
    }
   ],
   "source": [
    "print(latex(fm1eq))"
   ]
  }
 ],
 "metadata": {
  "kernelspec": {
   "display_name": "Python [default]",
   "language": "python",
   "name": "python3"
  },
  "language_info": {
   "codemirror_mode": {
    "name": "ipython",
    "version": 3
   },
   "file_extension": ".py",
   "mimetype": "text/x-python",
   "name": "python",
   "nbconvert_exporter": "python",
   "pygments_lexer": "ipython3",
   "version": "3.5.3"
  }
 },
 "nbformat": 4,
 "nbformat_minor": 1
}
