{
 "cells": [
  {
   "cell_type": "markdown",
   "metadata": {},
   "source": [
    "# Derivation of the cauchy BC\n",
    "\n",
    "We would like to derive the cauchy BC, which for a field $f$ reads\n",
    "\n",
    "$$\n",
    "f(0) = a\\\\\n",
    "\\partial_z f\\big|_0 = b\n",
    "$$\n",
    "\n",
    "using a fourth order approximation for the derivative.\n",
    "\n",
    "**WARNING**: This scheme is only first order convergent"
   ]
  },
  {
   "cell_type": "code",
   "execution_count": 1,
   "metadata": {
    "collapsed": true
   },
   "outputs": [],
   "source": [
    "from IPython.display import display\n",
    "from sympy import init_printing\n",
    "from sympy import symbols, as_finite_diff, solve, latex\n",
    "from sympy import Function, Eq\n",
    "\n",
    "fg, f0, f1, f2 = symbols('f_g, f_0, f_1, f_2')\n",
    "z, h = symbols('z, h')\n",
    "a, b = symbols('a, b')\n",
    "f = Function('f')\n",
    "\n",
    "init_printing()"
   ]
  },
  {
   "cell_type": "markdown",
   "metadata": {},
   "source": [
    "Extrapolation of $f(0) = a$ to the ghost point yields (see [ghost4thOrder](boundaryPolynomials/ghost4thOrder.ipynb) for calculation) yields"
   ]
  },
  {
   "cell_type": "code",
   "execution_count": 2,
   "metadata": {},
   "outputs": [
    {
     "data": {
      "image/png": "[encoded data removed]",
      "text/latex": [
       "$$f_{g} = \\frac{16 a}{5} - 3 f_{0} + f_{1} - \\frac{f_{2}}{5}$$"
      ],
      "text/plain": [
       "      16⋅a               f₂\n",
       "f_g = ──── - 3⋅f₀ + f₁ - ──\n",
       "       5                 5 "
      ]
     },
     "metadata": {},
     "output_type": "display_data"
    }
   ],
   "source": [
    "extraPolate = Eq(fg, 16*a/5 - 3*f0 + f1 - f2/5)\n",
    "display(extraPolate)"
   ]
  },
  {
   "cell_type": "markdown",
   "metadata": {},
   "source": [
    "Which can be rewritten to"
   ]
  },
  {
   "cell_type": "code",
   "execution_count": 3,
   "metadata": {},
   "outputs": [
    {
     "data": {
      "image/png": "[encoded data removed]",
      "text/latex": [
       "$$0 = \\frac{16 a}{5} - 3 f_{0} + f_{1} - \\frac{f_{2}}{5} - f_{g}$$"
      ],
      "text/plain": [
       "    16⋅a               f₂      \n",
       "0 = ──── - 3⋅f₀ + f₁ - ── - f_g\n",
       "     5                 5       "
      ]
     },
     "metadata": {},
     "output_type": "display_data"
    }
   ],
   "source": [
    "eq1 = Eq(0, extraPolate.rhs - extraPolate.lhs)\n",
    "display(eq1)"
   ]
  },
  {
   "cell_type": "markdown",
   "metadata": {},
   "source": [
    "Furthermore a 4th order FD of $\\partial_z f\\big|_0 = b$ reads"
   ]
  },
  {
   "cell_type": "code",
   "execution_count": 4,
   "metadata": {},
   "outputs": [
    {
     "data": {
      "image/png": "[encoded data removed]",
      "text/latex": [
       "$$b = \\frac{1}{24 h} \\left(21 f_{0} + 3 f_{1} - f_{2} - 23 f_{g}\\right)$$"
      ],
      "text/plain": [
       "    21⋅f₀ + 3⋅f₁ - f₂ - 23⋅f_g\n",
       "b = ──────────────────────────\n",
       "               24⋅h           "
      ]
     },
     "metadata": {},
     "output_type": "display_data"
    }
   ],
   "source": [
    "deriv = as_finite_diff(f(z).diff(z), [z-h/2, z+h/2, z+3*h/2, z+5*h/2])\n",
    "deriv = Eq(b ,deriv.subs([(f(z-h/2),  fg),\\\n",
    "                          (f(z+h/2),   f0),\\\n",
    "                          (f(z+3*h/2), f1),\\\n",
    "                          (f(z+5*h/2), f2),\\\n",
    "                         ]).together())\n",
    "display(deriv)"
   ]
  },
  {
   "cell_type": "markdown",
   "metadata": {},
   "source": [
    "Which can be rewritten to"
   ]
  },
  {
   "cell_type": "code",
   "execution_count": 5,
   "metadata": {},
   "outputs": [
    {
     "data": {
      "image/png": "[encoded data removed]",
      "text/latex": [
       "$$0 = - b + \\frac{1}{24 h} \\left(21 f_{0} + 3 f_{1} - f_{2} - 23 f_{g}\\right)$$"
      ],
      "text/plain": [
       "         21⋅f₀ + 3⋅f₁ - f₂ - 23⋅f_g\n",
       "0 = -b + ──────────────────────────\n",
       "                    24⋅h           "
      ]
     },
     "metadata": {},
     "output_type": "display_data"
    }
   ],
   "source": [
    "eq2 = Eq(0, deriv.rhs - deriv.lhs)\n",
    "display(eq2)"
   ]
  },
  {
   "cell_type": "markdown",
   "metadata": {},
   "source": [
    "Thus"
   ]
  },
  {
   "cell_type": "code",
   "execution_count": 6,
   "metadata": {},
   "outputs": [
    {
     "data": {
      "image/png": "[encoded data removed]",
      "text/latex": [
       "$$\\frac{16 a}{5} - 3 f_{0} + f_{1} - \\frac{f_{2}}{5} - f_{g} = - b + \\frac{1}{24 h} \\left(21 f_{0} + 3 f_{1} - f_{2} - 23 f_{g}\\right)$$"
      ],
      "text/plain": [
       "16⋅a               f₂              21⋅f₀ + 3⋅f₁ - f₂ - 23⋅f_g\n",
       "──── - 3⋅f₀ + f₁ - ── - f_g = -b + ──────────────────────────\n",
       " 5                 5                          24⋅h           "
      ]
     },
     "metadata": {},
     "output_type": "display_data"
    }
   ],
   "source": [
    "full = Eq(eq1.rhs, eq2.rhs)\n",
    "display(full)"
   ]
  },
  {
   "cell_type": "code",
   "execution_count": 7,
   "metadata": {},
   "outputs": [
    {
     "data": {
      "image/png": "[encoded data removed]",
      "text/latex": [
       "$$f_{g} = \\frac{1}{120 h - 115} \\left(- 15 f_{0} \\left(24 h + 7\\right) + 15 f_{1} \\left(8 h - 1\\right) - f_{2} \\left(24 h - 5\\right) + 24 h \\left(16 a + 5 b\\right)\\right)$$"
      ],
      "text/plain": [
       "      -15⋅f₀⋅(24⋅h + 7) + 15⋅f₁⋅(8⋅h - 1) - f₂⋅(24⋅h - 5) + 24⋅h⋅(16⋅a + 5⋅b)\n",
       "f_g = ───────────────────────────────────────────────────────────────────────\n",
       "                                   5⋅(24⋅h - 23)                             "
      ]
     },
     "metadata": {},
     "output_type": "display_data"
    },
    {
     "name": "stdout",
     "output_type": "stream",
     "text": [
      "Eq(f_g, (-15*f_0*(24*h + 7) + 15*f_1*(8*h - 1) - f_2*(24*h - 5) + 24*h*(16*a + 5*b))/(5*(24*h - 23)))\n"
     ]
    }
   ],
   "source": [
    "fullSolvedForFg = Eq(fg, solve(full, fg)[0].collect(symbols('f_0, f_1, f_2, h'), exact=True).simplify())\n",
    "display(fullSolvedForFg)\n",
    "print(fullSolvedForFg)"
   ]
  },
  {
   "cell_type": "code",
   "execution_count": 8,
   "metadata": {},
   "outputs": [
    {
     "name": "stdout",
     "output_type": "stream",
     "text": [
      "f_{g} = \\frac{1}{120 h - 115} \\left(- 15 f_{0} \\left(24 h + 7\\right) + 15 f_{1} \\left(8 h - 1\\right) - f_{2} \\left(24 h - 5\\right) + 24 h \\left(16 a + 5 b\\right)\\right)\n"
     ]
    }
   ],
   "source": [
    "print(latex(fullSolvedForFg))"
   ]
  }
 ],
 "metadata": {
  "kernelspec": {
   "display_name": "Python [default]",
   "language": "python",
   "name": "python3"
  },
  "language_info": {
   "codemirror_mode": {
    "name": "ipython",
    "version": 3
   },
   "file_extension": ".py",
   "mimetype": "text/x-python",
   "name": "python",
   "nbconvert_exporter": "python",
   "pygments_lexer": "ipython3",
   "version": "3.5.3"
  }
 },
 "nbformat": 4,
 "nbformat_minor": 1
}
