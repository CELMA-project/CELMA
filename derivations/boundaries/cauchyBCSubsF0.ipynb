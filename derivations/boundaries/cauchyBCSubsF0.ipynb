{
 "cells": [
  {
   "cell_type": "markdown",
   "metadata": {},
   "source": [
    "# Derivation of the cauchy BC\n",
    "\n",
    "We would like to derive the cauchy BC, which for a field $f$ reads\n",
    "\n",
    "$$\n",
    "f(0) = a\\\\\n",
    "\\partial_z f\\big|_0 = b\n",
    "$$\n",
    "\n",
    "**WARNING**: This scheme is only first order convergent"
   ]
  },
  {
   "cell_type": "code",
   "execution_count": 1,
   "metadata": {
    "collapsed": true
   },
   "outputs": [],
   "source": [
    "from IPython.display import display\n",
    "from sympy import init_printing\n",
    "from sympy import symbols, as_finite_diff, solve, latex\n",
    "from sympy import Function, Eq\n",
    "\n",
    "fg, fBC, f0, f1, f2 = symbols('f_g, f_BC, f_0, f_1, f_2')\n",
    "z, h = symbols('z, h')\n",
    "a, b = symbols('a, b')\n",
    "f = Function('f')\n",
    "\n",
    "init_printing()"
   ]
  },
  {
   "cell_type": "markdown",
   "metadata": {},
   "source": [
    "Extrapolation of $f(0) = a$ to the ghost point yields (see [ghost4thOrder](boundaryPolynomials/ghost4thOrder.ipynb) for calculation) yields"
   ]
  },
  {
   "cell_type": "code",
   "execution_count": 2,
   "metadata": {
    "collapsed": false
   },
   "outputs": [
    {
     "data": {
      "image/png": "[encoded data removed]",
      "text/latex": [
       "$$f_{g} = \\frac{16 a}{5} - 3 f_{0} + f_{1} - \\frac{f_{2}}{5}$$"
      ],
      "text/plain": [
       "      16⋅a               f₂\n",
       "f_g = ──── - 3⋅f₀ + f₁ - ──\n",
       "       5                 5 "
      ]
     },
     "metadata": {},
     "output_type": "display_data"
    }
   ],
   "source": [
    "extraPolate = Eq(fg, 16*a/5 - 3*f0 + f1 - f2/5)\n",
    "display(extraPolate)"
   ]
  },
  {
   "cell_type": "code",
   "execution_count": 3,
   "metadata": {
    "collapsed": false
   },
   "outputs": [
    {
     "data": {
      "image/png": "[encoded data removed]",
      "text/latex": [
       "$$f_{0} = \\frac{16 a}{15} + \\frac{f_{1}}{3} - \\frac{f_{2}}{15} - \\frac{f_{g}}{3}$$"
      ],
      "text/plain": [
       "     16⋅a   f₁   f₂   f_g\n",
       "f₀ = ──── + ── - ── - ───\n",
       "      15    3    15    3 "
      ]
     },
     "metadata": {},
     "output_type": "display_data"
    }
   ],
   "source": [
    "solvedForF0 = Eq(f0, solve(extraPolate, f0)[0])\n",
    "display(solvedForF0)"
   ]
  },
  {
   "cell_type": "markdown",
   "metadata": {},
   "source": [
    "Furthermore a second order FD of $\\partial_z f\\big|_0 = b$ reads"
   ]
  },
  {
   "cell_type": "code",
   "execution_count": 4,
   "metadata": {
    "collapsed": false
   },
   "outputs": [
    {
     "data": {
      "image/png": "[encoded data removed]",
      "text/latex": [
       "$$b = \\frac{1}{h} \\left(f_{0} - f_{g}\\right)$$"
      ],
      "text/plain": [
       "    f₀ - f_g\n",
       "b = ────────\n",
       "       h    "
      ]
     },
     "metadata": {},
     "output_type": "display_data"
    }
   ],
   "source": [
    "deriv = as_finite_diff(f(z).diff(z), [z-h/2, z+h/2])\n",
    "deriv = Eq(b ,deriv.subs([(f(z-h/2), fg), (f(z+h/2), f0)]).together())\n",
    "display(deriv)"
   ]
  },
  {
   "cell_type": "markdown",
   "metadata": {},
   "source": [
    "Substituting $f_0$ gives"
   ]
  },
  {
   "cell_type": "code",
   "execution_count": 5,
   "metadata": {
    "collapsed": false
   },
   "outputs": [
    {
     "data": {
      "image/png": "[encoded data removed]",
      "text/latex": [
       "$$f_{g} = \\frac{4 a}{5} - \\frac{3 b}{4} h + \\frac{f_{1}}{4} - \\frac{f_{2}}{20}$$"
      ],
      "text/plain": [
       "      4⋅a   3⋅b⋅h   f₁   f₂\n",
       "f_g = ─── - ───── + ── - ──\n",
       "       5      4     4    20"
      ]
     },
     "metadata": {},
     "output_type": "display_data"
    }
   ],
   "source": [
    "full = deriv.subs(f0, solvedForF0.rhs)\n",
    "fullSolvedForFg = Eq(fg, solve(full, fg)[0])\n",
    "display(fullSolvedForFg)"
   ]
  },
  {
   "cell_type": "code",
   "execution_count": 6,
   "metadata": {
    "collapsed": false
   },
   "outputs": [
    {
     "name": "stdout",
     "output_type": "stream",
     "text": [
      "f_{g} = \\frac{4 a}{5} - \\frac{3 b}{4} h + \\frac{f_{1}}{4} - \\frac{f_{2}}{20}\n"
     ]
    }
   ],
   "source": [
    "print(latex(fullSolvedForFg))"
   ]
  }
 ],
 "metadata": {
  "kernelspec": {
   "display_name": "Python 3",
   "language": "python",
   "name": "python3"
  },
  "language_info": {
   "codemirror_mode": {
    "name": "ipython",
    "version": 3
   },
   "file_extension": ".py",
   "mimetype": "text/x-python",
   "name": "python",
   "nbconvert_exporter": "python",
   "pygments_lexer": "ipython3",
   "version": "3.5.1"
  }
 },
 "nbformat": 4,
 "nbformat_minor": 0
}
