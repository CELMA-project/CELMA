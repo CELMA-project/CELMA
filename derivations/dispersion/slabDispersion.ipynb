{
 "cells": [
  {
   "cell_type": "markdown",
   "metadata": {},
   "source": [
    "# Get the dispersion relation for slab geometry\n",
    "\n",
    "We will here calculate the real and imaginary part of the dispersion relation given in \n",
    "P\u00e9cseli, H -Low Frequency Waves and Turbulence in Magnetized Laboratory Plasmas and in the Ionosphere, 2016"
   ]
  },
  {
   "cell_type": "code",
   "execution_count": null,
   "metadata": {
    "collapsed": false
   },
   "outputs": [],
   "source": [
    "from sympy import init_printing\n",
    "from sympy import Eq, I\n",
    "from sympy import re, im\n",
    "from sympy import symbols\n",
    "from sympy.solvers import solve\n",
    "from IPython.display import display\n",
    "from sympy import latex\n",
    "\n",
    "om     = symbols('omega')\n",
    "omI    = symbols('omega_i', real=True)\n",
    "omStar = symbols('omega_S', real=True)\n",
    "\n",
    "sigmaPar = symbols('sigma', positive=True)\n",
    "\n",
    "b = symbols('b', real=True)\n",
    "\n",
    "init_printing()"
   ]
  },
  {
   "cell_type": "markdown",
   "metadata": {},
   "source": [
    "## The pure drift wave\n",
    "\n",
    "We are here checking if the dispersion relation in *6.4.1 - Pure drift-wave* is easy to work with"
   ]
  },
  {
   "cell_type": "code",
   "execution_count": null,
   "metadata": {
    "collapsed": false
   },
   "outputs": [],
   "source": [
    "LHS = om*(om-omI)+I*sigmaPar*(om-omStar + b*(om-omI))\n",
    "RHS = 0\n",
    "eq = Eq(LHS, RHS)"
   ]
  },
  {
   "cell_type": "code",
   "execution_count": null,
   "metadata": {
    "collapsed": false
   },
   "outputs": [],
   "source": [
    "display(eq)"
   ]
  },
  {
   "cell_type": "code",
   "execution_count": null,
   "metadata": {
    "collapsed": false
   },
   "outputs": [],
   "source": [
    "sol1, sol2 = solve(eq, om)\n",
    "\n",
    "display(sol1)\n",
    "display(sol2)"
   ]
  },
  {
   "cell_type": "markdown",
   "metadata": {},
   "source": [
    "The difference in the two solutions are just the sign of the square-root"
   ]
  },
  {
   "cell_type": "code",
   "execution_count": null,
   "metadata": {
    "collapsed": false
   },
   "outputs": [],
   "source": [
    "sol1Re = re(sol1)\n",
    "sol1Im = im(sol1)\n",
    "\n",
    "display(sol1Re)\n",
    "display(sol1Im)"
   ]
  },
  {
   "cell_type": "markdown",
   "metadata": {},
   "source": [
    "This is cumbersome to work with.\n",
    "Using something easier."
   ]
  },
  {
   "cell_type": "markdown",
   "metadata": {},
   "source": [
    "## Resistive drift waves with $T_i=0$\n",
    "\n",
    "We are here checking if the dispersion relation in *5.5 - Dispersion relation*, is easy to work with."
   ]
  },
  {
   "cell_type": "code",
   "execution_count": null,
   "metadata": {
    "collapsed": false
   },
   "outputs": [],
   "source": [
    "LHS = om**2 + I*sigmaPar*(om*(1+b)-omStar)\n",
    "RHS = 0\n",
    "eq = Eq(LHS, RHS)"
   ]
  },
  {
   "cell_type": "code",
   "execution_count": null,
   "metadata": {
    "collapsed": false
   },
   "outputs": [],
   "source": [
    "display(eq)"
   ]
  },
  {
   "cell_type": "code",
   "execution_count": null,
   "metadata": {
    "collapsed": false
   },
   "outputs": [],
   "source": [
    "sol1, sol2 = solve(eq, om)\n",
    "\n",
    "display(sol1)\n",
    "display(sol2)"
   ]
  },
  {
   "cell_type": "markdown",
   "metadata": {},
   "source": [
    "The difference in the two solutions are just the sign of the square-root.\n",
    "The first solution gives the largest growth rate"
   ]
  },
  {
   "cell_type": "code",
   "execution_count": null,
   "metadata": {
    "collapsed": false
   },
   "outputs": [],
   "source": [
    "sol1Re = re(sol1.expand())\n",
    "sol1Im = im(sol1.expand())\n",
    "\n",
    "real = Eq(symbols(\"I\"),sol1Im.simplify())\n",
    "imag = Eq(symbols(\"R\"),sol1Re.simplify())\n",
    "display(real)\n",
    "display(imag)\n",
    "\n",
    "print(latex(real))\n",
    "print(latex(imag))"
   ]
  },
  {
   "cell_type": "code",
   "execution_count": null,
   "metadata": {
    "collapsed": false
   },
   "outputs": [],
   "source": [
    "sol2Re = re(sol2.expand())\n",
    "sol2Im = im(sol2.expand())\n",
    "\n",
    "display(Eq(symbols(\"I\"),sol2Im.simplify()))\n",
    "display(Eq(symbols(\"R\"),sol2Re.simplify()))"
   ]
  },
  {
   "cell_type": "markdown",
   "metadata": {},
   "source": [
    "This also gives quite the mess..."
   ]
  },
  {
   "cell_type": "markdown",
   "metadata": {},
   "source": [
    "### Splitting to $\\omega_R$ and $\\omega_I$"
   ]
  },
  {
   "cell_type": "code",
   "execution_count": null,
   "metadata": {
    "collapsed": true
   },
   "outputs": [],
   "source": [
    "# NOTE: Do not confuse om_I with om_i\n",
    "om_I = symbols('omega_I', real=True)\n",
    "om_R = symbols('omega_R', real=True)"
   ]
  },
  {
   "cell_type": "code",
   "execution_count": null,
   "metadata": {
    "collapsed": false
   },
   "outputs": [],
   "source": [
    "LHSSplit = LHS.subs(om, om_R + I*om_I)\n",
    "display(Eq(LHS, re(LHSSplit)+I*im(LHSSplit)))"
   ]
  }
 ],
 "metadata": {
  "anaconda-cloud": {},
  "kernelspec": {
   "display_name": "Python [default]",
   "language": "python",
   "name": "python3"
  },
  "language_info": {
   "codemirror_mode": {
    "name": "ipython",
    "version": 3
   },
   "file_extension": ".py",
   "mimetype": "text/x-python",
   "name": "python",
   "nbconvert_exporter": "python",
   "pygments_lexer": "ipython3",
   "version": "3.5.2"
  }
 },
 "nbformat": 4,
 "nbformat_minor": 0
}