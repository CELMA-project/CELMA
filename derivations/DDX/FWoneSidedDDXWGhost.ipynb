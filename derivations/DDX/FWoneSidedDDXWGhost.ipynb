{
 "cells": [
  {
   "cell_type": "markdown",
   "metadata": {},
   "source": [
    "# Derivation of non-centered FW DDX scheme when using only one ghost point\n",
    "\n",
    "The non-centred version is used when the field is evaluated two points from the processor boundary. The following scheme is 3rd order convergent."
   ]
  },
  {
   "cell_type": "code",
   "execution_count": 1,
   "metadata": {
    "collapsed": false
   },
   "outputs": [],
   "source": [
    "from IPython.display import display\n",
    "from sympy import init_printing\n",
    "from sympy import symbols, together, as_finite_diff, simplify\n",
    "from sympy import Function, Eq, S\n",
    "\n",
    "init_printing()"
   ]
  },
  {
   "cell_type": "code",
   "execution_count": 2,
   "metadata": {
    "collapsed": false
   },
   "outputs": [],
   "source": [
    "x = symbols('x')\n",
    "h = symbols('h', positive=True)\n",
    "\n",
    "f = Function('f')\n",
    "\n",
    "stencil = [x-h, x, x+h, x+2*h]"
   ]
  },
  {
   "cell_type": "markdown",
   "metadata": {},
   "source": [
    "We are here discretizing the equation\n",
    "\n",
    "$$ \\partial_\\rho f$$"
   ]
  },
  {
   "cell_type": "markdown",
   "metadata": {},
   "source": [
    "### Calculate the finite difference approximation of $\\partial_x f$"
   ]
  },
  {
   "cell_type": "code",
   "execution_count": 3,
   "metadata": {
    "collapsed": false
   },
   "outputs": [
    {
     "data": {
      "image/png": "[encoded data removed]",
      "text/latex": [
       "$$f_{x} = \\frac{d}{d x} f{\\left (x \\right )}$$"
      ],
      "text/plain": [
       "     d       \n",
       "fₓ = ──(f(x))\n",
       "     dx      "
      ]
     },
     "metadata": {},
     "output_type": "display_data"
    },
    {
     "data": {
      "image/png": "[encoded data removed]",
      "text/latex": [
       "$$f^{FD}_{x} = \\frac{1}{6 h} \\left(- 3 f{\\left (x \\right )} - 2 f{\\left (- h + x \\right )} + 6 f{\\left (h + x \\right )} - f{\\left (2 h + x \\right )}\\right)$$"
      ],
      "text/plain": [
       "          -3⋅f(x) - 2⋅f(-h + x) + 6⋅f(h + x) - f(2⋅h + x)\n",
       "f_x__FD = ───────────────────────────────────────────────\n",
       "                                6⋅h                      "
      ]
     },
     "metadata": {},
     "output_type": "display_data"
    }
   ],
   "source": [
    "fx = f(x).diff(x)\n",
    "fxFD = as_finite_diff(fx, stencil)\n",
    "display(Eq(symbols('f_x'), fx))\n",
    "display(Eq(symbols('f^FD_x'), together(fxFD)))"
   ]
  },
  {
   "cell_type": "markdown",
   "metadata": {},
   "source": [
    "# Calculating the order\n",
    "\n",
    "Let's call the Taylor expansions of $f$ for $T[f(x,a)] = \\sum_{n=0}^\\infty\\frac{f^{(n)}(a)}{n!}(x-a)^n$"
   ]
  },
  {
   "cell_type": "code",
   "execution_count": 4,
   "metadata": {
    "collapsed": true
   },
   "outputs": [],
   "source": [
    "x0 = symbols('x0')\n",
    "terms = 7"
   ]
  },
  {
   "cell_type": "markdown",
   "metadata": {},
   "source": [
    "Taylor expasion of $f$ expanded around $a=x_0-h$ evaluated in $x=x_0$"
   ]
  },
  {
   "cell_type": "code",
   "execution_count": 5,
   "metadata": {
    "collapsed": false
   },
   "outputs": [
    {
     "data": {
      "image/png": "[encoded data removed]",
      "text/latex": [
       "$$Fm_{1} = f{\\left (x_{0} \\right )} - h \\left. \\frac{d}{d \\xi_{1}} f{\\left (\\xi_{1} \\right )} \\right|_{\\substack{ \\xi_{1}=x_{0} }} + \\frac{h^{2}}{2} \\left. \\frac{d^{2}}{d \\xi_{1}^{2}}  f{\\left (\\xi_{1} \\right )} \\right|_{\\substack{ \\xi_{1}=x_{0} }} - \\frac{h^{3}}{6} \\left. \\frac{d^{3}}{d \\xi_{1}^{3}}  f{\\left (\\xi_{1} \\right )} \\right|_{\\substack{ \\xi_{1}=x_{0} }} + \\frac{h^{4}}{24} \\left. \\frac{d^{4}}{d \\xi_{1}^{4}}  f{\\left (\\xi_{1} \\right )} \\right|_{\\substack{ \\xi_{1}=x_{0} }} - \\frac{h^{5}}{120} \\left. \\frac{d^{5}}{d \\xi_{1}^{5}}  f{\\left (\\xi_{1} \\right )} \\right|_{\\substack{ \\xi_{1}=x_{0} }} + \\frac{h^{6}}{720} \\left. \\frac{d^{6}}{d \\xi_{1}^{6}}  f{\\left (\\xi_{1} \\right )} \\right|_{\\substack{ \\xi_{1}=x_{0} }} + \\mathcal{O}\\left(h^{7} + h^{6} x + h^{5} x^{2} + h^{4} x^{3} + h^{3} x^{4} + h^{2} x^{5} + h x^{6} + x^{7}; \\left ( h, \\quad x\\right )\\rightarrow\\left ( 0, \\quad 0\\right )\\right)$$"
      ],
      "text/plain": [
       "                                        ⎛  2        ⎞│           ⎛  3        ⎞\n",
       "                                      2 ⎜ d         ⎟│         3 ⎜ d         ⎟\n",
       "                                     h ⋅⎜────(f(ξ₁))⎟│        h ⋅⎜────(f(ξ₁))⎟\n",
       "                                        ⎜   2       ⎟│           ⎜   3       ⎟\n",
       "                ⎛ d        ⎞│           ⎝dξ₁        ⎠│ξ₁=x₀      ⎝dξ₁        ⎠\n",
       "Fm₁ = f(x₀) - h⋅⎜───(f(ξ₁))⎟│      + ────────────────────── - ────────────────\n",
       "                ⎝dξ₁       ⎠│ξ₁=x₀             2                        6     \n",
       "\n",
       "│           ⎛  4        ⎞│           ⎛  5        ⎞│           ⎛  6        ⎞│  \n",
       "│         4 ⎜ d         ⎟│         5 ⎜ d         ⎟│         6 ⎜ d         ⎟│  \n",
       "│        h ⋅⎜────(f(ξ₁))⎟│        h ⋅⎜────(f(ξ₁))⎟│        h ⋅⎜────(f(ξ₁))⎟│  \n",
       "│           ⎜   4       ⎟│           ⎜   5       ⎟│           ⎜   6       ⎟│  \n",
       "│ξ₁=x₀      ⎝dξ₁        ⎠│ξ₁=x₀      ⎝dξ₁        ⎠│ξ₁=x₀      ⎝dξ₁        ⎠│ξ₁\n",
       "────── + ────────────────────── - ────────────────────── + ───────────────────\n",
       "                   24                      120                      720       \n",
       "\n",
       "                                                                              \n",
       "                                                                              \n",
       "                                                                              \n",
       "                                                                              \n",
       "=x₀    ⎛ 7    6      5  2    4  3    3  4    2  5      6    7                 \n",
       "─── + O⎝h  + h ⋅x + h ⋅x  + h ⋅x  + h ⋅x  + h ⋅x  + h⋅x  + x ; (h, x) → (0, 0)\n",
       "                                                                              \n",
       "\n",
       " \n",
       " \n",
       " \n",
       " \n",
       "⎞\n",
       "⎠\n",
       " "
      ]
     },
     "metadata": {},
     "output_type": "display_data"
    }
   ],
   "source": [
    "Fm1 = f(x-h).series(x-h, x0=x0, n=terms)\n",
    "Fm1 = Fm1.subs(x-x0,0)\n",
    "display(Eq(symbols('Fm1'),Fm1))"
   ]
  },
  {
   "cell_type": "markdown",
   "metadata": {},
   "source": [
    "Taylor expasion of $f$ expanded around $a=x_0$ evaluated in $x=x_0$"
   ]
  },
  {
   "cell_type": "code",
   "execution_count": 6,
   "metadata": {
    "collapsed": false
   },
   "outputs": [
    {
     "data": {
      "image/png": "[encoded data removed]",
      "text/latex": [
       "$$F = f{\\left (x_{0} \\right )}$$"
      ],
      "text/plain": [
       "F = f(x₀)"
      ]
     },
     "metadata": {},
     "output_type": "display_data"
    }
   ],
   "source": [
    "F = f(x).series(x, x0=x0, n=terms)\n",
    "F = F.subs(x-x0,0)\n",
    "display(Eq(symbols('F'),F))"
   ]
  },
  {
   "cell_type": "markdown",
   "metadata": {},
   "source": [
    "Taylor expasion of $f$ expanded around $a=x_0+h$ evaluated in $x=x_0$"
   ]
  },
  {
   "cell_type": "code",
   "execution_count": 7,
   "metadata": {
    "collapsed": false
   },
   "outputs": [
    {
     "data": {
      "image/png": "[encoded data removed]",
      "text/latex": [
       "$$Fp_{1} = f{\\left (x_{0} \\right )} + h \\left. \\frac{d}{d \\xi_{1}} f{\\left (\\xi_{1} \\right )} \\right|_{\\substack{ \\xi_{1}=x_{0} }} + \\frac{h^{2}}{2} \\left. \\frac{d^{2}}{d \\xi_{1}^{2}}  f{\\left (\\xi_{1} \\right )} \\right|_{\\substack{ \\xi_{1}=x_{0} }} + \\frac{h^{3}}{6} \\left. \\frac{d^{3}}{d \\xi_{1}^{3}}  f{\\left (\\xi_{1} \\right )} \\right|_{\\substack{ \\xi_{1}=x_{0} }} + \\frac{h^{4}}{24} \\left. \\frac{d^{4}}{d \\xi_{1}^{4}}  f{\\left (\\xi_{1} \\right )} \\right|_{\\substack{ \\xi_{1}=x_{0} }} + \\frac{h^{5}}{120} \\left. \\frac{d^{5}}{d \\xi_{1}^{5}}  f{\\left (\\xi_{1} \\right )} \\right|_{\\substack{ \\xi_{1}=x_{0} }} + \\frac{h^{6}}{720} \\left. \\frac{d^{6}}{d \\xi_{1}^{6}}  f{\\left (\\xi_{1} \\right )} \\right|_{\\substack{ \\xi_{1}=x_{0} }} + \\mathcal{O}\\left(h^{7} + h^{6} x + h^{5} x^{2} + h^{4} x^{3} + h^{3} x^{4} + h^{2} x^{5} + h x^{6} + x^{7}; \\left ( h, \\quad x\\right )\\rightarrow\\left ( 0, \\quad 0\\right )\\right)$$"
      ],
      "text/plain": [
       "                                        ⎛  2        ⎞│           ⎛  3        ⎞\n",
       "                                      2 ⎜ d         ⎟│         3 ⎜ d         ⎟\n",
       "                                     h ⋅⎜────(f(ξ₁))⎟│        h ⋅⎜────(f(ξ₁))⎟\n",
       "                                        ⎜   2       ⎟│           ⎜   3       ⎟\n",
       "                ⎛ d        ⎞│           ⎝dξ₁        ⎠│ξ₁=x₀      ⎝dξ₁        ⎠\n",
       "Fp₁ = f(x₀) + h⋅⎜───(f(ξ₁))⎟│      + ────────────────────── + ────────────────\n",
       "                ⎝dξ₁       ⎠│ξ₁=x₀             2                        6     \n",
       "\n",
       "│           ⎛  4        ⎞│           ⎛  5        ⎞│           ⎛  6        ⎞│  \n",
       "│         4 ⎜ d         ⎟│         5 ⎜ d         ⎟│         6 ⎜ d         ⎟│  \n",
       "│        h ⋅⎜────(f(ξ₁))⎟│        h ⋅⎜────(f(ξ₁))⎟│        h ⋅⎜────(f(ξ₁))⎟│  \n",
       "│           ⎜   4       ⎟│           ⎜   5       ⎟│           ⎜   6       ⎟│  \n",
       "│ξ₁=x₀      ⎝dξ₁        ⎠│ξ₁=x₀      ⎝dξ₁        ⎠│ξ₁=x₀      ⎝dξ₁        ⎠│ξ₁\n",
       "────── + ────────────────────── + ────────────────────── + ───────────────────\n",
       "                   24                      120                      720       \n",
       "\n",
       "                                                                              \n",
       "                                                                              \n",
       "                                                                              \n",
       "                                                                              \n",
       "=x₀    ⎛ 7    6      5  2    4  3    3  4    2  5      6    7                 \n",
       "─── + O⎝h  + h ⋅x + h ⋅x  + h ⋅x  + h ⋅x  + h ⋅x  + h⋅x  + x ; (h, x) → (0, 0)\n",
       "                                                                              \n",
       "\n",
       " \n",
       " \n",
       " \n",
       " \n",
       "⎞\n",
       "⎠\n",
       " "
      ]
     },
     "metadata": {},
     "output_type": "display_data"
    }
   ],
   "source": [
    "Fp1 = f(x+h).series(x+h, x0=x0, n=terms)\n",
    "Fp1 = Fp1.subs(x-x0,0)\n",
    "display(Eq(symbols('Fp1'),Fp1))"
   ]
  },
  {
   "cell_type": "markdown",
   "metadata": {},
   "source": [
    "Taylor expasion of $f$ expanded around $a=x_0+2h$ evaluated in $x=x_0$"
   ]
  },
  {
   "cell_type": "code",
   "execution_count": 8,
   "metadata": {
    "collapsed": false
   },
   "outputs": [
    {
     "data": {
      "image/png": "[encoded data removed]",
      "text/latex": [
       "$$Fp_{2} = f{\\left (x_{0} \\right )} + 2 h \\left. \\frac{d}{d \\xi_{1}} f{\\left (\\xi_{1} \\right )} \\right|_{\\substack{ \\xi_{1}=x_{0} }} + 2 h^{2} \\left. \\frac{d^{2}}{d \\xi_{1}^{2}}  f{\\left (\\xi_{1} \\right )} \\right|_{\\substack{ \\xi_{1}=x_{0} }} + \\frac{4 h^{3}}{3} \\left. \\frac{d^{3}}{d \\xi_{1}^{3}}  f{\\left (\\xi_{1} \\right )} \\right|_{\\substack{ \\xi_{1}=x_{0} }} + \\frac{2 h^{4}}{3} \\left. \\frac{d^{4}}{d \\xi_{1}^{4}}  f{\\left (\\xi_{1} \\right )} \\right|_{\\substack{ \\xi_{1}=x_{0} }} + \\frac{4 h^{5}}{15} \\left. \\frac{d^{5}}{d \\xi_{1}^{5}}  f{\\left (\\xi_{1} \\right )} \\right|_{\\substack{ \\xi_{1}=x_{0} }} + \\frac{4 h^{6}}{45} \\left. \\frac{d^{6}}{d \\xi_{1}^{6}}  f{\\left (\\xi_{1} \\right )} \\right|_{\\substack{ \\xi_{1}=x_{0} }} + \\mathcal{O}\\left(h^{7} + h^{6} x + h^{5} x^{2} + h^{4} x^{3} + h^{3} x^{4} + h^{2} x^{5} + h x^{6} + x^{7}; \\left ( h, \\quad x\\right )\\rightarrow\\left ( 0, \\quad 0\\right )\\right)$$"
      ],
      "text/plain": [
       "                                                                       ⎛  3   \n",
       "                                                                     3 ⎜ d    \n",
       "                                                                  4⋅h ⋅⎜────(f\n",
       "                                            ⎛  2        ⎞│             ⎜   3  \n",
       "                  ⎛ d        ⎞│           2 ⎜ d         ⎟│             ⎝dξ₁   \n",
       "Fp₂ = f(x₀) + 2⋅h⋅⎜───(f(ξ₁))⎟│      + 2⋅h ⋅⎜────(f(ξ₁))⎟│      + ────────────\n",
       "                  ⎝dξ₁       ⎠│ξ₁=x₀        ⎜   2       ⎟│                   3\n",
       "                                            ⎝dξ₁        ⎠│ξ₁=x₀               \n",
       "\n",
       "     ⎞│             ⎛  4        ⎞│             ⎛  5        ⎞│             ⎛  6\n",
       "     ⎟│           4 ⎜ d         ⎟│           5 ⎜ d         ⎟│           6 ⎜ d \n",
       "(ξ₁))⎟│        2⋅h ⋅⎜────(f(ξ₁))⎟│        4⋅h ⋅⎜────(f(ξ₁))⎟│        4⋅h ⋅⎜───\n",
       "     ⎟│             ⎜   4       ⎟│             ⎜   5       ⎟│             ⎜   \n",
       "     ⎠│ξ₁=x₀        ⎝dξ₁        ⎠│ξ₁=x₀        ⎝dξ₁        ⎠│ξ₁=x₀        ⎝dξ₁\n",
       "──────────── + ──────────────────────── + ──────────────────────── + ─────────\n",
       "                          3                          15                       \n",
       "                                                                              \n",
       "\n",
       "        ⎞│                                                                    \n",
       "        ⎟│                                                                    \n",
       "─(f(ξ₁))⎟│                                                                    \n",
       "6       ⎟│                                                                    \n",
       "        ⎠│ξ₁=x₀    ⎛ 7    6      5  2    4  3    3  4    2  5      6    7     \n",
       "─────────────── + O⎝h  + h ⋅x + h ⋅x  + h ⋅x  + h ⋅x  + h ⋅x  + h⋅x  + x ; (h,\n",
       "  45                                                                          \n",
       "                                                                              \n",
       "\n",
       "             \n",
       "             \n",
       "             \n",
       "             \n",
       "            ⎞\n",
       " x) → (0, 0)⎠\n",
       "             \n",
       "             "
      ]
     },
     "metadata": {},
     "output_type": "display_data"
    }
   ],
   "source": [
    "Fp2 = f(x+2*h).series(x+2*h, x0=x0, n=terms)\n",
    "Fp2 = Fp2.subs(x-x0,0)\n",
    "display(Eq(symbols('Fp2'),Fp2))"
   ]
  },
  {
   "cell_type": "markdown",
   "metadata": {},
   "source": [
    "Substitute into the FD scheme"
   ]
  },
  {
   "cell_type": "code",
   "execution_count": 9,
   "metadata": {
    "collapsed": false
   },
   "outputs": [
    {
     "data": {
      "image/png": "[encoded data removed]",
      "text/latex": [
       "$$\\left. \\frac{d}{d \\xi_{1}} f{\\left (\\xi_{1} \\right )} \\right|_{\\substack{ \\xi_{1}=x_{0} }} - \\frac{h^{3}}{12} \\left. \\frac{d^{4}}{d \\xi_{1}^{4}}  f{\\left (\\xi_{1} \\right )} \\right|_{\\substack{ \\xi_{1}=x_{0} }} - \\frac{h^{4}}{30} \\left. \\frac{d^{5}}{d \\xi_{1}^{5}}  f{\\left (\\xi_{1} \\right )} \\right|_{\\substack{ \\xi_{1}=x_{0} }} - \\frac{h^{5}}{72} \\left. \\frac{d^{6}}{d \\xi_{1}^{6}}  f{\\left (\\xi_{1} \\right )} \\right|_{\\substack{ \\xi_{1}=x_{0} }} + \\mathcal{O}\\left(h^{6} + h^{5} x + h^{4} x^{2} + h^{3} x^{3} + h^{2} x^{4} + h x^{5} + x^{6} + \\frac{x^{7}}{h}; \\left ( h, \\quad x\\right )\\rightarrow\\left ( 0, \\quad 0\\right )\\right)$$"
      ],
      "text/plain": [
       "                        ⎛  4        ⎞│           ⎛  5        ⎞│           ⎛  6\n",
       "                      3 ⎜ d         ⎟│         4 ⎜ d         ⎟│         5 ⎜ d \n",
       "                     h ⋅⎜────(f(ξ₁))⎟│        h ⋅⎜────(f(ξ₁))⎟│        h ⋅⎜───\n",
       "                        ⎜   4       ⎟│           ⎜   5       ⎟│           ⎜   \n",
       "⎛ d        ⎞│           ⎝dξ₁        ⎠│ξ₁=x₀      ⎝dξ₁        ⎠│ξ₁=x₀      ⎝dξ₁\n",
       "⎜───(f(ξ₁))⎟│      - ────────────────────── - ────────────────────── - ───────\n",
       "⎝dξ₁       ⎠│ξ₁=x₀             12                       30                    \n",
       "\n",
       "        ⎞│                                                                    \n",
       "        ⎟│                                                                    \n",
       "─(f(ξ₁))⎟│                                                                    \n",
       "6       ⎟│         ⎛                                                 7        \n",
       "        ⎠│ξ₁=x₀    ⎜ 6    5      4  2    3  3    2  4      5    6   x         \n",
       "─────────────── + O⎜h  + h ⋅x + h ⋅x  + h ⋅x  + h ⋅x  + h⋅x  + x  + ──; (h, x)\n",
       "   72              ⎝                                                h         \n",
       "\n",
       "          \n",
       "          \n",
       "          \n",
       "         ⎞\n",
       "         ⎟\n",
       " → (0, 0)⎟\n",
       "         ⎠"
      ]
     },
     "metadata": {},
     "output_type": "display_data"
    }
   ],
   "source": [
    "fxFDT = fxFD.subs([\n",
    "                     (f(x-h)  , Fm1),\n",
    "                     (f(x)    , F  ),\n",
    "                     (f(x+h)  , Fp1),     \n",
    "                     (f(x+2*h), Fp2),\n",
    "                    ])\n",
    "display(simplify(fxFDT))"
   ]
  },
  {
   "cell_type": "markdown",
   "metadata": {},
   "source": [
    "Thus, we see that this discretization is 3rd order accurate."
   ]
  }
 ],
 "metadata": {
  "kernelspec": {
   "display_name": "Python 3",
   "language": "python",
   "name": "python3"
  },
  "language_info": {
   "codemirror_mode": {
    "name": "ipython",
    "version": 3
   },
   "file_extension": ".py",
   "mimetype": "text/x-python",
   "name": "python",
   "nbconvert_exporter": "python",
   "pygments_lexer": "ipython3",
   "version": "3.5.1"
  }
 },
 "nbformat": 4,
 "nbformat_minor": 0
}
