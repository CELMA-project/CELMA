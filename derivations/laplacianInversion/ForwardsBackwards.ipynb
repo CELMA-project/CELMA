{
 "cells": [
  {
   "cell_type": "markdown",
   "metadata": {},
   "source": [
    "# Derivation of the inversion algorithm using a symmetric forward-backward \n",
    "\n",
    "Derivation of a symmetric stencil of \n",
    "\n",
    "$$b = \\nabla\\cdot(A\\nabla_\\perp f)+Bf$$\n",
    "\n",
    "using a forward stencil on $\\nabla\\cdot(A\\nabla_\\perp f)$, and a backward stencil on $\\nabla_\\perp f$.\n",
    "\n",
    "The stencil is made symmetric by mulitplying with $J(x,y)$. See [ForwardsBackwardsNonSymmetric.ipynb](ForwardsBackwardsNonSymmetric.ipynb) for details."
   ]
  },
  {
   "cell_type": "code",
   "execution_count": 1,
   "metadata": {},
   "outputs": [],
   "source": [
    "from IPython.display import display\n",
    "from sympy import init_printing\n",
    "from sympy import symbols, expand, together, as_finite_diff, collect\n",
    "from sympy import Function, Eq, Subs, Derivative\n",
    "from collections import deque\n",
    "\n",
    "init_printing()"
   ]
  },
  {
   "cell_type": "code",
   "execution_count": 2,
   "metadata": {},
   "outputs": [],
   "source": [
    "def fromFunctionToGrid(expr, sym):\n",
    "    \"\"\"\n",
    "    Change from @(x,z) to @_xz, where @ represents a function\n",
    "    \n",
    "    Input:\n",
    "    expr - The expression to change\n",
    "    sym  - symbols('@_xz, @_xp1z, @_xm1z, @_xzp1, @_xzm1')\n",
    "           xp1 = x+hx\n",
    "           zm1 = z-hz\n",
    "           etc.\n",
    "    \"\"\"\n",
    "    curFun = str(syms[0]).split('_')[0]\n",
    "    for sym in syms:\n",
    "        curSuffix = str(sym).split('_')[1]\n",
    "        if curSuffix == 'xz':\n",
    "            expr = expr.subs(Function(curFun)(x,z), sym)\n",
    "            expr = expr.subs(Function(curFun)(x,y), sym)\n",
    "        elif curSuffix == 'xp1z':\n",
    "            expr = expr.subs(Subs(Function(curFun)(x,z), x, x+hx).doit(), sym)\n",
    "            expr = expr.subs(Subs(Function(curFun)(x,y), x, x+hx).doit(), sym)\n",
    "        elif curSuffix == 'xm1z':\n",
    "            expr = expr.subs(Subs(Function(curFun)(x,z), x, x-hx).doit(), sym)\n",
    "            expr = expr.subs(Subs(Function(curFun)(x,y), x, x-hx).doit(), sym)\n",
    "        elif curSuffix == 'xzp1':\n",
    "            expr = expr.subs(Subs(Function(curFun)(x,z), z, z+hz).doit(), sym)\n",
    "            expr = expr.subs(Subs(Function(curFun)(x,y), z, z+hz).doit(), sym)\n",
    "        elif curSuffix == 'xzm1':\n",
    "            expr = expr.subs(Subs(Function(curFun)(x,z), z, z-hz).doit(), sym)\n",
    "            expr = expr.subs(Subs(Function(curFun)(x,y), z, z-hz).doit(), sym)\n",
    "\n",
    "    return expr"
   ]
  },
  {
   "cell_type": "code",
   "execution_count": 3,
   "metadata": {},
   "outputs": [],
   "source": [
    "x, y, z, hx, hz = symbols('x, y, z, h_x, h_z')\n",
    "hx, hz = symbols('h_x, h_z', positive=True)\n",
    "\n",
    "f = Function('f')(x, z)\n",
    "A = Function('A')(x, z)\n",
    "B = Function('B')(x, z)\n",
    "gxx = Function('g^x^x')(x, y)\n",
    "gzz = Function('g^z^z')(x, y)\n",
    "J = Function('J')(x, y)\n",
    "\n",
    "# Dummy function\n",
    "g = Function('g')(x,z)\n",
    "\n",
    "# Stencils\n",
    "backwardX = [x-hx, x]\n",
    "forwardX  = [x, x+hx]\n",
    "backwardZ = [z-hz, z]\n",
    "forwardZ  = [z, z+hz]"
   ]
  },
  {
   "cell_type": "markdown",
   "metadata": {},
   "source": [
    "We are here discretizing the equation\n",
    "\n",
    "$$ b =\n",
    "\\nabla\\cdot(A\\nabla_\\perp f)+Bf\n",
    "\\simeq\n",
    "\\frac{1}{J}\\partial_x \\left(JAg^{xx}\\partial_x f\\right)\n",
    "+ \\frac{1}{J}\\partial_z \\left(JAg^{zz}\\partial_z f\\right) + Bf$$\n",
    "\n",
    "where the derivatives in $y$ has been assumed small in non-orthogonal grids.\n",
    "\n",
    "We will let $T$ denote \"term\", the superscript $^F$ denote a forward stencil, and the superscript $^B$ denote a backward stencil."
   ]
  },
  {
   "cell_type": "markdown",
   "metadata": {},
   "source": [
    "**NOTE:**\n",
    "\n",
    "`sympy` has a built in function `as_finite_diff`, which could do the derivation easy for us. However it fails if\n",
    "\n",
    "* Non derivative terms or factors are present in the expression\n",
    "* If the expression is a `Subs` object (for example unevaluated derivatives calculated at a point)\n",
    "\n",
    "We therefore do this in a sligthly tedious way."
   ]
  },
  {
   "cell_type": "markdown",
   "metadata": {},
   "source": [
    "## Calculating the first term"
   ]
  },
  {
   "cell_type": "markdown",
   "metadata": {},
   "source": [
    "### Calculate the finite difference approximation of $\\partial_x f$"
   ]
  },
  {
   "cell_type": "code",
   "execution_count": 4,
   "metadata": {},
   "outputs": [
    {
     "data": {
      "image/png": "[encoded data removed]",
      "text/latex": [
       "$$f_{x} = \\frac{\\partial}{\\partial x} f{\\left (x,z \\right )}$$"
      ],
      "text/plain": [
       "     ∂          \n",
       "fₓ = ──(f(x, z))\n",
       "     ∂x         "
      ]
     },
     "metadata": {},
     "output_type": "display_data"
    },
    {
     "data": {
      "image/png": "[encoded data removed]",
      "text/latex": [
       "$$f^{B}_{x} = \\frac{1}{h_{x}} \\left(f{\\left (x,z \\right )} - f{\\left (- h_{x} + x,z \\right )}\\right)$$"
      ],
      "text/plain": [
       "         f(x, z) - f(-hₓ + x, z)\n",
       "f_x__B = ───────────────────────\n",
       "                    hₓ          "
      ]
     },
     "metadata": {},
     "output_type": "display_data"
    }
   ],
   "source": [
    "fx = f.diff(x)\n",
    "fxB = as_finite_diff(fx, backwardX)\n",
    "display(Eq(symbols('f_x'), fx))\n",
    "display(Eq(symbols('f_x^B'), together(fxB)))"
   ]
  },
  {
   "cell_type": "markdown",
   "metadata": {},
   "source": [
    "### Calculate the finite difference approximation of $\\partial_x \\left(JAg^{xx}\\partial_x f\\right)$\n",
    "\n",
    "We start by making the substitution $\\partial_x f \\to g$ and calulate the second term of the equation under consideration"
   ]
  },
  {
   "cell_type": "code",
   "execution_count": 5,
   "metadata": {},
   "outputs": [
    {
     "data": {
      "image/png": "[encoded data removed]",
      "text/latex": [
       "$$T^{F}_{1} = - \\frac{1}{h_{x}} A{\\left (x,z \\right )} J{\\left (x,y \\right )} g{\\left (x,z \\right )} \\operatorname{g^{x x}}{\\left (x,y \\right )} + \\frac{1}{h_{x}} A{\\left (h_{x} + x,z \\right )} J{\\left (h_{x} + x,y \\right )} g{\\left (h_{x} + x,z \\right )} \\operatorname{g^{x x}}{\\left (h_{x} + x,y \\right )}$$"
      ],
      "text/plain": [
       "           A(x, z)⋅J(x, y)⋅g(x, z)⋅g__x__x(x, y)   A(hₓ + x, z)⋅J(hₓ + x, y)⋅g\n",
       "T_1__F = - ───────────────────────────────────── + ───────────────────────────\n",
       "                             hₓ                                               \n",
       "\n",
       "(hₓ + x, z)⋅g__x__x(hₓ + x, y)\n",
       "──────────────────────────────\n",
       " hₓ                           "
      ]
     },
     "metadata": {},
     "output_type": "display_data"
    }
   ],
   "source": [
    "term1 = as_finite_diff(Derivative(J*A*gxx*g, x), forwardX)\n",
    "display(Eq(symbols('T_1^F'), term1))"
   ]
  },
  {
   "cell_type": "markdown",
   "metadata": {},
   "source": [
    "We now back substitute $g\\to \\partial_x f$"
   ]
  },
  {
   "cell_type": "code",
   "execution_count": 6,
   "metadata": {},
   "outputs": [
    {
     "data": {
      "image/png": "[encoded data removed]",
      "text/latex": [
       "$$T^{F}_{1} = \\frac{1}{h_{x}} \\left(- \\frac{1}{h_{x}} f{\\left (x,z \\right )} + \\frac{1}{h_{x}} f{\\left (h_{x} + x,z \\right )}\\right) A{\\left (h_{x} + x,z \\right )} J{\\left (h_{x} + x,y \\right )} \\operatorname{g^{x x}}{\\left (h_{x} + x,y \\right )} - \\frac{1}{h_{x}} \\left(\\frac{1}{h_{x}} f{\\left (x,z \\right )} - \\frac{1}{h_{x}} f{\\left (- h_{x} + x,z \\right )}\\right) A{\\left (x,z \\right )} J{\\left (x,y \\right )} \\operatorname{g^{x x}}{\\left (x,y \\right )}$$"
      ],
      "text/plain": [
       "         ⎛  f(x, z)   f(hₓ + x, z)⎞                                           \n",
       "         ⎜- ─────── + ────────────⎟⋅A(hₓ + x, z)⋅J(hₓ + x, y)⋅g__x__x(hₓ + x, \n",
       "         ⎝     hₓ          hₓ     ⎠                                           \n",
       "T_1__F = ─────────────────────────────────────────────────────────────────────\n",
       "                                            hₓ                                \n",
       "\n",
       "     ⎛f(x, z)   f(-hₓ + x, z)⎞                              \n",
       "y)   ⎜─────── - ─────────────⎟⋅A(x, z)⋅J(x, y)⋅g__x__x(x, y)\n",
       "     ⎝   hₓ           hₓ     ⎠                              \n",
       "── - ───────────────────────────────────────────────────────\n",
       "                                hₓ                          "
      ]
     },
     "metadata": {},
     "output_type": "display_data"
    }
   ],
   "source": [
    "term1 = term1.subs(Subs(g,x,x+hx).doit(), Subs(fxB,x,x+hx).doit())\n",
    "term1 = term1.subs(g, fxB)\n",
    "display(Eq(symbols('T_1^F'), term1))"
   ]
  },
  {
   "cell_type": "markdown",
   "metadata": {},
   "source": [
    "## Calculating the second term"
   ]
  },
  {
   "cell_type": "markdown",
   "metadata": {},
   "source": [
    "### Calculate the finite difference approximation of $\\partial_z f$"
   ]
  },
  {
   "cell_type": "code",
   "execution_count": 7,
   "metadata": {},
   "outputs": [
    {
     "data": {
      "image/png": "[encoded data removed]",
      "text/latex": [
       "$$f_{z} = \\frac{\\partial}{\\partial z} f{\\left (x,z \\right )}$$"
      ],
      "text/plain": [
       "      ∂          \n",
       "f_z = ──(f(x, z))\n",
       "      ∂z         "
      ]
     },
     "metadata": {},
     "output_type": "display_data"
    },
    {
     "data": {
      "image/png": "[encoded data removed]",
      "text/latex": [
       "$$f^{B}_{z} = \\frac{1}{h_{z}} \\left(f{\\left (x,z \\right )} - f{\\left (x,- h_{z} + z \\right )}\\right)$$"
      ],
      "text/plain": [
       "         f(x, z) - f(x, -h_z + z)\n",
       "f_z__B = ────────────────────────\n",
       "                   h_z           "
      ]
     },
     "metadata": {},
     "output_type": "display_data"
    }
   ],
   "source": [
    "fz = f.diff(z)\n",
    "fzB = as_finite_diff(fz, backwardZ)\n",
    "display(Eq(symbols('f_z'), fz))\n",
    "display(Eq(symbols('f_z^B'), together(fzB)))"
   ]
  },
  {
   "cell_type": "markdown",
   "metadata": {},
   "source": [
    "### Calculate the finite difference approximation of $\\partial_z \\left(JAg^{zz}\\partial_z f\\right)$\n",
    "\n",
    "We start by making the substitution $\\partial_z f \\to g$ and calulate the first term of the equation under consideration"
   ]
  },
  {
   "cell_type": "code",
   "execution_count": 8,
   "metadata": {},
   "outputs": [
    {
     "data": {
      "image/png": "[encoded data removed]",
      "text/latex": [
       "$$T^{F}_{2} = - \\frac{1}{h_{z}} A{\\left (x,z \\right )} J{\\left (x,y \\right )} g{\\left (x,z \\right )} \\operatorname{g^{z z}}{\\left (x,y \\right )} + \\frac{1}{h_{z}} A{\\left (x,h_{z} + z \\right )} J{\\left (x,y \\right )} g{\\left (x,h_{z} + z \\right )} \\operatorname{g^{z z}}{\\left (x,y \\right )}$$"
      ],
      "text/plain": [
       "           A(x, z)⋅J(x, y)⋅g(x, z)⋅g__z__z(x, y)   A(x, h_z + z)⋅J(x, y)⋅g(x, \n",
       "T_2__F = - ───────────────────────────────────── + ───────────────────────────\n",
       "                            h_z                                           h_z \n",
       "\n",
       "h_z + z)⋅g__z__z(x, y)\n",
       "──────────────────────\n",
       "                      "
      ]
     },
     "metadata": {},
     "output_type": "display_data"
    }
   ],
   "source": [
    "term2 = as_finite_diff(Derivative(J*A*gzz*g, z), forwardZ)\n",
    "display(Eq(symbols('T_2^F'), term2))"
   ]
  },
  {
   "cell_type": "code",
   "execution_count": 9,
   "metadata": {},
   "outputs": [
    {
     "data": {
      "image/png": "[encoded data removed]",
      "text/latex": [
       "$$T_{2} = \\frac{1}{h_{z}} \\left(- \\frac{1}{h_{z}} f{\\left (x,z \\right )} + \\frac{1}{h_{z}} f{\\left (x,h_{z} + z \\right )}\\right) A{\\left (x,h_{z} + z \\right )} J{\\left (x,y \\right )} \\operatorname{g^{z z}}{\\left (x,y \\right )} - \\frac{1}{h_{z}} \\left(\\frac{1}{h_{z}} f{\\left (x,z \\right )} - \\frac{1}{h_{z}} f{\\left (x,- h_{z} + z \\right )}\\right) A{\\left (x,z \\right )} J{\\left (x,y \\right )} \\operatorname{g^{z z}}{\\left (x,y \\right )}$$"
      ],
      "text/plain": [
       "     ⎛  f(x, z)   f(x, h_z + z)⎞                                       ⎛f(x, z\n",
       "     ⎜- ─────── + ─────────────⎟⋅A(x, h_z + z)⋅J(x, y)⋅g__z__z(x, y)   ⎜──────\n",
       "     ⎝    h_z          h_z     ⎠                                       ⎝  h_z \n",
       "T₂ = ─────────────────────────────────────────────────────────────── - ───────\n",
       "                                   h_z                                        \n",
       "\n",
       ")   f(x, -h_z + z)⎞                              \n",
       "─ - ──────────────⎟⋅A(x, z)⋅J(x, y)⋅g__z__z(x, y)\n",
       "         h_z      ⎠                              \n",
       "─────────────────────────────────────────────────\n",
       "                   h_z                           "
      ]
     },
     "metadata": {},
     "output_type": "display_data"
    }
   ],
   "source": [
    "term2 = term2.subs(Subs(g,z,z+hz).doit(), Subs(fzB,z,z+hz).doit())\n",
    "term2 = term2.subs(g, fzB)\n",
    "display(Eq(symbols('T_2'), term2))"
   ]
  },
  {
   "cell_type": "markdown",
   "metadata": {},
   "source": [
    "## Calculating the third term"
   ]
  },
  {
   "cell_type": "code",
   "execution_count": 10,
   "metadata": {},
   "outputs": [
    {
     "data": {
      "image/png": "[encoded data removed]",
      "text/latex": [
       "$$T^{F}_{3} = B{\\left (x,z \\right )} J{\\left (x,y \\right )} f{\\left (x,z \\right )}$$"
      ],
      "text/plain": [
       "T_3__F = B(x, z)⋅J(x, y)⋅f(x, z)"
      ]
     },
     "metadata": {},
     "output_type": "display_data"
    }
   ],
   "source": [
    "term3 = J*B*f\n",
    "display(Eq(symbols('T_3^F'), term3))"
   ]
  },
  {
   "cell_type": "markdown",
   "metadata": {},
   "source": [
    "### Collecting terms"
   ]
  },
  {
   "cell_type": "code",
   "execution_count": 11,
   "metadata": {},
   "outputs": [
    {
     "data": {
      "image/png": "[encoded data removed]",
      "text/latex": [
       "$$Jb = B{\\left (x,z \\right )} J{\\left (x,y \\right )} f{\\left (x,z \\right )} + \\frac{1}{h_{z}} \\left(- \\frac{1}{h_{z}} f{\\left (x,z \\right )} + \\frac{1}{h_{z}} f{\\left (x,h_{z} + z \\right )}\\right) A{\\left (x,h_{z} + z \\right )} J{\\left (x,y \\right )} \\operatorname{g^{z z}}{\\left (x,y \\right )} - \\frac{1}{h_{z}} \\left(\\frac{1}{h_{z}} f{\\left (x,z \\right )} - \\frac{1}{h_{z}} f{\\left (x,- h_{z} + z \\right )}\\right) A{\\left (x,z \\right )} J{\\left (x,y \\right )} \\operatorname{g^{z z}}{\\left (x,y \\right )} + \\frac{1}{h_{x}} \\left(- \\frac{1}{h_{x}} f{\\left (x,z \\right )} + \\frac{1}{h_{x}} f{\\left (h_{x} + x,z \\right )}\\right) A{\\left (h_{x} + x,z \\right )} J{\\left (h_{x} + x,y \\right )} \\operatorname{g^{x x}}{\\left (h_{x} + x,y \\right )} - \\frac{1}{h_{x}} \\left(\\frac{1}{h_{x}} f{\\left (x,z \\right )} - \\frac{1}{h_{x}} f{\\left (- h_{x} + x,z \\right )}\\right) A{\\left (x,z \\right )} J{\\left (x,y \\right )} \\operatorname{g^{x x}}{\\left (x,y \\right )}$$"
      ],
      "text/plain": [
       "                               ⎛  f(x, z)   f(x, h_z + z)⎞                    \n",
       "                               ⎜- ─────── + ─────────────⎟⋅A(x, h_z + z)⋅J(x, \n",
       "                               ⎝    h_z          h_z     ⎠                    \n",
       "Jb = B(x, z)⋅J(x, y)⋅f(x, z) + ───────────────────────────────────────────────\n",
       "                                                             h_z              \n",
       "\n",
       "                   ⎛f(x, z)   f(x, -h_z + z)⎞                                 \n",
       "y)⋅g__z__z(x, y)   ⎜─────── - ──────────────⎟⋅A(x, z)⋅J(x, y)⋅g__z__z(x, y)   \n",
       "                   ⎝  h_z          h_z      ⎠                                 \n",
       "──────────────── - ──────────────────────────────────────────────────────── + \n",
       "                                             h_z                              \n",
       "\n",
       "⎛  f(x, z)   f(hₓ + x, z)⎞                                                ⎛f(x\n",
       "⎜- ─────── + ────────────⎟⋅A(hₓ + x, z)⋅J(hₓ + x, y)⋅g__x__x(hₓ + x, y)   ⎜───\n",
       "⎝     hₓ          hₓ     ⎠                                                ⎝   \n",
       "─────────────────────────────────────────────────────────────────────── - ────\n",
       "                                   hₓ                                         \n",
       "\n",
       ", z)   f(-hₓ + x, z)⎞                              \n",
       "──── - ─────────────⎟⋅A(x, z)⋅J(x, y)⋅g__x__x(x, y)\n",
       "hₓ           hₓ     ⎠                              \n",
       "───────────────────────────────────────────────────\n",
       "                       hₓ                          "
      ]
     },
     "metadata": {},
     "output_type": "display_data"
    }
   ],
   "source": [
    "Jb = term1 + term2 + term3\n",
    "display(Eq(symbols('Jb'), Jb))"
   ]
  },
  {
   "cell_type": "code",
   "execution_count": 12,
   "metadata": {
    "collapsed": true
   },
   "outputs": [],
   "source": [
    "# Converting to grid syntax\n",
    "functions = ['f', 'A', 'J', 'g^x^x', 'g^z^z', 'B']\n",
    "for func in functions:\n",
    "    curStr = '{0}_xz, {0}_xp1z, {0}_xm1z, {0}_xzp1, {0}_xzm1'.format(func)\n",
    "    syms = symbols(curStr)\n",
    "    Jb = fromFunctionToGrid(Jb, syms)"
   ]
  },
  {
   "cell_type": "code",
   "execution_count": 13,
   "metadata": {},
   "outputs": [
    {
     "data": {
      "image/png": "[encoded data removed]",
      "text/latex": [
       "$$Jb = \\frac{A_{xp1z} J_{xp1z}}{h_{x}^{2}} f_{xp1z} g^{x x}_{xp1z} + \\frac{A_{xz} J_{xz}}{h_{x}^{2}} f_{xm1z} g^{x x}_{xz} + \\frac{A_{xz} J_{xz}}{h_{z}^{2}} f_{xzm1} g^{z z}_{xz} + \\frac{A_{xzp1} J_{xz}}{h_{z}^{2}} f_{xzp1} g^{z z}_{xz} + f_{xz} \\left(- \\frac{A_{xp1z} J_{xp1z}}{h_{x}^{2}} g^{x x}_{xp1z} - \\frac{A_{xz} J_{xz}}{h_{x}^{2}} g^{x x}_{xz} - \\frac{A_{xz} J_{xz}}{h_{z}^{2}} g^{z z}_{xz} - \\frac{A_{xzp1} J_{xz}}{h_{z}^{2}} g^{z z}_{xz} + B_{xz} J_{xz}\\right)$$"
      ],
      "text/plain": [
       "     A_xp1z⋅J_xp1z⋅f_xp1z⋅g_xp1z__x__x   A_xz⋅J_xz⋅f_xm1z⋅g_xz__x__x   A_xz⋅J_\n",
       "Jb = ───────────────────────────────── + ─────────────────────────── + ───────\n",
       "                      2                                2                      \n",
       "                    hₓ                               hₓ                       \n",
       "\n",
       "xz⋅f_xzm1⋅g_xz__z__z   A_xzp1⋅J_xz⋅f_xzp1⋅g_xz__z__z        ⎛  A_xp1z⋅J_xp1z⋅g\n",
       "──────────────────── + ───────────────────────────── + f_xz⋅⎜- ───────────────\n",
       "        2                              2                    ⎜               2 \n",
       "     h_z                            h_z                     ⎝             hₓ  \n",
       "\n",
       "_xp1z__x__x   A_xz⋅J_xz⋅g_xz__x__x   A_xz⋅J_xz⋅g_xz__z__z   A_xzp1⋅J_xz⋅g_xz__\n",
       "─────────── - ──────────────────── - ──────────────────── - ──────────────────\n",
       "                        2                       2                       2     \n",
       "                      hₓ                     h_z                     h_z      \n",
       "\n",
       "z__z            ⎞\n",
       "──── + B_xz⋅J_xz⎟\n",
       "                ⎟\n",
       "                ⎠"
      ]
     },
     "metadata": {},
     "output_type": "display_data"
    }
   ],
   "source": [
    "# We must expand before we collect\n",
    "Jb = collect(expand(Jb), symbols('f_xz, f_xp1z, f_xm1z, f_xzp1, f_xzm1'), exact=True)\n",
    "display(Eq(symbols('Jb'),Jb))"
   ]
  }
 ],
 "metadata": {
  "kernelspec": {
   "display_name": "Python [default]",
   "language": "python",
   "name": "python3"
  },
  "language_info": {
   "codemirror_mode": {
    "name": "ipython",
    "version": 3
   },
   "file_extension": ".py",
   "mimetype": "text/x-python",
   "name": "python",
   "nbconvert_exporter": "python",
   "pygments_lexer": "ipython3",
   "version": "3.5.3"
  }
 },
 "nbformat": 4,
 "nbformat_minor": 1
}
