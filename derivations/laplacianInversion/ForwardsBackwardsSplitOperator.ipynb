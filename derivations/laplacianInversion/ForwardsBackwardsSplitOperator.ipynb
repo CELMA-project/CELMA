{
 "cells": [
  {
   "cell_type": "markdown",
   "metadata": {},
   "source": [
    "# Derivation of the inversion algorithm using a forward-backward scheme\n",
    "\n",
    "Here the operators are split, which yields a non-symmetric discretization.\n",
    "\n",
    "TODO:\n",
    "1. Let the gridspacing be a function of the grid -> non-equidistant grid"
   ]
  },
  {
   "cell_type": "code",
   "execution_count": 1,
   "metadata": {
    "collapsed": false
   },
   "outputs": [],
   "source": [
    "from IPython.display import display\n",
    "from sympy import init_printing\n",
    "from sympy import symbols, expand, together, as_finite_diff, collect\n",
    "from sympy import Function, Eq, Subs\n",
    "from collections import deque\n",
    "\n",
    "init_printing()"
   ]
  },
  {
   "cell_type": "code",
   "execution_count": 2,
   "metadata": {
    "collapsed": true
   },
   "outputs": [],
   "source": [
    "def finiteDifferenceOfOneTerm(factors, wrt, stencil):\n",
    "    \"\"\"\n",
    "    Finds the finite different approximation of a term consisting of several factors\n",
    "    \n",
    "    Input:\n",
    "    factors - An iterable containing the factors of the term\n",
    "    wrt     - Take the derivative of the term with respect to this variable\n",
    "    stencil - An iterable containing the points to be used in the stencil\n",
    "    \n",
    "    Output\n",
    "    term - The finite difference approximation of the term\n",
    "    \"\"\"\n",
    "    # Take the derivative\n",
    "    factorsDiff = []\n",
    "    for factor in factors:\n",
    "        factorsDiff.append(as_finite_diff(factor.diff(wrt), stencil))\n",
    "    \n",
    "    # Putting together terms\n",
    "    term = 0\n",
    "    # Make object for cyclic permutation\n",
    "    cyclPerm = deque(range(len(factors)))\n",
    "    for perm in range(len(cyclPerm)):\n",
    "        # Initialize a dummy term to store temporary variables in\n",
    "        curTerm = factorsDiff[cyclPerm[0]]\n",
    "        for permNr in range(1,len(factors)):\n",
    "            curTerm *= factors[cyclPerm[permNr]]\n",
    "        # Make a cyclic premutation\n",
    "        cyclPerm.rotate(1)\n",
    "        term += curTerm\n",
    "    return term"
   ]
  },
  {
   "cell_type": "code",
   "execution_count": 3,
   "metadata": {
    "collapsed": false
   },
   "outputs": [],
   "source": [
    "def fromFunctionToGrid(expr, sym):\n",
    "    \"\"\"\n",
    "    Change from @(x,z) to @_xz, where @ represents a function\n",
    "    \n",
    "    Input:\n",
    "    expr - The expression to change\n",
    "    sym  - symbols('@_xz, @_xp1z, @_xm1z, @_xzp1, @_xzm1')\n",
    "           xp1 = x+hx\n",
    "           zm1 = z-hz\n",
    "           etc.\n",
    "    \"\"\"\n",
    "    curFun = str(syms[0]).split('_')[0]\n",
    "    for sym in syms:\n",
    "        curSuffix = str(sym).split('_')[1]\n",
    "        if curSuffix == 'xz':\n",
    "            expr = expr.subs(Function(curFun)(x,z), sym)\n",
    "        elif curSuffix == 'xp1z':\n",
    "            expr = expr.subs(Subs(Function(curFun)(x,z), x, x+hx).doit(), sym)\n",
    "        elif curSuffix == 'xm1z':\n",
    "            expr = expr.subs(Subs(Function(curFun)(x,z), x, x-hx).doit(), sym)\n",
    "        elif curSuffix == 'xzp1':\n",
    "            expr = expr.subs(Subs(Function(curFun)(x,z), z, z+hz).doit(), sym)\n",
    "        elif curSuffix == 'xzm1':\n",
    "            expr = expr.subs(Subs(Function(curFun)(x,z), z, z-hz).doit(), sym)\n",
    "\n",
    "    return expr"
   ]
  },
  {
   "cell_type": "code",
   "execution_count": 4,
   "metadata": {
    "collapsed": false
   },
   "outputs": [],
   "source": [
    "x, z, hx, hz = symbols('x, z, h_x, h_z')\n",
    "hx, hz = symbols('h_x, h_z', positive=True)\n",
    "\n",
    "f = Function('f')(x, z)\n",
    "A = Function('A')(x, z)\n",
    "B = Function('B')(x, z)\n",
    "gxx = Function('g^x^x')(x, z)\n",
    "gzz = Function('g^z^z')(x, z)\n",
    "J = Function('J')(x, z)\n",
    "\n",
    "# Dummy function\n",
    "g = Function('g')(x,z)\n",
    "\n",
    "# Stencils\n",
    "backwardX = [x-hx, x]\n",
    "forwardX  = [x, x+hx]\n",
    "backwardZ = [z-hz, z]\n",
    "forwardZ  = [z, z+hz]"
   ]
  },
  {
   "cell_type": "markdown",
   "metadata": {},
   "source": [
    "We are here discretizing the equation\n",
    "\n",
    "$$ b =\n",
    "\\nabla\\cdot(A\\nabla_\\perp f)+B\n",
    "=\n",
    "\\frac{1}{J}\\partial_x \\left(JAg^{xx}\\partial_x f\\right)\n",
    "+ \\frac{1}{J}\\partial_z \\left(JAg^{zz}\\partial_z f\\right) + Bf$$\n",
    "\n",
    "It turns out that `as_finite_diff` not as robust as first expected. It fails if\n",
    "\n",
    "* Non derivative terms or factors are present in the expression\n",
    "* If the expression is a `Subs` object (for example unevaluated derivatives calculated at a point)\n",
    "\n",
    "We therefore do this in a sligthly tedious way"
   ]
  },
  {
   "cell_type": "markdown",
   "metadata": {},
   "source": [
    "## Calculating the first term"
   ]
  },
  {
   "cell_type": "markdown",
   "metadata": {},
   "source": [
    "### Calculate the finite difference approximation of $\\partial_x f$"
   ]
  },
  {
   "cell_type": "code",
   "execution_count": 5,
   "metadata": {
    "collapsed": false
   },
   "outputs": [
    {
     "data": {
      "image/png": "[encoded data removed]",
      "text/latex": [
       "$$f_{x} = \\frac{\\partial}{\\partial x} f{\\left (x,z \\right )}$$"
      ],
      "text/plain": [
       "     ∂          \n",
       "fₓ = ──(f(x, z))\n",
       "     ∂x         "
      ]
     },
     "metadata": {},
     "output_type": "display_data"
    },
    {
     "data": {
      "image/png": "[encoded data removed]",
      "text/latex": [
       "$$f^{B}_{x} = \\frac{1}{h_{x}} \\left(f{\\left (x,z \\right )} - f{\\left (- h_{x} + x,z \\right )}\\right)$$"
      ],
      "text/plain": [
       "         f(x, z) - f(-hₓ + x, z)\n",
       "f_x__B = ───────────────────────\n",
       "                    hₓ          "
      ]
     },
     "metadata": {},
     "output_type": "display_data"
    }
   ],
   "source": [
    "fx = f.diff(x)\n",
    "fxB = as_finite_diff(fx, backwardX)\n",
    "display(Eq(symbols('f_x'), fx))\n",
    "display(Eq(symbols('f_x^B'), together(fxB)))"
   ]
  },
  {
   "cell_type": "markdown",
   "metadata": {},
   "source": [
    "### Calculate the finite difference approximation of $\\frac{1}{J}\\partial_x \\left(JAg^{xx}\\partial_x f\\right)$\n",
    "\n",
    "We start by making the substitution $\\partial_x f \\to g$ and calulate the first term of the equation under consideration"
   ]
  },
  {
   "cell_type": "code",
   "execution_count": 6,
   "metadata": {
    "collapsed": false
   },
   "outputs": [
    {
     "data": {
      "image/png": "[encoded data removed]",
      "text/latex": [
       "$$T^{F}_{1} = \\frac{1}{J{\\left (x,z \\right )}} \\left(\\left(- \\frac{1}{h_{x}} A{\\left (x,z \\right )} + \\frac{1}{h_{x}} A{\\left (h_{x} + x,z \\right )}\\right) J{\\left (x,z \\right )} g{\\left (x,z \\right )} \\operatorname{g^{x x}}{\\left (x,z \\right )} + \\left(- \\frac{1}{h_{x}} J{\\left (x,z \\right )} + \\frac{1}{h_{x}} J{\\left (h_{x} + x,z \\right )}\\right) A{\\left (x,z \\right )} g{\\left (x,z \\right )} \\operatorname{g^{x x}}{\\left (x,z \\right )} + \\left(- \\frac{1}{h_{x}} g{\\left (x,z \\right )} + \\frac{1}{h_{x}} g{\\left (h_{x} + x,z \\right )}\\right) A{\\left (x,z \\right )} J{\\left (x,z \\right )} \\operatorname{g^{x x}}{\\left (x,z \\right )} + \\left(- \\frac{1}{h_{x}} \\operatorname{g^{x x}}{\\left (x,z \\right )} + \\frac{1}{h_{x}} \\operatorname{g^{x x}}{\\left (h_{x} + x,z \\right )}\\right) A{\\left (x,z \\right )} J{\\left (x,z \\right )} g{\\left (x,z \\right )}\\right)$$"
      ],
      "text/plain": [
       "         ⎛  A(x, z)   A(hₓ + x, z)⎞                                 ⎛  J(x, z)\n",
       "         ⎜- ─────── + ────────────⎟⋅J(x, z)⋅g(x, z)⋅g__x__x(x, z) + ⎜- ───────\n",
       "         ⎝     hₓ          hₓ     ⎠                                 ⎝     hₓ  \n",
       "T_1__F = ─────────────────────────────────────────────────────────────────────\n",
       "                                                                              \n",
       "\n",
       "   J(hₓ + x, z)⎞                                 ⎛  g(x, z)   g(hₓ + x, z)⎞   \n",
       " + ────────────⎟⋅A(x, z)⋅g(x, z)⋅g__x__x(x, z) + ⎜- ─────── + ────────────⎟⋅A(\n",
       "        hₓ     ⎠                                 ⎝     hₓ          hₓ     ⎠   \n",
       "──────────────────────────────────────────────────────────────────────────────\n",
       "                                               J(x, z)                        \n",
       "\n",
       "                              ⎛  g__x__x(x, z)   g__x__x(hₓ + x, z)⎞          \n",
       "x, z)⋅J(x, z)⋅g__x__x(x, z) + ⎜- ───────────── + ──────────────────⎟⋅A(x, z)⋅J\n",
       "                              ⎝        hₓ                hₓ        ⎠          \n",
       "──────────────────────────────────────────────────────────────────────────────\n",
       "                                                                              \n",
       "\n",
       "              \n",
       "(x, z)⋅g(x, z)\n",
       "              \n",
       "──────────────\n",
       "              "
      ]
     },
     "metadata": {},
     "output_type": "display_data"
    }
   ],
   "source": [
    "# Define the factors\n",
    "factors = [J, A, gxx, g]\n",
    "term1 = finiteDifferenceOfOneTerm(factors, x, forwardX)\n",
    "term1 /= J\n",
    "display(Eq(symbols('T_1^F'), term1))"
   ]
  },
  {
   "cell_type": "markdown",
   "metadata": {},
   "source": [
    "We now back substitute $g\\to \\partial_x f$"
   ]
  },
  {
   "cell_type": "code",
   "execution_count": 7,
   "metadata": {
    "collapsed": false
   },
   "outputs": [
    {
     "data": {
      "image/png": "[encoded data removed]",
      "text/latex": [
       "$$T^{F}_{1} = \\frac{1}{J{\\left (x,z \\right )}} \\left(\\left(\\frac{1}{h_{x}} \\left(- \\frac{1}{h_{x}} f{\\left (x,z \\right )} + \\frac{1}{h_{x}} f{\\left (h_{x} + x,z \\right )}\\right) - \\frac{1}{h_{x}} \\left(\\frac{1}{h_{x}} f{\\left (x,z \\right )} - \\frac{1}{h_{x}} f{\\left (- h_{x} + x,z \\right )}\\right)\\right) A{\\left (x,z \\right )} J{\\left (x,z \\right )} \\operatorname{g^{x x}}{\\left (x,z \\right )} + \\left(- \\frac{1}{h_{x}} A{\\left (x,z \\right )} + \\frac{1}{h_{x}} A{\\left (h_{x} + x,z \\right )}\\right) \\left(\\frac{1}{h_{x}} f{\\left (x,z \\right )} - \\frac{1}{h_{x}} f{\\left (- h_{x} + x,z \\right )}\\right) J{\\left (x,z \\right )} \\operatorname{g^{x x}}{\\left (x,z \\right )} + \\left(- \\frac{1}{h_{x}} J{\\left (x,z \\right )} + \\frac{1}{h_{x}} J{\\left (h_{x} + x,z \\right )}\\right) \\left(\\frac{1}{h_{x}} f{\\left (x,z \\right )} - \\frac{1}{h_{x}} f{\\left (- h_{x} + x,z \\right )}\\right) A{\\left (x,z \\right )} \\operatorname{g^{x x}}{\\left (x,z \\right )} + \\left(\\frac{1}{h_{x}} f{\\left (x,z \\right )} - \\frac{1}{h_{x}} f{\\left (- h_{x} + x,z \\right )}\\right) \\left(- \\frac{1}{h_{x}} \\operatorname{g^{x x}}{\\left (x,z \\right )} + \\frac{1}{h_{x}} \\operatorname{g^{x x}}{\\left (h_{x} + x,z \\right )}\\right) A{\\left (x,z \\right )} J{\\left (x,z \\right )}\\right)$$"
      ],
      "text/plain": [
       "         ⎛  f(x, z)   f(hₓ + x, z)   f(x, z)   f(-hₓ + x, z)⎞                 \n",
       "         ⎜- ─────── + ────────────   ─────── - ─────────────⎟                 \n",
       "         ⎜     hₓ          hₓ           hₓ           hₓ     ⎟                 \n",
       "         ⎜──────────────────────── - ───────────────────────⎟⋅A(x, z)⋅J(x, z)⋅\n",
       "         ⎝           hₓ                         hₓ          ⎠                 \n",
       "T_1__F = ─────────────────────────────────────────────────────────────────────\n",
       "                                                                              \n",
       "\n",
       "                                                                              \n",
       "                                                                              \n",
       "                ⎛  A(x, z)   A(hₓ + x, z)⎞ ⎛f(x, z)   f(-hₓ + x, z)⎞          \n",
       "g__x__x(x, z) + ⎜- ─────── + ────────────⎟⋅⎜─────── - ─────────────⎟⋅J(x, z)⋅g\n",
       "                ⎝     hₓ          hₓ     ⎠ ⎝   hₓ           hₓ     ⎠          \n",
       "──────────────────────────────────────────────────────────────────────────────\n",
       "                                                                              \n",
       "\n",
       "                                                                              \n",
       "                                                                              \n",
       "               ⎛  J(x, z)   J(hₓ + x, z)⎞ ⎛f(x, z)   f(-hₓ + x, z)⎞           \n",
       "__x__x(x, z) + ⎜- ─────── + ────────────⎟⋅⎜─────── - ─────────────⎟⋅A(x, z)⋅g_\n",
       "               ⎝     hₓ          hₓ     ⎠ ⎝   hₓ           hₓ     ⎠           \n",
       "──────────────────────────────────────────────────────────────────────────────\n",
       "         J(x, z)                                                              \n",
       "\n",
       "                                                                              \n",
       "                                                                              \n",
       "              ⎛f(x, z)   f(-hₓ + x, z)⎞ ⎛  g__x__x(x, z)   g__x__x(hₓ + x, z)⎞\n",
       "_x__x(x, z) + ⎜─────── - ─────────────⎟⋅⎜- ───────────── + ──────────────────⎟\n",
       "              ⎝   hₓ           hₓ     ⎠ ⎝        hₓ                hₓ        ⎠\n",
       "──────────────────────────────────────────────────────────────────────────────\n",
       "                                                                              \n",
       "\n",
       "                \n",
       "                \n",
       "                \n",
       "⋅A(x, z)⋅J(x, z)\n",
       "                \n",
       "────────────────\n",
       "                "
      ]
     },
     "metadata": {},
     "output_type": "display_data"
    }
   ],
   "source": [
    "term1 = term1.subs(Subs(g,x,x+hx).doit(), Subs(fxB,x,x+hx).doit())\n",
    "term1 = term1.subs(g, fxB)\n",
    "display(Eq(symbols('T_1^F'), term1))"
   ]
  },
  {
   "cell_type": "markdown",
   "metadata": {},
   "source": [
    "## Calculating the second term"
   ]
  },
  {
   "cell_type": "markdown",
   "metadata": {},
   "source": [
    "### Calculate the finite difference approximation of $\\partial_z f$"
   ]
  },
  {
   "cell_type": "code",
   "execution_count": 8,
   "metadata": {
    "collapsed": false
   },
   "outputs": [
    {
     "data": {
      "image/png": "[encoded data removed]",
      "text/latex": [
       "$$f_{z} = \\frac{\\partial}{\\partial z} f{\\left (x,z \\right )}$$"
      ],
      "text/plain": [
       "      ∂          \n",
       "f_z = ──(f(x, z))\n",
       "      ∂z         "
      ]
     },
     "metadata": {},
     "output_type": "display_data"
    },
    {
     "data": {
      "image/png": "[encoded data removed]",
      "text/latex": [
       "$$f^{B}_{z} = \\frac{1}{h_{z}} \\left(f{\\left (x,z \\right )} - f{\\left (x,- h_{z} + z \\right )}\\right)$$"
      ],
      "text/plain": [
       "         f(x, z) - f(x, -h_z + z)\n",
       "f_z__B = ────────────────────────\n",
       "                   h_z           "
      ]
     },
     "metadata": {},
     "output_type": "display_data"
    }
   ],
   "source": [
    "fz = f.diff(z)\n",
    "fzB = as_finite_diff(fz, backwardZ)\n",
    "display(Eq(symbols('f_z'), fz))\n",
    "display(Eq(symbols('f_z^B'), together(fzB)))"
   ]
  },
  {
   "cell_type": "markdown",
   "metadata": {},
   "source": [
    "### Calculate the finite difference approximation of $\\frac{1}{J}\\partial_z \\left(JAg^{zz}\\partial_z f\\right)$\n",
    "\n",
    "We start by making the substitution $\\partial_z f \\to g$ and calulate the second term of the equation under consideration"
   ]
  },
  {
   "cell_type": "code",
   "execution_count": 9,
   "metadata": {
    "collapsed": false
   },
   "outputs": [
    {
     "data": {
      "image/png": "[encoded data removed]",
      "text/latex": [
       "$$T^{F}_{2} = \\frac{1}{J{\\left (x,z \\right )}} \\left(\\left(- \\frac{1}{h_{z}} A{\\left (x,z \\right )} + \\frac{1}{h_{z}} A{\\left (x,h_{z} + z \\right )}\\right) J{\\left (x,z \\right )} g{\\left (x,z \\right )} \\operatorname{g^{z z}}{\\left (x,z \\right )} + \\left(- \\frac{1}{h_{z}} J{\\left (x,z \\right )} + \\frac{1}{h_{z}} J{\\left (x,h_{z} + z \\right )}\\right) A{\\left (x,z \\right )} g{\\left (x,z \\right )} \\operatorname{g^{z z}}{\\left (x,z \\right )} + \\left(- \\frac{1}{h_{z}} g{\\left (x,z \\right )} + \\frac{1}{h_{z}} g{\\left (x,h_{z} + z \\right )}\\right) A{\\left (x,z \\right )} J{\\left (x,z \\right )} \\operatorname{g^{z z}}{\\left (x,z \\right )} + \\left(- \\frac{1}{h_{z}} \\operatorname{g^{z z}}{\\left (x,z \\right )} + \\frac{1}{h_{z}} \\operatorname{g^{z z}}{\\left (x,h_{z} + z \\right )}\\right) A{\\left (x,z \\right )} J{\\left (x,z \\right )} g{\\left (x,z \\right )}\\right)$$"
      ],
      "text/plain": [
       "         ⎛  A(x, z)   A(x, h_z + z)⎞                                 ⎛  J(x, z\n",
       "         ⎜- ─────── + ─────────────⎟⋅J(x, z)⋅g(x, z)⋅g__z__z(x, z) + ⎜- ──────\n",
       "         ⎝    h_z          h_z     ⎠                                 ⎝    h_z \n",
       "T_2__F = ─────────────────────────────────────────────────────────────────────\n",
       "                                                                              \n",
       "\n",
       ")   J(x, h_z + z)⎞                                 ⎛  g(x, z)   g(x, h_z + z)⎞\n",
       "─ + ─────────────⎟⋅A(x, z)⋅g(x, z)⋅g__z__z(x, z) + ⎜- ─────── + ─────────────⎟\n",
       "         h_z     ⎠                                 ⎝    h_z          h_z     ⎠\n",
       "──────────────────────────────────────────────────────────────────────────────\n",
       "                                                 J(x, z)                      \n",
       "\n",
       "                                 ⎛  g__z__z(x, z)   g__z__z(x, h_z + z)⎞      \n",
       "⋅A(x, z)⋅J(x, z)⋅g__z__z(x, z) + ⎜- ───────────── + ───────────────────⎟⋅A(x, \n",
       "                                 ⎝       h_z                h_z        ⎠      \n",
       "──────────────────────────────────────────────────────────────────────────────\n",
       "                                                                              \n",
       "\n",
       "                  \n",
       "z)⋅J(x, z)⋅g(x, z)\n",
       "                  \n",
       "──────────────────\n",
       "                  "
      ]
     },
     "metadata": {},
     "output_type": "display_data"
    }
   ],
   "source": [
    "# Define the factors\n",
    "factors = [J, A, gzz, g]\n",
    "term2 = finiteDifferenceOfOneTerm(factors, z, forwardZ)\n",
    "term2 /= J\n",
    "display(Eq(symbols('T_2^F'), term2))"
   ]
  },
  {
   "cell_type": "code",
   "execution_count": 10,
   "metadata": {
    "collapsed": false
   },
   "outputs": [
    {
     "data": {
      "image/png": "[encoded data removed]",
      "text/latex": [
       "$$T_{2} = \\frac{1}{J{\\left (x,z \\right )}} \\left(\\left(\\frac{1}{h_{z}} \\left(- \\frac{1}{h_{z}} f{\\left (x,z \\right )} + \\frac{1}{h_{z}} f{\\left (x,h_{z} + z \\right )}\\right) - \\frac{1}{h_{z}} \\left(\\frac{1}{h_{z}} f{\\left (x,z \\right )} - \\frac{1}{h_{z}} f{\\left (x,- h_{z} + z \\right )}\\right)\\right) A{\\left (x,z \\right )} J{\\left (x,z \\right )} \\operatorname{g^{z z}}{\\left (x,z \\right )} + \\left(- \\frac{1}{h_{z}} A{\\left (x,z \\right )} + \\frac{1}{h_{z}} A{\\left (x,h_{z} + z \\right )}\\right) \\left(\\frac{1}{h_{z}} f{\\left (x,z \\right )} - \\frac{1}{h_{z}} f{\\left (x,- h_{z} + z \\right )}\\right) J{\\left (x,z \\right )} \\operatorname{g^{z z}}{\\left (x,z \\right )} + \\left(- \\frac{1}{h_{z}} J{\\left (x,z \\right )} + \\frac{1}{h_{z}} J{\\left (x,h_{z} + z \\right )}\\right) \\left(\\frac{1}{h_{z}} f{\\left (x,z \\right )} - \\frac{1}{h_{z}} f{\\left (x,- h_{z} + z \\right )}\\right) A{\\left (x,z \\right )} \\operatorname{g^{z z}}{\\left (x,z \\right )} + \\left(\\frac{1}{h_{z}} f{\\left (x,z \\right )} - \\frac{1}{h_{z}} f{\\left (x,- h_{z} + z \\right )}\\right) \\left(- \\frac{1}{h_{z}} \\operatorname{g^{z z}}{\\left (x,z \\right )} + \\frac{1}{h_{z}} \\operatorname{g^{z z}}{\\left (x,h_{z} + z \\right )}\\right) A{\\left (x,z \\right )} J{\\left (x,z \\right )}\\right)$$"
      ],
      "text/plain": [
       "     ⎛  f(x, z)   f(x, h_z + z)   f(x, z)   f(x, -h_z + z)⎞                   \n",
       "     ⎜- ─────── + ─────────────   ─────── - ──────────────⎟                   \n",
       "     ⎜    h_z          h_z          h_z          h_z      ⎟                   \n",
       "     ⎜───────────────────────── - ────────────────────────⎟⋅A(x, z)⋅J(x, z)⋅g_\n",
       "     ⎝           h_z                        h_z           ⎠                   \n",
       "T₂ = ─────────────────────────────────────────────────────────────────────────\n",
       "                                                                              \n",
       "\n",
       "                                                                              \n",
       "                                                                              \n",
       "              ⎛  A(x, z)   A(x, h_z + z)⎞ ⎛f(x, z)   f(x, -h_z + z)⎞          \n",
       "_z__z(x, z) + ⎜- ─────── + ─────────────⎟⋅⎜─────── - ──────────────⎟⋅J(x, z)⋅g\n",
       "              ⎝    h_z          h_z     ⎠ ⎝  h_z          h_z      ⎠          \n",
       "──────────────────────────────────────────────────────────────────────────────\n",
       "                                                                              \n",
       "\n",
       "                                                                              \n",
       "                                                                              \n",
       "               ⎛  J(x, z)   J(x, h_z + z)⎞ ⎛f(x, z)   f(x, -h_z + z)⎞         \n",
       "__z__z(x, z) + ⎜- ─────── + ─────────────⎟⋅⎜─────── - ──────────────⎟⋅A(x, z)⋅\n",
       "               ⎝    h_z          h_z     ⎠ ⎝  h_z          h_z      ⎠         \n",
       "──────────────────────────────────────────────────────────────────────────────\n",
       "         J(x, z)                                                              \n",
       "\n",
       "                                                                              \n",
       "                                                                              \n",
       "                ⎛f(x, z)   f(x, -h_z + z)⎞ ⎛  g__z__z(x, z)   g__z__z(x, h_z +\n",
       "g__z__z(x, z) + ⎜─────── - ──────────────⎟⋅⎜- ───────────── + ────────────────\n",
       "                ⎝  h_z          h_z      ⎠ ⎝       h_z                h_z     \n",
       "──────────────────────────────────────────────────────────────────────────────\n",
       "                                                                              \n",
       "\n",
       "                    \n",
       "                    \n",
       " z)⎞                \n",
       "───⎟⋅A(x, z)⋅J(x, z)\n",
       "   ⎠                \n",
       "────────────────────\n",
       "                    "
      ]
     },
     "metadata": {},
     "output_type": "display_data"
    }
   ],
   "source": [
    "term2 = term2.subs(Subs(g,z,z+hz).doit(), Subs(fzB,z,z+hz).doit())\n",
    "term2 = term2.subs(g, fzB)\n",
    "display(Eq(symbols('T_2'), term2))"
   ]
  },
  {
   "cell_type": "markdown",
   "metadata": {},
   "source": [
    "## Calculating the third term"
   ]
  },
  {
   "cell_type": "code",
   "execution_count": 11,
   "metadata": {
    "collapsed": false
   },
   "outputs": [
    {
     "data": {
      "image/png": "[encoded data removed]",
      "text/latex": [
       "$$T^{F}_{3} = B{\\left (x,z \\right )} f{\\left (x,z \\right )}$$"
      ],
      "text/plain": [
       "T_3__F = B(x, z)⋅f(x, z)"
      ]
     },
     "metadata": {},
     "output_type": "display_data"
    }
   ],
   "source": [
    "term3 = B*f\n",
    "display(Eq(symbols('T_3^F'), term3))"
   ]
  },
  {
   "cell_type": "markdown",
   "metadata": {},
   "source": [
    "### Collecting terms"
   ]
  },
  {
   "cell_type": "code",
   "execution_count": 12,
   "metadata": {
    "collapsed": false
   },
   "outputs": [
    {
     "data": {
      "image/png": "[encoded data removed]",
      "text/latex": [
       "$$b = \\frac{1}{J{\\left (x,z \\right )}} \\left(\\left(\\frac{1}{h_{x}} \\left(- \\frac{1}{h_{x}} f{\\left (x,z \\right )} + \\frac{1}{h_{x}} f{\\left (h_{x} + x,z \\right )}\\right) - \\frac{1}{h_{x}} \\left(\\frac{1}{h_{x}} f{\\left (x,z \\right )} - \\frac{1}{h_{x}} f{\\left (- h_{x} + x,z \\right )}\\right)\\right) A{\\left (x,z \\right )} J{\\left (x,z \\right )} \\operatorname{g^{x x}}{\\left (x,z \\right )} + \\left(- \\frac{1}{h_{x}} A{\\left (x,z \\right )} + \\frac{1}{h_{x}} A{\\left (h_{x} + x,z \\right )}\\right) \\left(\\frac{1}{h_{x}} f{\\left (x,z \\right )} - \\frac{1}{h_{x}} f{\\left (- h_{x} + x,z \\right )}\\right) J{\\left (x,z \\right )} \\operatorname{g^{x x}}{\\left (x,z \\right )} + \\left(- \\frac{1}{h_{x}} J{\\left (x,z \\right )} + \\frac{1}{h_{x}} J{\\left (h_{x} + x,z \\right )}\\right) \\left(\\frac{1}{h_{x}} f{\\left (x,z \\right )} - \\frac{1}{h_{x}} f{\\left (- h_{x} + x,z \\right )}\\right) A{\\left (x,z \\right )} \\operatorname{g^{x x}}{\\left (x,z \\right )} + \\left(\\frac{1}{h_{x}} f{\\left (x,z \\right )} - \\frac{1}{h_{x}} f{\\left (- h_{x} + x,z \\right )}\\right) \\left(- \\frac{1}{h_{x}} \\operatorname{g^{x x}}{\\left (x,z \\right )} + \\frac{1}{h_{x}} \\operatorname{g^{x x}}{\\left (h_{x} + x,z \\right )}\\right) A{\\left (x,z \\right )} J{\\left (x,z \\right )}\\right) + \\frac{1}{J{\\left (x,z \\right )}} \\left(\\left(\\frac{1}{h_{z}} \\left(- \\frac{1}{h_{z}} f{\\left (x,z \\right )} + \\frac{1}{h_{z}} f{\\left (x,h_{z} + z \\right )}\\right) - \\frac{1}{h_{z}} \\left(\\frac{1}{h_{z}} f{\\left (x,z \\right )} - \\frac{1}{h_{z}} f{\\left (x,- h_{z} + z \\right )}\\right)\\right) A{\\left (x,z \\right )} J{\\left (x,z \\right )} \\operatorname{g^{z z}}{\\left (x,z \\right )} + \\left(- \\frac{1}{h_{z}} A{\\left (x,z \\right )} + \\frac{1}{h_{z}} A{\\left (x,h_{z} + z \\right )}\\right) \\left(\\frac{1}{h_{z}} f{\\left (x,z \\right )} - \\frac{1}{h_{z}} f{\\left (x,- h_{z} + z \\right )}\\right) J{\\left (x,z \\right )} \\operatorname{g^{z z}}{\\left (x,z \\right )} + \\left(- \\frac{1}{h_{z}} J{\\left (x,z \\right )} + \\frac{1}{h_{z}} J{\\left (x,h_{z} + z \\right )}\\right) \\left(\\frac{1}{h_{z}} f{\\left (x,z \\right )} - \\frac{1}{h_{z}} f{\\left (x,- h_{z} + z \\right )}\\right) A{\\left (x,z \\right )} \\operatorname{g^{z z}}{\\left (x,z \\right )} + \\left(\\frac{1}{h_{z}} f{\\left (x,z \\right )} - \\frac{1}{h_{z}} f{\\left (x,- h_{z} + z \\right )}\\right) \\left(- \\frac{1}{h_{z}} \\operatorname{g^{z z}}{\\left (x,z \\right )} + \\frac{1}{h_{z}} \\operatorname{g^{z z}}{\\left (x,h_{z} + z \\right )}\\right) A{\\left (x,z \\right )} J{\\left (x,z \\right )}\\right) + B{\\left (x,z \\right )} f{\\left (x,z \\right )}$$"
      ],
      "text/plain": [
       "    ⎛  f(x, z)   f(hₓ + x, z)   f(x, z)   f(-hₓ + x, z)⎞                      \n",
       "    ⎜- ─────── + ────────────   ─────── - ─────────────⎟                      \n",
       "    ⎜     hₓ          hₓ           hₓ           hₓ     ⎟                      \n",
       "    ⎜──────────────────────── - ───────────────────────⎟⋅A(x, z)⋅J(x, z)⋅g__x_\n",
       "    ⎝           hₓ                         hₓ          ⎠                      \n",
       "b = ──────────────────────────────────────────────────────────────────────────\n",
       "                                                                              \n",
       "\n",
       "                                                                              \n",
       "                                                                              \n",
       "           ⎛  A(x, z)   A(hₓ + x, z)⎞ ⎛f(x, z)   f(-hₓ + x, z)⎞               \n",
       "_x(x, z) + ⎜- ─────── + ────────────⎟⋅⎜─────── - ─────────────⎟⋅J(x, z)⋅g__x__\n",
       "           ⎝     hₓ          hₓ     ⎠ ⎝   hₓ           hₓ     ⎠               \n",
       "──────────────────────────────────────────────────────────────────────────────\n",
       "                                                                              \n",
       "\n",
       "                                                                              \n",
       "                                                                              \n",
       "          ⎛  J(x, z)   J(hₓ + x, z)⎞ ⎛f(x, z)   f(-hₓ + x, z)⎞                \n",
       "x(x, z) + ⎜- ─────── + ────────────⎟⋅⎜─────── - ─────────────⎟⋅A(x, z)⋅g__x__x\n",
       "          ⎝     hₓ          hₓ     ⎠ ⎝   hₓ           hₓ     ⎠                \n",
       "──────────────────────────────────────────────────────────────────────────────\n",
       "    J(x, z)                                                                   \n",
       "\n",
       "                                                                              \n",
       "                                                                              \n",
       "         ⎛f(x, z)   f(-hₓ + x, z)⎞ ⎛  g__x__x(x, z)   g__x__x(hₓ + x, z)⎞     \n",
       "(x, z) + ⎜─────── - ─────────────⎟⋅⎜- ───────────── + ──────────────────⎟⋅A(x,\n",
       "         ⎝   hₓ           hₓ     ⎠ ⎝        hₓ                hₓ        ⎠     \n",
       "──────────────────────────────────────────────────────────────────────────────\n",
       "                                                                              \n",
       "\n",
       "              ⎛  f(x, z)   f(x, h_z + z)   f(x, z)   f(x, -h_z + z)⎞          \n",
       "              ⎜- ─────── + ─────────────   ─────── - ──────────────⎟          \n",
       "              ⎜    h_z          h_z          h_z          h_z      ⎟          \n",
       " z)⋅J(x, z)   ⎜───────────────────────── - ────────────────────────⎟⋅A(x, z)⋅J\n",
       "              ⎝           h_z                        h_z           ⎠          \n",
       "─────────── + ────────────────────────────────────────────────────────────────\n",
       "                                                                              \n",
       "\n",
       "                                                                              \n",
       "                                                                              \n",
       "                       ⎛  A(x, z)   A(x, h_z + z)⎞ ⎛f(x, z)   f(x, -h_z + z)⎞ \n",
       "(x, z)⋅g__z__z(x, z) + ⎜- ─────── + ─────────────⎟⋅⎜─────── - ──────────────⎟⋅\n",
       "                       ⎝    h_z          h_z     ⎠ ⎝  h_z          h_z      ⎠ \n",
       "──────────────────────────────────────────────────────────────────────────────\n",
       "                                                                              \n",
       "\n",
       "                                                                              \n",
       "                                                                              \n",
       "                        ⎛  J(x, z)   J(x, h_z + z)⎞ ⎛f(x, z)   f(x, -h_z + z)⎞\n",
       "J(x, z)⋅g__z__z(x, z) + ⎜- ─────── + ─────────────⎟⋅⎜─────── - ──────────────⎟\n",
       "                        ⎝    h_z          h_z     ⎠ ⎝  h_z          h_z      ⎠\n",
       "──────────────────────────────────────────────────────────────────────────────\n",
       "                  J(x, z)                                                     \n",
       "\n",
       "                                                                              \n",
       "                                                                              \n",
       "                         ⎛f(x, z)   f(x, -h_z + z)⎞ ⎛  g__z__z(x, z)   g__z__z\n",
       "⋅A(x, z)⋅g__z__z(x, z) + ⎜─────── - ──────────────⎟⋅⎜- ───────────── + ───────\n",
       "                         ⎝  h_z          h_z      ⎠ ⎝       h_z               \n",
       "──────────────────────────────────────────────────────────────────────────────\n",
       "                                                                              \n",
       "\n",
       "                                               \n",
       "                                               \n",
       "(x, h_z + z)⎞                                  \n",
       "────────────⎟⋅A(x, z)⋅J(x, z)                  \n",
       " h_z        ⎠                                  \n",
       "───────────────────────────── + B(x, z)⋅f(x, z)\n",
       "                                               "
      ]
     },
     "metadata": {},
     "output_type": "display_data"
    }
   ],
   "source": [
    "b = term1 + term2 + term3\n",
    "display(Eq(symbols('b'), b))"
   ]
  },
  {
   "cell_type": "code",
   "execution_count": 13,
   "metadata": {
    "collapsed": true
   },
   "outputs": [],
   "source": [
    "# Converting to grid syntax\n",
    "functions = ['f', 'A', 'J', 'g^x^x', 'g^z^z', 'B']\n",
    "for func in functions:\n",
    "    curStr = '{0}_xz, {0}_xp1z, {0}_xm1z, {0}_xzp1, {0}_xzm1'.format(func)\n",
    "    syms = symbols(curStr)\n",
    "    b = fromFunctionToGrid(b, syms)"
   ]
  },
  {
   "cell_type": "code",
   "execution_count": 14,
   "metadata": {
    "collapsed": false
   },
   "outputs": [
    {
     "data": {
      "image/png": "[encoded data removed]",
      "text/latex": [
       "$$b = \\frac{A_{xz} f_{xp1z}}{h_{x}^{2}} g^{x x}_{xz} + \\frac{A_{xz} f_{xzp1}}{h_{z}^{2}} g^{z z}_{xz} + f_{xm1z} \\left(- \\frac{A_{xp1z}}{h_{x}^{2}} g^{x x}_{xz} - \\frac{A_{xz} J_{xp1z} g^{x x}_{xz}}{J_{xz} h_{x}^{2}} - \\frac{A_{xz}}{h_{x}^{2}} g^{x x}_{xp1z} + \\frac{4 A_{xz}}{h_{x}^{2}} g^{x x}_{xz}\\right) + f_{xz} \\left(\\frac{A_{xp1z}}{h_{x}^{2}} g^{x x}_{xz} + \\frac{A_{xz} J_{xp1z} g^{x x}_{xz}}{J_{xz} h_{x}^{2}} + \\frac{A_{xz}}{h_{x}^{2}} g^{x x}_{xp1z} - \\frac{5 A_{xz}}{h_{x}^{2}} g^{x x}_{xz} - \\frac{5 A_{xz}}{h_{z}^{2}} g^{z z}_{xz} + \\frac{A_{xz}}{h_{z}^{2}} g^{z z}_{xzp1} + \\frac{A_{xz} J_{xzp1} g^{z z}_{xz}}{J_{xz} h_{z}^{2}} + \\frac{A_{xzp1}}{h_{z}^{2}} g^{z z}_{xz} + B_{xz}\\right) + f_{xzm1} \\left(\\frac{4 A_{xz}}{h_{z}^{2}} g^{z z}_{xz} - \\frac{A_{xz}}{h_{z}^{2}} g^{z z}_{xzp1} - \\frac{A_{xz} J_{xzp1} g^{z z}_{xz}}{J_{xz} h_{z}^{2}} - \\frac{A_{xzp1}}{h_{z}^{2}} g^{z z}_{xz}\\right)$$"
      ],
      "text/plain": [
       "    A_xz⋅f_xp1z⋅g_xz__x__x   A_xz⋅f_xzp1⋅g_xz__z__z          ⎛  A_xp1z⋅g_xz__x\n",
       "b = ────────────────────── + ────────────────────── + f_xm1z⋅⎜- ──────────────\n",
       "               2                         2                   ⎜           2    \n",
       "             hₓ                       h_z                    ⎝         hₓ     \n",
       "\n",
       "__x   A_xz⋅J_xp1z⋅g_xz__x__x   A_xz⋅g_xp1z__x__x   4⋅A_xz⋅g_xz__x__x⎞        ⎛\n",
       "─── - ────────────────────── - ───────────────── + ─────────────────⎟ + f_xz⋅⎜\n",
       "                    2                   2                   2       ⎟        ⎜\n",
       "             J_xz⋅hₓ                  hₓ                  hₓ        ⎠        ⎝\n",
       "\n",
       "A_xp1z⋅g_xz__x__x   A_xz⋅J_xp1z⋅g_xz__x__x   A_xz⋅g_xp1z__x__x   5⋅A_xz⋅g_xz__\n",
       "───────────────── + ────────────────────── + ───────────────── - ─────────────\n",
       "         2                        2                   2                   2   \n",
       "       hₓ                  J_xz⋅hₓ                  hₓ                  hₓ    \n",
       "\n",
       "x__x   5⋅A_xz⋅g_xz__z__z   A_xz⋅g_xzp1__z__z   A_xz⋅J_xzp1⋅g_xz__z__z   A_xzp1\n",
       "──── - ───────────────── + ───────────────── + ────────────────────── + ──────\n",
       "                 2                   2                       2                \n",
       "              h_z                 h_z                J_xz⋅h_z                 \n",
       "\n",
       "⋅g_xz__z__z       ⎞          ⎛4⋅A_xz⋅g_xz__z__z   A_xz⋅g_xzp1__z__z   A_xz⋅J_x\n",
       "─────────── + B_xz⎟ + f_xzm1⋅⎜───────────────── - ───────────────── - ────────\n",
       "    2             ⎟          ⎜          2                   2                 \n",
       " h_z              ⎠          ⎝       h_z                 h_z                J_\n",
       "\n",
       "zp1⋅g_xz__z__z   A_xzp1⋅g_xz__z__z⎞\n",
       "────────────── - ─────────────────⎟\n",
       "      2                    2      ⎟\n",
       "xz⋅h_z                  h_z       ⎠"
      ]
     },
     "metadata": {},
     "output_type": "display_data"
    }
   ],
   "source": [
    "# We must expand before we collect\n",
    "b = collect(expand(b), symbols('f_xz, f_xp1z, f_xm1z, f_xzp1, f_xzm1'), exact=True)\n",
    "display(Eq(symbols('b'),b))"
   ]
  }
 ],
 "metadata": {
  "kernelspec": {
   "display_name": "Python 3",
   "language": "python",
   "name": "python3"
  },
  "language_info": {
   "codemirror_mode": {
    "name": "ipython",
    "version": 3
   },
   "file_extension": ".py",
   "mimetype": "text/x-python",
   "name": "python",
   "nbconvert_exporter": "python",
   "pygments_lexer": "ipython3",
   "version": "3.5.1"
  }
 },
 "nbformat": 4,
 "nbformat_minor": 0
}
