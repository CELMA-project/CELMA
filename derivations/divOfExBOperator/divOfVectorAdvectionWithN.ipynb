{
 "cells": [
  {
   "cell_type": "markdown",
   "metadata": {},
   "source": [
    "# Calculation of the divergence of the advection of the perpendicular gradient of the potential times density using Clebsch coordinates\n",
    "\n",
    "We would here like to calculate\n",
    "$$\n",
    "\\nabla\\cdot\\left(\\mathbf{u}_E\\cdot\\nabla\\left[n \\nabla_\\perp\\phi \\right]\\right)\n",
    "$$\n",
    "using cylindrical Clebsch coordinates, as this tensor identity has not been found in the literature.\n",
    "\n",
    "**NOTE: These are normalized equations. As $B$ is constant, we can choose $B_0$ so that the normalized $\\tilde{B}=1$, thus, $B$ is excluded from these equations.**\n",
    "\n",
    "Also, we would like to compare this with\n",
    "$$\n",
    "B\\{\\phi,\\Omega^D\\}\n",
    "$$"
   ]
  },
  {
   "cell_type": "code",
   "execution_count": 1,
   "metadata": {
    "collapsed": false
   },
   "outputs": [],
   "source": [
    "from IPython.display import display\n",
    "from sympy import symbols, simplify, sympify, expand\n",
    "from sympy import init_printing\n",
    "from sympy import Eq, Function\n",
    "from clebschVector import ClebschVec\n",
    "from clebschVector import div, grad, gradPerp, advVec\n",
    "from common import rho, theta, poisson\n",
    "from common import displayVec\n",
    "\n",
    "init_printing()"
   ]
  },
  {
   "cell_type": "code",
   "execution_count": 2,
   "metadata": {
    "collapsed": false
   },
   "outputs": [],
   "source": [
    "u_z = symbols('u_z', real = True)\n",
    "# In reality this is a function, but as it serves only as a dummy it is here defined as a symbol\n",
    "# This makes it easier to replace\n",
    "f = symbols('f', real = True)\n",
    "phi = Function('phi')(rho, theta)\n",
    "n   = Function('n')(rho, theta)\n",
    "# Symbols for printing\n",
    "zeta, chi, epsilon = symbols('zeta, chi, epsilon')"
   ]
  },
  {
   "cell_type": "markdown",
   "metadata": {},
   "source": [
    "# Calculation of the $E\\times B$ advection\n",
    "\n",
    "We would now like to calculate\n",
    "\n",
    "$$\n",
    "\\zeta = \\nabla\\cdot\\left(\\mathbf{u}_E \\cdot\\nabla\\left[n\\nabla_\\perp\\phi\\right]\\right)\n",
    "$$\n",
    "\n",
    "We will do this by\n",
    "\n",
    "1. Calculate $n\\nabla_\\perp\\phi$\n",
    "2. Define $\\mathbf{u}_E$\n",
    "    * By first calculating $\\nabla_\\perp\\phi$\n",
    "3. Calculate $\\mathbf{u}_E\\cdot\\nabla \\left(n\\nabla_\\perp\\phi\\right)$\n",
    "    * To check the different contributions we also\n",
    "        * Calculate $\\mathbf{u}_E\\cdot\\nabla f$\n",
    "        * Calculate $\\mathbf{a}\\cdot \\left(n\\nabla_\\perp\\phi\\right)$\n",
    "4. Take the divergence of the resulting vector\n",
    "5. Compare this with $B\\{\\phi,\\Omega^D\\}$"
   ]
  },
  {
   "cell_type": "markdown",
   "metadata": {},
   "source": [
    "## Calculation of $n\\nabla_\\perp\\phi$"
   ]
  },
  {
   "cell_type": "code",
   "execution_count": 3,
   "metadata": {
    "collapsed": false
   },
   "outputs": [
    {
     "data": {
      "image/png": "[encoded data removed]",
      "text/latex": [
       "$$v_{\\rho} = n{\\left (\\rho,\\theta \\right )} \\frac{\\partial}{\\partial \\rho} \\phi{\\left (\\rho,\\theta \\right )}$$"
      ],
      "text/plain": [
       "             ∂          \n",
       "vᵨ = n(ρ, θ)⋅──(φ(ρ, θ))\n",
       "             ∂ρ         "
      ]
     },
     "metadata": {},
     "output_type": "display_data"
    },
    {
     "data": {
      "image/png": "[encoded data removed]",
      "text/latex": [
       "$$v_{z} = 0$$"
      ],
      "text/plain": [
       "v_z = 0"
      ]
     },
     "metadata": {},
     "output_type": "display_data"
    },
    {
     "data": {
      "image/png": "[encoded data removed]",
      "text/latex": [
       "$$v_{\\theta} = n{\\left (\\rho,\\theta \\right )} \\frac{\\partial}{\\partial \\theta} \\phi{\\left (\\rho,\\theta \\right )}$$"
      ],
      "text/plain": [
       "                 ∂          \n",
       "vₜₕₑₜₐ = n(ρ, θ)⋅──(φ(ρ, θ))\n",
       "                 ∂θ         "
      ]
     },
     "metadata": {},
     "output_type": "display_data"
    }
   ],
   "source": [
    "nGradPerpPhi = gradPerp(phi)*n\n",
    "displayVec(nGradPerpPhi)"
   ]
  },
  {
   "cell_type": "markdown",
   "metadata": {},
   "source": [
    "## Defining $\\mathbf{u}_E$\n",
    "\n",
    "We have that \n",
    "$${u}_E = - \\frac{\\nabla_\\perp\\phi\\times\\mathbf{b}}{B}$$\n",
    "Remember that we are working with normalized equations, so $B$ (which in reality is $\\tilde{B}$) is equal to $1$.\n",
    "\n",
    "**NOTE: It migth appear that there is a discrepancy between having a coordinate system where $B$ is not constant where we have derived equation where $B$ is constant. However, this is not a problem as $B$ is not present in the normalized equations, and because we can choose $B_0$ so that $\\widetilde{B}=1$**"
   ]
  },
  {
   "cell_type": "code",
   "execution_count": 4,
   "metadata": {
    "collapsed": false
   },
   "outputs": [
    {
     "data": {
      "image/png": "[encoded data removed]",
      "text/latex": [
       "$$B^{\\rho} = 0$$"
      ],
      "text/plain": [
       "B__ρ = 0"
      ]
     },
     "metadata": {},
     "output_type": "display_data"
    },
    {
     "data": {
      "image/png": "[encoded data removed]",
      "text/latex": [
       "$$B^{z} = \\frac{1}{\\rho}$$"
      ],
      "text/plain": [
       "       1\n",
       "B__z = ─\n",
       "       ρ"
      ]
     },
     "metadata": {},
     "output_type": "display_data"
    },
    {
     "data": {
      "image/png": "[encoded data removed]",
      "text/latex": [
       "$$B^{\\theta} = 0$$"
      ],
      "text/plain": [
       "B__θ = 0"
      ]
     },
     "metadata": {},
     "output_type": "display_data"
    },
    {
     "data": {
      "image/png": "[encoded data removed]",
      "text/latex": [
       "$$B = \\frac{1}{\\rho}$$"
      ],
      "text/plain": [
       "    1\n",
       "B = ─\n",
       "    ρ"
      ]
     },
     "metadata": {},
     "output_type": "display_data"
    },
    {
     "data": {
      "image/png": "[encoded data removed]",
      "text/latex": [
       "$$b^{\\rho} = 0$$"
      ],
      "text/plain": [
       "b__ρ = 0"
      ]
     },
     "metadata": {},
     "output_type": "display_data"
    },
    {
     "data": {
      "image/png": "[encoded data removed]",
      "text/latex": [
       "$$b^{z} = 1$$"
      ],
      "text/plain": [
       "b__z = 1"
      ]
     },
     "metadata": {},
     "output_type": "display_data"
    },
    {
     "data": {
      "image/png": "[encoded data removed]",
      "text/latex": [
       "$$b^{\\theta} = 0$$"
      ],
      "text/plain": [
       "b__θ = 0"
      ]
     },
     "metadata": {},
     "output_type": "display_data"
    }
   ],
   "source": [
    "# The basis-vectors are contravariant => components are covariant\n",
    "eTheta = ClebschVec(rho=0, theta=1, z=0, covariant=True)\n",
    "eRho = ClebschVec(rho=1, theta=0, z=0, covariant=True)\n",
    "B = eTheta^eRho\n",
    "displayVec(B, 'B')\n",
    "Blen = B.len()\n",
    "display(Eq(symbols('B'), Blen))\n",
    "b = B/(B.len())\n",
    "displayVec(b, 'b')"
   ]
  },
  {
   "cell_type": "markdown",
   "metadata": {},
   "source": [
    "**NOTE: Basis vectors in $B$ are covariant, so components are contravariant**"
   ]
  },
  {
   "cell_type": "markdown",
   "metadata": {},
   "source": [
    "### Calculation of $\\nabla_\\perp\\phi$"
   ]
  },
  {
   "cell_type": "code",
   "execution_count": 5,
   "metadata": {
    "collapsed": false
   },
   "outputs": [
    {
     "data": {
      "image/png": "[encoded data removed]",
      "text/latex": [
       "$$v_{\\rho} = \\frac{\\partial}{\\partial \\rho} \\phi{\\left (\\rho,\\theta \\right )}$$"
      ],
      "text/plain": [
       "     ∂          \n",
       "vᵨ = ──(φ(ρ, θ))\n",
       "     ∂ρ         "
      ]
     },
     "metadata": {},
     "output_type": "display_data"
    },
    {
     "data": {
      "image/png": "[encoded data removed]",
      "text/latex": [
       "$$v_{z} = 0$$"
      ],
      "text/plain": [
       "v_z = 0"
      ]
     },
     "metadata": {},
     "output_type": "display_data"
    },
    {
     "data": {
      "image/png": "[encoded data removed]",
      "text/latex": [
       "$$v_{\\theta} = \\frac{\\partial}{\\partial \\theta} \\phi{\\left (\\rho,\\theta \\right )}$$"
      ],
      "text/plain": [
       "         ∂          \n",
       "vₜₕₑₜₐ = ──(φ(ρ, θ))\n",
       "         ∂θ         "
      ]
     },
     "metadata": {},
     "output_type": "display_data"
    }
   ],
   "source": [
    "gradPerpPhi = gradPerp(phi)\n",
    "displayVec(gradPerpPhi)"
   ]
  },
  {
   "cell_type": "code",
   "execution_count": 6,
   "metadata": {
    "collapsed": false
   },
   "outputs": [
    {
     "data": {
      "image/png": "[encoded data removed]",
      "text/latex": [
       "$$u^{\\rho}_{E} = \\frac{1}{\\rho} \\frac{\\partial}{\\partial \\theta} \\phi{\\left (\\rho,\\theta \\right )}$$"
      ],
      "text/plain": [
       "         ∂          \n",
       "         ──(φ(ρ, θ))\n",
       "         ∂θ         \n",
       "u_E__ρ = ───────────\n",
       "              ρ     "
      ]
     },
     "metadata": {},
     "output_type": "display_data"
    },
    {
     "data": {
      "image/png": "[encoded data removed]",
      "text/latex": [
       "$$u^{z}_{E} = 0$$"
      ],
      "text/plain": [
       "u_E__z = 0"
      ]
     },
     "metadata": {},
     "output_type": "display_data"
    },
    {
     "data": {
      "image/png": "[encoded data removed]",
      "text/latex": [
       "$$u^{\\theta}_{E} = - \\frac{1}{\\rho} \\frac{\\partial}{\\partial \\rho} \\phi{\\left (\\rho,\\theta \\right )}$$"
      ],
      "text/plain": [
       "          ∂           \n",
       "         -──(φ(ρ, θ)) \n",
       "          ∂ρ          \n",
       "u_E__θ = ─────────────\n",
       "               ρ      "
      ]
     },
     "metadata": {},
     "output_type": "display_data"
    }
   ],
   "source": [
    "# Normalized B\n",
    "BTilde = 1\n",
    "\n",
    "# Defining u_E\n",
    "ue = - ((gradPerpPhi^b)/BTilde)\n",
    "displayVec(ue, 'u_E')"
   ]
  },
  {
   "cell_type": "markdown",
   "metadata": {},
   "source": [
    "## Calculation of $\\mathbf{u}_E\\cdot\\nabla \\left(n\\nabla_\\perp\\phi\\right)$"
   ]
  },
  {
   "cell_type": "markdown",
   "metadata": {},
   "source": [
    "### Calculation of $\\mathbf{u}_E\\cdot\\nabla f$"
   ]
  },
  {
   "cell_type": "code",
   "execution_count": 7,
   "metadata": {
    "collapsed": false
   },
   "outputs": [
    {
     "data": {
      "image/png": "[encoded data removed]",
      "text/latex": [
       "$$\\frac{1}{\\rho} \\frac{d}{d \\rho} f \\frac{\\partial}{\\partial \\theta} \\phi{\\left (\\rho,\\theta \\right )} - \\frac{1}{\\rho} \\frac{d}{d \\theta} f \\frac{\\partial}{\\partial \\rho} \\phi{\\left (\\rho,\\theta \\right )}$$"
      ],
      "text/plain": [
       "d     ∂             d     ∂          \n",
       "──(f)⋅──(φ(ρ, θ))   ──(f)⋅──(φ(ρ, θ))\n",
       "dρ    ∂θ            dθ    ∂ρ         \n",
       "───────────────── - ─────────────────\n",
       "        ρ                   ρ        "
      ]
     },
     "metadata": {},
     "output_type": "display_data"
    }
   ],
   "source": [
    "ueDotGrad_f = ue*grad(f)\n",
    "display(ueDotGrad_f)"
   ]
  },
  {
   "cell_type": "markdown",
   "metadata": {},
   "source": [
    "### Calculation of  $\\mathbf{a}\\cdot\\nabla \\left(n\\nabla_\\perp\\phi\\right)$"
   ]
  },
  {
   "cell_type": "code",
   "execution_count": 8,
   "metadata": {
    "collapsed": true
   },
   "outputs": [],
   "source": [
    "aRho,  aZ,  aTheta  = symbols('a^rho, a^z, a^theta')\n",
    "a_Rho, a_Z, a_Theta = symbols('a_rho, a_z, a_theta')\n",
    "aCov = ClebschVec(rho = a_Rho, z=a_Z, theta = a_Theta, covariant=True)\n",
    "aCon = ClebschVec(rho = aRho,  z=aZ,  theta = aTheta,  covariant=False)"
   ]
  },
  {
   "cell_type": "markdown",
   "metadata": {},
   "source": [
    "Using covariant vector"
   ]
  },
  {
   "cell_type": "code",
   "execution_count": 9,
   "metadata": {
    "collapsed": false
   },
   "outputs": [
    {
     "data": {
      "image/png": "[encoded data removed]",
      "text/latex": [
       "$$v_{\\rho} = a_{\\rho} \\frac{\\partial}{\\partial \\rho}\\left(n{\\left (\\rho,\\theta \\right )} \\frac{\\partial}{\\partial \\rho} \\phi{\\left (\\rho,\\theta \\right )}\\right) + \\frac{a_{\\theta}}{\\rho^{2}} \\left(\\frac{\\partial}{\\partial \\theta}\\left(n{\\left (\\rho,\\theta \\right )} \\frac{\\partial}{\\partial \\rho} \\phi{\\left (\\rho,\\theta \\right )}\\right) - \\frac{1}{\\rho} n{\\left (\\rho,\\theta \\right )} \\frac{\\partial}{\\partial \\theta} \\phi{\\left (\\rho,\\theta \\right )}\\right) + a_{z} \\frac{\\partial}{\\partial z}\\left(n{\\left (\\rho,\\theta \\right )} \\frac{\\partial}{\\partial \\rho} \\phi{\\left (\\rho,\\theta \\right )}\\right)$$"
      ],
      "text/plain": [
       "                                         ⎛                                  ∂ \n",
       "                                         ⎜                          n(ρ, θ)⋅──\n",
       "                                         ⎜∂ ⎛        ∂          ⎞           ∂θ\n",
       "                                  aₜₕₑₜₐ⋅⎜──⎜n(ρ, θ)⋅──(φ(ρ, θ))⎟ - ──────────\n",
       "        ∂ ⎛        ∂          ⎞          ⎝∂θ⎝        ∂ρ         ⎠            ρ\n",
       "vᵨ = aᵨ⋅──⎜n(ρ, θ)⋅──(φ(ρ, θ))⎟ + ────────────────────────────────────────────\n",
       "        ∂ρ⎝        ∂ρ         ⎠                              2                \n",
       "                                                            ρ                 \n",
       "\n",
       "         ⎞                              \n",
       "(φ(ρ, θ))⎟                              \n",
       "         ⎟                              \n",
       "─────────⎟                              \n",
       "         ⎠       ∂ ⎛        ∂          ⎞\n",
       "────────── + a_z⋅──⎜n(ρ, θ)⋅──(φ(ρ, θ))⎟\n",
       "                 ∂z⎝        ∂ρ         ⎠\n",
       "                                        "
      ]
     },
     "metadata": {},
     "output_type": "display_data"
    },
    {
     "data": {
      "image/png": "[encoded data removed]",
      "text/latex": [
       "$$v_{z} = a_{\\rho} \\frac{d}{d \\rho} 0 + \\frac{a_{\\theta}}{\\rho^{2}} \\frac{d}{d \\theta} 0 + a_{z} \\frac{d}{d z} 0$$"
      ],
      "text/plain": [
       "                        d                \n",
       "                 aₜₕₑₜₐ⋅──(0)            \n",
       "         d              dθ          d    \n",
       "v_z = aᵨ⋅──(0) + ──────────── + a_z⋅──(0)\n",
       "         dρ            2            dz   \n",
       "                      ρ                  "
      ]
     },
     "metadata": {},
     "output_type": "display_data"
    },
    {
     "data": {
      "image/png": "[encoded data removed]",
      "text/latex": [
       "$$v_{\\theta} = a_{\\rho} \\left(\\frac{\\partial}{\\partial \\rho}\\left(n{\\left (\\rho,\\theta \\right )} \\frac{\\partial}{\\partial \\theta} \\phi{\\left (\\rho,\\theta \\right )}\\right) - \\frac{1}{\\rho} n{\\left (\\rho,\\theta \\right )} \\frac{\\partial}{\\partial \\theta} \\phi{\\left (\\rho,\\theta \\right )}\\right) + \\frac{a_{\\theta}}{\\rho^{2}} \\left(\\rho n{\\left (\\rho,\\theta \\right )} \\frac{\\partial}{\\partial \\rho} \\phi{\\left (\\rho,\\theta \\right )} + \\frac{\\partial}{\\partial \\theta}\\left(n{\\left (\\rho,\\theta \\right )} \\frac{\\partial}{\\partial \\theta} \\phi{\\left (\\rho,\\theta \\right )}\\right)\\right) + a_{z} \\frac{\\partial}{\\partial z}\\left(n{\\left (\\rho,\\theta \\right )} \\frac{\\partial}{\\partial \\theta} \\phi{\\left (\\rho,\\theta \\right )}\\right)$$"
      ],
      "text/plain": [
       "            ⎛                                  ∂          ⎞          ⎛        \n",
       "            ⎜                          n(ρ, θ)⋅──(φ(ρ, θ))⎟   aₜₕₑₜₐ⋅⎜ρ⋅n(ρ, θ\n",
       "            ⎜∂ ⎛        ∂          ⎞           ∂θ         ⎟          ⎝        \n",
       "vₜₕₑₜₐ = aᵨ⋅⎜──⎜n(ρ, θ)⋅──(φ(ρ, θ))⎟ - ───────────────────⎟ + ────────────────\n",
       "            ⎝∂ρ⎝        ∂θ         ⎠            ρ         ⎠                   \n",
       "                                                                              \n",
       "\n",
       "  ∂             ∂ ⎛        ∂          ⎞⎞                              \n",
       ")⋅──(φ(ρ, θ)) + ──⎜n(ρ, θ)⋅──(φ(ρ, θ))⎟⎟                              \n",
       "  ∂ρ            ∂θ⎝        ∂θ         ⎠⎠       ∂ ⎛        ∂          ⎞\n",
       "──────────────────────────────────────── + a_z⋅──⎜n(ρ, θ)⋅──(φ(ρ, θ))⎟\n",
       "            2                                  ∂z⎝        ∂θ         ⎠\n",
       "           ρ                                                          "
      ]
     },
     "metadata": {},
     "output_type": "display_data"
    }
   ],
   "source": [
    "aCovDotNablaGradPhi = advVec(aCov, nGradPerpPhi)\n",
    "displayVec(aCovDotNablaGradPhi)"
   ]
  },
  {
   "cell_type": "markdown",
   "metadata": {},
   "source": [
    "Using contravariant vector"
   ]
  },
  {
   "cell_type": "code",
   "execution_count": 10,
   "metadata": {
    "collapsed": false
   },
   "outputs": [
    {
     "data": {
      "image/png": "[encoded data removed]",
      "text/latex": [
       "$$v_{\\rho} = a^{\\rho} \\frac{\\partial}{\\partial \\rho}\\left(n{\\left (\\rho,\\theta \\right )} \\frac{\\partial}{\\partial \\rho} \\phi{\\left (\\rho,\\theta \\right )}\\right) + a^{\\theta} \\left(\\frac{\\partial}{\\partial \\theta}\\left(n{\\left (\\rho,\\theta \\right )} \\frac{\\partial}{\\partial \\rho} \\phi{\\left (\\rho,\\theta \\right )}\\right) - \\frac{1}{\\rho} n{\\left (\\rho,\\theta \\right )} \\frac{\\partial}{\\partial \\theta} \\phi{\\left (\\rho,\\theta \\right )}\\right) + a^{z} \\frac{\\partial}{\\partial z}\\left(n{\\left (\\rho,\\theta \\right )} \\frac{\\partial}{\\partial \\rho} \\phi{\\left (\\rho,\\theta \\right )}\\right)$$"
      ],
      "text/plain": [
       "                                         ⎛                                  ∂ \n",
       "                                         ⎜                          n(ρ, θ)⋅──\n",
       "          ∂ ⎛        ∂          ⎞        ⎜∂ ⎛        ∂          ⎞           ∂θ\n",
       "vᵨ = a__ρ⋅──⎜n(ρ, θ)⋅──(φ(ρ, θ))⎟ + a__θ⋅⎜──⎜n(ρ, θ)⋅──(φ(ρ, θ))⎟ - ──────────\n",
       "          ∂ρ⎝        ∂ρ         ⎠        ⎝∂θ⎝        ∂ρ         ⎠            ρ\n",
       "\n",
       "         ⎞                               \n",
       "(φ(ρ, θ))⎟                               \n",
       "         ⎟        ∂ ⎛        ∂          ⎞\n",
       "─────────⎟ + a__z⋅──⎜n(ρ, θ)⋅──(φ(ρ, θ))⎟\n",
       "         ⎠        ∂z⎝        ∂ρ         ⎠"
      ]
     },
     "metadata": {},
     "output_type": "display_data"
    },
    {
     "data": {
      "image/png": "[encoded data removed]",
      "text/latex": [
       "$$v_{z} = a^{\\rho} \\frac{d}{d \\rho} 0 + a^{\\theta} \\frac{d}{d \\theta} 0 + a^{z} \\frac{d}{d z} 0$$"
      ],
      "text/plain": [
       "           d            d            d    \n",
       "v_z = a__ρ⋅──(0) + a__θ⋅──(0) + a__z⋅──(0)\n",
       "           dρ           dθ           dz   "
      ]
     },
     "metadata": {},
     "output_type": "display_data"
    },
    {
     "data": {
      "image/png": "[encoded data removed]",
      "text/latex": [
       "$$v_{\\theta} = a^{\\rho} \\left(\\frac{\\partial}{\\partial \\rho}\\left(n{\\left (\\rho,\\theta \\right )} \\frac{\\partial}{\\partial \\theta} \\phi{\\left (\\rho,\\theta \\right )}\\right) - \\frac{1}{\\rho} n{\\left (\\rho,\\theta \\right )} \\frac{\\partial}{\\partial \\theta} \\phi{\\left (\\rho,\\theta \\right )}\\right) + a^{\\theta} \\left(\\rho n{\\left (\\rho,\\theta \\right )} \\frac{\\partial}{\\partial \\rho} \\phi{\\left (\\rho,\\theta \\right )} + \\frac{\\partial}{\\partial \\theta}\\left(n{\\left (\\rho,\\theta \\right )} \\frac{\\partial}{\\partial \\theta} \\phi{\\left (\\rho,\\theta \\right )}\\right)\\right) + a^{z} \\frac{\\partial}{\\partial z}\\left(n{\\left (\\rho,\\theta \\right )} \\frac{\\partial}{\\partial \\theta} \\phi{\\left (\\rho,\\theta \\right )}\\right)$$"
      ],
      "text/plain": [
       "              ⎛                                  ∂          ⎞                 \n",
       "              ⎜                          n(ρ, θ)⋅──(φ(ρ, θ))⎟                 \n",
       "              ⎜∂ ⎛        ∂          ⎞           ∂θ         ⎟        ⎛        \n",
       "vₜₕₑₜₐ = a__ρ⋅⎜──⎜n(ρ, θ)⋅──(φ(ρ, θ))⎟ - ───────────────────⎟ + a__θ⋅⎜ρ⋅n(ρ, θ\n",
       "              ⎝∂ρ⎝        ∂θ         ⎠            ρ         ⎠        ⎝        \n",
       "\n",
       "                                                                       \n",
       "                                                                       \n",
       "  ∂             ∂ ⎛        ∂          ⎞⎞        ∂ ⎛        ∂          ⎞\n",
       ")⋅──(φ(ρ, θ)) + ──⎜n(ρ, θ)⋅──(φ(ρ, θ))⎟⎟ + a__z⋅──⎜n(ρ, θ)⋅──(φ(ρ, θ))⎟\n",
       "  ∂ρ            ∂θ⎝        ∂θ         ⎠⎠        ∂z⎝        ∂θ         ⎠"
      ]
     },
     "metadata": {},
     "output_type": "display_data"
    }
   ],
   "source": [
    "aConDotNablaGradPhi = advVec(aCon, nGradPerpPhi)\n",
    "displayVec(aConDotNablaGradPhi)"
   ]
  },
  {
   "cell_type": "markdown",
   "metadata": {},
   "source": [
    "### Calculation of full  $\\mathbf{u}_E\\cdot\\nabla \\left(n\\nabla_\\perp\\phi\\right)$"
   ]
  },
  {
   "cell_type": "code",
   "execution_count": 11,
   "metadata": {
    "collapsed": false
   },
   "outputs": [
    {
     "data": {
      "image/png": "[encoded data removed]",
      "text/latex": [
       "$$v_{\\rho} = \\frac{1}{\\rho} \\left(n{\\left (\\rho,\\theta \\right )} \\frac{\\partial^{2}}{\\partial \\rho^{2}}  \\phi{\\left (\\rho,\\theta \\right )} + \\frac{\\partial}{\\partial \\rho} n{\\left (\\rho,\\theta \\right )} \\frac{\\partial}{\\partial \\rho} \\phi{\\left (\\rho,\\theta \\right )}\\right) \\frac{\\partial}{\\partial \\theta} \\phi{\\left (\\rho,\\theta \\right )} - \\frac{1}{\\rho} \\left(n{\\left (\\rho,\\theta \\right )} \\frac{\\partial^{2}}{\\partial \\rho\\partial \\theta}  \\phi{\\left (\\rho,\\theta \\right )} + \\frac{\\partial}{\\partial \\theta} n{\\left (\\rho,\\theta \\right )} \\frac{\\partial}{\\partial \\rho} \\phi{\\left (\\rho,\\theta \\right )} - \\frac{1}{\\rho} n{\\left (\\rho,\\theta \\right )} \\frac{\\partial}{\\partial \\theta} \\phi{\\left (\\rho,\\theta \\right )}\\right) \\frac{\\partial}{\\partial \\rho} \\phi{\\left (\\rho,\\theta \\right )}$$"
      ],
      "text/plain": [
       "     ⎛          2                                   ⎞               ⎛         \n",
       "     ⎜         ∂             ∂           ∂          ⎟ ∂             ⎜         \n",
       "     ⎜n(ρ, θ)⋅───(φ(ρ, θ)) + ──(n(ρ, θ))⋅──(φ(ρ, θ))⎟⋅──(φ(ρ, θ))   ⎜         \n",
       "     ⎜          2            ∂ρ          ∂ρ         ⎟ ∂θ            ⎜n(ρ, θ)⋅─\n",
       "     ⎝        ∂ρ                                    ⎠               ⎝        ∂\n",
       "vᵨ = ──────────────────────────────────────────────────────────── - ──────────\n",
       "                                  ρ                                           \n",
       "\n",
       "                                                  ∂          ⎞            \n",
       "  2                                       n(ρ, θ)⋅──(φ(ρ, θ))⎟            \n",
       " ∂              ∂           ∂                     ∂θ         ⎟ ∂          \n",
       "────(φ(ρ, θ)) + ──(n(ρ, θ))⋅──(φ(ρ, θ)) - ───────────────────⎟⋅──(φ(ρ, θ))\n",
       "θ ∂ρ            ∂θ          ∂ρ                     ρ         ⎠ ∂ρ         \n",
       "──────────────────────────────────────────────────────────────────────────\n",
       "                               ρ                                          "
      ]
     },
     "metadata": {},
     "output_type": "display_data"
    },
    {
     "data": {
      "image/png": "[encoded data removed]",
      "text/latex": [
       "$$v_{z} = 0$$"
      ],
      "text/plain": [
       "v_z = 0"
      ]
     },
     "metadata": {},
     "output_type": "display_data"
    },
    {
     "data": {
      "image/png": "[encoded data removed]",
      "text/latex": [
       "$$v_{\\theta} = \\frac{1}{\\rho} \\left(n{\\left (\\rho,\\theta \\right )} \\frac{\\partial^{2}}{\\partial \\rho\\partial \\theta}  \\phi{\\left (\\rho,\\theta \\right )} + \\frac{\\partial}{\\partial \\rho} n{\\left (\\rho,\\theta \\right )} \\frac{\\partial}{\\partial \\theta} \\phi{\\left (\\rho,\\theta \\right )} - \\frac{1}{\\rho} n{\\left (\\rho,\\theta \\right )} \\frac{\\partial}{\\partial \\theta} \\phi{\\left (\\rho,\\theta \\right )}\\right) \\frac{\\partial}{\\partial \\theta} \\phi{\\left (\\rho,\\theta \\right )} - \\frac{1}{\\rho} \\left(\\rho n{\\left (\\rho,\\theta \\right )} \\frac{\\partial}{\\partial \\rho} \\phi{\\left (\\rho,\\theta \\right )} + n{\\left (\\rho,\\theta \\right )} \\frac{\\partial^{2}}{\\partial \\theta^{2}}  \\phi{\\left (\\rho,\\theta \\right )} + \\frac{\\partial}{\\partial \\theta} n{\\left (\\rho,\\theta \\right )} \\frac{\\partial}{\\partial \\theta} \\phi{\\left (\\rho,\\theta \\right )}\\right) \\frac{\\partial}{\\partial \\rho} \\phi{\\left (\\rho,\\theta \\right )}$$"
      ],
      "text/plain": [
       "         ⎛                                                           ∂        \n",
       "         ⎜           2                                       n(ρ, θ)⋅──(φ(ρ, θ\n",
       "         ⎜          ∂              ∂           ∂                     ∂θ       \n",
       "         ⎜n(ρ, θ)⋅─────(φ(ρ, θ)) + ──(n(ρ, θ))⋅──(φ(ρ, θ)) - ─────────────────\n",
       "         ⎝        ∂θ ∂ρ            ∂ρ          ∂θ                     ρ       \n",
       "vₜₕₑₜₐ = ─────────────────────────────────────────────────────────────────────\n",
       "                                                  ρ                           \n",
       "\n",
       "  ⎞               ⎛                                  2                        \n",
       "))⎟               ⎜          ∂                      ∂             ∂           \n",
       "  ⎟ ∂             ⎜ρ⋅n(ρ, θ)⋅──(φ(ρ, θ)) + n(ρ, θ)⋅───(φ(ρ, θ)) + ──(n(ρ, θ))⋅\n",
       "──⎟⋅──(φ(ρ, θ))   ⎜          ∂ρ                      2            ∂θ          \n",
       "  ⎠ ∂θ            ⎝                                ∂θ                         \n",
       "─────────────── - ────────────────────────────────────────────────────────────\n",
       "                                                           ρ                  \n",
       "\n",
       "           ⎞            \n",
       "∂          ⎟ ∂          \n",
       "──(φ(ρ, θ))⎟⋅──(φ(ρ, θ))\n",
       "∂θ         ⎟ ∂ρ         \n",
       "           ⎠            \n",
       "────────────────────────\n",
       "                        "
      ]
     },
     "metadata": {},
     "output_type": "display_data"
    }
   ],
   "source": [
    "ueDotGradnGradPerpPhi = advVec(ue, nGradPerpPhi)\n",
    "displayVec(ueDotGradnGradPerpPhi.doitVec())"
   ]
  },
  {
   "cell_type": "code",
   "execution_count": 12,
   "metadata": {
    "collapsed": false,
    "scrolled": false
   },
   "outputs": [
    {
     "data": {
      "image/png": "[encoded data removed]",
      "text/latex": [
       "$$v_{\\rho} = \\frac{1}{\\rho^{2}} \\left(\\rho \\left(n{\\left (\\rho,\\theta \\right )} \\frac{\\partial^{2}}{\\partial \\rho^{2}}  \\phi{\\left (\\rho,\\theta \\right )} + \\frac{\\partial}{\\partial \\rho} n{\\left (\\rho,\\theta \\right )} \\frac{\\partial}{\\partial \\rho} \\phi{\\left (\\rho,\\theta \\right )}\\right) \\frac{\\partial}{\\partial \\theta} \\phi{\\left (\\rho,\\theta \\right )} - \\left(\\rho \\left(n{\\left (\\rho,\\theta \\right )} \\frac{\\partial^{2}}{\\partial \\rho\\partial \\theta}  \\phi{\\left (\\rho,\\theta \\right )} + \\frac{\\partial}{\\partial \\theta} n{\\left (\\rho,\\theta \\right )} \\frac{\\partial}{\\partial \\rho} \\phi{\\left (\\rho,\\theta \\right )}\\right) - n{\\left (\\rho,\\theta \\right )} \\frac{\\partial}{\\partial \\theta} \\phi{\\left (\\rho,\\theta \\right )}\\right) \\frac{\\partial}{\\partial \\rho} \\phi{\\left (\\rho,\\theta \\right )}\\right)$$"
      ],
      "text/plain": [
       "       ⎛          2                                   ⎞               ⎛  ⎛    \n",
       "       ⎜         ∂             ∂           ∂          ⎟ ∂             ⎜  ⎜    \n",
       "     ρ⋅⎜n(ρ, θ)⋅───(φ(ρ, θ)) + ──(n(ρ, θ))⋅──(φ(ρ, θ))⎟⋅──(φ(ρ, θ)) - ⎜ρ⋅⎜n(ρ,\n",
       "       ⎜          2            ∂ρ          ∂ρ         ⎟ ∂θ            ⎝  ⎝    \n",
       "       ⎝        ∂ρ                                    ⎠                       \n",
       "vᵨ = ─────────────────────────────────────────────────────────────────────────\n",
       "                                                                              \n",
       "                                                                              \n",
       "\n",
       "       2                                    ⎞                      ⎞          \n",
       "      ∂              ∂           ∂          ⎟           ∂          ⎟ ∂        \n",
       " θ)⋅─────(φ(ρ, θ)) + ──(n(ρ, θ))⋅──(φ(ρ, θ))⎟ - n(ρ, θ)⋅──(φ(ρ, θ))⎟⋅──(φ(ρ, θ\n",
       "    ∂θ ∂ρ            ∂θ          ∂ρ         ⎠           ∂θ         ⎠ ∂ρ       \n",
       "                                                                              \n",
       "──────────────────────────────────────────────────────────────────────────────\n",
       "    2                                                                         \n",
       "   ρ                                                                          \n",
       "\n",
       "  \n",
       "  \n",
       "))\n",
       "  \n",
       "  \n",
       "──\n",
       "  \n",
       "  "
      ]
     },
     "metadata": {},
     "output_type": "display_data"
    },
    {
     "data": {
      "image/png": "[encoded data removed]",
      "text/latex": [
       "$$v_{z} = 0$$"
      ],
      "text/plain": [
       "v_z = 0"
      ]
     },
     "metadata": {},
     "output_type": "display_data"
    },
    {
     "data": {
      "image/png": "[encoded data removed]",
      "text/latex": [
       "$$v_{\\theta} = \\frac{1}{\\rho^{2}} \\left(- \\rho \\left(\\rho n{\\left (\\rho,\\theta \\right )} \\frac{\\partial}{\\partial \\rho} \\phi{\\left (\\rho,\\theta \\right )} + n{\\left (\\rho,\\theta \\right )} \\frac{\\partial^{2}}{\\partial \\theta^{2}}  \\phi{\\left (\\rho,\\theta \\right )} + \\frac{\\partial}{\\partial \\theta} n{\\left (\\rho,\\theta \\right )} \\frac{\\partial}{\\partial \\theta} \\phi{\\left (\\rho,\\theta \\right )}\\right) \\frac{\\partial}{\\partial \\rho} \\phi{\\left (\\rho,\\theta \\right )} + \\left(\\rho \\left(n{\\left (\\rho,\\theta \\right )} \\frac{\\partial^{2}}{\\partial \\rho\\partial \\theta}  \\phi{\\left (\\rho,\\theta \\right )} + \\frac{\\partial}{\\partial \\rho} n{\\left (\\rho,\\theta \\right )} \\frac{\\partial}{\\partial \\theta} \\phi{\\left (\\rho,\\theta \\right )}\\right) - n{\\left (\\rho,\\theta \\right )} \\frac{\\partial}{\\partial \\theta} \\phi{\\left (\\rho,\\theta \\right )}\\right) \\frac{\\partial}{\\partial \\theta} \\phi{\\left (\\rho,\\theta \\right )}\\right)$$"
      ],
      "text/plain": [
       "             ⎛                                  2                             \n",
       "             ⎜          ∂                      ∂             ∂           ∂    \n",
       "         - ρ⋅⎜ρ⋅n(ρ, θ)⋅──(φ(ρ, θ)) + n(ρ, θ)⋅───(φ(ρ, θ)) + ──(n(ρ, θ))⋅──(φ(\n",
       "             ⎜          ∂ρ                      2            ∂θ          ∂θ   \n",
       "             ⎝                                ∂θ                              \n",
       "vₜₕₑₜₐ = ─────────────────────────────────────────────────────────────────────\n",
       "                                                                              \n",
       "                                                                              \n",
       "\n",
       "      ⎞               ⎛  ⎛           2                                    ⎞   \n",
       "      ⎟ ∂             ⎜  ⎜          ∂              ∂           ∂          ⎟   \n",
       "ρ, θ))⎟⋅──(φ(ρ, θ)) + ⎜ρ⋅⎜n(ρ, θ)⋅─────(φ(ρ, θ)) + ──(n(ρ, θ))⋅──(φ(ρ, θ))⎟ - \n",
       "      ⎟ ∂ρ            ⎝  ⎝        ∂θ ∂ρ            ∂ρ          ∂θ         ⎠   \n",
       "      ⎠                                                                       \n",
       "──────────────────────────────────────────────────────────────────────────────\n",
       "                     2                                                        \n",
       "                    ρ                                                         \n",
       "\n",
       "                   ⎞            \n",
       "        ∂          ⎟ ∂          \n",
       "n(ρ, θ)⋅──(φ(ρ, θ))⎟⋅──(φ(ρ, θ))\n",
       "        ∂θ         ⎠ ∂θ         \n",
       "                                \n",
       "────────────────────────────────\n",
       "                                \n",
       "                                "
      ]
     },
     "metadata": {},
     "output_type": "display_data"
    }
   ],
   "source": [
    "displayVec(ueDotGradnGradPerpPhi.doitVec().simplifyVec())"
   ]
  },
  {
   "cell_type": "markdown",
   "metadata": {},
   "source": [
    "## Calculation of $\\nabla\\cdot\\left(\\mathbf{u}_E\\cdot\\nabla\\left[n\\nabla_\\perp\\phi\\right]\\right)$"
   ]
  },
  {
   "cell_type": "code",
   "execution_count": 13,
   "metadata": {
    "collapsed": false
   },
   "outputs": [
    {
     "data": {
      "image/png": "[encoded data removed]",
      "text/latex": [
       "$$\\zeta = \\frac{1}{\\rho^{4}} \\left(\\rho^{3} \\left(- n{\\left (\\rho,\\theta \\right )} \\frac{\\partial}{\\partial \\rho} \\phi{\\left (\\rho,\\theta \\right )} \\frac{\\partial^{3}}{\\partial \\rho^{2}\\partial \\theta}  \\phi{\\left (\\rho,\\theta \\right )} + n{\\left (\\rho,\\theta \\right )} \\frac{\\partial}{\\partial \\theta} \\phi{\\left (\\rho,\\theta \\right )} \\frac{\\partial^{3}}{\\partial \\rho^{3}}  \\phi{\\left (\\rho,\\theta \\right )} + 2 \\frac{\\partial}{\\partial \\rho} n{\\left (\\rho,\\theta \\right )} \\frac{\\partial}{\\partial \\theta} \\phi{\\left (\\rho,\\theta \\right )} \\frac{\\partial^{2}}{\\partial \\rho^{2}}  \\phi{\\left (\\rho,\\theta \\right )} - 2 \\frac{\\partial}{\\partial \\theta} n{\\left (\\rho,\\theta \\right )} \\frac{\\partial}{\\partial \\rho} \\phi{\\left (\\rho,\\theta \\right )} \\frac{\\partial^{2}}{\\partial \\rho^{2}}  \\phi{\\left (\\rho,\\theta \\right )} - \\frac{\\partial}{\\partial \\rho} \\phi{\\left (\\rho,\\theta \\right )}^{2} \\frac{\\partial^{2}}{\\partial \\rho\\partial \\theta}  n{\\left (\\rho,\\theta \\right )} + \\frac{\\partial}{\\partial \\rho} \\phi{\\left (\\rho,\\theta \\right )} \\frac{\\partial}{\\partial \\theta} \\phi{\\left (\\rho,\\theta \\right )} \\frac{\\partial^{2}}{\\partial \\rho^{2}}  n{\\left (\\rho,\\theta \\right )}\\right) + \\rho^{2} \\left(- n{\\left (\\rho,\\theta \\right )} \\frac{\\partial}{\\partial \\rho} \\phi{\\left (\\rho,\\theta \\right )} \\frac{\\partial^{2}}{\\partial \\rho\\partial \\theta}  \\phi{\\left (\\rho,\\theta \\right )} + n{\\left (\\rho,\\theta \\right )} \\frac{\\partial}{\\partial \\theta} \\phi{\\left (\\rho,\\theta \\right )} \\frac{\\partial^{2}}{\\partial \\rho^{2}}  \\phi{\\left (\\rho,\\theta \\right )} + \\frac{\\partial}{\\partial \\rho} n{\\left (\\rho,\\theta \\right )} \\frac{\\partial}{\\partial \\rho} \\phi{\\left (\\rho,\\theta \\right )} \\frac{\\partial}{\\partial \\theta} \\phi{\\left (\\rho,\\theta \\right )} - \\frac{\\partial}{\\partial \\theta} n{\\left (\\rho,\\theta \\right )} \\frac{\\partial}{\\partial \\rho} \\phi{\\left (\\rho,\\theta \\right )}^{2}\\right) + \\rho \\left(- n{\\left (\\rho,\\theta \\right )} \\frac{\\partial}{\\partial \\rho} \\phi{\\left (\\rho,\\theta \\right )} \\frac{\\partial}{\\partial \\theta} \\phi{\\left (\\rho,\\theta \\right )} - n{\\left (\\rho,\\theta \\right )} \\frac{\\partial}{\\partial \\rho} \\phi{\\left (\\rho,\\theta \\right )} \\frac{\\partial^{3}}{\\partial \\theta^{3}}  \\phi{\\left (\\rho,\\theta \\right )} + n{\\left (\\rho,\\theta \\right )} \\frac{\\partial}{\\partial \\theta} \\phi{\\left (\\rho,\\theta \\right )} \\frac{\\partial^{3}}{\\partial \\rho\\partial \\theta^{2}}  \\phi{\\left (\\rho,\\theta \\right )} + 2 \\frac{\\partial}{\\partial \\rho} n{\\left (\\rho,\\theta \\right )} \\frac{\\partial}{\\partial \\theta} \\phi{\\left (\\rho,\\theta \\right )} \\frac{\\partial^{2}}{\\partial \\theta^{2}}  \\phi{\\left (\\rho,\\theta \\right )} - 2 \\frac{\\partial}{\\partial \\theta} n{\\left (\\rho,\\theta \\right )} \\frac{\\partial}{\\partial \\rho} \\phi{\\left (\\rho,\\theta \\right )} \\frac{\\partial^{2}}{\\partial \\theta^{2}}  \\phi{\\left (\\rho,\\theta \\right )} - \\frac{\\partial}{\\partial \\rho} \\phi{\\left (\\rho,\\theta \\right )} \\frac{\\partial}{\\partial \\theta} \\phi{\\left (\\rho,\\theta \\right )} \\frac{\\partial^{2}}{\\partial \\theta^{2}}  n{\\left (\\rho,\\theta \\right )} + \\frac{\\partial}{\\partial \\theta} \\phi{\\left (\\rho,\\theta \\right )}^{2} \\frac{\\partial^{2}}{\\partial \\rho\\partial \\theta}  n{\\left (\\rho,\\theta \\right )}\\right) - \\left(2 n{\\left (\\rho,\\theta \\right )} \\frac{\\partial^{2}}{\\partial \\theta^{2}}  \\phi{\\left (\\rho,\\theta \\right )} + \\frac{\\partial}{\\partial \\theta} n{\\left (\\rho,\\theta \\right )} \\frac{\\partial}{\\partial \\theta} \\phi{\\left (\\rho,\\theta \\right )}\\right) \\frac{\\partial}{\\partial \\theta} \\phi{\\left (\\rho,\\theta \\right )}\\right)$$"
      ],
      "text/plain": [
       "       ⎛                         3                                    3       \n",
       "     3 ⎜          ∂             ∂                       ∂            ∂        \n",
       "    ρ ⋅⎜- n(ρ, θ)⋅──(φ(ρ, θ))⋅──────(φ(ρ, θ)) + n(ρ, θ)⋅──(φ(ρ, θ))⋅───(φ(ρ, θ\n",
       "       ⎜          ∂ρ               2                    ∂θ            3       \n",
       "       ⎝                      ∂θ ∂ρ                                 ∂ρ        \n",
       "ζ = ──────────────────────────────────────────────────────────────────────────\n",
       "                                                                              \n",
       "                                                                              \n",
       "\n",
       "                                 2                                        2   \n",
       "       ∂           ∂            ∂               ∂           ∂            ∂    \n",
       ")) + 2⋅──(n(ρ, θ))⋅──(φ(ρ, θ))⋅───(φ(ρ, θ)) - 2⋅──(n(ρ, θ))⋅──(φ(ρ, θ))⋅───(φ(\n",
       "       ∂ρ          ∂θ            2              ∂θ          ∂ρ            2   \n",
       "                               ∂ρ                                       ∂ρ    \n",
       "──────────────────────────────────────────────────────────────────────────────\n",
       "                                                                              \n",
       "                                                                              \n",
       "\n",
       "                      2    2                                       2         ⎞\n",
       "         ⎛∂          ⎞    ∂              ∂           ∂            ∂          ⎟\n",
       "ρ, θ)) - ⎜──(φ(ρ, θ))⎟ ⋅─────(n(ρ, θ)) + ──(φ(ρ, θ))⋅──(φ(ρ, θ))⋅───(n(ρ, θ))⎟\n",
       "         ⎝∂ρ         ⎠  ∂θ ∂ρ            ∂ρ          ∂θ            2         ⎟\n",
       "                                                                 ∂ρ          ⎠\n",
       "──────────────────────────────────────────────────────────────────────────────\n",
       "                                                                              \n",
       "                                                                              \n",
       "\n",
       "      ⎛                         2                                   2         \n",
       "    2 ⎜          ∂             ∂                      ∂            ∂          \n",
       " + ρ ⋅⎜- n(ρ, θ)⋅──(φ(ρ, θ))⋅─────(φ(ρ, θ)) + n(ρ, θ)⋅──(φ(ρ, θ))⋅───(φ(ρ, θ))\n",
       "      ⎜          ∂ρ          ∂θ ∂ρ                    ∂θ            2         \n",
       "      ⎝                                                           ∂ρ          \n",
       "──────────────────────────────────────────────────────────────────────────────\n",
       "                                                                              \n",
       "                                                                              \n",
       "\n",
       "                                                                  2⎞     ⎛    \n",
       "   ∂           ∂           ∂             ∂           ⎛∂          ⎞ ⎟     ⎜    \n",
       " + ──(n(ρ, θ))⋅──(φ(ρ, θ))⋅──(φ(ρ, θ)) - ──(n(ρ, θ))⋅⎜──(φ(ρ, θ))⎟ ⎟ + ρ⋅⎜- n(\n",
       "   ∂ρ          ∂ρ          ∂θ            ∂θ          ⎝∂ρ         ⎠ ⎟     ⎜    \n",
       "                                                                   ⎠     ⎝    \n",
       "──────────────────────────────────────────────────────────────────────────────\n",
       "                                              4                               \n",
       "                                             ρ                                \n",
       "\n",
       "                                                      3                       \n",
       "      ∂           ∂                     ∂            ∂                     ∂  \n",
       "ρ, θ)⋅──(φ(ρ, θ))⋅──(φ(ρ, θ)) - n(ρ, θ)⋅──(φ(ρ, θ))⋅───(φ(ρ, θ)) + n(ρ, θ)⋅──(\n",
       "      ∂ρ          ∂θ                    ∂ρ            3                    ∂θ \n",
       "                                                    ∂θ                        \n",
       "──────────────────────────────────────────────────────────────────────────────\n",
       "                                                                              \n",
       "                                                                              \n",
       "\n",
       "            3                                          2                      \n",
       "           ∂                 ∂           ∂            ∂               ∂       \n",
       "φ(ρ, θ))⋅──────(φ(ρ, θ)) + 2⋅──(n(ρ, θ))⋅──(φ(ρ, θ))⋅───(φ(ρ, θ)) - 2⋅──(n(ρ, \n",
       "           2                 ∂ρ          ∂θ            2              ∂θ      \n",
       "         ∂θ  ∂ρ                                      ∂θ                       \n",
       "──────────────────────────────────────────────────────────────────────────────\n",
       "                                                                              \n",
       "                                                                              \n",
       "\n",
       "                  2                                      2                    \n",
       "    ∂            ∂             ∂           ∂            ∂             ⎛∂      \n",
       "θ))⋅──(φ(ρ, θ))⋅───(φ(ρ, θ)) - ──(φ(ρ, θ))⋅──(φ(ρ, θ))⋅───(n(ρ, θ)) + ⎜──(φ(ρ,\n",
       "    ∂ρ            2            ∂ρ          ∂θ            2            ⎝∂θ     \n",
       "                ∂θ                                     ∂θ                     \n",
       "──────────────────────────────────────────────────────────────────────────────\n",
       "                                                                              \n",
       "                                                                              \n",
       "\n",
       "     2    2          ⎞   ⎛            2                                   ⎞   \n",
       "    ⎞    ∂           ⎟   ⎜           ∂             ∂           ∂          ⎟ ∂ \n",
       " θ))⎟ ⋅─────(n(ρ, θ))⎟ - ⎜2⋅n(ρ, θ)⋅───(φ(ρ, θ)) + ──(n(ρ, θ))⋅──(φ(ρ, θ))⎟⋅──\n",
       "    ⎠  ∂θ ∂ρ         ⎟   ⎜            2            ∂θ          ∂θ         ⎟ ∂θ\n",
       "                     ⎠   ⎝          ∂θ                                    ⎠   \n",
       "──────────────────────────────────────────────────────────────────────────────\n",
       "                                                                              \n",
       "                                                                              \n",
       "\n",
       "         \n",
       "         \n",
       "(φ(ρ, θ))\n",
       "         \n",
       "         \n",
       "─────────\n",
       "         \n",
       "         "
      ]
     },
     "metadata": {},
     "output_type": "display_data"
    }
   ],
   "source": [
    "div_ueDotGradnGradPerpPhi = div(ueDotGradnGradPerpPhi)\n",
    "zetaFunc = div_ueDotGradnGradPerpPhi.doit().expand()\n",
    "display(Eq(zeta, simplify(zetaFunc)))"
   ]
  },
  {
   "cell_type": "markdown",
   "metadata": {},
   "source": [
    "# Comparison with $B\\{\\phi,\\Omega^D\\}$"
   ]
  },
  {
   "cell_type": "markdown",
   "metadata": {},
   "source": [
    "In cylindrical Clebsch coordinates, we have that $\\mathbf{u}_E\\cdot\\nabla = \\{\\phi,\\cdot\\}$. However, we have normalized our equations so that $\\tilde{B}=1$. As $B$ from the Clebsch system is not constant, we can achieve normalization by multiplying the Poisson bracket with the un-normalized $B$ (from the Clebsch system)."
   ]
  },
  {
   "cell_type": "markdown",
   "metadata": {},
   "source": [
    "We define the vorticity-like field $\\Omega^D$ to be $\\Omega^D = \\nabla\\cdot\\left(n\\nabla_\\perp\\phi\\right)$. In the Clebsch system this is written as"
   ]
  },
  {
   "cell_type": "code",
   "execution_count": 14,
   "metadata": {
    "collapsed": false
   },
   "outputs": [
    {
     "data": {
      "image/png": "[encoded data removed]",
      "text/latex": [
       "$$\\Omega^{D} = n{\\left (\\rho,\\theta \\right )} \\frac{\\partial^{2}}{\\partial \\rho^{2}}  \\phi{\\left (\\rho,\\theta \\right )} + \\frac{\\partial}{\\partial \\rho} n{\\left (\\rho,\\theta \\right )} \\frac{\\partial}{\\partial \\rho} \\phi{\\left (\\rho,\\theta \\right )} + \\frac{1}{\\rho} n{\\left (\\rho,\\theta \\right )} \\frac{\\partial}{\\partial \\rho} \\phi{\\left (\\rho,\\theta \\right )} + \\frac{1}{\\rho^{2}} n{\\left (\\rho,\\theta \\right )} \\frac{\\partial^{2}}{\\partial \\theta^{2}}  \\phi{\\left (\\rho,\\theta \\right )} + \\frac{1}{\\rho^{2}} \\frac{\\partial}{\\partial \\theta} n{\\left (\\rho,\\theta \\right )} \\frac{\\partial}{\\partial \\theta} \\phi{\\left (\\rho,\\theta \\right )}$$"
      ],
      "text/plain": [
       "                                                                              \n",
       "                                                                              \n",
       "                                                                ∂             \n",
       "                 2                                      n(ρ, θ)⋅──(φ(ρ, θ))   \n",
       "                ∂             ∂           ∂                     ∂ρ            \n",
       "Ω__D = n(ρ, θ)⋅───(φ(ρ, θ)) + ──(n(ρ, θ))⋅──(φ(ρ, θ)) + ─────────────────── + \n",
       "                 2            ∂ρ          ∂ρ                     ρ            \n",
       "               ∂ρ                                                             \n",
       "\n",
       "          2                                   \n",
       "         ∂                                    \n",
       "n(ρ, θ)⋅───(φ(ρ, θ))   ∂           ∂          \n",
       "          2            ──(n(ρ, θ))⋅──(φ(ρ, θ))\n",
       "        ∂θ             ∂θ          ∂θ         \n",
       "──────────────────── + ───────────────────────\n",
       "          2                        2          \n",
       "         ρ                        ρ           "
      ]
     },
     "metadata": {},
     "output_type": "display_data"
    }
   ],
   "source": [
    "vortD = div(gradPerp(phi)*n)\n",
    "display(Eq(symbols('Omega^D'), vortD.doit().expand()))"
   ]
  },
  {
   "cell_type": "markdown",
   "metadata": {},
   "source": [
    "We now write $\\chi = B\\{\\phi,\\Omega^D\\}$"
   ]
  },
  {
   "cell_type": "code",
   "execution_count": 15,
   "metadata": {
    "collapsed": false
   },
   "outputs": [
    {
     "data": {
      "image/png": "[encoded data removed]",
      "text/latex": [
       "$$\\chi = - \\frac{1}{\\rho} n{\\left (\\rho,\\theta \\right )} \\frac{\\partial}{\\partial \\rho} \\phi{\\left (\\rho,\\theta \\right )} \\frac{\\partial^{3}}{\\partial \\rho^{2}\\partial \\theta}  \\phi{\\left (\\rho,\\theta \\right )} + \\frac{1}{\\rho} n{\\left (\\rho,\\theta \\right )} \\frac{\\partial}{\\partial \\theta} \\phi{\\left (\\rho,\\theta \\right )} \\frac{\\partial^{3}}{\\partial \\rho^{3}}  \\phi{\\left (\\rho,\\theta \\right )} - \\frac{1}{\\rho} \\frac{\\partial}{\\partial \\rho} n{\\left (\\rho,\\theta \\right )} \\frac{\\partial}{\\partial \\rho} \\phi{\\left (\\rho,\\theta \\right )} \\frac{\\partial^{2}}{\\partial \\rho\\partial \\theta}  \\phi{\\left (\\rho,\\theta \\right )} + \\frac{2}{\\rho} \\frac{\\partial}{\\partial \\rho} n{\\left (\\rho,\\theta \\right )} \\frac{\\partial}{\\partial \\theta} \\phi{\\left (\\rho,\\theta \\right )} \\frac{\\partial^{2}}{\\partial \\rho^{2}}  \\phi{\\left (\\rho,\\theta \\right )} - \\frac{1}{\\rho} \\frac{\\partial}{\\partial \\theta} n{\\left (\\rho,\\theta \\right )} \\frac{\\partial}{\\partial \\rho} \\phi{\\left (\\rho,\\theta \\right )} \\frac{\\partial^{2}}{\\partial \\rho^{2}}  \\phi{\\left (\\rho,\\theta \\right )} - \\frac{1}{\\rho} \\frac{\\partial}{\\partial \\rho} \\phi{\\left (\\rho,\\theta \\right )}^{2} \\frac{\\partial^{2}}{\\partial \\rho\\partial \\theta}  n{\\left (\\rho,\\theta \\right )} + \\frac{1}{\\rho} \\frac{\\partial}{\\partial \\rho} \\phi{\\left (\\rho,\\theta \\right )} \\frac{\\partial}{\\partial \\theta} \\phi{\\left (\\rho,\\theta \\right )} \\frac{\\partial^{2}}{\\partial \\rho^{2}}  n{\\left (\\rho,\\theta \\right )} - \\frac{1}{\\rho^{2}} n{\\left (\\rho,\\theta \\right )} \\frac{\\partial}{\\partial \\rho} \\phi{\\left (\\rho,\\theta \\right )} \\frac{\\partial^{2}}{\\partial \\rho\\partial \\theta}  \\phi{\\left (\\rho,\\theta \\right )} + \\frac{1}{\\rho^{2}} n{\\left (\\rho,\\theta \\right )} \\frac{\\partial}{\\partial \\theta} \\phi{\\left (\\rho,\\theta \\right )} \\frac{\\partial^{2}}{\\partial \\rho^{2}}  \\phi{\\left (\\rho,\\theta \\right )} + \\frac{1}{\\rho^{2}} \\frac{\\partial}{\\partial \\rho} n{\\left (\\rho,\\theta \\right )} \\frac{\\partial}{\\partial \\rho} \\phi{\\left (\\rho,\\theta \\right )} \\frac{\\partial}{\\partial \\theta} \\phi{\\left (\\rho,\\theta \\right )} - \\frac{1}{\\rho^{2}} \\frac{\\partial}{\\partial \\theta} n{\\left (\\rho,\\theta \\right )} \\frac{\\partial}{\\partial \\rho} \\phi{\\left (\\rho,\\theta \\right )}^{2} - \\frac{1}{\\rho^{3}} n{\\left (\\rho,\\theta \\right )} \\frac{\\partial}{\\partial \\rho} \\phi{\\left (\\rho,\\theta \\right )} \\frac{\\partial}{\\partial \\theta} \\phi{\\left (\\rho,\\theta \\right )} - \\frac{1}{\\rho^{3}} n{\\left (\\rho,\\theta \\right )} \\frac{\\partial}{\\partial \\rho} \\phi{\\left (\\rho,\\theta \\right )} \\frac{\\partial^{3}}{\\partial \\theta^{3}}  \\phi{\\left (\\rho,\\theta \\right )} + \\frac{1}{\\rho^{3}} n{\\left (\\rho,\\theta \\right )} \\frac{\\partial}{\\partial \\theta} \\phi{\\left (\\rho,\\theta \\right )} \\frac{\\partial^{3}}{\\partial \\rho\\partial \\theta^{2}}  \\phi{\\left (\\rho,\\theta \\right )} + \\frac{1}{\\rho^{3}} \\frac{\\partial}{\\partial \\rho} n{\\left (\\rho,\\theta \\right )} \\frac{\\partial}{\\partial \\theta} \\phi{\\left (\\rho,\\theta \\right )} \\frac{\\partial^{2}}{\\partial \\theta^{2}}  \\phi{\\left (\\rho,\\theta \\right )} - \\frac{2}{\\rho^{3}} \\frac{\\partial}{\\partial \\theta} n{\\left (\\rho,\\theta \\right )} \\frac{\\partial}{\\partial \\rho} \\phi{\\left (\\rho,\\theta \\right )} \\frac{\\partial^{2}}{\\partial \\theta^{2}}  \\phi{\\left (\\rho,\\theta \\right )} + \\frac{1}{\\rho^{3}} \\frac{\\partial}{\\partial \\theta} n{\\left (\\rho,\\theta \\right )} \\frac{\\partial}{\\partial \\theta} \\phi{\\left (\\rho,\\theta \\right )} \\frac{\\partial^{2}}{\\partial \\rho\\partial \\theta}  \\phi{\\left (\\rho,\\theta \\right )} - \\frac{1}{\\rho^{3}} \\frac{\\partial}{\\partial \\rho} \\phi{\\left (\\rho,\\theta \\right )} \\frac{\\partial}{\\partial \\theta} \\phi{\\left (\\rho,\\theta \\right )} \\frac{\\partial^{2}}{\\partial \\theta^{2}}  n{\\left (\\rho,\\theta \\right )} + \\frac{1}{\\rho^{3}} \\frac{\\partial}{\\partial \\theta} \\phi{\\left (\\rho,\\theta \\right )}^{2} \\frac{\\partial^{2}}{\\partial \\rho\\partial \\theta}  n{\\left (\\rho,\\theta \\right )} - \\frac{2}{\\rho^{4}} n{\\left (\\rho,\\theta \\right )} \\frac{\\partial}{\\partial \\theta} \\phi{\\left (\\rho,\\theta \\right )} \\frac{\\partial^{2}}{\\partial \\theta^{2}}  \\phi{\\left (\\rho,\\theta \\right )} - \\frac{2}{\\rho^{4}} \\frac{\\partial}{\\partial \\theta} n{\\left (\\rho,\\theta \\right )} \\frac{\\partial}{\\partial \\theta} \\phi{\\left (\\rho,\\theta \\right )}^{2}$$"
      ],
      "text/plain": [
       "                             3                                    3           \n",
       "              ∂             ∂                       ∂            ∂            \n",
       "      n(ρ, θ)⋅──(φ(ρ, θ))⋅──────(φ(ρ, θ))   n(ρ, θ)⋅──(φ(ρ, θ))⋅───(φ(ρ, θ))  \n",
       "              ∂ρ               2                    ∂θ            3           \n",
       "                          ∂θ ∂ρ                                 ∂ρ            \n",
       "χ = - ─────────────────────────────────── + ──────────────────────────────── -\n",
       "                       ρ                                   ρ                  \n",
       "                                                                              \n",
       "\n",
       "                                                                      2       \n",
       "                            2               ∂           ∂            ∂        \n",
       " ∂           ∂             ∂              2⋅──(n(ρ, θ))⋅──(φ(ρ, θ))⋅───(φ(ρ, θ\n",
       " ──(n(ρ, θ))⋅──(φ(ρ, θ))⋅─────(φ(ρ, θ))     ∂ρ          ∂θ            2       \n",
       " ∂ρ          ∂ρ          ∂θ ∂ρ                                      ∂ρ        \n",
       " ────────────────────────────────────── + ────────────────────────────────────\n",
       "                   ρ                                        ρ                 \n",
       "                                                                              \n",
       "\n",
       "                               2                                              \n",
       "     ∂           ∂            ∂                          2    2             ∂ \n",
       "))   ──(n(ρ, θ))⋅──(φ(ρ, θ))⋅───(φ(ρ, θ))   ⎛∂          ⎞    ∂              ──\n",
       "     ∂θ          ∂ρ            2            ⎜──(φ(ρ, θ))⎟ ⋅─────(n(ρ, θ))   ∂ρ\n",
       "                             ∂ρ             ⎝∂ρ         ⎠  ∂θ ∂ρ              \n",
       "── - ──────────────────────────────────── - ───────────────────────────── + ──\n",
       "                      ρ                                   ρ                   \n",
       "                                                                              \n",
       "\n",
       "                        2                                                     \n",
       "          ∂            ∂                                    2                 \n",
       "(φ(ρ, θ))⋅──(φ(ρ, θ))⋅───(n(ρ, θ))           ∂             ∂              n(ρ,\n",
       "          ∂θ            2            n(ρ, θ)⋅──(φ(ρ, θ))⋅─────(φ(ρ, θ))       \n",
       "                      ∂ρ                     ∂ρ          ∂θ ∂ρ                \n",
       "────────────────────────────────── - ────────────────────────────────── + ────\n",
       "               ρ                                      2                       \n",
       "                                                     ρ                        \n",
       "\n",
       "                  2                                                           \n",
       "    ∂            ∂                                                            \n",
       " θ)⋅──(φ(ρ, θ))⋅───(φ(ρ, θ))   ∂           ∂           ∂             ∂        \n",
       "    ∂θ            2            ──(n(ρ, θ))⋅──(φ(ρ, θ))⋅──(φ(ρ, θ))   ──(n(ρ, θ\n",
       "                ∂ρ             ∂ρ          ∂ρ          ∂θ            ∂θ       \n",
       "──────────────────────────── + ─────────────────────────────────── - ─────────\n",
       "            2                                    2                            \n",
       "           ρ                                    ρ                             \n",
       "\n",
       "                                                                            3 \n",
       "                2                                             ∂            ∂  \n",
       "   ⎛∂          ⎞            ∂           ∂             n(ρ, θ)⋅──(φ(ρ, θ))⋅───(\n",
       "))⋅⎜──(φ(ρ, θ))⎟    n(ρ, θ)⋅──(φ(ρ, θ))⋅──(φ(ρ, θ))           ∂ρ            3 \n",
       "   ⎝∂ρ         ⎠            ∂ρ          ∂θ                                ∂θ  \n",
       "───────────────── - ─────────────────────────────── - ────────────────────────\n",
       "    2                               3                                 3       \n",
       "   ρ                               ρ                                 ρ        \n",
       "\n",
       "                                  3                                        2  \n",
       "                   ∂             ∂               ∂           ∂            ∂   \n",
       "φ(ρ, θ))   n(ρ, θ)⋅──(φ(ρ, θ))⋅──────(φ(ρ, θ))   ──(n(ρ, θ))⋅──(φ(ρ, θ))⋅───(φ\n",
       "                   ∂θ            2               ∂ρ          ∂θ            2  \n",
       "                               ∂θ  ∂ρ                                    ∂θ   \n",
       "──────── + ─────────────────────────────────── + ─────────────────────────────\n",
       "                             3                                     3          \n",
       "                            ρ                                     ρ           \n",
       "\n",
       "                                      2                                       \n",
       "            ∂           ∂            ∂                                        \n",
       "(ρ, θ))   2⋅──(n(ρ, θ))⋅──(φ(ρ, θ))⋅───(φ(ρ, θ))   ∂           ∂             ∂\n",
       "            ∂θ          ∂ρ            2            ──(n(ρ, θ))⋅──(φ(ρ, θ))⋅───\n",
       "                                    ∂θ             ∂θ          ∂θ          ∂θ \n",
       "─────── - ────────────────────────────────────── + ───────────────────────────\n",
       "                             3                                        3       \n",
       "                            ρ                                        ρ        \n",
       "\n",
       "                                        2                                     \n",
       "2             ∂           ∂            ∂                          2    2      \n",
       "              ──(φ(ρ, θ))⋅──(φ(ρ, θ))⋅───(n(ρ, θ))   ⎛∂          ⎞    ∂       \n",
       "──(φ(ρ, θ))   ∂ρ          ∂θ            2            ⎜──(φ(ρ, θ))⎟ ⋅─────(n(ρ,\n",
       "∂ρ                                    ∂θ             ⎝∂θ         ⎠  ∂θ ∂ρ     \n",
       "─────────── - ──────────────────────────────────── + ─────────────────────────\n",
       "                                3                                   3         \n",
       "                               ρ                                   ρ          \n",
       "\n",
       "                               2                                        \n",
       "                 ∂            ∂                                        2\n",
       "       2⋅n(ρ, θ)⋅──(φ(ρ, θ))⋅───(φ(ρ, θ))     ∂           ⎛∂          ⎞ \n",
       " θ))             ∂θ            2            2⋅──(n(ρ, θ))⋅⎜──(φ(ρ, θ))⎟ \n",
       "                             ∂θ               ∂θ          ⎝∂θ         ⎠ \n",
       "──── - ────────────────────────────────── - ────────────────────────────\n",
       "                        4                                 4             \n",
       "                       ρ                                 ρ              "
      ]
     },
     "metadata": {},
     "output_type": "display_data"
    }
   ],
   "source": [
    "poissonPhiVortD = Blen*poisson(phi, vortD)\n",
    "chiFunc = poissonPhiVortD.doit().expand()\n",
    "display(Eq(chi, chiFunc))"
   ]
  },
  {
   "cell_type": "markdown",
   "metadata": {},
   "source": [
    "The difference $\\epsilon$ between $\\zeta = \\nabla\\cdot\\left(\\mathbf{u}_E\\cdot\\nabla\\left[n\\nabla_\\perp\\phi\\right]\\right)$ and $\\chi = B\\{\\phi,\\Omega^D\\}$ is given by\n",
    "\n",
    "$$\\epsilon = \\zeta - \\chi$$"
   ]
  },
  {
   "cell_type": "code",
   "execution_count": 16,
   "metadata": {
    "collapsed": false
   },
   "outputs": [
    {
     "data": {
      "image/png": "[encoded data removed]",
      "text/latex": [
       "$$\\epsilon = \\frac{1}{\\rho} \\frac{\\partial}{\\partial \\rho} n{\\left (\\rho,\\theta \\right )} \\frac{\\partial}{\\partial \\rho} \\phi{\\left (\\rho,\\theta \\right )} \\frac{\\partial^{2}}{\\partial \\rho\\partial \\theta}  \\phi{\\left (\\rho,\\theta \\right )} - \\frac{1}{\\rho} \\frac{\\partial}{\\partial \\theta} n{\\left (\\rho,\\theta \\right )} \\frac{\\partial}{\\partial \\rho} \\phi{\\left (\\rho,\\theta \\right )} \\frac{\\partial^{2}}{\\partial \\rho^{2}}  \\phi{\\left (\\rho,\\theta \\right )} + \\frac{1}{\\rho^{3}} \\frac{\\partial}{\\partial \\rho} n{\\left (\\rho,\\theta \\right )} \\frac{\\partial}{\\partial \\theta} \\phi{\\left (\\rho,\\theta \\right )} \\frac{\\partial^{2}}{\\partial \\theta^{2}}  \\phi{\\left (\\rho,\\theta \\right )} - \\frac{1}{\\rho^{3}} \\frac{\\partial}{\\partial \\theta} n{\\left (\\rho,\\theta \\right )} \\frac{\\partial}{\\partial \\theta} \\phi{\\left (\\rho,\\theta \\right )} \\frac{\\partial^{2}}{\\partial \\rho\\partial \\theta}  \\phi{\\left (\\rho,\\theta \\right )} + \\frac{1}{\\rho^{4}} \\frac{\\partial}{\\partial \\theta} n{\\left (\\rho,\\theta \\right )} \\frac{\\partial}{\\partial \\theta} \\phi{\\left (\\rho,\\theta \\right )}^{2}$$"
      ],
      "text/plain": [
       "                                                                       2      \n",
       "                               2             ∂           ∂            ∂       \n",
       "    ∂           ∂             ∂              ──(n(ρ, θ))⋅──(φ(ρ, θ))⋅───(φ(ρ, \n",
       "    ──(n(ρ, θ))⋅──(φ(ρ, θ))⋅─────(φ(ρ, θ))   ∂θ          ∂ρ            2      \n",
       "    ∂ρ          ∂ρ          ∂θ ∂ρ                                    ∂ρ       \n",
       "ε = ────────────────────────────────────── - ─────────────────────────────────\n",
       "                      ρ                                       ρ               \n",
       "                                                                              \n",
       "\n",
       "                                2                                             \n",
       "      ∂           ∂            ∂                                        2     \n",
       "θ))   ──(n(ρ, θ))⋅──(φ(ρ, θ))⋅───(φ(ρ, θ))   ∂           ∂             ∂      \n",
       "      ∂ρ          ∂θ            2            ──(n(ρ, θ))⋅──(φ(ρ, θ))⋅─────(φ(ρ\n",
       "                              ∂θ             ∂θ          ∂θ          ∂θ ∂ρ    \n",
       "─── + ──────────────────────────────────── - ─────────────────────────────────\n",
       "                        3                                       3             \n",
       "                       ρ                                       ρ              \n",
       "\n",
       "                                  \n",
       "                                 2\n",
       "        ∂           ⎛∂          ⎞ \n",
       ", θ))   ──(n(ρ, θ))⋅⎜──(φ(ρ, θ))⎟ \n",
       "        ∂θ          ⎝∂θ         ⎠ \n",
       "───── + ──────────────────────────\n",
       "                     4            \n",
       "                    ρ             "
      ]
     },
     "metadata": {},
     "output_type": "display_data"
    }
   ],
   "source": [
    "epsilonFunc = (zetaFunc - chiFunc).expand()\n",
    "display(Eq(epsilon, epsilonFunc))"
   ]
  },
  {
   "cell_type": "markdown",
   "metadata": {},
   "source": [
    "In fact we see that\n",
    "\n",
    "\\begin{align*}\n",
    "  \\epsilon \n",
    "  - \\left(\n",
    "      -\\frac{1}{\\rho}[\\partial_\\rho\\phi]\\{n, \\partial_\\rho\\phi\\}\n",
    "      -\\frac{1}{\\rho^3}[\\partial_\\theta\\phi]\\{n, \\partial_\\theta\\phi\\}\n",
    "      +\\frac{1}{\\rho^4}[\\partial_\\theta n][\\partial_\\theta\\phi]^2\n",
    "    \\right)\n",
    "    =\\\\\n",
    "  \\epsilon \n",
    "  - \\left(\n",
    "      \\frac{1}{\\rho}[\\partial_\\rho\\phi]\\{\\partial_\\rho\\phi,n\\}\n",
    "      +\\frac{1}{\\rho^3}[\\partial_\\theta\\phi]\\{\\partial_\\theta\\phi, n\\}\n",
    "      +\\frac{1}{\\rho^4}[\\partial_\\theta n][\\partial_\\theta\\phi]^2\n",
    "    \\right)\n",
    "    =    \n",
    "\\end{align*}"
   ]
  },
  {
   "cell_type": "code",
   "execution_count": 17,
   "metadata": {
    "collapsed": false
   },
   "outputs": [
    {
     "data": {
      "image/png": "[encoded data removed]",
      "text/latex": [
       "$$0$$"
      ],
      "text/plain": [
       "0"
      ]
     },
     "metadata": {},
     "output_type": "display_data"
    }
   ],
   "source": [
    "epsMinusCorrection = epsilonFunc\\\n",
    "       -\\\n",
    "       (\\\n",
    "        (1/rho)*phi.diff(rho)*poisson(phi.diff(rho), n)\\\n",
    "       +(1/(rho)**3)*phi.diff(theta)*poisson(phi.diff(theta),n)\\\n",
    "       +(1/(rho)**4)*n.diff(theta)*(phi.diff(theta))**2\n",
    "       )\n",
    "        \n",
    "display(epsMinusCorrection.simplify())"
   ]
  },
  {
   "cell_type": "markdown",
   "metadata": {},
   "source": [
    "What is more interesting is in fact that\n",
    "\n",
    "\\begin{align*}\n",
    "  \\epsilon \n",
    "  - \\frac{B}{2}\\{\\mathbf{u}_E\\cdot\\mathbf{u}_E, n\\}\n",
    "    =\n",
    "\\end{align*}"
   ]
  },
  {
   "cell_type": "code",
   "execution_count": 18,
   "metadata": {
    "collapsed": false
   },
   "outputs": [
    {
     "data": {
      "image/png": "[encoded data removed]",
      "text/latex": [
       "$$0$$"
      ],
      "text/plain": [
       "0"
      ]
     },
     "metadata": {},
     "output_type": "display_data"
    }
   ],
   "source": [
    "epsMinusNewCorr = epsilonFunc - (Blen/2)*poisson(ue*ue, n).doit()\n",
    "\n",
    "display(epsMinusNewCorr.simplify())"
   ]
  },
  {
   "cell_type": "markdown",
   "metadata": {},
   "source": [
    "Where\n",
    "\\begin{align*}\n",
    "  \\mathbf{u}_E\\cdot\\mathbf{u}_E\n",
    "  =\n",
    "\\end{align*}"
   ]
  },
  {
   "cell_type": "code",
   "execution_count": 19,
   "metadata": {
    "collapsed": false
   },
   "outputs": [
    {
     "data": {
      "image/png": "[encoded data removed]",
      "text/latex": [
       "$$\\frac{\\partial}{\\partial \\rho} \\phi{\\left (\\rho,\\theta \\right )}^{2} + \\frac{1}{\\rho^{2}} \\frac{\\partial}{\\partial \\theta} \\phi{\\left (\\rho,\\theta \\right )}^{2}$$"
      ],
      "text/plain": [
       "                              2\n",
       "                 ⎛∂          ⎞ \n",
       "             2   ⎜──(φ(ρ, θ))⎟ \n",
       "⎛∂          ⎞    ⎝∂θ         ⎠ \n",
       "⎜──(φ(ρ, θ))⎟  + ──────────────\n",
       "⎝∂ρ         ⎠           2      \n",
       "                       ρ       "
      ]
     },
     "metadata": {},
     "output_type": "display_data"
    }
   ],
   "source": [
    "display((ue*ue).doit())"
   ]
  },
  {
   "cell_type": "markdown",
   "metadata": {},
   "source": [
    "## Printing for comparison"
   ]
  },
  {
   "cell_type": "code",
   "execution_count": 20,
   "metadata": {
    "collapsed": false
   },
   "outputs": [
    {
     "data": {
      "image/png": "[encoded data removed]",
      "text/latex": [
       "$$S_{new} = - \\frac{n \\phi_{x}}{\\rho} \\phi_{xxz} - \\frac{n \\phi_{x}}{\\rho^{2}} \\phi_{xz} - \\frac{n \\phi_{x}}{\\rho^{3}} \\phi_{z} - \\frac{n \\phi_{x}}{\\rho^{3}} \\phi_{zzz} + \\frac{n \\phi_{xx}}{\\rho^{2}} \\phi_{z} + \\frac{n \\phi_{xxx}}{\\rho} \\phi_{z} + \\frac{n \\phi_{xzz}}{\\rho^{3}} \\phi_{z} - \\frac{2 n}{\\rho^{4}} \\phi_{z} \\phi_{zz} + \\frac{n_{x} \\phi_{x}}{\\rho^{2}} \\phi_{z} + \\frac{2 n_{x}}{\\rho} \\phi_{xx} \\phi_{z} + \\frac{2 n_{x}}{\\rho^{3}} \\phi_{z} \\phi_{zz} + \\frac{n_{xx} \\phi_{x}}{\\rho} \\phi_{z} - \\frac{n_{xz} \\phi_{x}^{2}}{\\rho} + \\frac{n_{xz} \\phi_{z}^{2}}{\\rho^{3}} - \\frac{n_{z} \\phi_{x}^{2}}{\\rho^{2}} - \\frac{2 n_{z}}{\\rho} \\phi_{x} \\phi_{xx} - \\frac{2 n_{z}}{\\rho^{3}} \\phi_{x} \\phi_{zz} - \\frac{n_{z} \\phi_{z}^{2}}{\\rho^{4}} - \\frac{n_{zz} \\phi_{x}}{\\rho^{3}} \\phi_{z}$$"
      ],
      "text/plain": [
       "                                                                              \n",
       "          n⋅φₓ⋅φ_xxz   n⋅φₓ⋅φ_xz   n⋅φₓ⋅φ_z   n⋅φₓ⋅φ_zzz   n⋅φₓₓ⋅φ_z   n⋅φₓₓₓ⋅\n",
       "S_new = - ────────── - ───────── - ──────── - ────────── + ───────── + ───────\n",
       "              ρ             2          3           3            2          ρ  \n",
       "                           ρ          ρ           ρ            ρ              \n",
       "\n",
       "                                                                              \n",
       "φ_z   n⋅φ_xzz⋅φ_z   2⋅n⋅φ_z⋅φ_zz   nₓ⋅φₓ⋅φ_z   2⋅nₓ⋅φₓₓ⋅φ_z   2⋅nₓ⋅φ_z⋅φ_zz   \n",
       "─── + ─────────── - ──────────── + ───────── + ──────────── + ───────────── + \n",
       "            3             4             2           ρ                3        \n",
       "           ρ             ρ             ρ                            ρ         \n",
       "\n",
       "                    2           2         2                                   \n",
       "nₓₓ⋅φₓ⋅φ_z   n_xz⋅φₓ    n_xz⋅φ_z    n_z⋅φₓ    2⋅n_z⋅φₓ⋅φₓₓ   2⋅n_z⋅φₓ⋅φ_zz   n\n",
       "────────── - ──────── + ───────── - ─────── - ──────────── - ───────────── - ─\n",
       "    ρ           ρ            3          2          ρ                3         \n",
       "                            ρ          ρ                           ρ          \n",
       "\n",
       "      2              \n",
       "_z⋅φ_z    n_zz⋅φₓ⋅φ_z\n",
       "─────── - ───────────\n",
       "   4            3    \n",
       "  ρ            ρ     "
      ]
     },
     "metadata": {},
     "output_type": "display_data"
    }
   ],
   "source": [
    "S = expand(zetaFunc)\n",
    "\n",
    "strS = str(S)\n",
    "\n",
    "# phi rho derivatives\n",
    "strS = strS.replace('Derivative(phi(rho, theta), rho)', 'phi_x')\n",
    "strS = strS.replace('Derivative(phi(rho, theta), rho, rho)', 'phi_xx')\n",
    "strS = strS.replace('Derivative(phi(rho, theta), rho, rho, rho)', 'phi_xxx')\n",
    "# phi theta derivatives\n",
    "strS = strS.replace('Derivative(phi(rho, theta), theta)', 'phi_z')\n",
    "strS = strS.replace('Derivative(phi(rho, theta), theta, theta)', 'phi_zz')\n",
    "strS = strS.replace('Derivative(phi(rho, theta), theta, theta, theta)', 'phi_zzz')\n",
    "# phi mixed derivatives\n",
    "strS = strS.replace('Derivative(phi(rho, theta), rho, theta)', 'phi_xz')\n",
    "strS = strS.replace('Derivative(phi(rho, theta), rho, theta, theta)', 'phi_xzz')\n",
    "strS = strS.replace('Derivative(phi(rho, theta), rho, rho, theta)', 'phi_xxz')\n",
    "# Non-derivatives\n",
    "strS = strS.replace('phi(rho, theta)', 'phi')\n",
    "\n",
    "\n",
    "# n rho derivatives\n",
    "strS = strS.replace('Derivative(n(rho, theta), rho)', 'n_x')\n",
    "strS = strS.replace('Derivative(n(rho, theta), rho, rho)', 'n_xx')\n",
    "# n theta derivatives\n",
    "strS = strS.replace('Derivative(n(rho, theta), theta)', 'n_z')\n",
    "strS = strS.replace('Derivative(n(rho, theta), theta, theta)', 'n_zz')\n",
    "# n mixed derivatives\n",
    "strS = strS.replace('Derivative(n(rho, theta), rho, theta)', 'n_xz')\n",
    "# Non-derivatives\n",
    "strS = strS.replace('n(rho, theta)', 'n')\n",
    "\n",
    "newS = sympify(strS)\n",
    "display(Eq(symbols('S_new'), expand(newS)))"
   ]
  }
 ],
 "metadata": {
  "kernelspec": {
   "display_name": "Python 3",
   "language": "python",
   "name": "python3"
  },
  "language_info": {
   "codemirror_mode": {
    "name": "ipython",
    "version": 3
   },
   "file_extension": ".py",
   "mimetype": "text/x-python",
   "name": "python",
   "nbconvert_exporter": "python",
   "pygments_lexer": "ipython3",
   "version": "3.5.1"
  }
 },
 "nbformat": 4,
 "nbformat_minor": 0
}
