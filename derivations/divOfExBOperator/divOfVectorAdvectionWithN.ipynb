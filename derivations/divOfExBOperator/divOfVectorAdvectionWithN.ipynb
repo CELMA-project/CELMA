{
 "cells": [
  {
   "cell_type": "markdown",
   "metadata": {},
   "source": [
    "# Calculation of the divergence of the advection of the perpendicular gradient of the potential times density using Clebsch coordinates\n",
    "\n",
    "We would here like to calculate\n",
    "$$\n",
    "\\nabla\\cdot\\left(\\mathbf{u}_E\\cdot\\nabla\\left[n \\nabla_\\perp\\phi \\right]\\right)\n",
    "$$\n",
    "using cylindrical Clebsch coordinates, as this tensor identity has not been found in the literature.\n",
    "\n",
    "**NOTE: These are normalized equations. As $B$ is constant, we can choose $B_0$ so that the normalized $\\tilde{B}=1$, thus, $B$ is excluded from these equations.**\n",
    "\n",
    "Also, we would like to compare this with\n",
    "$$\n",
    "B\\{\\phi,\\Omega^D\\}\n",
    "$$"
   ]
  },
  {
   "cell_type": "code",
   "execution_count": 1,
   "metadata": {
    "collapsed": false
   },
   "outputs": [],
   "source": [
    "from IPython.display import display\n",
    "from sympy import symbols, simplify, sympify, expand\n",
    "from sympy import init_printing\n",
    "from sympy import Eq, Function\n",
    "from clebschVector import ClebschVec\n",
    "from clebschVector import div, grad, gradPerp, advVec\n",
    "from common import rho, theta, poisson\n",
    "from common import displayVec\n",
    "\n",
    "init_printing()"
   ]
  },
  {
   "cell_type": "code",
   "execution_count": 2,
   "metadata": {
    "collapsed": false
   },
   "outputs": [],
   "source": [
    "u_z = symbols('u_z', real = True)\n",
    "# In reality this is a function, but as it serves only as a dummy it is here defined as a symbol\n",
    "# This makes it easier to replace\n",
    "f = symbols('f', real = True)\n",
    "phi = Function('phi')(rho, theta)\n",
    "n   = Function('n')(rho, theta)\n",
    "# Symbols for printing\n",
    "zeta, chi, epsilon = symbols('zeta, chi, epsilon')"
   ]
  },
  {
   "cell_type": "markdown",
   "metadata": {},
   "source": [
    "# Calculation of the $E\\times B$ advection\n",
    "\n",
    "We would now like to calculate\n",
    "\n",
    "$$\n",
    "\\zeta = \\nabla\\cdot\\left(\\mathbf{u}_E \\cdot\\nabla\\left[n\\nabla_\\perp\\phi\\right]\\right)\n",
    "$$\n",
    "\n",
    "We will do this by\n",
    "\n",
    "1. Calculate $n\\nabla_\\perp\\phi$\n",
    "2. Define $\\mathbf{u}_E$\n",
    "    * By first calculating $\\nabla_\\perp\\phi$\n",
    "3. Calculate $\\mathbf{u}_E\\cdot\\nabla \\left(n\\nabla_\\perp\\phi\\right)$\n",
    "    * To check the different contributions we also\n",
    "        * Calculate $\\mathbf{u}_E\\cdot\\nabla f$\n",
    "        * Calculate $\\mathbf{a}\\cdot \\left(n\\nabla_\\perp\\phi\\right)$\n",
    "4. Take the divergence of the resulting vector\n",
    "5. Compare this with $B\\{\\phi,\\Omega^D\\}$"
   ]
  },
  {
   "cell_type": "markdown",
   "metadata": {},
   "source": [
    "## Calculation of $n\\nabla_\\perp\\phi$"
   ]
  },
  {
   "cell_type": "code",
   "execution_count": 3,
   "metadata": {
    "collapsed": false
   },
   "outputs": [],
   "source": [
    "nGradPerpPhi = gradPerp(phi)*n\n",
    "displayVec(nGradPerpPhi)"
   ]
  },
  {
   "cell_type": "markdown",
   "metadata": {},
   "source": [
    "## Defining $\\mathbf{u}_E$\n",
    "\n",
    "We have that \n",
    "$${u}_E = - \\frac{\\nabla_\\perp\\phi\\times\\mathbf{b}}{B}$$\n",
    "Remember that we are working with normalized equations, so $B$ (which in reality is $\\tilde{B}$) is equal to $1$.\n",
    "\n",
    "**NOTE: It migth appear that there is a discrepancy between having a coordinate system where $B$ is not constant where we have derived equation where $B$ is constant. However, this is not a problem as $B$ is not present in the normalized equations, and because we can choose $B_0$ so that $\\widetilde{B}=1$**"
   ]
  },
  {
   "cell_type": "code",
   "execution_count": 4,
   "metadata": {
    "collapsed": false
   },
   "outputs": [],
   "source": [
    "# The basis-vectors are contravariant => components are covariant\n",
    "eTheta = ClebschVec(rho=0, theta=1, z=0, covariant=True)\n",
    "eRho = ClebschVec(rho=1, theta=0, z=0, covariant=True)\n",
    "B = eTheta^eRho\n",
    "displayVec(B, 'B')\n",
    "Blen = B.len()\n",
    "display(Eq(symbols('B'), Blen))\n",
    "b = B/(B.len())\n",
    "displayVec(b, 'b')"
   ]
  },
  {
   "cell_type": "markdown",
   "metadata": {},
   "source": [
    "**NOTE: Basis vectors in $B$ are covariant, so components are contravariant**"
   ]
  },
  {
   "cell_type": "markdown",
   "metadata": {},
   "source": [
    "### Calculation of $\\nabla_\\perp\\phi$"
   ]
  },
  {
   "cell_type": "code",
   "execution_count": 5,
   "metadata": {
    "collapsed": false
   },
   "outputs": [],
   "source": [
    "gradPerpPhi = gradPerp(phi)\n",
    "displayVec(gradPerpPhi)"
   ]
  },
  {
   "cell_type": "code",
   "execution_count": 6,
   "metadata": {
    "collapsed": false
   },
   "outputs": [],
   "source": [
    "# Normalized B\n",
    "BTilde = 1\n",
    "\n",
    "# Defining u_E\n",
    "ue = - ((gradPerpPhi^b)/BTilde)\n",
    "displayVec(ue, 'u_E')"
   ]
  },
  {
   "cell_type": "markdown",
   "metadata": {},
   "source": [
    "## Calculation of $\\mathbf{u}_E\\cdot\\nabla \\left(n\\nabla_\\perp\\phi\\right)$"
   ]
  },
  {
   "cell_type": "markdown",
   "metadata": {},
   "source": [
    "### Calculation of $\\mathbf{u}_E\\cdot\\nabla f$"
   ]
  },
  {
   "cell_type": "code",
   "execution_count": 7,
   "metadata": {
    "collapsed": false
   },
   "outputs": [],
   "source": [
    "ueDotGrad_f = ue*grad(f)\n",
    "display(ueDotGrad_f)"
   ]
  },
  {
   "cell_type": "markdown",
   "metadata": {},
   "source": [
    "### Calculation of  $\\mathbf{a}\\cdot\\nabla \\left(n\\nabla_\\perp\\phi\\right)$"
   ]
  },
  {
   "cell_type": "code",
   "execution_count": 8,
   "metadata": {
    "collapsed": true
   },
   "outputs": [],
   "source": [
    "aRho,  aZ,  aTheta  = symbols('a^rho, a^z, a^theta')\n",
    "a_Rho, a_Z, a_Theta = symbols('a_rho, a_z, a_theta')\n",
    "aCov = ClebschVec(rho = a_Rho, z=a_Z, theta = a_Theta, covariant=True)\n",
    "aCon = ClebschVec(rho = aRho,  z=aZ,  theta = aTheta,  covariant=False)"
   ]
  },
  {
   "cell_type": "markdown",
   "metadata": {},
   "source": [
    "Using covariant vector"
   ]
  },
  {
   "cell_type": "code",
   "execution_count": 9,
   "metadata": {
    "collapsed": false
   },
   "outputs": [],
   "source": [
    "aCovDotNablaGradPhi = advVec(aCov, nGradPerpPhi)\n",
    "displayVec(aCovDotNablaGradPhi)"
   ]
  },
  {
   "cell_type": "markdown",
   "metadata": {},
   "source": [
    "Using contravariant vector"
   ]
  },
  {
   "cell_type": "code",
   "execution_count": 10,
   "metadata": {
    "collapsed": false
   },
   "outputs": [],
   "source": [
    "aConDotNablaGradPhi = advVec(aCon, nGradPerpPhi)\n",
    "displayVec(aConDotNablaGradPhi)"
   ]
  },
  {
   "cell_type": "markdown",
   "metadata": {},
   "source": [
    "### Calculation of full  $\\mathbf{u}_E\\cdot\\nabla \\left(n\\nabla_\\perp\\phi\\right)$"
   ]
  },
  {
   "cell_type": "code",
   "execution_count": 11,
   "metadata": {
    "collapsed": false
   },
   "outputs": [],
   "source": [
    "ueDotGradnGradPerpPhi = advVec(ue, nGradPerpPhi)\n",
    "displayVec(ueDotGradnGradPerpPhi.doitVec())"
   ]
  },
  {
   "cell_type": "code",
   "execution_count": 12,
   "metadata": {
    "collapsed": false,
    "scrolled": false
   },
   "outputs": [],
   "source": [
    "displayVec(ueDotGradnGradPerpPhi.doitVec().simplifyVec())"
   ]
  },
  {
   "cell_type": "markdown",
   "metadata": {},
   "source": [
    "## Calculation of $\\nabla\\cdot\\left(\\mathbf{u}_E\\cdot\\nabla\\left[n\\nabla_\\perp\\phi\\right]\\right)$"
   ]
  },
  {
   "cell_type": "code",
   "execution_count": 13,
   "metadata": {
    "collapsed": false
   },
   "outputs": [],
   "source": [
    "div_ueDotGradnGradPerpPhi = div(ueDotGradnGradPerpPhi)\n",
    "zetaFunc = div_ueDotGradnGradPerpPhi.doit().expand()\n",
    "display(Eq(zeta, simplify(zetaFunc)))"
   ]
  },
  {
   "cell_type": "markdown",
   "metadata": {},
   "source": [
    "# Comparison with $B\\{\\phi,\\Omega^D\\}$"
   ]
  },
  {
   "cell_type": "markdown",
   "metadata": {},
   "source": [
    "In cylindrical Clebsch coordinates, we have that $\\mathbf{u}_E\\cdot\\nabla = \\{\\phi,\\cdot\\}$. However, we have normalized our equations so that $\\tilde{B}=1$. As $B$ from the Clebsch system is not constant, we can achieve normalization by multiplying the Poisson bracket with the un-normalized $B$ (from the Clebsch system)."
   ]
  },
  {
   "cell_type": "markdown",
   "metadata": {},
   "source": [
    "We define the vorticity-like field $\\Omega^D$ to be $\\Omega^D = \\nabla\\cdot\\left(n\\nabla_\\perp\\phi\\right)$. In the Clebsch system this is written as"
   ]
  },
  {
   "cell_type": "code",
   "execution_count": 14,
   "metadata": {
    "collapsed": false
   },
   "outputs": [],
   "source": [
    "vortD = div(gradPerp(phi)*n)\n",
    "display(Eq(symbols('Omega^D'), vortD.doit().expand()))"
   ]
  },
  {
   "cell_type": "markdown",
   "metadata": {},
   "source": [
    "We now write $\\chi = B\\{\\phi,\\Omega^D\\}$"
   ]
  },
  {
   "cell_type": "code",
   "execution_count": 15,
   "metadata": {
    "collapsed": false
   },
   "outputs": [],
   "source": [
    "poissonPhiVortD = Blen*poisson(phi, vortD)\n",
    "chiFunc = poissonPhiVortD.doit().expand()\n",
    "display(Eq(chi, chiFunc))"
   ]
  },
  {
   "cell_type": "markdown",
   "metadata": {},
   "source": [
    "The difference $\\epsilon$ between $\\zeta = \\nabla\\cdot\\left(\\mathbf{u}_E\\cdot\\nabla\\left[n\\nabla_\\perp\\phi\\right]\\right)$ and $\\chi = B\\{\\phi,\\Omega^D\\}$ is given by\n",
    "\n",
    "$$\\epsilon = \\zeta - \\chi$$"
   ]
  },
  {
   "cell_type": "code",
   "execution_count": 16,
   "metadata": {
    "collapsed": false
   },
   "outputs": [],
   "source": [
    "epsilonFunc = (zetaFunc - chiFunc).expand()\n",
    "display(Eq(epsilon, epsilonFunc))"
   ]
  },
  {
   "cell_type": "markdown",
   "metadata": {},
   "source": [
    "## Printing for comparison"
   ]
  },
  {
   "cell_type": "code",
   "execution_count": 17,
   "metadata": {
    "collapsed": false
   },
   "outputs": [],
   "source": [
    "S = expand(zetaFunc)\n",
    "\n",
    "strS = str(S)\n",
    "\n",
    "# phi rho derivatives\n",
    "strS = strS.replace('Derivative(phi(rho, theta), rho)', 'phi_x')\n",
    "strS = strS.replace('Derivative(phi(rho, theta), rho, rho)', 'phi_xx')\n",
    "strS = strS.replace('Derivative(phi(rho, theta), rho, rho, rho)', 'phi_xxx')\n",
    "# phi theta derivatives\n",
    "strS = strS.replace('Derivative(phi(rho, theta), theta)', 'phi_z')\n",
    "strS = strS.replace('Derivative(phi(rho, theta), theta, theta)', 'phi_zz')\n",
    "strS = strS.replace('Derivative(phi(rho, theta), theta, theta, theta)', 'phi_zzz')\n",
    "# phi mixed derivatives\n",
    "strS = strS.replace('Derivative(phi(rho, theta), rho, theta)', 'phi_xz')\n",
    "strS = strS.replace('Derivative(phi(rho, theta), rho, theta, theta)', 'phi_xzz')\n",
    "strS = strS.replace('Derivative(phi(rho, theta), rho, rho, theta)', 'phi_xxz')\n",
    "# Non-derivatives\n",
    "strS = strS.replace('phi(rho, theta)', 'phi')\n",
    "\n",
    "\n",
    "# n rho derivatives\n",
    "strS = strS.replace('Derivative(n(rho, theta), rho)', 'n_x')\n",
    "strS = strS.replace('Derivative(n(rho, theta), rho, rho)', 'n_xx')\n",
    "# n theta derivatives\n",
    "strS = strS.replace('Derivative(n(rho, theta), theta)', 'n_z')\n",
    "strS = strS.replace('Derivative(n(rho, theta), theta, theta)', 'n_zz')\n",
    "# n mixed derivatives\n",
    "strS = strS.replace('Derivative(n(rho, theta), rho, theta)', 'n_xz')\n",
    "# Non-derivatives\n",
    "strS = strS.replace('n(rho, theta)', 'n')\n",
    "\n",
    "newS = sympify(strS)\n",
    "display(Eq(symbols('S_new'), expand(newS)))"
   ]
  }
 ],
 "metadata": {
  "kernelspec": {
   "display_name": "Python 3",
   "language": "python",
   "name": "python3"
  },
  "language_info": {
   "codemirror_mode": {
    "name": "ipython",
    "version": 3
   },
   "file_extension": ".py",
   "mimetype": "text/x-python",
   "name": "python",
   "nbconvert_exporter": "python",
   "pygments_lexer": "ipython3",
   "version": "3.5.1"
  }
 },
 "nbformat": 4,
 "nbformat_minor": 0
}
