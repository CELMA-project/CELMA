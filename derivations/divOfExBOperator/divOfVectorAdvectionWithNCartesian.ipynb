{
 "cells": [
  {
   "cell_type": "markdown",
   "metadata": {},
   "source": [
    "# Calculation of the divergence of the advection of the perpendicular gradient of the potential times density using cartesian coordinates\n",
    "\n",
    "_!!!WARINING!!!_\n",
    "\n",
    "**THIS FILE IS OBSOLETE. IN CURRENT STATE IT IS NOT WORKING PROPERLY. FILE REPLACED BY DERIVATION IN THESIS**\n",
    "\n",
    "_!!!WARINING!!!_\n",
    "\n",
    "This meant as a check that what is calculated in [divOfVectorAdvectionWithN](divOfVectorAdvectionWithN.ipynb) is correct.\n",
    "\n",
    "We would here like to calculate\n",
    "$$\n",
    "\\nabla\\cdot\\left(\\mathbf{u}_E\\cdot\\nabla\\left[n \\nabla_\\perp\\phi \\right]\\right)\n",
    "$$\n",
    "and check that this in fact is equal to\n",
    "$$\n",
    "\\frac{1}{\\rho}\\{\\phi, \\Omega^D\\} + \\frac{1}{2\\rho}\\{\\mathbf{u}_E\\cdot\\mathbf{u}_E, n\\}\n",
    "$$\n",
    "\n",
    "We do so by calculating everything in cartesian coordinates, and then map the result to cylindrical coordinates"
   ]
  },
  {
   "cell_type": "markdown",
   "metadata": {},
   "source": [
    "## Calculation of $\\nabla\\cdot\\left(\\mathbf{u}_E\\cdot\\nabla\\left[n \\nabla_\\perp\\phi \\right]\\right)$"
   ]
  },
  {
   "cell_type": "code",
   "execution_count": null,
   "metadata": {
    "collapsed": false
   },
   "outputs": [],
   "source": [
    "from IPython.display import display\n",
    "from sympy import symbols, simplify, sympify, expand\n",
    "from sympy import init_printing\n",
    "from sympy import Eq, Function, Derivative\n",
    "from sympy import sin, cos, atan\n",
    "import numpy as np\n",
    "\n",
    "init_printing()"
   ]
  },
  {
   "cell_type": "markdown",
   "metadata": {},
   "source": [
    "We start by noting that\n",
    "\n",
    "$$\n",
    "\\nabla\\cdot\\left(\\mathbf{u}_E\\cdot\\nabla\\left[n \\nabla_\\perp\\phi \\right]\\right)\n",
    "=\n",
    "\\nabla_\\perp\\cdot\\left(\\mathbf{u}_E\\cdot\\nabla_\\perp\\left[n \\nabla_\\perp\\phi \\right]\\right)\n",
    "$$\n",
    "\n",
    "where\n",
    "\n",
    "$$\n",
    "\\nabla_\\perp f = \\boldsymbol{\\hat{\\rho}} \\partial_\\rho f + \\boldsymbol{\\hat{\\theta}} \\frac{1}{\\rho}\\partial_\\theta f\n",
    "$$\n",
    "\n",
    "and\n",
    "\n",
    "\\begin{align*}\n",
    "  \\boldsymbol{\\hat{\\rho}} &= \\cos(\\theta)\\mathbf{\\hat{x}} - \\sin(\\theta)\\mathbf{\\hat{y}}\\\\\n",
    "  \\boldsymbol{\\hat{\\theta}} &= \\sin(\\theta)\\mathbf{\\hat{x}} + \\cos(\\theta)\\mathbf{\\hat{y}}\n",
    "\\end{align*}\n",
    "\n",
    "\n",
    "(see for example Appendix in Griffiths for details).\n",
    "\n",
    "We have that the map is given as\n",
    "\n",
    "\\begin{align*}\n",
    "  x =& \\rho\\cos(\\theta) \\\\\n",
    "  y =& \\rho\\sin(\\theta)\n",
    "\\end{align*}"
   ]
  },
  {
   "cell_type": "markdown",
   "metadata": {},
   "source": [
    "### Calculation of $n\\nabla_\\perp\\phi$\n",
    "\n",
    "which gives\n",
    "\n",
    "\\begin{align*}\n",
    "  \\frac{\\partial}{\\partial \\rho}f(x(\\rho,\\theta), y(\\rho,\\theta))\n",
    "  =&\n",
    "     \\frac{\\partial f}{\\partial x} \\frac{\\partial x}{\\partial \\rho}\n",
    "   + \\frac{\\partial f}{\\partial y} \\frac{\\partial y}{\\partial \\rho}\n",
    "  =\n",
    "     \\frac{\\partial f}{\\partial x} \\cos(\\theta)\n",
    "   + \\frac{\\partial f}{\\partial y} \\sin(\\theta)\n",
    "  \\\\\n",
    "  \\frac{\\partial}{\\partial \\theta}f(x(\\rho,\\theta), y(\\rho,\\theta))\n",
    "  =&\n",
    "     \\frac{\\partial f}{\\partial x} \\frac{\\partial x}{\\partial \\theta}\n",
    "   + \\frac{\\partial f}{\\partial y} \\frac{\\partial y}{\\partial \\theta}\n",
    "  =\n",
    "   - \\frac{\\partial f}{\\partial x}\\rho\\sin(\\theta)\n",
    "   + \\frac{\\partial f}{\\partial y}\\rho\\cos(\\theta)\n",
    "\\end{align*}\n",
    "\n",
    "This gives\n",
    "\n",
    "\\begin{align*}\n",
    "  \\nabla_\\perp f\n",
    "  =&\n",
    "  (\\cos(\\theta)\\mathbf{\\hat{x}} - \\sin(\\theta)\\mathbf{\\hat{y}}) \n",
    "  \\partial_\\rho \n",
    "  f\n",
    "  + \n",
    "  (\\sin(\\theta)\\mathbf{\\hat{x}} + \\cos(\\theta)\\mathbf{\\hat{y}})\n",
    "  \\frac{1}{\\rho}\n",
    "  \\partial_\\theta \n",
    "  f\n",
    "  \\\\\n",
    "  =&\n",
    "  (\\cos(\\theta)\\mathbf{\\hat{x}} - \\sin(\\theta)\\mathbf{\\hat{y}}) \n",
    "  \\left(\n",
    "      \\cos(\\theta)\\frac{\\partial f}{\\partial x}\n",
    "   +  \\sin(\\theta)\\frac{\\partial f}{\\partial y}\n",
    "   \\right)\n",
    "  \\\\&+ \n",
    "  (\\sin(\\theta)\\mathbf{\\hat{x}} + \\cos(\\theta)\\mathbf{\\hat{y}})\n",
    "  \\frac{1}{\\rho}\n",
    "  \\left(\n",
    "   - \\rho\\sin(\\theta)\\frac{\\partial f}{\\partial x}\n",
    "   + \\rho\\cos(\\theta)\\frac{\\partial f}{\\partial y}\n",
    "  \\right)\\\\\n",
    "  =&\n",
    "  \\mathbf{\\hat{x}}\n",
    "  \\left(\n",
    "  \\cos(\\theta)\n",
    "    \\left[\n",
    "      \\cos(\\theta)\\frac{\\partial f}{\\partial x}\n",
    "   +  \\sin(\\theta)\\frac{\\partial f}{\\partial y}\n",
    "   \\right]\n",
    "  + \n",
    "  \\sin(\\theta)\n",
    "  \\frac{1}{\\rho}\n",
    "  \\left[\n",
    "   - \\rho\\sin(\\theta)\\frac{\\partial f}{\\partial x}\n",
    "   + \\rho\\cos(\\theta)\\frac{\\partial f}{\\partial y}\n",
    "  \\right]\n",
    "  \\right)\n",
    "  \\\\&+ \n",
    "  \\mathbf{\\hat{y}}\n",
    "  \\left(\n",
    "  - \\sin(\\theta)\n",
    "    \\left[\n",
    "      \\cos(\\theta)\\frac{\\partial f}{\\partial x}\n",
    "   +  \\sin(\\theta)\\frac{\\partial f}{\\partial y}\n",
    "   \\right]\n",
    "  + \n",
    "  \\cos(\\theta)\n",
    "  \\frac{1}{\\rho}\n",
    "  \\left[\n",
    "   - \\rho\\sin(\\theta)\\frac{\\partial f}{\\partial x}\n",
    "   + \\rho\\cos(\\theta)\\frac{\\partial f}{\\partial y}\n",
    "  \\right]\n",
    "  \\right)\n",
    "\\end{align*}\n",
    "\n",
    "We investigate if it can be simplified"
   ]
  },
  {
   "cell_type": "code",
   "execution_count": null,
   "metadata": {
    "collapsed": true
   },
   "outputs": [],
   "source": [
    "rho, theta = symbols('rho, theta')\n",
    "x, y = symbols('x, y')\n",
    "a =  Function('a')(x, y)"
   ]
  },
  {
   "cell_type": "code",
   "execution_count": null,
   "metadata": {
    "collapsed": false
   },
   "outputs": [],
   "source": [
    "gradPerpAx = cos(theta)*\\\n",
    "             (cos(theta)*a.diff(x) + sin(theta)*a.diff(y))\\\n",
    "            +\\\n",
    "             sin(theta)*(1/rho)*\\\n",
    "             (-rho*sin(theta)*a.diff(x) + rho*cos(theta)*a.diff(y))\n",
    "\n",
    "gradPerpAy = -sin(theta)*\\\n",
    "             (cos(theta)*a.diff(x) + sin(theta)*a.diff(y))\\\n",
    "            +\\\n",
    "             cos(theta)*(1/rho)*\\\n",
    "             (-rho*sin(theta)*a.diff(x) + rho*cos(theta)*a.diff(y))\n",
    "                \n",
    "print(\"Native x component of the perpendicular gradient\")\n",
    "display(gradPerpAx)\n",
    "print(\"Simplified x component of the perpendicular gradient\")\n",
    "display(gradPerpAx.simplify())\n",
    "\n",
    "print(\"Native y component of the perpendicular gradient\")\n",
    "display(gradPerpAy)\n",
    "print(\"Simplified y component of the perpendicular gradient\")\n",
    "display(gradPerpAy.simplify())"
   ]
  },
  {
   "cell_type": "code",
   "execution_count": null,
   "metadata": {
    "collapsed": true
   },
   "outputs": [],
   "source": [
    "def gradPerp(a):\n",
    "    \"\"\"\n",
    "    Calculates the gradPerp in Cylindrical coordinates using Cartesian coordinates\n",
    "    \n",
    "    Returns a 2d array, where the first index denotes the x component, and the second denotes the y component\n",
    "    \"\"\"\n",
    "    return np.array(\\\n",
    "                    [\\\n",
    "                        sin(2*theta)*a.diff(y) + cos(2*theta)*a.diff(x),\\\n",
    "                      - sin(2*theta)*a.diff(x) + cos(2*theta)*a.diff(y)\\\n",
    "                    ]\\\n",
    "            )"
   ]
  },
  {
   "cell_type": "markdown",
   "metadata": {},
   "source": [
    "We use this to calculate $n\\nabla_\\perp\\phi$. We get"
   ]
  },
  {
   "cell_type": "code",
   "execution_count": null,
   "metadata": {
    "collapsed": true
   },
   "outputs": [],
   "source": [
    "n   =  Function('n')(x, y)\n",
    "phi =  Function('phi')(x, y)"
   ]
  },
  {
   "cell_type": "code",
   "execution_count": null,
   "metadata": {
    "collapsed": false
   },
   "outputs": [],
   "source": [
    "nGradPerpPhi = n*gradPerp(phi)\n",
    "print(\"x component\")\n",
    "display(nGradPerpPhi[0])\n",
    "print(\"y component\")\n",
    "display(nGradPerpPhi[1])"
   ]
  },
  {
   "cell_type": "markdown",
   "metadata": {},
   "source": [
    "### Calculation of $\\mathbf{u}_E\\cdot\\nabla_\\perp$\n",
    "\n",
    "Next, we calculate\n",
    "\n",
    "$$\n",
    "\\mathbf{u}_E = \\frac{-\\nabla_\\perp \\phi \\times \\mathbf{\\hat{b}}}{B}\n",
    "= \\mathbf{\\hat{z}} \\times \\nabla_\\perp \\phi \n",
    "=\n",
    "\\begin{vmatrix}\n",
    "    \\boldsymbol{\\hat{\\rho}} & \\mathbf{\\hat{z}} & \\boldsymbol{\\hat{\\theta}}\\\\\n",
    "    0 & 1 & 0\\\\\n",
    "    \\partial_\\rho \\phi & 0 & \\frac{1}{\\rho} \\partial_\\theta \\phi\n",
    "\\end{vmatrix}\n",
    "=\n",
    "\\frac{1}{\\rho}\\partial_\\theta\\phi \\boldsymbol{\\hat{\\rho}} - \\partial_\\rho\\phi \\boldsymbol{\\hat{\\theta}}\n",
    "$$\n",
    "\n",
    "where $B$ is normalized to $1$\n",
    "\n",
    "Notice the left-handedness of the system (due to BOUT++). This gives\n",
    "\n",
    "$$\n",
    "\\mathbf{u}_E\\cdot\\nabla_\\perp \n",
    "= \\frac{1}{\\rho}\\partial_\\theta\\phi \\partial_\\rho - \\frac{1}{\\rho}\\partial_\\rho\\phi \\partial_\\theta\n",
    "= \\frac{1}{\\rho}\\{\\phi, \\cdot\\}\n",
    "$$\n",
    "\n",
    "We see that this can be written as a Poisson bracket $\\{a,b\\}$. We get \n",
    "\n",
    "\\begin{align*}\n",
    "  \\{a,b\\}\n",
    "  =&\n",
    "  (\\partial_\\theta a)( \\partial_\\rho b) - (\\partial_\\rho a)( \\partial_\\theta b)\\\\\n",
    "  =&\n",
    "  \\left[\n",
    "   - \\rho\\sin(\\theta) \\frac{\\partial a}{\\partial x} \n",
    "   + \\rho\\cos(\\theta) \\frac{\\partial a}{\\partial y} \n",
    "  \\right]\n",
    "  \\left[\n",
    "     \\cos(\\theta) \\frac{\\partial b}{\\partial x} \n",
    "   + \\sin(\\theta) \\frac{\\partial b}{\\partial y} \n",
    "  \\right]\n",
    "  - \n",
    "  \\left[\n",
    "     \\cos(\\theta) \\frac{\\partial a}{\\partial x} \n",
    "   + \\sin(\\theta) \\frac{\\partial a}{\\partial y} \n",
    "  \\right]\n",
    "  \\left[\n",
    "   - \\rho\\sin(\\theta) \\frac{\\partial b}{\\partial x} \n",
    "   + \\rho\\cos(\\theta) \\frac{\\partial b}{\\partial y} \n",
    "  \\right]\n",
    "  \\\\\n",
    "  =&\n",
    "  \\rho\n",
    "  \\left(\n",
    "  \\left[\n",
    "   - \\sin(\\theta) \\frac{\\partial a}{\\partial x} \n",
    "   + \\cos(\\theta) \\frac{\\partial a}{\\partial y} \n",
    "  \\right]\n",
    "  \\left[\n",
    "     \\cos(\\theta) \\frac{\\partial b}{\\partial x} \n",
    "   + \\sin(\\theta) \\frac{\\partial b}{\\partial y} \n",
    "  \\right]\n",
    "  - \n",
    "  \\left[\n",
    "     \\cos(\\theta) \\frac{\\partial a}{\\partial x} \n",
    "   + \\sin(\\theta) \\frac{\\partial a}{\\partial y} \n",
    "  \\right]\n",
    "  \\left[\n",
    "   - \\sin(\\theta) \\frac{\\partial b}{\\partial x} \n",
    "   + \\cos(\\theta) \\frac{\\partial b}{\\partial y} \n",
    "  \\right]\n",
    "  \\right)\n",
    "\\end{align*}\n",
    "\n",
    "and we check if this can be simplified"
   ]
  },
  {
   "cell_type": "code",
   "execution_count": null,
   "metadata": {
    "collapsed": false
   },
   "outputs": [],
   "source": [
    "b =  Function('b')(x, y)"
   ]
  },
  {
   "cell_type": "code",
   "execution_count": null,
   "metadata": {
    "collapsed": false
   },
   "outputs": [],
   "source": [
    "poissonAB =\\\n",
    "rho*\\\n",
    "(\\\n",
    "(\\\n",
    "   - sin(theta)*a.diff(x)\\\n",
    "   + cos(theta)*a.diff(y)\\\n",
    ")*\\\n",
    "(\\\n",
    "     cos(theta)*b.diff(x)\\\n",
    "   + sin(theta)*b.diff(y)\\\n",
    ")\\\n",
    "  -\\\n",
    "(\\\n",
    "     cos(theta)*a.diff(x)\\\n",
    "   + sin(theta)*a.diff(y)\\\n",
    ")*\\\n",
    "(\\\n",
    "   - sin(theta)*b.diff(x)\\\n",
    "   + cos(theta)*b.diff(y)\\\n",
    ")\\\n",
    ")\n",
    "print(\"Native\")\n",
    "display(poissonAB)\n",
    "print(\"Simplified\")\n",
    "display(poissonAB.simplify())"
   ]
  },
  {
   "cell_type": "markdown",
   "metadata": {},
   "source": [
    "Not suprisingly, this collapsed to the standard Poisson bracket. Notice that the prefactor $\\rho$ which we got from writing $\\{a,b\\}$ can be written in Cartesian coordinates, cancels $\\frac{1}{\\rho}$ in front of the Poisson bracket, which we got from the $\\mathbf{u}_E\\cdot\\nabla_\\perp$ part."
   ]
  },
  {
   "cell_type": "code",
   "execution_count": null,
   "metadata": {
    "collapsed": true
   },
   "outputs": [],
   "source": [
    "def poisson(a,b):\n",
    "    \"\"\"\n",
    "    Calculates $\\mathbf{u}_E\\cdot\\nabla_\\perp$ in Cylindrical coordinates using Cartesian coordinates.\n",
    "    \n",
    "    We note that this is equvialent with the Poisson bracket in cartesian coordinates\n",
    "    \"\"\"\n",
    "    isVector = True\n",
    "    \n",
    "    # Check type\n",
    "    try:\n",
    "        b[0]\n",
    "    except TypeError:\n",
    "        isVector = False\n",
    "\n",
    "    # If we are working with a vector\n",
    "    if isVector:\n",
    "        result = np.array([])\n",
    "        for composent in b:\n",
    "            result = np.append(result, a.diff(y)*composent.diff(x) - a.diff(x)*composent.diff(y))\n",
    "        return result\n",
    "    # If we are working with a scalar\n",
    "    else:\n",
    "        return a.diff(y)*b.diff(x) - a.diff(x)*b.diff(y)"
   ]
  },
  {
   "cell_type": "markdown",
   "metadata": {},
   "source": [
    "### Calculation of $\\mathbf{u}_E\\cdot\\nabla_\\perp\\left(n \\nabla_\\perp\\phi \\right)$ \n",
    "\n",
    "Let us now calculate $\\mathbf{u}_E\\cdot\\nabla_\\perp\\left(n \\nabla_\\perp\\phi \\right)$.\n",
    "We must first rewrite $\\theta = \\arctan\\left(\\frac{y}{x}\\right)$"
   ]
  },
  {
   "cell_type": "code",
   "execution_count": null,
   "metadata": {
    "collapsed": false
   },
   "outputs": [],
   "source": [
    "nGradPerpPhiFullCart = np.array([])\n",
    "\n",
    "for composent in nGradPerpPhi:\n",
    "    nGradPerpPhiFullCart = np.append(nGradPerpPhiFullCart, composent.subs([(theta, atan(y/x))]))\n",
    "\n",
    "print(\"x component\")\n",
    "display(nGradPerpPhiFullCart[0])\n",
    "print(\"y component\")\n",
    "display(nGradPerpPhiFullCart[1])\n",
    "\n",
    "print(\"\\nSimplified\\n\")\n",
    "\n",
    "print(\"x component\")\n",
    "nGradPerpPhiFullCart[0] = nGradPerpPhiFullCart[0].simplify()\n",
    "display(nGradPerpPhiFullCart[0])\n",
    "print(\"y component\")\n",
    "nGradPerpPhiFullCart[1] = nGradPerpPhiFullCart[1].simplify()\n",
    "display(nGradPerpPhiFullCart[1])"
   ]
  },
  {
   "cell_type": "code",
   "execution_count": null,
   "metadata": {
    "collapsed": false
   },
   "outputs": [],
   "source": [
    "poissonNGradPerpPhi = poisson(phi, nGradPerpPhiFullCart)\n",
    "print(\"x component\")\n",
    "display(poissonNGradPerpPhi[0])\n",
    "print(\"y component\")\n",
    "display(poissonNGradPerpPhi[1])"
   ]
  },
  {
   "cell_type": "markdown",
   "metadata": {},
   "source": [
    "### Taking the divergence\n",
    "\n",
    "Finally, the cylindrical nabla operator written in Cartesian coordinates was found to be\n",
    "\n",
    "\\begin{align*}\n",
    "  \\nabla_\\perp f\n",
    "  =&\n",
    "  \\mathbf{\\hat{x}}\n",
    "  \\left(\n",
    "      \\sin(2\\theta)\\frac{\\partial f}{\\partial y} \n",
    "    + \\cos(2\\theta)\\frac{\\partial f}{\\partial x}  \n",
    "  \\right)\n",
    "  \\\\&+ \n",
    "  \\mathbf{\\hat{y}}\n",
    "  \\left(\n",
    "    - \\sin(2\\theta)\\frac{\\partial f}{\\partial x}\n",
    "    + \\cos(2\\theta)\\frac{\\partial f}{\\partial y}\n",
    "  \\right)\n",
    "\\end{align*}\n",
    "\n",
    "As $\\partial_i \\mathbf{\\hat{x}}_j = 0$ when $i \\in \\{x, y, z\\}$ and\n",
    "$\\mathbf{\\hat{x}}_j \\in \\{\\mathbf{\\hat{x}}, \\mathbf{\\hat{y}}, \\mathbf{\\hat{z}}\\}$\n",
    "\n",
    "We get"
   ]
  },
  {
   "cell_type": "code",
   "execution_count": null,
   "metadata": {
    "collapsed": false
   },
   "outputs": [],
   "source": [
    "def divPerp(a):\n",
    "    \"\"\"\n",
    "    Calculates the divPerp in Cylindrical coordinates using Cartesian coordinates\n",
    "    \"\"\"\n",
    "    return ((sin(2*atan(y/x))).simplify()*a[0].diff(y) + (cos(2*atan(y/x))).simplify()*a[0].diff(x))\\\n",
    "            +\\\n",
    "           (- (sin(2*atan(y/x))).simplify()*a[1].diff(x) + (cos(2*atan(y/x))).simplify()*a[1].diff(y))\\"
   ]
  },
  {
   "cell_type": "code",
   "execution_count": null,
   "metadata": {
    "collapsed": false
   },
   "outputs": [],
   "source": [
    "divPerpPoissonNGradPerpPhi = divPerp(poissonNGradPerpPhi)"
   ]
  },
  {
   "cell_type": "markdown",
   "metadata": {},
   "source": [
    "## Calculation of $\\frac{1}{\\rho}\\{\\phi, \\Omega^D\\} + \\frac{1}{2\\rho}\\{\\mathbf{u}_E\\cdot\\mathbf{u}_E, n\\}$"
   ]
  },
  {
   "cell_type": "markdown",
   "metadata": {},
   "source": [
    "### Calculation of $\\Omega^D$\n",
    "\n",
    "We have that $\\Omega^D = \\nabla\\cdot\\left(n \\nabla_\\perp \\phi\\right)$. This gives"
   ]
  },
  {
   "cell_type": "code",
   "execution_count": null,
   "metadata": {
    "collapsed": false
   },
   "outputs": [],
   "source": [
    "vortD = divPerp(nGradPerpPhiFullCart)\n",
    "\n",
    "print(\"Native\")\n",
    "display(vortD)\n",
    "print(\"Simplified\")\n",
    "vortD = vortD.simplify()\n",
    "display(vortD)"
   ]
  },
  {
   "cell_type": "markdown",
   "metadata": {},
   "source": [
    "### Calculation of $\\mathbf{u}_E\\cdot\\mathbf{u}_E$\n",
    "\n",
    "Further, as\n",
    "\n",
    "$$\n",
    "\\mathbf{u}_E\n",
    "=\n",
    "\\frac{1}{\\rho}\\partial_\\theta\\phi \\boldsymbol{\\hat{\\rho}} - \\partial_\\rho\\phi \\boldsymbol{\\hat{\\theta}}\n",
    "$$\n",
    "\n",
    "\n",
    "we have that $\\mathbf{u}_E\\cdot\\mathbf{u}_E$ can be written\n",
    "\n",
    "$$\n",
    "\\mathbf{u}_E\\cdot\\mathbf{u}_E\n",
    "=\n",
    "  \\left(\\frac{1}{\\rho}\\partial_\\theta\\phi\\right)^2\n",
    "+ \\left(\\partial_\\rho\\phi\\right)^2\n",
    "$$\n",
    "\n",
    "as we have that\n",
    "\n",
    "\\begin{align}\n",
    "  \\frac{\\partial}{\\partial \\rho}f\n",
    "  =&\n",
    "     \\frac{\\partial f}{\\partial x} \\cos(\\theta)\n",
    "   + \\frac{\\partial f}{\\partial y} \\sin(\\theta)\n",
    "  \\\\\n",
    "  \\frac{\\partial}{\\partial \\theta}f\n",
    "  =&\n",
    "   - \\frac{\\partial f}{\\partial x}\\rho\\sin(\\theta)\n",
    "   + \\frac{\\partial f}{\\partial y}\\rho\\cos(\\theta)\n",
    "\\end{align}\n",
    "\n",
    "rewriting this to Cartesian coordinates yields\n",
    "\n",
    "$$\n",
    "\\mathbf{u}_E\\cdot\\mathbf{u}_E\n",
    "=\n",
    "  \\left(\n",
    "   \\frac{1}{\\rho}\n",
    "   \\left[\n",
    "    - \\rho\\sin(\\theta)\\frac{\\partial}{\\partial x}\n",
    "    + \\rho\\cos(\\theta)\\frac{\\partial}{\\partial y}\n",
    "   \\right]\n",
    "   \\phi\n",
    "   \\right)^2\n",
    "+ \\left(\n",
    "    \\left[\n",
    "       \\cos(\\theta)\\frac{\\partial}{\\partial x}\n",
    "     + \\sin(\\theta)\\frac{\\partial}{\\partial y}\n",
    "    \\right]\n",
    "    \\phi\\right)^2\n",
    "$$\n",
    "\n",
    "we check if this can be simplified"
   ]
  },
  {
   "cell_type": "code",
   "execution_count": null,
   "metadata": {
    "collapsed": false
   },
   "outputs": [],
   "source": [
    "uE2 =   (\\\n",
    "   (1/rho)*\\\n",
    "   (\\\n",
    "    - rho*sin(theta)*phi.diff(x)\\\n",
    "    + rho*cos(theta)*phi.diff(y)\\\n",
    "   )\\\n",
    "   )**2\\\n",
    "+ (\\\n",
    "       cos(theta)*phi.diff(x)\\\n",
    "     + sin(theta)*phi.diff(y)\\\n",
    "   )**2\n",
    "\n",
    "uE2 = uE2.simplify()\n",
    "display(uE2)"
   ]
  },
  {
   "cell_type": "markdown",
   "metadata": {},
   "source": [
    "No surprise there, as scalars must yield the same."
   ]
  },
  {
   "cell_type": "markdown",
   "metadata": {},
   "source": [
    "### Calculation the Poisson brackets\n",
    "\n",
    "We now have that $\\frac{1}{\\rho}\\{\\phi, \\Omega^D\\} + \\frac{1}{2\\rho}\\{\\mathbf{u}_E\\cdot\\mathbf{u}_E, n\\}$ can be written as"
   ]
  },
  {
   "cell_type": "code",
   "execution_count": null,
   "metadata": {
    "collapsed": true
   },
   "outputs": [],
   "source": [
    "# The rho from the derivatives cancels 1/rho\n",
    "\n",
    "divPerpPoissonNGradPerpPhiBrackets = poisson(phi, vortD) + poisson(uE2, n)/2"
   ]
  },
  {
   "cell_type": "markdown",
   "metadata": {},
   "source": [
    "## Calculating $\n",
    "\\nabla\\cdot\\left(\\mathbf{u}_E\\cdot\\nabla\\left[n \\nabla_\\perp\\phi \\right]\\right)\n",
    "- \\left(\\frac{1}{\\rho}\\{\\phi, \\Omega^D\\} + \\frac{1}{2\\rho}\\{\\mathbf{u}_E\\cdot\\mathbf{u}_E, n\\}\\right)\n",
    "$"
   ]
  },
  {
   "cell_type": "code",
   "execution_count": null,
   "metadata": {
    "collapsed": false
   },
   "outputs": [],
   "source": [
    "theSum = (divPerpPoissonNGradPerpPhi.simplify()-divPerpPoissonNGradPerpPhiBrackets)"
   ]
  },
  {
   "cell_type": "code",
   "execution_count": null,
   "metadata": {
    "collapsed": false
   },
   "outputs": [],
   "source": [
    "# Rewrite the derivatives (must write highest orders first)\n",
    "theSum = theSum.subs([\\\n",
    "                      # Third derivatives\n",
    "                      (Derivative(phi, x, x, x), symbols('phi_xxx')),\\\n",
    "                      (Derivative(phi, x, x, y), symbols('phi_xxy')),\\\n",
    "                      (Derivative(phi, x, y, y), symbols('phi_xyy')),\\\n",
    "                      (Derivative(phi, y, y, y), symbols('phi_yyy')),\\\n",
    "                      # Second derivatives\n",
    "                      (Derivative(phi, x, x), symbols('phi_xx')),\\\n",
    "                      (Derivative(phi, x, y), symbols('phi_xy')),\\\n",
    "                      (Derivative(phi, y, y), symbols('phi_yy')),\\\n",
    "                      # First derivatives\n",
    "                      (Derivative(phi, x), symbols('phi_x')),\\\n",
    "                      (Derivative(phi, y), symbols('phi_y')),\\\n",
    "                      # Non-derivatives\n",
    "                      (phi, symbols('phi')),\\\n",
    "                      # Second derivatives\n",
    "                      (Derivative(n, x, x), symbols('n_xx')),\\\n",
    "                      (Derivative(n, x, y), symbols('n_xy')),\\\n",
    "                      (Derivative(n, y, y), symbols('n_yy')),\\\n",
    "                      # First derivatives\n",
    "                      (Derivative(n, y), symbols('n_y')),\\\n",
    "                      (Derivative(n, x), symbols('n_x')),\\\n",
    "                      # Non-derivatives\n",
    "                      (n, symbols('n')),\\\n",
    "                     ])"
   ]
  },
  {
   "cell_type": "code",
   "execution_count": null,
   "metadata": {
    "collapsed": true
   },
   "outputs": [],
   "source": [
    "# Rewrite the trigonometry\n",
    "theSum = theSum.subs([\\\n",
    "                      # Trigonometry\n",
    "                      (x**2+y**2, rho),\\\n",
    "                      (x, rho*cos(theta)),\\\n",
    "                      (y, rho*sin(theta)),\\\n",
    "                     ])"
   ]
  },
  {
   "cell_type": "code",
   "execution_count": null,
   "metadata": {
    "collapsed": false
   },
   "outputs": [],
   "source": [
    "display(theSum.expand())"
   ]
  },
  {
   "cell_type": "code",
   "execution_count": null,
   "metadata": {
    "collapsed": false
   },
   "outputs": [],
   "source": [
    "theSum = theSum.simplify()\n",
    "display(theSum)"
   ]
  },
  {
   "cell_type": "code",
   "execution_count": null,
   "metadata": {
    "collapsed": true
   },
   "outputs": [],
   "source": []
  }
 ],
 "metadata": {
  "kernelspec": {
   "display_name": "Python 3",
   "language": "python",
   "name": "python3"
  },
  "language_info": {
   "codemirror_mode": {
    "name": "ipython",
    "version": 3
   },
   "file_extension": ".py",
   "mimetype": "text/x-python",
   "name": "python",
   "nbconvert_exporter": "python",
   "pygments_lexer": "ipython3",
   "version": "3.5.1"
  }
 },
 "nbformat": 4,
 "nbformat_minor": 0
}
