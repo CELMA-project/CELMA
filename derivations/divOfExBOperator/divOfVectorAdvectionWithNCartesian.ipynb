{
 "cells": [
  {
   "cell_type": "markdown",
   "metadata": {},
   "source": [
    "# Calculation of the divergence of the advection of the perpendicular gradient of the potential times density using cartesian coordinates\n",
    "\n",
    "This meant as a check that what is calculated in [divOfVectorAdvectionWithN](divOfVectorAdvectionWithN.ipynb) is correct.\n",
    "\n",
    "We would here like to calculate\n",
    "$$\n",
    "\\nabla\\cdot\\left(\\mathbf{u}_E\\cdot\\nabla\\left[n \\nabla_\\perp\\phi \\right]\\right)\n",
    "$$\n",
    "and check that this in fact is equal to\n",
    "$$\n",
    "\\frac{1}{\\rho}\\{\\phi, \\Omega^D\\} + \\frac{1}{2\\rho}\\{\\mathbf{u}_E\\cdot\\mathbf{u}_E, n\\}\n",
    "$$\n",
    "\n",
    "We do so by calculating everything in cartesian coordinates, and then map the result to cylindrical coordinates"
   ]
  },
  {
   "cell_type": "code",
   "execution_count": 1,
   "metadata": {
    "collapsed": false
   },
   "outputs": [],
   "source": [
    "from IPython.display import display\n",
    "from sympy import symbols, simplify, sympify, expand\n",
    "from sympy import init_printing\n",
    "from sympy import Eq, Function\n",
    "from sympy import sin, cos\n",
    "\n",
    "init_printing()"
   ]
  },
  {
   "cell_type": "markdown",
   "metadata": {},
   "source": [
    "We start by noting that\n",
    "\n",
    "$$\n",
    "\\nabla\\cdot\\left(\\mathbf{u}_E\\cdot\\nabla\\left[n \\nabla_\\perp\\phi \\right]\\right)\n",
    "=\n",
    "\\nabla_\\perp\\cdot\\left(\\mathbf{u}_E\\cdot\\nabla_\\perp\\left[n \\nabla_\\perp\\phi \\right]\\right)\n",
    "$$\n",
    "\n",
    "where\n",
    "\n",
    "$$\n",
    "\\nabla_\\perp f = \\boldsymbol{\\hat{\\rho}} \\partial_\\rho f + \\boldsymbol{\\hat{\\theta}} \\frac{1}{\\rho}\\partial_\\theta f\n",
    "$$\n",
    "\n",
    "and\n",
    "\n",
    "\\begin{align*}\n",
    "  \\boldsymbol{\\hat{\\rho}} &= \\cos(\\theta)\\mathbf{\\hat{x}} - \\sin(\\theta)\\mathbf{\\hat{y}}\\\\\n",
    "  \\boldsymbol{\\hat{\\theta}} &= \\sin(\\theta)\\mathbf{\\hat{x}} + \\cos(\\theta)\\mathbf{\\hat{y}}\n",
    "\\end{align*}\n",
    "\n",
    "\n",
    "(see for example Appendix in Griffiths for details).\n",
    "\n",
    "Further, we have that\n",
    "\n",
    "\\begin{align*}\n",
    "  x =& \\rho\\cos(\\theta) \\\\\n",
    "  y =& \\rho\\sin(\\theta)\n",
    "\\end{align*}\n",
    "\n",
    "which gives\n",
    "\n",
    "\\begin{align*}\n",
    "  \\frac{\\partial}{\\partial \\rho}f(x(\\rho,\\theta), y(\\rho,\\theta))\n",
    "  =&\n",
    "     \\frac{\\partial f}{\\partial x} \\frac{\\partial x}{\\partial \\rho}\n",
    "   + \\frac{\\partial f}{\\partial y} \\frac{\\partial y}{\\partial \\rho}\n",
    "  =\n",
    "     \\frac{\\partial f}{\\partial x} \\cos(\\theta)\n",
    "   + \\frac{\\partial f}{\\partial y} \\sin(\\theta)\n",
    "  \\\\\n",
    "  \\frac{\\partial}{\\partial \\theta}f(x(\\rho,\\theta), y(\\rho,\\theta))\n",
    "  =&\n",
    "     \\frac{\\partial f}{\\partial x} \\frac{\\partial x}{\\partial \\theta}\n",
    "   + \\frac{\\partial f}{\\partial y} \\frac{\\partial y}{\\partial \\theta}\n",
    "  =\n",
    "   - \\frac{\\partial f}{\\partial x}\\rho\\sin(\\theta)\n",
    "   + \\frac{\\partial f}{\\partial y}\\rho\\cos(\\theta)\n",
    "\\end{align*}\n",
    "\n",
    "This gives\n",
    "\n",
    "\\begin{align*}\n",
    "  \\nabla_\\perp f\n",
    "  =&\n",
    "  (\\cos(\\theta)\\mathbf{\\hat{x}} - \\sin(\\theta)\\mathbf{\\hat{y}}) \n",
    "  \\partial_\\rho \n",
    "  f\n",
    "  + \n",
    "  (\\sin(\\theta)\\mathbf{\\hat{x}} + \\cos(\\theta)\\mathbf{\\hat{y}})\n",
    "  \\frac{1}{\\rho}\n",
    "  \\partial_\\theta \n",
    "  f\n",
    "  \\\\\n",
    "  =&\n",
    "  (\\cos(\\theta)\\mathbf{\\hat{x}} - \\sin(\\theta)\\mathbf{\\hat{y}}) \n",
    "  \\left(\n",
    "      \\cos(\\theta)\\frac{\\partial f}{\\partial x}\n",
    "   +  \\sin(\\theta)\\frac{\\partial f}{\\partial y}\n",
    "   \\right)\n",
    "  \\\\&+ \n",
    "  (\\sin(\\theta)\\mathbf{\\hat{x}} + \\cos(\\theta)\\mathbf{\\hat{y}})\n",
    "  \\frac{1}{\\rho}\n",
    "  \\left(\n",
    "   - \\rho\\sin(\\theta)\\frac{\\partial f}{\\partial x}\n",
    "   + \\rho\\cos(\\theta)\\frac{\\partial f}{\\partial y}\n",
    "  \\right)\n",
    "\\end{align*}"
   ]
  },
  {
   "cell_type": "code",
   "execution_count": 12,
   "metadata": {
    "collapsed": false
   },
   "outputs": [],
   "source": [
    "YOU ARE HERE: Simplify the gradient, and make a function out of it. Scalar quatities should give the same in all coordinate systems"
   ]
  },
  {
   "cell_type": "markdown",
   "metadata": {},
   "source": [
    "Further, we have that\n",
    "\n",
    "$$\n",
    "\\mathbf{u}_E = \\frac{-\\nabla_\\perp \\phi \\times \\mathbf{\\hat{b}}}{B}\n",
    "= \\mathbf{\\hat{z}} \\times \\nabla_\\perp \\phi \n",
    "=\n",
    "\\begin{vmatrix}\n",
    "    \\boldsymbol{\\hat{\\rho}} & \\mathbf{\\hat{z}} & \\boldsymbol{\\hat{\\theta}}\\\\\n",
    "    0 & 1 & 0\\\\\n",
    "    \\partial_\\rho \\phi & 0 & \\frac{1}{\\rho} \\partial_\\theta \\phi\n",
    "\\end{vmatrix}\n",
    "=\n",
    "\\frac{1}{\\rho}\\partial_\\theta\\phi \\boldsymbol{\\hat{\\rho}} - \\partial_\\rho\\phi \\boldsymbol{\\hat{\\theta}}\n",
    "$$\n",
    "\n",
    "where $B$ is normalized to $1$\n",
    "\n",
    "Notice the left-handedness of the system (due to BOUT++). This gives\n",
    "\n",
    "$$\n",
    "\\mathbf{u}_E\\cdot\\nabla_\\perp \n",
    "= \\frac{1}{\\rho}\\partial_\\theta\\phi \\partial_\\rho - \\frac{1}{\\rho}\\partial_\\rho\\phi \\partial_\\theta\n",
    "= \\frac{1}{\\rho}\\{\\phi, \\cdot\\}\n",
    "$$\n",
    "\n",
    "We can thus calculate the $\\boldsymbol{\\hat{\\rho}}$ and the $\\boldsymbol{\\hat{\\theta}}$ components of $\\mathbf{u}_E\\cdot\\nabla_\\perp\\left(n \\nabla_\\perp\\phi \\right)$ independently, we will do so in Cartesian coordinates."
   ]
  },
  {
   "cell_type": "markdown",
   "metadata": {},
   "source": [
    "This means that the Poisson bracket $\\{a,b\\}$ can be written in Cartesian coordinates as\n",
    "\n",
    "\\begin{align*}\n",
    "  \\{a,b\\}\n",
    "  =&\n",
    "  (\\partial_\\theta a)( \\partial_\\rho b) - (\\partial_\\rho a)( \\partial_\\theta b)\\\\\n",
    "  =&\n",
    "  \\left[\n",
    "   - \\rho\\sin(\\theta) \\frac{\\partial a}{\\partial x} \n",
    "   + \\rho\\cos(\\theta) \\frac{\\partial a}{\\partial y} \n",
    "  \\right]\n",
    "  \\left[\n",
    "     \\cos(\\theta) \\frac{\\partial b}{\\partial x} \n",
    "   + \\sin(\\theta) \\frac{\\partial b}{\\partial y} \n",
    "  \\right]\n",
    "  - \n",
    "  \\left[\n",
    "     \\cos(\\theta) \\frac{\\partial a}{\\partial x} \n",
    "   + \\sin(\\theta) \\frac{\\partial a}{\\partial y} \n",
    "  \\right]\n",
    "  \\left[\n",
    "   - \\rho\\sin(\\theta) \\frac{\\partial b}{\\partial x} \n",
    "   + \\rho\\cos(\\theta) \\frac{\\partial b}{\\partial y} \n",
    "  \\right]\n",
    "  \\\\\n",
    "  =&\n",
    "  \\rho\n",
    "  \\left(\n",
    "  \\left[\n",
    "   - \\sin(\\theta) \\frac{\\partial a}{\\partial x} \n",
    "   + \\cos(\\theta) \\frac{\\partial a}{\\partial y} \n",
    "  \\right]\n",
    "  \\left[\n",
    "     \\cos(\\theta) \\frac{\\partial b}{\\partial x} \n",
    "   + \\sin(\\theta) \\frac{\\partial b}{\\partial y} \n",
    "  \\right]\n",
    "  - \n",
    "  \\left[\n",
    "     \\cos(\\theta) \\frac{\\partial a}{\\partial x} \n",
    "   + \\sin(\\theta) \\frac{\\partial a}{\\partial y} \n",
    "  \\right]\n",
    "  \\left[\n",
    "   - \\sin(\\theta) \\frac{\\partial b}{\\partial x} \n",
    "   + \\cos(\\theta) \\frac{\\partial b}{\\partial y} \n",
    "  \\right]\n",
    "  \\right)\n",
    "\\end{align*}\n",
    "\n",
    "We investigate if this can be simplified"
   ]
  },
  {
   "cell_type": "code",
   "execution_count": 6,
   "metadata": {
    "collapsed": false
   },
   "outputs": [],
   "source": [
    "rho, theta = symbols('rho, theta')\n",
    "x, y = symbols('x, y')\n",
    "a =  Function('a')(x, y)\n",
    "b =  Function('b')(x, y)"
   ]
  },
  {
   "cell_type": "code",
   "execution_count": 11,
   "metadata": {
    "collapsed": false
   },
   "outputs": [],
   "source": [
    "poissonAB =\\\n",
    "rho*\\\n",
    "(\\\n",
    "(\\\n",
    "   - sin(theta)*a.diff(x)\\\n",
    "   + cos(theta)*a.diff(y)\\\n",
    ")*\\\n",
    "(\\\n",
    "     cos(theta)*b.diff(x)\\\n",
    "   + sin(theta)*b.diff(y)\\\n",
    ")\\\n",
    "  -\\\n",
    "(\\\n",
    "     cos(theta)*a.diff(x)\\\n",
    "   + sin(theta)*a.diff(y)\\\n",
    ")*\\\n",
    "(\\\n",
    "   - sin(theta)*b.diff(x)\\\n",
    "   + cos(theta)*b.diff(y)\\\n",
    ")\\\n",
    ")\n",
    "print(\"Native\")\n",
    "display(poissonAB)\n",
    "print(\"Simplified\")\n",
    "display(poissonAB.simplify())"
   ]
  },
  {
   "cell_type": "markdown",
   "metadata": {},
   "source": [
    "Not suprisingly, this collapsed to the standard Poisson bracket. Notice that the prefactor $\\rho$ which we got from writing $\\{a,b\\}$ can be written in Cartesian coordinates, cancels $\\frac{1}{\\rho}$ in front of the Poisson bracket, which we got from the $\\mathbf{u}_E\\cdot\\nabla_\\perp$ part.\n",
    "\n",
    "Let us now calculate $\\mathbf{u}_E\\cdot\\nabla_\\perp\\left(n \\partial_\\rho\\phi \\right)$ and $\\mathbf{u}_E\\cdot\\nabla_\\perp\\left(n \\partial_\\rho\\phi \\right)$ "
   ]
  },
  {
   "cell_type": "code",
   "execution_count": 8,
   "metadata": {
    "collapsed": true
   },
   "outputs": [],
   "source": [
    "n   =  Function('n')(x, y)\n",
    "phi =  Function('phi')(x, y)"
   ]
  },
  {
   "cell_type": "code",
   "execution_count": 9,
   "metadata": {
    "collapsed": true
   },
   "outputs": [],
   "source": [
    "def poisson(a,b):\n",
    "    \"\"\"Calculates the Poisson bracket in cartesian coordinates\"\"\"\n",
    "    return a.diff(y)*b.diff(x) - a.diff(x)*b.diff(y)"
   ]
  },
  {
   "cell_type": "code",
   "execution_count": null,
   "metadata": {
    "collapsed": true
   },
   "outputs": [],
   "source": [
    "vector = (poisson(phi, n*phi.diff))"
   ]
  }
 ],
 "metadata": {
  "kernelspec": {
   "display_name": "Python 3",
   "language": "python",
   "name": "python3"
  },
  "language_info": {
   "codemirror_mode": {
    "name": "ipython",
    "version": 3
   },
   "file_extension": ".py",
   "mimetype": "text/x-python",
   "name": "python",
   "nbconvert_exporter": "python",
   "pygments_lexer": "ipython3",
   "version": "3.5.1"
  }
 },
 "nbformat": 4,
 "nbformat_minor": 0
}
