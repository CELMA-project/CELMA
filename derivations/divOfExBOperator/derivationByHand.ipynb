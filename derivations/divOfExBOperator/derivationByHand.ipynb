{
 "cells": [
  {
   "cell_type": "markdown",
   "metadata": {},
   "source": [
    "# Exact solution used in MES runs\n",
    "\n",
    "\n",
    "We would like to MES the operation (in a cylindrical geometry)\n",
    "\n",
    "$$\n",
    "\\nabla \\cdot \\left(\\mathbf{u}_E\\cdot\\nabla \\left[\\frac{\\nabla_\\perp \\phi}{B}n\\right]\\right)\n",
    "$$\n",
    "\n",
    "As we have a homogenenous $B$-field, we have normalized it out, and remain with\n",
    "\n",
    "$$\n",
    "\\nabla \\cdot \\left(\\mathbf{u}_E\\cdot\\nabla\\left[n\\nabla_\\perp \\phi\\right]\\right)\n",
    "$$"
   ]
  },
  {
   "cell_type": "code",
   "execution_count": 1,
   "metadata": {},
   "outputs": [],
   "source": [
    "%matplotlib notebook\n",
    "\n",
    "from IPython.display import display\n",
    "\n",
    "from sympy import init_printing\n",
    "from sympy import S, Function, Derivative, Eq\n",
    "from sympy import symbols, simplify, sympify, collect, expand\n",
    "\n",
    "from boutdata.mms import x, y, z, t\n",
    "\n",
    "import os, sys\n",
    "# If we add to sys.path, then it must be an absolute path\n",
    "common_dir = os.path.abspath(\"./../../common/\")\n",
    "# Sys path is a list of system paths\n",
    "sys.path.append(common_dir)\n",
    "from CELMAPy.MES.mesGenerator import get_metric\n",
    "\n",
    "init_printing()"
   ]
  },
  {
   "cell_type": "markdown",
   "metadata": {},
   "source": [
    "## Initialize"
   ]
  },
  {
   "cell_type": "code",
   "execution_count": 2,
   "metadata": {},
   "outputs": [],
   "source": [
    "metric = get_metric()\n",
    "phi = Function('phi')(x,z)\n",
    "n   = Function('n')  (x,z)"
   ]
  },
  {
   "cell_type": "code",
   "execution_count": 3,
   "metadata": {
    "collapsed": true
   },
   "outputs": [],
   "source": [
    "def DDX(f):\n",
    "    return Derivative(f, x)\n",
    "\n",
    "def DDZ(f):\n",
    "    return Derivative(f, z)"
   ]
  },
  {
   "cell_type": "markdown",
   "metadata": {},
   "source": [
    "## Define the variables"
   ]
  },
  {
   "cell_type": "code",
   "execution_count": 4,
   "metadata": {
    "collapsed": true
   },
   "outputs": [],
   "source": [
    "# Initialization\n",
    "the_vars = {}"
   ]
  },
  {
   "cell_type": "markdown",
   "metadata": {},
   "source": [
    "### Define functions\n",
    "\n",
    "One can show that in cylindrical geometry\n",
    "\n",
    "$$\\mathbf{u}_E\\cdot\\nabla f = \\frac{1}{J}(\\partial_\\theta \\phi \\partial_\\rho f - \\partial_\\rho \\phi \\partial_\\theta f)$$\n",
    "\n",
    "Further on, we have that\n",
    "\n",
    "$$\n",
    "\\partial_\\rho   \\mathbf{e}^\\rho = 0\\\\\n",
    "\\partial_\\theta \\mathbf{e}^\\rho = \\rho\\mathbf{e}^\\theta\\\\\n",
    "\\partial_\\rho   \\mathbf{e}^\\theta = -\\frac{\\mathbf{e}^\\theta}{\\rho}\\\\\n",
    "\\partial_\\theta \\mathbf{e}^\\theta = -\\frac{\\mathbf{e}^\\rho}{\\rho}\n",
    "$$\n",
    "\n",
    "and that\n",
    "\n",
    "$$\n",
    "n\\nabla_\\perp \\phi =\n",
    "\\mathbf{e}^\\rho n \\partial_\\rho \\phi + \\mathbf{e}^\\theta n \\partial_\\theta \\phi\n",
    "$$"
   ]
  },
  {
   "cell_type": "markdown",
   "metadata": {},
   "source": [
    "This means that one of the components can be written\n",
    "\n",
    "$$\n",
    "n\\nabla_\\perp \\phi =\\mathbf{e}^j n \\partial_j \\phi\n",
    "$$\n",
    "\n",
    "such that\n",
    "\n",
    "\n",
    "$$\n",
    "\\partial_i \\left( n\\nabla_\\perp \\phi \\right) =\n",
    "  \\mathbf{e}^j\\partial_i \\left(n \\partial_j \\phi \\right)\n",
    "+ n \\partial_j \\phi \\partial_i \\left(\\mathbf{e}^j\\right)\n",
    "$$\n",
    "\n",
    "This gives"
   ]
  },
  {
   "cell_type": "markdown",
   "metadata": {},
   "source": [
    "\\begin{align}\n",
    "\\partial_\\rho \\left( \\left[ n\\nabla_\\perp \\phi \\right]_\\rho \\right) \n",
    "&=\n",
    "  \\mathbf{e}^\\rho \\partial_\\rho \\left(n \\partial_\\rho \\phi \\right)\n",
    "+ n \\partial_\\rho \\phi \\partial_\\rho \\left(\\mathbf{e}^\\rho\\right)\n",
    "\\\\\n",
    "&=\n",
    "  \\mathbf{e}^\\rho \\partial_\\rho \\left(n \\partial_\\rho \\phi \\right)\n",
    "\\end{align}\n",
    "\n",
    "and"
   ]
  },
  {
   "cell_type": "markdown",
   "metadata": {},
   "source": [
    "\\begin{align}\n",
    "\\partial_\\rho \\left( \\left[ n\\nabla_\\perp \\phi \\right]_\\theta \\right) \n",
    "&=\n",
    "  \\mathbf{e}^\\theta \\partial_\\rho \\left(n \\partial_\\theta \\phi \\right)\n",
    "+ n \\partial_\\theta \\phi \\partial_\\rho \\left(\\mathbf{e}^\\theta\\right)\n",
    "\\\\\n",
    "&=\n",
    "  \\mathbf{e}^\\theta \\partial_\\rho \\left(n \\partial_\\theta \\phi \\right)\n",
    "- \\frac{\\mathbf{e}^\\theta}{\\rho}n \\partial_\\theta \\phi \\partial_\\rho\n",
    "\\end{align}\n",
    "\n",
    "so that"
   ]
  },
  {
   "cell_type": "markdown",
   "metadata": {},
   "source": [
    "\\begin{align}\n",
    "\\partial_\\rho \\left( n\\nabla_\\perp \\phi \\right) \n",
    "&=\n",
    "  \\mathbf{e}^\\rho \\partial_\\rho \\left(n \\partial_\\rho \\phi \\right)\n",
    "+ \\mathbf{e}^\\theta \\partial_\\rho \\left(n \\partial_\\theta \\phi \\right)\n",
    "- \\frac{\\mathbf{e}^\\theta}{\\rho}n \\partial_\\theta \\phi\n",
    "\\\\\n",
    "&=\n",
    "  \\mathbf{e}^\\rho\n",
    "  \\left(\n",
    "    \\partial_\\rho \\left(n \\partial_\\rho \\phi \\right)\n",
    "  \\right)\n",
    "+ \\mathbf{e}^\\theta\n",
    "  \\left(\n",
    "      \\partial_\\rho \\left(n \\partial_\\theta \\phi \\right)\n",
    "    - \\frac{1}{\\rho}n \\partial_\\theta \\phi\n",
    "  \\right)\n",
    "\\end{align}"
   ]
  },
  {
   "cell_type": "markdown",
   "metadata": {},
   "source": [
    "Which means that\n",
    "\n",
    "\\begin{align}\n",
    "\\frac{1}{J}\\partial_\\theta \\phi \\partial_\\rho \\left( n\\nabla_\\perp \\phi \\right) \n",
    "=\n",
    "  \\mathbf{e}^\\rho\n",
    "  \\frac{1}{J}\\partial_\\theta \\phi \n",
    "  \\left(\n",
    "    \\partial_\\rho \\left(n \\partial_\\rho \\phi \\right)\n",
    "  \\right)\n",
    "+ \\mathbf{e}^\\theta \n",
    "  \\frac{1}{J}\\partial_\\theta \\phi \n",
    "  \\left(\n",
    "    \\partial_\\rho \\left(n \\partial_\\theta \\phi \\right)\n",
    "  - \\frac{1}{\\rho}n \\partial_\\theta \\phi\n",
    "  \\right)\n",
    "\\end{align}\n",
    "\n",
    "Further on, we have that"
   ]
  },
  {
   "cell_type": "markdown",
   "metadata": {},
   "source": [
    "\\begin{align}\n",
    "\\partial_\\theta \\left( \\left[ n\\nabla_\\perp \\phi \\right]_\\rho \\right) \n",
    "&=\n",
    "  \\mathbf{e}^\\rho \\partial_\\theta \\left(n \\partial_\\rho \\phi \\right)\n",
    "+ n \\partial_\\rho \\phi \\partial_\\theta \\left(\\mathbf{e}^\\rho\\right)\n",
    "\\\\\n",
    "&=\n",
    "  \\mathbf{e}^\\rho \\partial_\\theta \\left(n \\partial_\\rho \\phi \\right)\n",
    "+ \\rho\\mathbf{e}^\\theta n \\partial_\\rho \\phi\n",
    "\\end{align}\n",
    "\n",
    "and"
   ]
  },
  {
   "cell_type": "markdown",
   "metadata": {},
   "source": [
    "\\begin{align}\n",
    "\\partial_\\theta \\left( \\left[ n\\nabla_\\perp \\phi \\right]_\\theta \\right) \n",
    "&=\n",
    "  \\mathbf{e}^\\theta \\partial_\\theta \\left(n \\partial_\\theta \\phi \\right)\n",
    "+ n \\partial_\\theta \\phi \\partial_\\theta \\left(\\mathbf{e}^\\theta\\right)\n",
    "\\\\\n",
    "&=\n",
    "  \\mathbf{e}^\\theta \\partial_\\theta \\left(n \\partial_\\theta \\phi \\right)\n",
    "- \\frac{\\mathbf{e}^\\rho }{\\rho} n \\partial_\\theta \\phi\n",
    "\\end{align}\n",
    "\n",
    "so that"
   ]
  },
  {
   "cell_type": "markdown",
   "metadata": {},
   "source": [
    "\\begin{align}\n",
    "\\partial_\\theta \\left( n\\nabla_\\perp \\phi \\right) \n",
    "&=\n",
    "  \\mathbf{e}^\\rho \\partial_\\theta \\left(n \\partial_\\rho \\phi \\right)\n",
    "+ \\mathbf{e}^\\theta \\rho n \\partial_\\rho \\phi\n",
    "+ \\mathbf{e}^\\theta \\partial_\\theta \\left(n \\partial_\\theta \\phi \\right)\n",
    "- \\frac{\\mathbf{e}^\\rho}{\\rho} n \\partial_\\theta \\phi\n",
    "\\\\\n",
    "&=\n",
    "  \\mathbf{e}^\\rho\n",
    "  \\left(\n",
    "     \\partial_\\theta \\left(n \\partial_\\rho \\phi \\right)\n",
    "   - \\frac{1}{\\rho} n \\partial_\\theta \\phi\n",
    "  \\right)\n",
    "+ \\mathbf{e}^\\theta\n",
    "  \\left(\n",
    "      \\rho n \\partial_\\rho \\phi\n",
    "    + \\partial_\\theta \\left(n \\partial_\\theta \\phi \\right)\n",
    "  \\right)\n",
    "\\end{align}"
   ]
  },
  {
   "cell_type": "markdown",
   "metadata": {},
   "source": [
    "Which means that\n",
    "\n",
    "\\begin{align}\n",
    "\\frac{1}{J}\\partial_\\rho \\phi \\partial_\\theta \\left( n\\nabla_\\perp \\phi \\right) \n",
    "=\n",
    "  \\mathbf{e}^\\rho\n",
    "  \\frac{1}{J}\\partial_\\rho \\phi\n",
    "  \\left(\n",
    "     \\partial_\\theta \\left(n \\partial_\\rho \\phi \\right)\n",
    "   - \\frac{1}{\\rho} n \\partial_\\theta \\phi\n",
    "  \\right)\n",
    "+ \\mathbf{e}^\\theta \n",
    "  \\frac{1}{J}\\partial_\\rho \\phi\n",
    "  \\left(\n",
    "      \\rho n \\partial_\\rho \\phi\n",
    "    + \\partial_\\theta \\left(n \\partial_\\theta \\phi \\right)\n",
    "  \\right)\n",
    "\\end{align}"
   ]
  },
  {
   "cell_type": "markdown",
   "metadata": {},
   "source": [
    "Collecting elements gives"
   ]
  },
  {
   "cell_type": "markdown",
   "metadata": {},
   "source": [
    "\\begin{align}\n",
    "\\mathbf{u}_E\\cdot\\nabla \\left( n\\nabla_\\perp \\phi \\right)\n",
    "=&\n",
    "\\mathbf{e}^\\rho\n",
    "\\frac{1}{J}\n",
    "\\left[\n",
    "  \\partial_\\theta \\phi \n",
    "  \\partial_\\rho \\left(n \\partial_\\rho \\phi \\right) \n",
    "-\n",
    "   \\partial_\\rho \\phi\n",
    "   \\left(\n",
    "     \\partial_\\theta \\left(n \\partial_\\rho \\phi \\right)\n",
    "   - \\frac{1}{\\rho} n \\partial_\\theta \\phi\n",
    "  \\right)\n",
    "\\right]\n",
    "\\\\&\n",
    "+ \n",
    "\\mathbf{e}^\\theta \n",
    "\\frac{1}{J}\n",
    "\\left[\n",
    "  \\partial_\\theta \\phi \n",
    "    \\left(\n",
    "      \\partial_\\rho \\left(n \\partial_\\theta \\phi \\right)\n",
    "    - \\frac{1}{\\rho}n \\partial_\\theta \\phi\n",
    "    \\right) \n",
    "-\n",
    "  \\partial_\\rho \\phi\n",
    "    \\left(\n",
    "        \\rho n \\partial_\\rho \\phi\n",
    "      + \\partial_\\theta \\left(n \\partial_\\theta \\phi \\right)\n",
    "    \\right)\n",
    "\\right]\n",
    "\\end{align}"
   ]
  },
  {
   "cell_type": "code",
   "execution_count": 5,
   "metadata": {},
   "outputs": [],
   "source": [
    "rho_element = (1/metric.J)*(\n",
    "                              DDZ(phi)*\n",
    "                              DDX(n*DDX(phi))\n",
    "                            -\n",
    "                              DDX(phi)*\n",
    "                              (\n",
    "                                DDZ(n*DDX(phi))\n",
    "                                - (1/metric.J)*n*DDZ(phi)\n",
    "                              )\n",
    "                            )\n",
    "display(Eq(symbols('v_rho'), rho_element.doit()))"
   ]
  },
  {
   "cell_type": "code",
   "execution_count": 6,
   "metadata": {},
   "outputs": [],
   "source": [
    "theta_element = (1/metric.J)*(\n",
    "                        DDZ(phi)*\n",
    "                        (\n",
    "                               DDX(n * DDZ(phi))\n",
    "                            - (1/metric.J) * n * DDZ(phi)\n",
    "                        ) \n",
    "                        -\n",
    "                        DDX(phi)*\n",
    "                        (\n",
    "                            metric.J*n*DDX(phi)\n",
    "                            + DDZ(n*DDZ(phi)) \n",
    "                        )\n",
    "                    )\n",
    "\n",
    "display(Eq(symbols('v_theta'), theta_element.doit()))"
   ]
  },
  {
   "cell_type": "markdown",
   "metadata": {},
   "source": [
    "We have that\n",
    "\n",
    "$$\n",
    "\\nabla \\cdot \\mathbf{A} = \\frac{1}{J}\\partial_i (J A^i)\n",
    "$$\n",
    "\n",
    "And that \n",
    "\n",
    "$$\n",
    "A^i = g^{ij}A_j\n",
    "$$\n",
    "\n",
    "Since\n",
    "\n",
    "$$\n",
    "g^{ij} = 0 \\iff i\\neq j\\\\\n",
    "g^{\\rho\\rho} =1 \\\\\n",
    "g^{\\theta\\theta} = \\frac{1}{\\rho^2}\n",
    "$$\n",
    "\n",
    "This means that\n",
    "\n",
    "$$\n",
    "\\nabla \\cdot \\mathbf{A}_\\perp\n",
    "=   \\frac{1}{J}\\partial_i \\left(Jg^{ik}A_k\\right)\n",
    "=   \\frac{1}{\\rho}\\partial_\\rho \\left(\\rho A_\\rho\\right)\n",
    "  + \\frac{1}{\\rho}\\partial_\\theta \\left(\\frac{1}{\\rho}A_\\rho\\right)\n",
    "$$\n",
    "\n",
    "so that\n",
    "\n",
    "$$\n",
    "\\nabla \\cdot \\left(\\mathbf{u}_E\\cdot\\nabla\\left[n\\nabla_\\perp \\phi\\right]\\right)\n",
    "$$\n",
    "\n",
    "can be written"
   ]
  },
  {
   "cell_type": "code",
   "execution_count": 7,
   "metadata": {},
   "outputs": [],
   "source": [
    "S = (1/metric.J)*(\n",
    "      DDX(metric.J*rho_element)\n",
    "    + DDZ((1/metric.J)*theta_element)\n",
    "    )\n",
    "\n",
    "display(Eq(symbols('S'), S))"
   ]
  },
  {
   "cell_type": "code",
   "execution_count": 8,
   "metadata": {},
   "outputs": [],
   "source": [
    "S = simplify(S.doit())\n",
    "\n",
    "display(Eq(symbols('S'), S))"
   ]
  },
  {
   "cell_type": "markdown",
   "metadata": {},
   "source": [
    "Well, that is a mess, we should collect it another manner"
   ]
  },
  {
   "cell_type": "code",
   "execution_count": 9,
   "metadata": {},
   "outputs": [],
   "source": [
    "strS = str(S)\n",
    "\n",
    "# phi x derivatives\n",
    "strS = strS.replace('Derivative(phi(x, z), x)', 'phi_x')\n",
    "strS = strS.replace('Derivative(phi(x, z), x, x)', 'phi_xx')\n",
    "strS = strS.replace('Derivative(phi(x, z), x, x, x)', 'phi_xxx')\n",
    "# phi z derivatives\n",
    "strS = strS.replace('Derivative(phi(x, z), z)', 'phi_z')\n",
    "strS = strS.replace('Derivative(phi(x, z), z, z)', 'phi_zz')\n",
    "strS = strS.replace('Derivative(phi(x, z), z, z, z)', 'phi_zzz')\n",
    "# phi mixed derivatives\n",
    "strS = strS.replace('Derivative(phi(x, z), x, z)', 'phi_xz')\n",
    "strS = strS.replace('Derivative(phi(x, z), x, z, z)', 'phi_xzz')\n",
    "strS = strS.replace('Derivative(phi(x, z), x, x, z)', 'phi_xxz')\n",
    "# Non-derivatives\n",
    "strS = strS.replace('phi(x, z)', 'phi')\n",
    "\n",
    "\n",
    "# n x derivatives\n",
    "strS = strS.replace('Derivative(n(x, z), x)', 'n_x')\n",
    "strS = strS.replace('Derivative(n(x, z), x, x)', 'n_xx')\n",
    "# n z derivatives\n",
    "strS = strS.replace('Derivative(n(x, z), z)', 'n_z')\n",
    "strS = strS.replace('Derivative(n(x, z), z, z)', 'n_zz')\n",
    "# n mixed derivatives\n",
    "strS = strS.replace('Derivative(n(x, z), x, z)', 'n_xz')\n",
    "# Non-derivatives\n",
    "strS = strS.replace('n(x, z)', 'n')\n",
    "\n",
    "newS = sympify(strS)\n",
    "display(newS)"
   ]
  },
  {
   "cell_type": "code",
   "execution_count": 10,
   "metadata": {},
   "outputs": [],
   "source": [
    "display(simplify(expand(newS)))"
   ]
  },
  {
   "cell_type": "markdown",
   "metadata": {},
   "source": [
    "## Printing for comparison"
   ]
  },
  {
   "cell_type": "code",
   "execution_count": 11,
   "metadata": {},
   "outputs": [],
   "source": [
    "display(Eq(symbols('S'), expand(S)))"
   ]
  },
  {
   "cell_type": "code",
   "execution_count": 12,
   "metadata": {
    "scrolled": true
   },
   "outputs": [],
   "source": [
    "display(Eq(symbols('S_new'), expand(newS)))"
   ]
  },
  {
   "cell_type": "markdown",
   "metadata": {},
   "source": [
    "## Port to BOUT++"
   ]
  },
  {
   "cell_type": "code",
   "execution_count": 13,
   "metadata": {},
   "outputs": [],
   "source": [
    "newerS = collect(newS, symbols('n, phi_x, phi_z'), exact=True)\n",
    "display(newerS)"
   ]
  },
  {
   "cell_type": "code",
   "execution_count": 14,
   "metadata": {},
   "outputs": [],
   "source": [
    "print(newerS)"
   ]
  },
  {
   "cell_type": "code",
   "execution_count": 15,
   "metadata": {},
   "outputs": [],
   "source": [
    "# Manual simplification (copied from manual_simplification.txt)\n",
    "manSim = (sympify(\\\n",
    "'(  n*(-phi_x*(phi_xxz*x**3  + phi_xz*x**2  + phi_z*x   + phi_zzz*x) + phi_z*(phi_xx*x**2 + phi_xxx*x**3 + phi_xzz*x - 2*phi_zz)) - phi_x**2*(n_xz*x**3 + n_z*x**2) + phi_z**2*(n_xz*x - n_z) + phi_x*(  phi_z*(n_x*x**2 + n_xx*x**3- n_zz*x) - 2*n_z*(phi_xx*x**3 + phi_zz*x)) + 2*n_x*phi_z*(phi_xx*x**3 + phi_zz*x))/x**4'\n",
    "    ))\n",
    "display(manSim)"
   ]
  },
  {
   "cell_type": "code",
   "execution_count": 16,
   "metadata": {},
   "outputs": [],
   "source": [
    "display(expand(newerS)- expand(manSim))"
   ]
  }
 ],
 "metadata": {
  "kernelspec": {
   "display_name": "Python [default]",
   "language": "python",
   "name": "python3"
  },
  "language_info": {
   "codemirror_mode": {
    "name": "ipython",
    "version": 3
   },
   "file_extension": ".py",
   "mimetype": "text/x-python",
   "name": "python",
   "nbconvert_exporter": "python",
   "pygments_lexer": "ipython3",
   "version": "3.5.3"
  }
 },
 "nbformat": 4,
 "nbformat_minor": 1
}
