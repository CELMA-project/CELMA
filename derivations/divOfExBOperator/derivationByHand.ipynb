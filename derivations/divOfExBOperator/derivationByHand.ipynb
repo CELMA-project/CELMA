{
 "cells": [
  {
   "cell_type": "markdown",
   "metadata": {},
   "source": [
    "# Exact solution used in MES runs\n",
    "\n",
    "\n",
    "We would like to MES the operation (in a cylindrical geometry)\n",
    "\n",
    "$$\n",
    "\\nabla \\cdot \\left(\\mathbf{u}_E\\cdot\\nabla \\left[\\frac{\\nabla_\\perp \\phi}{B}n\\right]\\right)\n",
    "$$\n",
    "\n",
    "As we have a homogenenous $B$-field, we have normalized it out, and remain with\n",
    "\n",
    "$$\n",
    "\\nabla \\cdot \\left(\\mathbf{u}_E\\cdot\\nabla\\left[n\\nabla_\\perp \\phi\\right]\\right)\n",
    "$$"
   ]
  },
  {
   "cell_type": "code",
   "execution_count": 1,
   "metadata": {
    "collapsed": false
   },
   "outputs": [],
   "source": [
    "%matplotlib notebook\n",
    "\n",
    "from IPython.display import display\n",
    "\n",
    "from sympy import init_printing\n",
    "from sympy import S, Function, Derivative, Eq\n",
    "from sympy import symbols, simplify, sympify, collect, expand\n",
    "\n",
    "from boutdata.mms import x, y, z, t\n",
    "\n",
    "import os, sys\n",
    "# If we add to sys.path, then it must be an absolute path\n",
    "common_dir = os.path.abspath('./../../')\n",
    "# Sys path is a list of system paths\n",
    "sys.path.append(common_dir)\n",
    "from MES.common.python.mesGenerator import get_metric\n",
    "\n",
    "init_printing()"
   ]
  },
  {
   "cell_type": "markdown",
   "metadata": {},
   "source": [
    "## Initialize"
   ]
  },
  {
   "cell_type": "code",
   "execution_count": 2,
   "metadata": {
    "collapsed": false
   },
   "outputs": [],
   "source": [
    "metric = get_metric()\n",
    "phi = Function('phi')(x,z)\n",
    "n   = Function('n')  (x,z)"
   ]
  },
  {
   "cell_type": "code",
   "execution_count": 3,
   "metadata": {
    "collapsed": true
   },
   "outputs": [],
   "source": [
    "def DDX(f):\n",
    "    return Derivative(f, x)\n",
    "\n",
    "def DDZ(f):\n",
    "    return Derivative(f, z)"
   ]
  },
  {
   "cell_type": "markdown",
   "metadata": {},
   "source": [
    "## Define the variables"
   ]
  },
  {
   "cell_type": "code",
   "execution_count": 4,
   "metadata": {
    "collapsed": true
   },
   "outputs": [],
   "source": [
    "# Initialization\n",
    "the_vars = {}"
   ]
  },
  {
   "cell_type": "markdown",
   "metadata": {},
   "source": [
    "### Define functions\n",
    "\n",
    "One can show that in cylindrical geometry\n",
    "\n",
    "$$\\mathbf{u}_E\\cdot\\nabla f = \\frac{1}{J}(\\partial_\\theta \\phi \\partial_\\rho f - \\partial_\\rho \\phi \\partial_\\theta f)$$\n",
    "\n",
    "Further on, we have that\n",
    "\n",
    "$$\n",
    "\\partial_\\rho   \\mathbf{e}^\\rho = 0\\\\\n",
    "\\partial_\\theta \\mathbf{e}^\\rho = \\rho\\mathbf{e}^\\theta\\\\\n",
    "\\partial_\\rho   \\mathbf{e}^\\theta = -\\frac{\\mathbf{e}^\\theta}{\\rho}\\\\\n",
    "\\partial_\\theta \\mathbf{e}^\\theta = -\\frac{\\mathbf{e}^\\rho}{\\rho}\n",
    "$$\n",
    "\n",
    "and that\n",
    "\n",
    "$$\n",
    "n\\nabla_\\perp \\phi =\n",
    "\\mathbf{e}^\\rho n \\partial_\\rho \\phi + \\mathbf{e}^\\theta n \\partial_\\theta \\phi\n",
    "$$"
   ]
  },
  {
   "cell_type": "markdown",
   "metadata": {},
   "source": [
    "This means that one of the components can be written\n",
    "\n",
    "$$\n",
    "n\\nabla_\\perp \\phi =\\mathbf{e}^j n \\partial_j \\phi\n",
    "$$\n",
    "\n",
    "such that\n",
    "\n",
    "\n",
    "$$\n",
    "\\partial_i \\left( n\\nabla_\\perp \\phi \\right) =\n",
    "  \\mathbf{e}^j\\partial_i \\left(n \\partial_j \\phi \\right)\n",
    "+ n \\partial_j \\phi \\partial_i \\left(\\mathbf{e}^j\\right)\n",
    "$$\n",
    "\n",
    "This gives"
   ]
  },
  {
   "cell_type": "markdown",
   "metadata": {},
   "source": [
    "\\begin{align}\n",
    "\\partial_\\rho \\left( \\left[ n\\nabla_\\perp \\phi \\right]_\\rho \\right) \n",
    "&=\n",
    "  \\mathbf{e}^\\rho \\partial_\\rho \\left(n \\partial_\\rho \\phi \\right)\n",
    "+ n \\partial_\\rho \\phi \\partial_\\rho \\left(\\mathbf{e}^\\rho\\right)\n",
    "\\\\\n",
    "&=\n",
    "  \\mathbf{e}^\\rho \\partial_\\rho \\left(n \\partial_\\rho \\phi \\right)\n",
    "\\end{align}\n",
    "\n",
    "and"
   ]
  },
  {
   "cell_type": "markdown",
   "metadata": {},
   "source": [
    "\\begin{align}\n",
    "\\partial_\\rho \\left( \\left[ n\\nabla_\\perp \\phi \\right]_\\theta \\right) \n",
    "&=\n",
    "  \\mathbf{e}^\\theta \\partial_\\rho \\left(n \\partial_\\theta \\phi \\right)\n",
    "+ n \\partial_\\theta \\phi \\partial_\\rho \\left(\\mathbf{e}^\\theta\\right)\n",
    "\\\\\n",
    "&=\n",
    "  \\mathbf{e}^\\theta \\partial_\\rho \\left(n \\partial_\\theta \\phi \\right)\n",
    "- \\frac{\\mathbf{e}^\\theta}{\\rho}n \\partial_\\theta \\phi \\partial_\\rho\n",
    "\\end{align}\n",
    "\n",
    "so that"
   ]
  },
  {
   "cell_type": "markdown",
   "metadata": {},
   "source": [
    "\\begin{align}\n",
    "\\partial_\\rho \\left( n\\nabla_\\perp \\phi \\right) \n",
    "&=\n",
    "  \\mathbf{e}^\\rho \\partial_\\rho \\left(n \\partial_\\rho \\phi \\right)\n",
    "+ \\mathbf{e}^\\theta \\partial_\\rho \\left(n \\partial_\\theta \\phi \\right)\n",
    "- \\frac{\\mathbf{e}^\\theta}{\\rho}n \\partial_\\theta \\phi\n",
    "\\\\\n",
    "&=\n",
    "  \\mathbf{e}^\\rho\n",
    "  \\left(\n",
    "    \\partial_\\rho \\left(n \\partial_\\rho \\phi \\right)\n",
    "  \\right)\n",
    "+ \\mathbf{e}^\\theta\n",
    "  \\left(\n",
    "      \\partial_\\rho \\left(n \\partial_\\theta \\phi \\right)\n",
    "    - \\frac{1}{\\rho}n \\partial_\\theta \\phi\n",
    "  \\right)\n",
    "\\end{align}"
   ]
  },
  {
   "cell_type": "markdown",
   "metadata": {},
   "source": [
    "Which means that\n",
    "\n",
    "\\begin{align}\n",
    "\\frac{1}{J}\\partial_\\theta \\phi \\partial_\\rho \\left( n\\nabla_\\perp \\phi \\right) \n",
    "=\n",
    "  \\mathbf{e}^\\rho\n",
    "  \\frac{1}{J}\\partial_\\theta \\phi \n",
    "  \\left(\n",
    "    \\partial_\\rho \\left(n \\partial_\\rho \\phi \\right)\n",
    "  \\right)\n",
    "+ \\mathbf{e}^\\theta \n",
    "  \\frac{1}{J}\\partial_\\theta \\phi \n",
    "  \\left(\n",
    "    \\partial_\\rho \\left(n \\partial_\\theta \\phi \\right)\n",
    "  - \\frac{1}{\\rho}n \\partial_\\theta \\phi\n",
    "  \\right)\n",
    "\\end{align}\n",
    "\n",
    "Further on, we have that"
   ]
  },
  {
   "cell_type": "markdown",
   "metadata": {},
   "source": [
    "\\begin{align}\n",
    "\\partial_\\theta \\left( \\left[ n\\nabla_\\perp \\phi \\right]_\\rho \\right) \n",
    "&=\n",
    "  \\mathbf{e}^\\rho \\partial_\\theta \\left(n \\partial_\\rho \\phi \\right)\n",
    "+ n \\partial_\\rho \\phi \\partial_\\theta \\left(\\mathbf{e}^\\rho\\right)\n",
    "\\\\\n",
    "&=\n",
    "  \\mathbf{e}^\\rho \\partial_\\theta \\left(n \\partial_\\rho \\phi \\right)\n",
    "+ \\rho\\mathbf{e}^\\theta n \\partial_\\rho \\phi\n",
    "\\end{align}\n",
    "\n",
    "and"
   ]
  },
  {
   "cell_type": "markdown",
   "metadata": {},
   "source": [
    "\\begin{align}\n",
    "\\partial_\\theta \\left( \\left[ n\\nabla_\\perp \\phi \\right]_\\theta \\right) \n",
    "&=\n",
    "  \\mathbf{e}^\\theta \\partial_\\theta \\left(n \\partial_\\theta \\phi \\right)\n",
    "+ n \\partial_\\theta \\phi \\partial_\\theta \\left(\\mathbf{e}^\\theta\\right)\n",
    "\\\\\n",
    "&=\n",
    "  \\mathbf{e}^\\theta \\partial_\\theta \\left(n \\partial_\\theta \\phi \\right)\n",
    "- \\frac{\\mathbf{e}^\\rho }{\\rho} n \\partial_\\theta \\phi\n",
    "\\end{align}\n",
    "\n",
    "so that"
   ]
  },
  {
   "cell_type": "markdown",
   "metadata": {},
   "source": [
    "\\begin{align}\n",
    "\\partial_\\theta \\left( n\\nabla_\\perp \\phi \\right) \n",
    "&=\n",
    "  \\mathbf{e}^\\rho \\partial_\\theta \\left(n \\partial_\\rho \\phi \\right)\n",
    "+ \\mathbf{e}^\\theta \\rho n \\partial_\\rho \\phi\n",
    "+ \\mathbf{e}^\\theta \\partial_\\theta \\left(n \\partial_\\theta \\phi \\right)\n",
    "- \\frac{\\mathbf{e}^\\rho}{\\rho} n \\partial_\\theta \\phi\n",
    "\\\\\n",
    "&=\n",
    "  \\mathbf{e}^\\rho\n",
    "  \\left(\n",
    "     \\partial_\\theta \\left(n \\partial_\\rho \\phi \\right)\n",
    "   - \\frac{1}{\\rho} n \\partial_\\theta \\phi\n",
    "  \\right)\n",
    "+ \\mathbf{e}^\\theta\n",
    "  \\left(\n",
    "      \\rho n \\partial_\\rho \\phi\n",
    "    + \\partial_\\theta \\left(n \\partial_\\theta \\phi \\right)\n",
    "  \\right)\n",
    "\\end{align}"
   ]
  },
  {
   "cell_type": "markdown",
   "metadata": {},
   "source": [
    "Which means that\n",
    "\n",
    "\\begin{align}\n",
    "\\frac{1}{J}\\partial_\\rho \\phi \\partial_\\theta \\left( n\\nabla_\\perp \\phi \\right) \n",
    "=\n",
    "  \\mathbf{e}^\\rho\n",
    "  \\frac{1}{J}\\partial_\\rho \\phi\n",
    "  \\left(\n",
    "     \\partial_\\theta \\left(n \\partial_\\rho \\phi \\right)\n",
    "   - \\frac{1}{\\rho} n \\partial_\\theta \\phi\n",
    "  \\right)\n",
    "+ \\mathbf{e}^\\theta \n",
    "  \\frac{1}{J}\\partial_\\rho \\phi\n",
    "  \\left(\n",
    "      \\rho n \\partial_\\rho \\phi\n",
    "    + \\partial_\\theta \\left(n \\partial_\\theta \\phi \\right)\n",
    "  \\right)\n",
    "\\end{align}"
   ]
  },
  {
   "cell_type": "markdown",
   "metadata": {},
   "source": [
    "Collecting elements gives"
   ]
  },
  {
   "cell_type": "markdown",
   "metadata": {},
   "source": [
    "\\begin{align}\n",
    "\\mathbf{u}_E\\cdot\\nabla \\left( n\\nabla_\\perp \\phi \\right)\n",
    "=&\n",
    "\\mathbf{e}^\\rho\n",
    "\\frac{1}{J}\n",
    "\\left[\n",
    "  \\partial_\\theta \\phi \n",
    "  \\partial_\\rho \\left(n \\partial_\\rho \\phi \\right) \n",
    "-\n",
    "   \\partial_\\rho \\phi\n",
    "   \\left(\n",
    "     \\partial_\\theta \\left(n \\partial_\\rho \\phi \\right)\n",
    "   - \\frac{1}{\\rho} n \\partial_\\theta \\phi\n",
    "  \\right)\n",
    "\\right]\n",
    "\\\\&\n",
    "+ \n",
    "\\mathbf{e}^\\theta \n",
    "\\frac{1}{J}\n",
    "\\left[\n",
    "  \\partial_\\theta \\phi \n",
    "    \\left(\n",
    "      \\partial_\\rho \\left(n \\partial_\\theta \\phi \\right)\n",
    "    - \\frac{1}{\\rho}n \\partial_\\theta \\phi\n",
    "    \\right) \n",
    "-\n",
    "  \\partial_\\rho \\phi\n",
    "    \\left(\n",
    "        \\rho n \\partial_\\rho \\phi\n",
    "      + \\partial_\\theta \\left(n \\partial_\\theta \\phi \\right)\n",
    "    \\right)\n",
    "\\right]\n",
    "\\end{align}"
   ]
  },
  {
   "cell_type": "code",
   "execution_count": 5,
   "metadata": {
    "collapsed": false
   },
   "outputs": [
    {
     "data": {
      "image/png": "[encoded data removed]",
      "text/latex": [
       "$$v_{\\rho} = \\frac{1}{x} \\left(\\left(n{\\left (x,z \\right )} \\frac{\\partial^{2}}{\\partial x^{2}}  \\phi{\\left (x,z \\right )} + \\frac{\\partial}{\\partial x} n{\\left (x,z \\right )} \\frac{\\partial}{\\partial x} \\phi{\\left (x,z \\right )}\\right) \\frac{\\partial}{\\partial z} \\phi{\\left (x,z \\right )} - \\left(n{\\left (x,z \\right )} \\frac{\\partial^{2}}{\\partial x\\partial z}  \\phi{\\left (x,z \\right )} + \\frac{\\partial}{\\partial z} n{\\left (x,z \\right )} \\frac{\\partial}{\\partial x} \\phi{\\left (x,z \\right )} - \\frac{1}{x} n{\\left (x,z \\right )} \\frac{\\partial}{\\partial z} \\phi{\\left (x,z \\right )}\\right) \\frac{\\partial}{\\partial x} \\phi{\\left (x,z \\right )}\\right)$$"
      ],
      "text/plain": [
       "                                                                    ⎛         \n",
       "     ⎛          2                                   ⎞               ⎜         \n",
       "     ⎜         ∂             ∂           ∂          ⎟ ∂             ⎜         \n",
       "     ⎜n(x, z)⋅───(φ(x, z)) + ──(n(x, z))⋅──(φ(x, z))⎟⋅──(φ(x, z)) - ⎜n(x, z)⋅─\n",
       "     ⎜          2            ∂x          ∂x         ⎟ ∂z            ⎝        ∂\n",
       "     ⎝        ∂x                                    ⎠                         \n",
       "vᵨ = ─────────────────────────────────────────────────────────────────────────\n",
       "                                                                              \n",
       "\n",
       "                                                  ∂          ⎞            \n",
       "  2                                       n(x, z)⋅──(φ(x, z))⎟            \n",
       " ∂              ∂           ∂                     ∂z         ⎟ ∂          \n",
       "────(φ(x, z)) + ──(n(x, z))⋅──(φ(x, z)) - ───────────────────⎟⋅──(φ(x, z))\n",
       "z ∂x            ∂z          ∂x                     x         ⎠ ∂x         \n",
       "                                                                          \n",
       "──────────────────────────────────────────────────────────────────────────\n",
       "x                                                                         "
      ]
     },
     "metadata": {},
     "output_type": "display_data"
    }
   ],
   "source": [
    "rho_element = (1/metric.J)*(\n",
    "                              DDZ(phi)*\n",
    "                              DDX(n*DDX(phi))\n",
    "                            -\n",
    "                              DDX(phi)*\n",
    "                              (\n",
    "                                DDZ(n*DDX(phi))\n",
    "                                - (1/metric.J)*n*DDZ(phi)\n",
    "                              )\n",
    "                            )\n",
    "display(Eq(symbols('v_rho'), rho_element.doit()))"
   ]
  },
  {
   "cell_type": "code",
   "execution_count": 6,
   "metadata": {
    "collapsed": false
   },
   "outputs": [
    {
     "data": {
      "image/png": "[encoded data removed]",
      "text/latex": [
       "$$v_{\\theta} = \\frac{1}{x} \\left(\\left(n{\\left (x,z \\right )} \\frac{\\partial^{2}}{\\partial x\\partial z}  \\phi{\\left (x,z \\right )} + \\frac{\\partial}{\\partial x} n{\\left (x,z \\right )} \\frac{\\partial}{\\partial z} \\phi{\\left (x,z \\right )} - \\frac{1}{x} n{\\left (x,z \\right )} \\frac{\\partial}{\\partial z} \\phi{\\left (x,z \\right )}\\right) \\frac{\\partial}{\\partial z} \\phi{\\left (x,z \\right )} - \\left(x n{\\left (x,z \\right )} \\frac{\\partial}{\\partial x} \\phi{\\left (x,z \\right )} + n{\\left (x,z \\right )} \\frac{\\partial^{2}}{\\partial z^{2}}  \\phi{\\left (x,z \\right )} + \\frac{\\partial}{\\partial z} n{\\left (x,z \\right )} \\frac{\\partial}{\\partial z} \\phi{\\left (x,z \\right )}\\right) \\frac{\\partial}{\\partial x} \\phi{\\left (x,z \\right )}\\right)$$"
      ],
      "text/plain": [
       "         ⎛                                                           ∂        \n",
       "         ⎜           2                                       n(x, z)⋅──(φ(x, z\n",
       "         ⎜          ∂              ∂           ∂                     ∂z       \n",
       "         ⎜n(x, z)⋅─────(φ(x, z)) + ──(n(x, z))⋅──(φ(x, z)) - ─────────────────\n",
       "         ⎝        ∂z ∂x            ∂x          ∂z                     x       \n",
       "                                                                              \n",
       "vₜₕₑₜₐ = ─────────────────────────────────────────────────────────────────────\n",
       "                                                                              \n",
       "\n",
       "  ⎞                                                                           \n",
       "))⎟               ⎛                                  2                        \n",
       "  ⎟ ∂             ⎜          ∂                      ∂             ∂           \n",
       "──⎟⋅──(φ(x, z)) - ⎜x⋅n(x, z)⋅──(φ(x, z)) + n(x, z)⋅───(φ(x, z)) + ──(n(x, z))⋅\n",
       "  ⎠ ∂z            ⎜          ∂x                      2            ∂z          \n",
       "                  ⎝                                ∂z                         \n",
       "──────────────────────────────────────────────────────────────────────────────\n",
       "                x                                                             \n",
       "\n",
       "                        \n",
       "           ⎞            \n",
       "∂          ⎟ ∂          \n",
       "──(φ(x, z))⎟⋅──(φ(x, z))\n",
       "∂z         ⎟ ∂x         \n",
       "           ⎠            \n",
       "────────────────────────\n",
       "                        "
      ]
     },
     "metadata": {},
     "output_type": "display_data"
    }
   ],
   "source": [
    "theta_element = (1/metric.J)*(\n",
    "                        DDZ(phi)*\n",
    "                        (\n",
    "                               DDX(n * DDZ(phi))\n",
    "                            - (1/metric.J) * n * DDZ(phi)\n",
    "                        ) \n",
    "                        -\n",
    "                        DDX(phi)*\n",
    "                        (\n",
    "                            metric.J*n*DDX(phi)\n",
    "                            + DDZ(n*DDZ(phi)) \n",
    "                        )\n",
    "                    )\n",
    "\n",
    "display(Eq(symbols('v_theta'), theta_element.doit()))"
   ]
  },
  {
   "cell_type": "markdown",
   "metadata": {},
   "source": [
    "We have that\n",
    "\n",
    "$$\n",
    "\\nabla \\cdot \\mathbf{A} = \\frac{1}{J}\\partial_i (J A^i)\n",
    "$$\n",
    "\n",
    "And that \n",
    "\n",
    "$$\n",
    "A^i = g^{ij}A_j\n",
    "$$\n",
    "\n",
    "Since\n",
    "\n",
    "$$\n",
    "g^{ij} = 0 \\iff i\\neq j\\\\\n",
    "g^{\\rho\\rho} =1 \\\\\n",
    "g^{\\theta\\theta} = \\frac{1}{\\rho^2}\n",
    "$$\n",
    "\n",
    "This means that\n",
    "\n",
    "$$\n",
    "\\nabla \\cdot \\mathbf{A}_\\perp\n",
    "=   \\frac{1}{J}\\partial_i \\left(Jg^{ik}A_k\\right)\n",
    "=   \\frac{1}{\\rho}\\partial_\\rho \\left(\\rho A_\\rho\\right)\n",
    "  + \\frac{1}{\\rho}\\partial_\\theta \\left(\\frac{1}{\\rho}A_\\rho\\right)\n",
    "$$\n",
    "\n",
    "so that\n",
    "\n",
    "$$\n",
    "\\nabla \\cdot \\left(\\mathbf{u}_E\\cdot\\nabla\\left[n\\nabla_\\perp \\phi\\right]\\right)\n",
    "$$\n",
    "\n",
    "can be written"
   ]
  },
  {
   "cell_type": "code",
   "execution_count": 7,
   "metadata": {
    "collapsed": false
   },
   "outputs": [
    {
     "data": {
      "image/png": "[encoded data removed]",
      "text/latex": [
       "$$S = \\frac{1}{x} \\left(\\frac{\\partial}{\\partial z}\\left(\\frac{1}{x^{2}} \\left(- \\left(x n{\\left (x,z \\right )} \\frac{\\partial}{\\partial x} \\phi{\\left (x,z \\right )} + \\frac{\\partial}{\\partial z}\\left(n{\\left (x,z \\right )} \\frac{\\partial}{\\partial z} \\phi{\\left (x,z \\right )}\\right)\\right) \\frac{\\partial}{\\partial x} \\phi{\\left (x,z \\right )} + \\left(\\frac{\\partial}{\\partial x}\\left(n{\\left (x,z \\right )} \\frac{\\partial}{\\partial z} \\phi{\\left (x,z \\right )}\\right) - \\frac{1}{x} n{\\left (x,z \\right )} \\frac{\\partial}{\\partial z} \\phi{\\left (x,z \\right )}\\right) \\frac{\\partial}{\\partial z} \\phi{\\left (x,z \\right )}\\right)\\right) + \\frac{\\partial}{\\partial x}\\left(- \\left(\\frac{\\partial}{\\partial z}\\left(n{\\left (x,z \\right )} \\frac{\\partial}{\\partial x} \\phi{\\left (x,z \\right )}\\right) - \\frac{1}{x} n{\\left (x,z \\right )} \\frac{\\partial}{\\partial z} \\phi{\\left (x,z \\right )}\\right) \\frac{\\partial}{\\partial x} \\phi{\\left (x,z \\right )} + \\frac{\\partial}{\\partial x}\\left(n{\\left (x,z \\right )} \\frac{\\partial}{\\partial x} \\phi{\\left (x,z \\right )}\\right) \\frac{\\partial}{\\partial z} \\phi{\\left (x,z \\right )}\\right)\\right)$$"
      ],
      "text/plain": [
       "      ⎛                                                                  ⎛    \n",
       "      ⎜                                                                  ⎜    \n",
       "      ⎜  ⎛          ∂             ∂ ⎛        ∂          ⎞⎞ ∂             ⎜∂ ⎛ \n",
       "      ⎜- ⎜x⋅n(x, z)⋅──(φ(x, z)) + ──⎜n(x, z)⋅──(φ(x, z))⎟⎟⋅──(φ(x, z)) + ⎜──⎜n\n",
       "    ∂ ⎜  ⎝          ∂x            ∂z⎝        ∂z         ⎠⎠ ∂x            ⎝∂x⎝ \n",
       "    ──⎜───────────────────────────────────────────────────────────────────────\n",
       "    ∂z⎜                                                               2       \n",
       "      ⎝                                                              x        \n",
       "S = ──────────────────────────────────────────────────────────────────────────\n",
       "                                                                              \n",
       "\n",
       "                              ∂          ⎞            ⎞                       \n",
       "                      n(x, z)⋅──(φ(x, z))⎟            ⎟                       \n",
       "       ∂          ⎞           ∂z         ⎟ ∂          ⎟     ⎛  ⎛              \n",
       "(x, z)⋅──(φ(x, z))⎟ - ───────────────────⎟⋅──(φ(x, z))⎟     ⎜  ⎜              \n",
       "       ∂z         ⎠            x         ⎠ ∂z         ⎟   ∂ ⎜  ⎜∂ ⎛        ∂  \n",
       "──────────────────────────────────────────────────────⎟ + ──⎜- ⎜──⎜n(x, z)⋅──(\n",
       "                                                      ⎟   ∂x⎝  ⎝∂z⎝        ∂x \n",
       "                                                      ⎠                       \n",
       "──────────────────────────────────────────────────────────────────────────────\n",
       "                                           x                                  \n",
       "\n",
       "                                                                              \n",
       "                                                                              \n",
       "                    ∂          ⎞                                              \n",
       "            n(x, z)⋅──(φ(x, z))⎟                                              \n",
       "        ⎞           ∂z         ⎟ ∂             ∂ ⎛        ∂          ⎞ ∂      \n",
       "φ(x, z))⎟ - ───────────────────⎟⋅──(φ(x, z)) + ──⎜n(x, z)⋅──(φ(x, z))⎟⋅──(φ(x,\n",
       "        ⎠            x         ⎠ ∂x            ∂x⎝        ∂x         ⎠ ∂z     \n",
       "                                                                              \n",
       "──────────────────────────────────────────────────────────────────────────────\n",
       "                                                                              \n",
       "\n",
       "     \n",
       "     \n",
       "    ⎞\n",
       "    ⎟\n",
       "    ⎟\n",
       " z))⎟\n",
       "    ⎠\n",
       "     \n",
       "─────\n",
       "     "
      ]
     },
     "metadata": {},
     "output_type": "display_data"
    }
   ],
   "source": [
    "S = (1/metric.J)*(\n",
    "      DDX(metric.J*rho_element)\n",
    "    + DDZ((1/metric.J)*theta_element)\n",
    "    )\n",
    "\n",
    "display(Eq(symbols('S'), S))"
   ]
  },
  {
   "cell_type": "code",
   "execution_count": 8,
   "metadata": {
    "collapsed": false
   },
   "outputs": [
    {
     "data": {
      "image/png": "[encoded data removed]",
      "text/latex": [
       "$$S = \\frac{1}{x^{4}} \\left(- x^{3} n{\\left (x,z \\right )} \\frac{\\partial}{\\partial x} \\phi{\\left (x,z \\right )} \\frac{\\partial^{3}}{\\partial x^{2}\\partial z}  \\phi{\\left (x,z \\right )} + x^{3} n{\\left (x,z \\right )} \\frac{\\partial}{\\partial z} \\phi{\\left (x,z \\right )} \\frac{\\partial^{3}}{\\partial x^{3}}  \\phi{\\left (x,z \\right )} + 2 x^{3} \\frac{\\partial}{\\partial x} n{\\left (x,z \\right )} \\frac{\\partial}{\\partial z} \\phi{\\left (x,z \\right )} \\frac{\\partial^{2}}{\\partial x^{2}}  \\phi{\\left (x,z \\right )} - 2 x^{3} \\frac{\\partial}{\\partial z} n{\\left (x,z \\right )} \\frac{\\partial}{\\partial x} \\phi{\\left (x,z \\right )} \\frac{\\partial^{2}}{\\partial x^{2}}  \\phi{\\left (x,z \\right )} - x^{3} \\frac{\\partial}{\\partial x} \\phi{\\left (x,z \\right )}^{2} \\frac{\\partial^{2}}{\\partial x\\partial z}  n{\\left (x,z \\right )} + x^{3} \\frac{\\partial}{\\partial x} \\phi{\\left (x,z \\right )} \\frac{\\partial}{\\partial z} \\phi{\\left (x,z \\right )} \\frac{\\partial^{2}}{\\partial x^{2}}  n{\\left (x,z \\right )} - x^{2} n{\\left (x,z \\right )} \\frac{\\partial}{\\partial x} \\phi{\\left (x,z \\right )} \\frac{\\partial^{2}}{\\partial x\\partial z}  \\phi{\\left (x,z \\right )} + x^{2} n{\\left (x,z \\right )} \\frac{\\partial}{\\partial z} \\phi{\\left (x,z \\right )} \\frac{\\partial^{2}}{\\partial x^{2}}  \\phi{\\left (x,z \\right )} + x^{2} \\frac{\\partial}{\\partial x} n{\\left (x,z \\right )} \\frac{\\partial}{\\partial x} \\phi{\\left (x,z \\right )} \\frac{\\partial}{\\partial z} \\phi{\\left (x,z \\right )} - x^{2} \\frac{\\partial}{\\partial z} n{\\left (x,z \\right )} \\frac{\\partial}{\\partial x} \\phi{\\left (x,z \\right )}^{2} - x n{\\left (x,z \\right )} \\frac{\\partial}{\\partial x} \\phi{\\left (x,z \\right )} \\frac{\\partial}{\\partial z} \\phi{\\left (x,z \\right )} - x n{\\left (x,z \\right )} \\frac{\\partial}{\\partial x} \\phi{\\left (x,z \\right )} \\frac{\\partial^{3}}{\\partial z^{3}}  \\phi{\\left (x,z \\right )} + x n{\\left (x,z \\right )} \\frac{\\partial}{\\partial z} \\phi{\\left (x,z \\right )} \\frac{\\partial^{3}}{\\partial x\\partial z^{2}}  \\phi{\\left (x,z \\right )} + 2 x \\frac{\\partial}{\\partial x} n{\\left (x,z \\right )} \\frac{\\partial}{\\partial z} \\phi{\\left (x,z \\right )} \\frac{\\partial^{2}}{\\partial z^{2}}  \\phi{\\left (x,z \\right )} - 2 x \\frac{\\partial}{\\partial z} n{\\left (x,z \\right )} \\frac{\\partial}{\\partial x} \\phi{\\left (x,z \\right )} \\frac{\\partial^{2}}{\\partial z^{2}}  \\phi{\\left (x,z \\right )} - x \\frac{\\partial}{\\partial x} \\phi{\\left (x,z \\right )} \\frac{\\partial}{\\partial z} \\phi{\\left (x,z \\right )} \\frac{\\partial^{2}}{\\partial z^{2}}  n{\\left (x,z \\right )} + x \\frac{\\partial}{\\partial z} \\phi{\\left (x,z \\right )}^{2} \\frac{\\partial^{2}}{\\partial x\\partial z}  n{\\left (x,z \\right )} - 2 n{\\left (x,z \\right )} \\frac{\\partial}{\\partial z} \\phi{\\left (x,z \\right )} \\frac{\\partial^{2}}{\\partial z^{2}}  \\phi{\\left (x,z \\right )} - \\frac{\\partial}{\\partial z} n{\\left (x,z \\right )} \\frac{\\partial}{\\partial z} \\phi{\\left (x,z \\right )}^{2}\\right)$$"
      ],
      "text/plain": [
       "                                3                                       3     \n",
       "       3         ∂             ∂                3         ∂            ∂      \n",
       "    - x ⋅n(x, z)⋅──(φ(x, z))⋅──────(φ(x, z)) + x ⋅n(x, z)⋅──(φ(x, z))⋅───(φ(x,\n",
       "                 ∂x               2                       ∂z            3     \n",
       "                             ∂z ∂x                                    ∂x      \n",
       "S = ──────────────────────────────────────────────────────────────────────────\n",
       "                                                                              \n",
       "                                                                              \n",
       "\n",
       "                                      2                                       \n",
       "          3 ∂           ∂            ∂                3 ∂           ∂         \n",
       " z)) + 2⋅x ⋅──(n(x, z))⋅──(φ(x, z))⋅───(φ(x, z)) - 2⋅x ⋅──(n(x, z))⋅──(φ(x, z)\n",
       "            ∂x          ∂z            2                 ∂z          ∂x        \n",
       "                                    ∂x                                        \n",
       "──────────────────────────────────────────────────────────────────────────────\n",
       "                                                                              \n",
       "                                                                              \n",
       "\n",
       "    2                            2    2                                       \n",
       "   ∂              3 ⎛∂          ⎞    ∂               3 ∂           ∂          \n",
       ")⋅───(φ(x, z)) - x ⋅⎜──(φ(x, z))⎟ ⋅─────(n(x, z)) + x ⋅──(φ(x, z))⋅──(φ(x, z))\n",
       "    2               ⎝∂x         ⎠  ∂z ∂x               ∂x          ∂z         \n",
       "  ∂x                                                                          \n",
       "──────────────────────────────────────────────────────────────────────────────\n",
       "                                                                              \n",
       "                                                                              \n",
       "\n",
       "   2                                      2                                   \n",
       "  ∂              2         ∂             ∂               2         ∂          \n",
       "⋅───(n(x, z)) - x ⋅n(x, z)⋅──(φ(x, z))⋅─────(φ(x, z)) + x ⋅n(x, z)⋅──(φ(x, z))\n",
       "   2                       ∂x          ∂z ∂x                       ∂z         \n",
       " ∂x                                                                           \n",
       "──────────────────────────────────────────────────────────────────────────────\n",
       "                                                                              \n",
       "                                                                              \n",
       "\n",
       "   2                                                                          \n",
       "  ∂              2 ∂           ∂           ∂              2 ∂           ⎛∂    \n",
       "⋅───(φ(x, z)) + x ⋅──(n(x, z))⋅──(φ(x, z))⋅──(φ(x, z)) - x ⋅──(n(x, z))⋅⎜──(φ(\n",
       "   2               ∂x          ∂x          ∂z               ∂z          ⎝∂x   \n",
       " ∂x                                                                           \n",
       "──────────────────────────────────────────────────────────────────────────────\n",
       "                                                           4                  \n",
       "                                                          x                   \n",
       "\n",
       "       2                                                               3      \n",
       "      ⎞              ∂           ∂                       ∂            ∂       \n",
       "x, z))⎟  - x⋅n(x, z)⋅──(φ(x, z))⋅──(φ(x, z)) - x⋅n(x, z)⋅──(φ(x, z))⋅───(φ(x, \n",
       "      ⎠              ∂x          ∂z                      ∂x            3      \n",
       "                                                                     ∂z       \n",
       "──────────────────────────────────────────────────────────────────────────────\n",
       "                                                                              \n",
       "                                                                              \n",
       "\n",
       "                               3                                            2 \n",
       "                ∂             ∂                   ∂           ∂            ∂  \n",
       "z)) + x⋅n(x, z)⋅──(φ(x, z))⋅──────(φ(x, z)) + 2⋅x⋅──(n(x, z))⋅──(φ(x, z))⋅───(\n",
       "                ∂z            2                   ∂x          ∂z            2 \n",
       "                            ∂z  ∂x                                        ∂z  \n",
       "──────────────────────────────────────────────────────────────────────────────\n",
       "                                                                              \n",
       "                                                                              \n",
       "\n",
       "                                         2                                    \n",
       "               ∂           ∂            ∂               ∂           ∂         \n",
       "φ(x, z)) - 2⋅x⋅──(n(x, z))⋅──(φ(x, z))⋅───(φ(x, z)) - x⋅──(φ(x, z))⋅──(φ(x, z)\n",
       "               ∂z          ∂x            2              ∂x          ∂z        \n",
       "                                       ∂z                                     \n",
       "──────────────────────────────────────────────────────────────────────────────\n",
       "                                                                              \n",
       "                                                                              \n",
       "\n",
       "    2                           2    2                                     2  \n",
       "   ∂               ⎛∂          ⎞    ∂                        ∂            ∂   \n",
       ")⋅───(n(x, z)) + x⋅⎜──(φ(x, z))⎟ ⋅─────(n(x, z)) - 2⋅n(x, z)⋅──(φ(x, z))⋅───(φ\n",
       "    2              ⎝∂z         ⎠  ∂z ∂x                      ∂z            2  \n",
       "  ∂z                                                                     ∂z   \n",
       "──────────────────────────────────────────────────────────────────────────────\n",
       "                                                                              \n",
       "                                                                              \n",
       "\n",
       "                                   2\n",
       "          ∂           ⎛∂          ⎞ \n",
       "(x, z)) - ──(n(x, z))⋅⎜──(φ(x, z))⎟ \n",
       "          ∂z          ⎝∂z         ⎠ \n",
       "                                    \n",
       "────────────────────────────────────\n",
       "                                    \n",
       "                                    "
      ]
     },
     "metadata": {},
     "output_type": "display_data"
    }
   ],
   "source": [
    "S = simplify(S.doit())\n",
    "\n",
    "display(Eq(symbols('S'), S))"
   ]
  },
  {
   "cell_type": "markdown",
   "metadata": {},
   "source": [
    "Well, that is a mess, we should collect it another manner"
   ]
  },
  {
   "cell_type": "code",
   "execution_count": 9,
   "metadata": {
    "collapsed": false
   },
   "outputs": [
    {
     "data": {
      "image/png": "[encoded data removed]",
      "text/latex": [
       "$$\\frac{1}{x^{4}} \\left(- n \\phi_{x} \\phi_{xxz} x^{3} - n \\phi_{x} \\phi_{xz} x^{2} - n \\phi_{x} \\phi_{z} x - n \\phi_{x} \\phi_{zzz} x + n \\phi_{xx} \\phi_{z} x^{2} + n \\phi_{xxx} \\phi_{z} x^{3} + n \\phi_{xzz} \\phi_{z} x - 2 n \\phi_{z} \\phi_{zz} + n_{x} \\phi_{x} \\phi_{z} x^{2} + 2 n_{x} \\phi_{xx} \\phi_{z} x^{3} + 2 n_{x} \\phi_{z} \\phi_{zz} x + n_{xx} \\phi_{x} \\phi_{z} x^{3} - n_{xz} \\phi_{x}^{2} x^{3} + n_{xz} \\phi_{z}^{2} x - n_{z} \\phi_{x}^{2} x^{2} - 2 n_{z} \\phi_{x} \\phi_{xx} x^{3} - 2 n_{z} \\phi_{x} \\phi_{zz} x - n_{z} \\phi_{z}^{2} - n_{zz} \\phi_{x} \\phi_{z} x\\right)$$"
      ],
      "text/plain": [
       "              3              2                                          2     \n",
       "- n⋅φₓ⋅φ_xxz⋅x  - n⋅φₓ⋅φ_xz⋅x  - n⋅φₓ⋅φ_z⋅x - n⋅φₓ⋅φ_zzz⋅x + n⋅φₓₓ⋅φ_z⋅x  + n⋅\n",
       "──────────────────────────────────────────────────────────────────────────────\n",
       "                                                                              \n",
       "                                                                              \n",
       "\n",
       "          3                                             2                 3   \n",
       "φₓₓₓ⋅φ_z⋅x  + n⋅φ_xzz⋅φ_z⋅x - 2⋅n⋅φ_z⋅φ_zz + nₓ⋅φₓ⋅φ_z⋅x  + 2⋅nₓ⋅φₓₓ⋅φ_z⋅x  + \n",
       "──────────────────────────────────────────────────────────────────────────────\n",
       "                                                                    4         \n",
       "                                                                   x          \n",
       "\n",
       "                              3          2  3           2           2  2      \n",
       "2⋅nₓ⋅φ_z⋅φ_zz⋅x + nₓₓ⋅φₓ⋅φ_z⋅x  - n_xz⋅φₓ ⋅x  + n_xz⋅φ_z ⋅x - n_z⋅φₓ ⋅x  - 2⋅n\n",
       "──────────────────────────────────────────────────────────────────────────────\n",
       "                                                                              \n",
       "                                                                              \n",
       "\n",
       "           3                            2                \n",
       "_z⋅φₓ⋅φₓₓ⋅x  - 2⋅n_z⋅φₓ⋅φ_zz⋅x - n_z⋅φ_z  - n_zz⋅φₓ⋅φ_z⋅x\n",
       "─────────────────────────────────────────────────────────\n",
       "                                                         \n",
       "                                                         "
      ]
     },
     "metadata": {},
     "output_type": "display_data"
    }
   ],
   "source": [
    "strS = str(S)\n",
    "\n",
    "# phi x derivatives\n",
    "strS = strS.replace('Derivative(phi(x, z), x)', 'phi_x')\n",
    "strS = strS.replace('Derivative(phi(x, z), x, x)', 'phi_xx')\n",
    "strS = strS.replace('Derivative(phi(x, z), x, x, x)', 'phi_xxx')\n",
    "# phi z derivatives\n",
    "strS = strS.replace('Derivative(phi(x, z), z)', 'phi_z')\n",
    "strS = strS.replace('Derivative(phi(x, z), z, z)', 'phi_zz')\n",
    "strS = strS.replace('Derivative(phi(x, z), z, z, z)', 'phi_zzz')\n",
    "# phi mixed derivatives\n",
    "strS = strS.replace('Derivative(phi(x, z), x, z)', 'phi_xz')\n",
    "strS = strS.replace('Derivative(phi(x, z), x, z, z)', 'phi_xzz')\n",
    "strS = strS.replace('Derivative(phi(x, z), x, x, z)', 'phi_xxz')\n",
    "# Non-derivatives\n",
    "strS = strS.replace('phi(x, z)', 'phi')\n",
    "\n",
    "\n",
    "# n x derivatives\n",
    "strS = strS.replace('Derivative(n(x, z), x)', 'n_x')\n",
    "strS = strS.replace('Derivative(n(x, z), x, x)', 'n_xx')\n",
    "# n z derivatives\n",
    "strS = strS.replace('Derivative(n(x, z), z)', 'n_z')\n",
    "strS = strS.replace('Derivative(n(x, z), z, z)', 'n_zz')\n",
    "# n mixed derivatives\n",
    "strS = strS.replace('Derivative(n(x, z), x, z)', 'n_xz')\n",
    "# Non-derivatives\n",
    "strS = strS.replace('n(x, z)', 'n')\n",
    "\n",
    "newS = sympify(strS)\n",
    "display(newS)"
   ]
  },
  {
   "cell_type": "code",
   "execution_count": 10,
   "metadata": {
    "collapsed": false
   },
   "outputs": [
    {
     "data": {
      "image/png": "[encoded data removed]",
      "text/latex": [
       "$$\\frac{1}{x^{4}} \\left(- \\phi_{z} \\left(2 n \\phi_{zz} + n_{z} \\phi_{z}\\right) + x^{3} \\left(- n \\phi_{x} \\phi_{xxz} + n \\phi_{xxx} \\phi_{z} + 2 n_{x} \\phi_{xx} \\phi_{z} + n_{xx} \\phi_{x} \\phi_{z} - n_{xz} \\phi_{x}^{2} - 2 n_{z} \\phi_{x} \\phi_{xx}\\right) + x^{2} \\left(- n \\phi_{x} \\phi_{xz} + n \\phi_{xx} \\phi_{z} + n_{x} \\phi_{x} \\phi_{z} - n_{z} \\phi_{x}^{2}\\right) + x \\left(- n \\phi_{x} \\phi_{z} - n \\phi_{x} \\phi_{zzz} + n \\phi_{xzz} \\phi_{z} + 2 n_{x} \\phi_{z} \\phi_{zz} + n_{xz} \\phi_{z}^{2} - 2 n_{z} \\phi_{x} \\phi_{zz} - n_{zz} \\phi_{x} \\phi_{z}\\right)\\right)$$"
      ],
      "text/plain": [
       "                             3 ⎛                                              \n",
       "-φ_z⋅(2⋅n⋅φ_zz + n_z⋅φ_z) + x ⋅⎝-n⋅φₓ⋅φ_xxz + n⋅φₓₓₓ⋅φ_z + 2⋅nₓ⋅φₓₓ⋅φ_z + nₓₓ⋅\n",
       "──────────────────────────────────────────────────────────────────────────────\n",
       "                                                                              \n",
       "                                                                              \n",
       "\n",
       "                2               ⎞    2 ⎛                                      \n",
       "φₓ⋅φ_z - n_xz⋅φₓ  - 2⋅n_z⋅φₓ⋅φₓₓ⎠ + x ⋅⎝-n⋅φₓ⋅φ_xz + n⋅φₓₓ⋅φ_z + nₓ⋅φₓ⋅φ_z - n\n",
       "──────────────────────────────────────────────────────────────────────────────\n",
       "                                                      4                       \n",
       "                                                     x                        \n",
       "\n",
       "     2⎞     ⎛                                                               2 \n",
       "_z⋅φₓ ⎠ + x⋅⎝-n⋅φₓ⋅φ_z - n⋅φₓ⋅φ_zzz + n⋅φ_xzz⋅φ_z + 2⋅nₓ⋅φ_z⋅φ_zz + n_xz⋅φ_z  \n",
       "──────────────────────────────────────────────────────────────────────────────\n",
       "                                                                              \n",
       "                                                                              \n",
       "\n",
       "                             ⎞\n",
       "- 2⋅n_z⋅φₓ⋅φ_zz - n_zz⋅φₓ⋅φ_z⎠\n",
       "──────────────────────────────\n",
       "                              \n",
       "                              "
      ]
     },
     "metadata": {},
     "output_type": "display_data"
    }
   ],
   "source": [
    "display(simplify(expand(newS)))"
   ]
  },
  {
   "cell_type": "markdown",
   "metadata": {},
   "source": [
    "## Printing for comparison"
   ]
  },
  {
   "cell_type": "code",
   "execution_count": 11,
   "metadata": {
    "collapsed": false
   },
   "outputs": [
    {
     "data": {
      "image/png": "[encoded data removed]",
      "text/latex": [
       "$$S = - \\frac{1}{x} n{\\left (x,z \\right )} \\frac{\\partial}{\\partial x} \\phi{\\left (x,z \\right )} \\frac{\\partial^{3}}{\\partial x^{2}\\partial z}  \\phi{\\left (x,z \\right )} + \\frac{1}{x} n{\\left (x,z \\right )} \\frac{\\partial}{\\partial z} \\phi{\\left (x,z \\right )} \\frac{\\partial^{3}}{\\partial x^{3}}  \\phi{\\left (x,z \\right )} + \\frac{2}{x} \\frac{\\partial}{\\partial x} n{\\left (x,z \\right )} \\frac{\\partial}{\\partial z} \\phi{\\left (x,z \\right )} \\frac{\\partial^{2}}{\\partial x^{2}}  \\phi{\\left (x,z \\right )} - \\frac{2}{x} \\frac{\\partial}{\\partial z} n{\\left (x,z \\right )} \\frac{\\partial}{\\partial x} \\phi{\\left (x,z \\right )} \\frac{\\partial^{2}}{\\partial x^{2}}  \\phi{\\left (x,z \\right )} - \\frac{1}{x} \\frac{\\partial}{\\partial x} \\phi{\\left (x,z \\right )}^{2} \\frac{\\partial^{2}}{\\partial x\\partial z}  n{\\left (x,z \\right )} + \\frac{1}{x} \\frac{\\partial}{\\partial x} \\phi{\\left (x,z \\right )} \\frac{\\partial}{\\partial z} \\phi{\\left (x,z \\right )} \\frac{\\partial^{2}}{\\partial x^{2}}  n{\\left (x,z \\right )} - \\frac{1}{x^{2}} n{\\left (x,z \\right )} \\frac{\\partial}{\\partial x} \\phi{\\left (x,z \\right )} \\frac{\\partial^{2}}{\\partial x\\partial z}  \\phi{\\left (x,z \\right )} + \\frac{1}{x^{2}} n{\\left (x,z \\right )} \\frac{\\partial}{\\partial z} \\phi{\\left (x,z \\right )} \\frac{\\partial^{2}}{\\partial x^{2}}  \\phi{\\left (x,z \\right )} + \\frac{1}{x^{2}} \\frac{\\partial}{\\partial x} n{\\left (x,z \\right )} \\frac{\\partial}{\\partial x} \\phi{\\left (x,z \\right )} \\frac{\\partial}{\\partial z} \\phi{\\left (x,z \\right )} - \\frac{1}{x^{2}} \\frac{\\partial}{\\partial z} n{\\left (x,z \\right )} \\frac{\\partial}{\\partial x} \\phi{\\left (x,z \\right )}^{2} - \\frac{1}{x^{3}} n{\\left (x,z \\right )} \\frac{\\partial}{\\partial x} \\phi{\\left (x,z \\right )} \\frac{\\partial}{\\partial z} \\phi{\\left (x,z \\right )} - \\frac{1}{x^{3}} n{\\left (x,z \\right )} \\frac{\\partial}{\\partial x} \\phi{\\left (x,z \\right )} \\frac{\\partial^{3}}{\\partial z^{3}}  \\phi{\\left (x,z \\right )} + \\frac{1}{x^{3}} n{\\left (x,z \\right )} \\frac{\\partial}{\\partial z} \\phi{\\left (x,z \\right )} \\frac{\\partial^{3}}{\\partial x\\partial z^{2}}  \\phi{\\left (x,z \\right )} + \\frac{2}{x^{3}} \\frac{\\partial}{\\partial x} n{\\left (x,z \\right )} \\frac{\\partial}{\\partial z} \\phi{\\left (x,z \\right )} \\frac{\\partial^{2}}{\\partial z^{2}}  \\phi{\\left (x,z \\right )} - \\frac{2}{x^{3}} \\frac{\\partial}{\\partial z} n{\\left (x,z \\right )} \\frac{\\partial}{\\partial x} \\phi{\\left (x,z \\right )} \\frac{\\partial^{2}}{\\partial z^{2}}  \\phi{\\left (x,z \\right )} - \\frac{1}{x^{3}} \\frac{\\partial}{\\partial x} \\phi{\\left (x,z \\right )} \\frac{\\partial}{\\partial z} \\phi{\\left (x,z \\right )} \\frac{\\partial^{2}}{\\partial z^{2}}  n{\\left (x,z \\right )} + \\frac{1}{x^{3}} \\frac{\\partial}{\\partial z} \\phi{\\left (x,z \\right )}^{2} \\frac{\\partial^{2}}{\\partial x\\partial z}  n{\\left (x,z \\right )} - \\frac{2}{x^{4}} n{\\left (x,z \\right )} \\frac{\\partial}{\\partial z} \\phi{\\left (x,z \\right )} \\frac{\\partial^{2}}{\\partial z^{2}}  \\phi{\\left (x,z \\right )} - \\frac{1}{x^{4}} \\frac{\\partial}{\\partial z} n{\\left (x,z \\right )} \\frac{\\partial}{\\partial z} \\phi{\\left (x,z \\right )}^{2}$$"
      ],
      "text/plain": [
       "                             3                                    3           \n",
       "              ∂             ∂                       ∂            ∂            \n",
       "      n(x, z)⋅──(φ(x, z))⋅──────(φ(x, z))   n(x, z)⋅──(φ(x, z))⋅───(φ(x, z))  \n",
       "              ∂x               2                    ∂z            3           \n",
       "                          ∂z ∂x                                 ∂x            \n",
       "S = - ─────────────────────────────────── + ──────────────────────────────── +\n",
       "                       x                                   x                  \n",
       "                                                                              \n",
       "\n",
       "                             2                                        2       \n",
       "   ∂           ∂            ∂               ∂           ∂            ∂        \n",
       " 2⋅──(n(x, z))⋅──(φ(x, z))⋅───(φ(x, z))   2⋅──(n(x, z))⋅──(φ(x, z))⋅───(φ(x, z\n",
       "   ∂x          ∂z            2              ∂z          ∂x            2       \n",
       "                           ∂x                                       ∂x        \n",
       " ────────────────────────────────────── - ────────────────────────────────────\n",
       "                   x                                        x                 \n",
       "                                                                              \n",
       "\n",
       "                                                               2              \n",
       "                  2    2             ∂           ∂            ∂               \n",
       "))   ⎛∂          ⎞    ∂              ──(φ(x, z))⋅──(φ(x, z))⋅───(n(x, z))     \n",
       "     ⎜──(φ(x, z))⎟ ⋅─────(n(x, z))   ∂x          ∂z            2            n(\n",
       "     ⎝∂x         ⎠  ∂z ∂x                                    ∂x               \n",
       "── - ───────────────────────────── + ──────────────────────────────────── - ──\n",
       "                   x                                  x                       \n",
       "                                                                              \n",
       "\n",
       "                                                         2                    \n",
       "                     2                     ∂            ∂                     \n",
       "      ∂             ∂              n(x, z)⋅──(φ(x, z))⋅───(φ(x, z))   ∂       \n",
       "x, z)⋅──(φ(x, z))⋅─────(φ(x, z))           ∂z            2            ──(n(x, \n",
       "      ∂x          ∂z ∂x                                ∂x             ∂x      \n",
       "──────────────────────────────── + ──────────────────────────────── + ────────\n",
       "               2                                   2                          \n",
       "              x                                   x                           \n",
       "\n",
       "                                                                              \n",
       "                                                       2                      \n",
       "    ∂           ∂             ∂           ⎛∂          ⎞            ∂          \n",
       "z))⋅──(φ(x, z))⋅──(φ(x, z))   ──(n(x, z))⋅⎜──(φ(x, z))⎟    n(x, z)⋅──(φ(x, z))\n",
       "    ∂x          ∂z            ∂z          ⎝∂x         ⎠            ∂x         \n",
       "─────────────────────────── - ────────────────────────── - ───────────────────\n",
       "          2                                2                               3  \n",
       "         x                                x                               x   \n",
       "\n",
       "                                     3                                   3    \n",
       "                       ∂            ∂                     ∂             ∂     \n",
       " ∂             n(x, z)⋅──(φ(x, z))⋅───(φ(x, z))   n(x, z)⋅──(φ(x, z))⋅──────(φ\n",
       "⋅──(φ(x, z))           ∂x            3                    ∂z            2     \n",
       " ∂z                                ∂z                                 ∂z  ∂x  \n",
       "──────────── - ──────────────────────────────── + ────────────────────────────\n",
       "                               3                                    3         \n",
       "                              x                                    x          \n",
       "\n",
       "                                      2                                       \n",
       "            ∂           ∂            ∂               ∂           ∂            \n",
       "(x, z))   2⋅──(n(x, z))⋅──(φ(x, z))⋅───(φ(x, z))   2⋅──(n(x, z))⋅──(φ(x, z))⋅─\n",
       "            ∂x          ∂z            2              ∂z          ∂x           \n",
       "                                    ∂z                                       ∂\n",
       "─────── + ────────────────────────────────────── - ───────────────────────────\n",
       "                             3                                        3       \n",
       "                            x                                        x        \n",
       "\n",
       " 2                                      2                                     \n",
       "∂             ∂           ∂            ∂                          2    2      \n",
       "──(φ(x, z))   ──(φ(x, z))⋅──(φ(x, z))⋅───(n(x, z))   ⎛∂          ⎞    ∂       \n",
       " 2            ∂x          ∂z            2            ⎜──(φ(x, z))⎟ ⋅─────(n(x,\n",
       "z                                     ∂z             ⎝∂z         ⎠  ∂z ∂x     \n",
       "─────────── - ──────────────────────────────────── + ─────────────────────────\n",
       "                                3                                   3         \n",
       "                               x                                   x          \n",
       "\n",
       "                               2                                      \n",
       "                 ∂            ∂                                      2\n",
       "       2⋅n(x, z)⋅──(φ(x, z))⋅───(φ(x, z))   ∂           ⎛∂          ⎞ \n",
       " z))             ∂z            2            ──(n(x, z))⋅⎜──(φ(x, z))⎟ \n",
       "                             ∂z             ∂z          ⎝∂z         ⎠ \n",
       "──── - ────────────────────────────────── - ──────────────────────────\n",
       "                        4                                4            \n",
       "                       x                                x             "
      ]
     },
     "metadata": {},
     "output_type": "display_data"
    }
   ],
   "source": [
    "display(Eq(symbols('S'), expand(S)))"
   ]
  },
  {
   "cell_type": "code",
   "execution_count": 12,
   "metadata": {
    "collapsed": false,
    "scrolled": true
   },
   "outputs": [
    {
     "data": {
      "image/png": "[encoded data removed]",
      "text/latex": [
       "$$S_{new} = - \\frac{n \\phi_{x}}{x} \\phi_{xxz} - \\frac{n \\phi_{x}}{x^{2}} \\phi_{xz} - \\frac{n \\phi_{x}}{x^{3}} \\phi_{z} - \\frac{n \\phi_{x}}{x^{3}} \\phi_{zzz} + \\frac{n \\phi_{xx}}{x^{2}} \\phi_{z} + \\frac{n \\phi_{xxx}}{x} \\phi_{z} + \\frac{n \\phi_{xzz}}{x^{3}} \\phi_{z} - \\frac{2 n}{x^{4}} \\phi_{z} \\phi_{zz} + \\frac{n_{x} \\phi_{x}}{x^{2}} \\phi_{z} + \\frac{2 n_{x}}{x} \\phi_{xx} \\phi_{z} + \\frac{2 n_{x}}{x^{3}} \\phi_{z} \\phi_{zz} + \\frac{n_{xx} \\phi_{x}}{x} \\phi_{z} - \\frac{n_{xz} \\phi_{x}^{2}}{x} + \\frac{n_{xz} \\phi_{z}^{2}}{x^{3}} - \\frac{n_{z} \\phi_{x}^{2}}{x^{2}} - \\frac{2 n_{z}}{x} \\phi_{x} \\phi_{xx} - \\frac{2 n_{z}}{x^{3}} \\phi_{x} \\phi_{zz} - \\frac{n_{z} \\phi_{z}^{2}}{x^{4}} - \\frac{n_{zz} \\phi_{x}}{x^{3}} \\phi_{z}$$"
      ],
      "text/plain": [
       "                                                                              \n",
       "          n⋅φₓ⋅φ_xxz   n⋅φₓ⋅φ_xz   n⋅φₓ⋅φ_z   n⋅φₓ⋅φ_zzz   n⋅φₓₓ⋅φ_z   n⋅φₓₓₓ⋅\n",
       "S_new = - ────────── - ───────── - ──────── - ────────── + ───────── + ───────\n",
       "              x             2          3           3            2          x  \n",
       "                           x          x           x            x              \n",
       "\n",
       "                                                                              \n",
       "φ_z   n⋅φ_xzz⋅φ_z   2⋅n⋅φ_z⋅φ_zz   nₓ⋅φₓ⋅φ_z   2⋅nₓ⋅φₓₓ⋅φ_z   2⋅nₓ⋅φ_z⋅φ_zz   \n",
       "─── + ─────────── - ──────────── + ───────── + ──────────── + ───────────── + \n",
       "            3             4             2           x                3        \n",
       "           x             x             x                            x         \n",
       "\n",
       "                    2           2         2                                   \n",
       "nₓₓ⋅φₓ⋅φ_z   n_xz⋅φₓ    n_xz⋅φ_z    n_z⋅φₓ    2⋅n_z⋅φₓ⋅φₓₓ   2⋅n_z⋅φₓ⋅φ_zz   n\n",
       "────────── - ──────── + ───────── - ─────── - ──────────── - ───────────── - ─\n",
       "    x           x            3          2          x                3         \n",
       "                            x          x                           x          \n",
       "\n",
       "      2              \n",
       "_z⋅φ_z    n_zz⋅φₓ⋅φ_z\n",
       "─────── - ───────────\n",
       "   4            3    \n",
       "  x            x     "
      ]
     },
     "metadata": {},
     "output_type": "display_data"
    }
   ],
   "source": [
    "display(Eq(symbols('S_new'), expand(newS)))"
   ]
  },
  {
   "cell_type": "markdown",
   "metadata": {},
   "source": [
    "## Port to BOUT++"
   ]
  },
  {
   "cell_type": "code",
   "execution_count": 13,
   "metadata": {
    "collapsed": false
   },
   "outputs": [
    {
     "data": {
      "image/png": "[encoded data removed]",
      "text/latex": [
       "$$\\frac{1}{x^{4}} \\left(n \\left(- \\phi_{x} \\phi_{xxz} x^{3} - \\phi_{x} \\phi_{xz} x^{2} - \\phi_{x} \\phi_{z} x - \\phi_{x} \\phi_{zzz} x + \\phi_{xx} \\phi_{z} x^{2} + \\phi_{xxx} \\phi_{z} x^{3} + \\phi_{xzz} \\phi_{z} x - 2 \\phi_{z} \\phi_{zz}\\right) - n_{xz} \\phi_{x}^{2} x^{3} + n_{xz} \\phi_{z}^{2} x - n_{z} \\phi_{x}^{2} x^{2} - n_{z} \\phi_{z}^{2} + \\phi_{x} \\left(n_{x} \\phi_{z} x^{2} + n_{xx} \\phi_{z} x^{3} - 2 n_{z} \\phi_{xx} x^{3} - 2 n_{z} \\phi_{zz} x - n_{zz} \\phi_{z} x\\right) + \\phi_{z} \\left(2 n_{x} \\phi_{xx} x^{3} + 2 n_{x} \\phi_{zz} x\\right)\\right)$$"
      ],
      "text/plain": [
       "  ⎛            3            2                                    2            \n",
       "n⋅⎝- φₓ⋅φ_xxz⋅x  - φₓ⋅φ_xz⋅x  - φₓ⋅φ_z⋅x - φₓ⋅φ_zzz⋅x + φₓₓ⋅φ_z⋅x  + φₓₓₓ⋅φ_z⋅\n",
       "──────────────────────────────────────────────────────────────────────────────\n",
       "                                                                              \n",
       "                                                                              \n",
       "\n",
       " 3                           ⎞          2  3           2           2  2       \n",
       "x  + φ_xzz⋅φ_z⋅x - 2⋅φ_z⋅φ_zz⎠ - n_xz⋅φₓ ⋅x  + n_xz⋅φ_z ⋅x - n_z⋅φₓ ⋅x  - n_z⋅\n",
       "──────────────────────────────────────────────────────────────────────────────\n",
       "                                                        4                     \n",
       "                                                       x                      \n",
       "\n",
       "   2      ⎛        2            3              3                            ⎞ \n",
       "φ_z  + φₓ⋅⎝nₓ⋅φ_z⋅x  + nₓₓ⋅φ_z⋅x  - 2⋅n_z⋅φₓₓ⋅x  - 2⋅n_z⋅φ_zz⋅x - n_zz⋅φ_z⋅x⎠ \n",
       "──────────────────────────────────────────────────────────────────────────────\n",
       "                                                                              \n",
       "                                                                              \n",
       "\n",
       "      ⎛          3              ⎞\n",
       "+ φ_z⋅⎝2⋅nₓ⋅φₓₓ⋅x  + 2⋅nₓ⋅φ_zz⋅x⎠\n",
       "─────────────────────────────────\n",
       "                                 \n",
       "                                 "
      ]
     },
     "metadata": {},
     "output_type": "display_data"
    }
   ],
   "source": [
    "newerS = collect(newS, symbols('n, phi_x, phi_z'), exact=True)\n",
    "display(newerS)"
   ]
  },
  {
   "cell_type": "code",
   "execution_count": 14,
   "metadata": {
    "collapsed": false
   },
   "outputs": [
    {
     "name": "stdout",
     "output_type": "stream",
     "text": [
      "(n*(-phi_x*phi_xxz*x**3 - phi_x*phi_xz*x**2 - phi_x*phi_z*x - phi_x*phi_zzz*x + phi_xx*phi_z*x**2 + phi_xxx*phi_z*x**3 + phi_xzz*phi_z*x - 2*phi_z*phi_zz) - n_xz*phi_x**2*x**3 + n_xz*phi_z**2*x - n_z*phi_x**2*x**2 - n_z*phi_z**2 + phi_x*(n_x*phi_z*x**2 + n_xx*phi_z*x**3 - 2*n_z*phi_xx*x**3 - 2*n_z*phi_zz*x - n_zz*phi_z*x) + phi_z*(2*n_x*phi_xx*x**3 + 2*n_x*phi_zz*x))/x**4\n"
     ]
    }
   ],
   "source": [
    "print(newerS)"
   ]
  },
  {
   "cell_type": "code",
   "execution_count": 15,
   "metadata": {
    "collapsed": false
   },
   "outputs": [
    {
     "data": {
      "image/png": "[encoded data removed]",
      "text/latex": [
       "$$\\frac{1}{x^{4}} \\left(n \\left(- \\phi_{x} \\left(\\phi_{xxz} x^{3} + \\phi_{xz} x^{2} + \\phi_{z} x + \\phi_{zzz} x\\right) + \\phi_{z} \\left(\\phi_{xx} x^{2} + \\phi_{xxx} x^{3} + \\phi_{xzz} x - 2 \\phi_{zz}\\right)\\right) + 2 n_{x} \\phi_{z} \\left(\\phi_{xx} x^{3} + \\phi_{zz} x\\right) - \\phi_{x}^{2} \\left(n_{xz} x^{3} + n_{z} x^{2}\\right) + \\phi_{x} \\left(- 2 n_{z} \\left(\\phi_{xx} x^{3} + \\phi_{zz} x\\right) + \\phi_{z} \\left(n_{x} x^{2} + n_{xx} x^{3} - n_{zz} x\\right)\\right) + \\phi_{z}^{2} \\left(n_{xz} x - n_{z}\\right)\\right)$$"
      ],
      "text/plain": [
       "  ⎛     ⎛       3         2                  ⎞       ⎛     2         3        \n",
       "n⋅⎝- φₓ⋅⎝φ_xxz⋅x  + φ_xz⋅x  + φ_z⋅x + φ_zzz⋅x⎠ + φ_z⋅⎝φₓₓ⋅x  + φₓₓₓ⋅x  + φ_xzz\n",
       "──────────────────────────────────────────────────────────────────────────────\n",
       "                                                                              \n",
       "                                                                              \n",
       "\n",
       "           ⎞⎞            ⎛     3         ⎞     2 ⎛      3        2⎞      ⎛    \n",
       "⋅x - 2⋅φ_zz⎠⎠ + 2⋅nₓ⋅φ_z⋅⎝φₓₓ⋅x  + φ_zz⋅x⎠ - φₓ ⋅⎝n_xz⋅x  + n_z⋅x ⎠ + φₓ⋅⎝- 2⋅\n",
       "──────────────────────────────────────────────────────────────────────────────\n",
       "                                      4                                       \n",
       "                                     x                                        \n",
       "\n",
       "    ⎛     3         ⎞       ⎛    2        3         ⎞⎞      2               \n",
       "n_z⋅⎝φₓₓ⋅x  + φ_zz⋅x⎠ + φ_z⋅⎝nₓ⋅x  + nₓₓ⋅x  - n_zz⋅x⎠⎠ + φ_z ⋅(n_xz⋅x - n_z)\n",
       "────────────────────────────────────────────────────────────────────────────\n",
       "                                                                            \n",
       "                                                                            "
      ]
     },
     "metadata": {},
     "output_type": "display_data"
    }
   ],
   "source": [
    "# Manual simplification\n",
    "manSim = (sympify(\\\n",
    "'(  n*(-phi_x*(phi_xxz*x**3  + phi_xz*x**2  + phi_z*x   + phi_zzz*x) + phi_z*(phi_xx*x**2 + phi_xxx*x**3 + phi_xzz*x - 2*phi_zz)) - phi_x**2*(n_xz*x**3 + n_z*x**2) + phi_z**2*(n_xz*x - n_z) + phi_x*(  phi_z*(n_x*x**2 + n_xx*x**3- n_zz*x) - 2*n_z*(phi_xx*x**3 + phi_zz*x)) + 2*n_x*phi_z*(phi_xx*x**3 + phi_zz*x))/x**4'\n",
    "    ))\n",
    "display(manSim)"
   ]
  },
  {
   "cell_type": "code",
   "execution_count": 16,
   "metadata": {
    "collapsed": false
   },
   "outputs": [
    {
     "data": {
      "image/png": "[encoded data removed]",
      "text/latex": [
       "$$0$$"
      ],
      "text/plain": [
       "0"
      ]
     },
     "metadata": {},
     "output_type": "display_data"
    }
   ],
   "source": [
    "display(expand(newerS)- expand(manSim))"
   ]
  }
 ],
 "metadata": {
  "kernelspec": {
   "display_name": "Python 3",
   "language": "python",
   "name": "python3"
  },
  "language_info": {
   "codemirror_mode": {
    "name": "ipython",
    "version": 3
   },
   "file_extension": ".py",
   "mimetype": "text/x-python",
   "name": "python",
   "nbconvert_exporter": "python",
   "pygments_lexer": "ipython3",
   "version": "3.5.1"
  }
 },
 "nbformat": 4,
 "nbformat_minor": 0
}
