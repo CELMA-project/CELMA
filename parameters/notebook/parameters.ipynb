{
 "cells": [
  {
   "cell_type": "markdown",
   "metadata": {},
   "source": [
    "# Calculations of typical plasma parameters\n",
    "\n",
    "**NOTE**:\n",
    "1. All temperatures given in electron volts\n",
    "2. Fully ionized gas assumed"
   ]
  },
  {
   "cell_type": "code",
   "execution_count": 1,
   "metadata": {
    "collapsed": false
   },
   "outputs": [],
   "source": [
    "import scipy.constants as cst\n",
    "\n",
    "from IPython.display import display, HTML\n",
    "\n",
    "from sympy import symbols, simplify, sympify\n",
    "from sympy import init_printing\n",
    "from sympy import Eq, S\n",
    "from sympy import sqrt, ln\n",
    "\n",
    "init_printing()"
   ]
  },
  {
   "cell_type": "markdown",
   "metadata": {},
   "source": [
    "## User input"
   ]
  },
  {
   "cell_type": "code",
   "execution_count": 2,
   "metadata": {
    "collapsed": false
   },
   "outputs": [],
   "source": [
    "gas  = 'H'\n",
    "NNum = 3      # Degrees of freedom\n",
    "#n_e  = 3.0e19 # [m-3]\n",
    "n_e  = 2.0e18 # [m-3] Lowered value to lower collisionality\n",
    "T_e  = 12.0   # [eV]\n",
    "T_i  = 5.00   # [eV]\n",
    "BNum = 2.0e-1 # [T]\n",
    "SNum = 1e24   # [1/m3 s] Particle creation rate"
   ]
  },
  {
   "cell_type": "code",
   "execution_count": 3,
   "metadata": {
    "collapsed": true
   },
   "outputs": [],
   "source": [
    "showEqs         = True\n",
    "showPartialSubs = False\n",
    "showValue       = True\n",
    "scientific      = True"
   ]
  },
  {
   "cell_type": "code",
   "execution_count": 4,
   "metadata": {
    "collapsed": false
   },
   "outputs": [
    {
     "data": {
      "text/html": [
       "<script>\n",
       "code_show=true; \n",
       "function code_toggle() {\n",
       " if (code_show){\n",
       " $('div.input').hide();\n",
       " } else {\n",
       " $('div.input').show();\n",
       " }\n",
       " code_show = !code_show\n",
       "} \n",
       "$( document ).ready(code_toggle);\n",
       "</script>\n",
       "The raw code for this IPython notebook is by default hidden for easier reading.\n",
       "To toggle on/off the raw code, click <a href=\"javascript:code_toggle()\">here</a>."
      ],
      "text/plain": [
       "<IPython.core.display.HTML object>"
      ]
     },
     "execution_count": 4,
     "metadata": {},
     "output_type": "execute_result"
    }
   ],
   "source": [
    "# Hiding coding cells\n",
    "HTML('''<script>\n",
    "code_show=true; \n",
    "function code_toggle() {\n",
    " if (code_show){\n",
    " $('div.input').hide();\n",
    " } else {\n",
    " $('div.input').show();\n",
    " }\n",
    " code_show = !code_show\n",
    "} \n",
    "$( document ).ready(code_toggle);\n",
    "</script>\n",
    "The raw code for this IPython notebook is by default hidden for easier reading.\n",
    "To toggle on/off the raw code, click <a href=\"javascript:code_toggle()\">here</a>.''')"
   ]
  },
  {
   "cell_type": "code",
   "execution_count": 5,
   "metadata": {
    "collapsed": true
   },
   "outputs": [],
   "source": [
    "def eVToJ(var):\n",
    "    \"\"\"Converts from eV to J\"\"\"\n",
    "    \n",
    "    return var*cst.eV"
   ]
  },
  {
   "cell_type": "code",
   "execution_count": 6,
   "metadata": {
    "collapsed": false
   },
   "outputs": [],
   "source": [
    "T_e = eVToJ(T_e)\n",
    "T_i = eVToJ(T_i)"
   ]
  },
  {
   "cell_type": "code",
   "execution_count": 7,
   "metadata": {
    "collapsed": true
   },
   "outputs": [],
   "source": [
    "def dispDict(dictionary, scientific=False):\n",
    "    \"\"\"\n",
    "    Display the contents of a dictionary\n",
    "    \n",
    "    If scientific = True, the output will be printed in scientific units\n",
    "    \"\"\"\n",
    "    \n",
    "    if scientific:\n",
    "        for key in dictionary:\n",
    "            string = \"{} = {:.3e}\".format(dictionary[key].lhs, dictionary[key].rhs)\n",
    "            print(string)\n",
    "    else:\n",
    "        for key in dictionary:\n",
    "            display(dictionary[key])"
   ]
  },
  {
   "cell_type": "code",
   "execution_count": 8,
   "metadata": {
    "collapsed": true
   },
   "outputs": [],
   "source": [
    "def subsConst(dictionary, gas = 'H', additionalReplacements = None, evalf = False):\n",
    "    \"\"\"\n",
    "    Substitutes symbols with physical constants.\n",
    "    \n",
    "    Input\n",
    "    additionalReplacements - Dictionary of additional replacements\n",
    "    evalf                  - If True, the expression is going to be numerically evaluated\n",
    "    \n",
    "    NOTE: Ti and Te must be given in Joules in this function \n",
    "    \"\"\"\n",
    "    \n",
    "    implementedGases = ['H', 'D', 'T', 'He', 'Ne', 'Ar']\n",
    "    if gas == 'H':\n",
    "        m_i = cst.m_p\n",
    "    elif gas == 'D':\n",
    "        m_i = cst.m_p + cst.m_n\n",
    "    elif gas == 'T':\n",
    "        m_i = cst.m_p + 2*cst.m_n\n",
    "    elif gas == 'He':\n",
    "        # Source: http://www.ciaaw.org/atomic-weights.htm\n",
    "        m_i = 4.002602*cst.atomic_mass\n",
    "    elif gas == 'Ne':\n",
    "        # Source: http://www.ciaaw.org/atomic-weights.htm\n",
    "        m_i = 20.1797*cst.atomic_mass\n",
    "    elif gas == 'Ar':\n",
    "        # Source: http://www.ciaaw.org/atomic-weights.htm\n",
    "        m_i = 39.948*cst.atomic_mass\n",
    "    else:\n",
    "        raise NotImplementedError(\"{} not implemented. Implemented gases are {}\".format(gas, implementedGases))\n",
    "\n",
    "    if additionalReplacements is not None:\n",
    "        for addRepKey in additionalReplacements:\n",
    "            for dictKey in dictionary:\n",
    "                dictionary[dictKey] = dictionary[dictKey].subs(addRepKey, additionalReplacements[addRepKey])\n",
    "        \n",
    "    # List of replacements\n",
    "    replacements = [\\\n",
    "                    (mi      , m_i          ),\\\n",
    "                    (pi      , cst.pi       ),\\\n",
    "                    (me      , cst.m_e      ),\\\n",
    "                    (epsilon0, cst.epsilon_0),\\\n",
    "                    (mu0     , cst.mu_0     ),\\\n",
    "                    (q       , cst.e        ),\\\n",
    "                   ]\n",
    "    \n",
    "    for key in dictionary:\n",
    "        dictionary[key] = simplify(dictionary[key].subs(replacements))\n",
    "        if evalf:\n",
    "            dictionary[key] = Eq(dictionary[key].lhs, dictionary[key].rhs.evalf())\n",
    "        \n",
    "    return dictionary"
   ]
  },
  {
   "cell_type": "markdown",
   "metadata": {},
   "source": [
    "## Symbol definition"
   ]
  },
  {
   "cell_type": "code",
   "execution_count": 9,
   "metadata": {
    "collapsed": false
   },
   "outputs": [],
   "source": [
    "ne, me, mi, Te, Ti = symbols('n_e, m_e, m_i, T_e, T_i')\n",
    "lambdaD, rhoLe, rhoLi, rhoS = symbols('lambda_D, rho_Le, rho_Li, rho_S')\n",
    "ompe, omce, ompi, omci = symbols('omega_pe, omega_ce, omega_pi, omega_ci')\n",
    "vthe, vthi, vA, cs, N = symbols('v_the, v_thi, v_A, c_s, N')\n",
    "beta, betaAlt = symbols('beta, beta_alt')\n",
    "B, epsilon0, mu0, q = symbols('B, epsilon_0, mu_0, q')\n",
    "Lambda, pi, mu = symbols('Lambda, pi, mu')\n",
    "nuei, nuee, nuii, nuie, nuen, nuin = symbols('nu_ei, nu_ee, nu_ii, nu_ie, nu_en, nu_in')\n",
    "S, nuS = symbols('S, nu_S')\n",
    "\n",
    "# Dictionary for all formulas\n",
    "eqs = {}\n",
    "# Dictionary for partially subs\n",
    "partSubs = {}\n",
    "# Dictionary for values\n",
    "vals = {}\n",
    "\n",
    "additionalReplacements = {ne: n_e ,\\\n",
    "                          Te: T_e ,\\\n",
    "                          Ti: T_i ,\\\n",
    "                          B : BNum,\\\n",
    "                          N : NNum,\\\n",
    "                          S : SNum\n",
    "                         }"
   ]
  },
  {
   "cell_type": "markdown",
   "metadata": {},
   "source": [
    "## Thermal quantities"
   ]
  },
  {
   "cell_type": "code",
   "execution_count": 10,
   "metadata": {
    "collapsed": true
   },
   "outputs": [],
   "source": [
    "velocities = {}\n",
    "# Thermal velocity: Particle has energy kbT\n",
    "# https://en.wikipedia.org/wiki/Thermal_velocity\n",
    "thermalEVel = Eq(vthe, sqrt(2*Te/me))\n",
    "thermalIVel = Eq(vthi, sqrt(2*Ti/mi))\n",
    "# Pecseli: Low frequency waves and turbulence in magnitized plasmas (draft) page 156\n",
    "alfvenVel = Eq(vA, sqrt(B**2/(ne*mi*mu0)))\n",
    "ionAcoustic = Eq(cs, sqrt((Te+((N+2)/N)*Ti)/mi))\n",
    "\n",
    "velocities[thermalEVel.lhs] = thermalEVel\n",
    "velocities[thermalIVel.lhs] = thermalIVel\n",
    "velocities[alfvenVel.lhs]   = alfvenVel\n",
    "velocities[ionAcoustic.lhs] = ionAcoustic"
   ]
  },
  {
   "cell_type": "code",
   "execution_count": 11,
   "metadata": {
    "collapsed": false
   },
   "outputs": [
    {
     "data": {
      "image/png": "[encoded data removed]",
      "text/latex": [
       "$$v_{thi} = \\sqrt{2} \\sqrt{\\frac{T_{i}}{m_{i}}}$$"
      ],
      "text/plain": [
       "              ____\n",
       "             ╱ Tᵢ \n",
       "vₜₕᵢ = √2⋅  ╱  ── \n",
       "          ╲╱   mᵢ "
      ]
     },
     "metadata": {},
     "output_type": "display_data"
    },
    {
     "data": {
      "image/png": "[encoded data removed]",
      "text/latex": [
       "$$c_{s} = \\sqrt{\\frac{1}{m_{i}} \\left(T_{e} + \\frac{T_{i}}{N} \\left(N + 2\\right)\\right)}$$"
      ],
      "text/plain": [
       "           _________________\n",
       "          ╱      Tᵢ⋅(N + 2) \n",
       "         ╱  Tₑ + ────────── \n",
       "        ╱            N      \n",
       "cₛ =   ╱    ─────────────── \n",
       "     ╲╱            mᵢ       "
      ]
     },
     "metadata": {},
     "output_type": "display_data"
    },
    {
     "data": {
      "image/png": "[encoded data removed]",
      "text/latex": [
       "$$v_{A} = \\sqrt{\\frac{B^{2}}{m_{i} \\mu_{0} n_{e}}}$$"
      ],
      "text/plain": [
       "           __________\n",
       "          ╱     2    \n",
       "         ╱     B     \n",
       "v_A =   ╱   ──────── \n",
       "      ╲╱    mᵢ⋅μ₀⋅nₑ "
      ]
     },
     "metadata": {},
     "output_type": "display_data"
    },
    {
     "data": {
      "image/png": "[encoded data removed]",
      "text/latex": [
       "$$v_{the} = \\sqrt{2} \\sqrt{\\frac{T_{e}}{m_{e}}}$$"
      ],
      "text/plain": [
       "              ____\n",
       "             ╱ Tₑ \n",
       "vₜₕₑ = √2⋅  ╱  ── \n",
       "          ╲╱   mₑ "
      ]
     },
     "metadata": {},
     "output_type": "display_data"
    }
   ],
   "source": [
    "if showEqs:\n",
    "    dispDict(velocities)\n",
    "eqs.update(velocities)"
   ]
  },
  {
   "cell_type": "code",
   "execution_count": 12,
   "metadata": {
    "collapsed": false
   },
   "outputs": [],
   "source": [
    "velocities = subsConst(velocities, gas = gas)\n",
    "if showPartialSubs:\n",
    "    dispDict(velocities)\n",
    "partSubs.update(velocities)"
   ]
  },
  {
   "cell_type": "code",
   "execution_count": 13,
   "metadata": {
    "collapsed": false
   },
   "outputs": [
    {
     "name": "stdout",
     "output_type": "stream",
     "text": [
      "v_thi = 3.095e+4\n",
      "c_s = 4.413e+4\n",
      "v_A = 3.085e+6\n",
      "v_the = 2.055e+6\n"
     ]
    }
   ],
   "source": [
    "velocities = subsConst(velocities, gas = gas, additionalReplacements = additionalReplacements, evalf=True)\n",
    "if showValue:\n",
    "    dispDict(velocities, scientific = scientific)\n",
    "vals.update(velocities)"
   ]
  },
  {
   "cell_type": "markdown",
   "metadata": {},
   "source": [
    "## Frequencies"
   ]
  },
  {
   "cell_type": "code",
   "execution_count": 14,
   "metadata": {
    "collapsed": true
   },
   "outputs": [],
   "source": [
    "frequencies = {}\n",
    "\n",
    "plasmaFreq = Eq(ompe, sqrt(ne*q**2/(me*epsilon0)))\n",
    "ionCyclotron = Eq(omci, q*B/mi)\n",
    "elCyclotron = Eq(omce, q*B/me)\n",
    "\n",
    "frequencies[plasmaFreq.lhs] = plasmaFreq\n",
    "frequencies[ionCyclotron.lhs] = ionCyclotron\n",
    "frequencies[elCyclotron.lhs] = elCyclotron"
   ]
  },
  {
   "cell_type": "code",
   "execution_count": 15,
   "metadata": {
    "collapsed": false
   },
   "outputs": [
    {
     "data": {
      "image/png": "[encoded data removed]",
      "text/latex": [
       "$$\\omega_{ci} = \\frac{B q}{m_{i}}$$"
      ],
      "text/plain": [
       "       B⋅q\n",
       "ω_ci = ───\n",
       "        mᵢ"
      ]
     },
     "metadata": {},
     "output_type": "display_data"
    },
    {
     "data": {
      "image/png": "[encoded data removed]",
      "text/latex": [
       "$$\\omega_{ce} = \\frac{B q}{m_{e}}$$"
      ],
      "text/plain": [
       "       B⋅q\n",
       "ω_ce = ───\n",
       "        mₑ"
      ]
     },
     "metadata": {},
     "output_type": "display_data"
    },
    {
     "data": {
      "image/png": "[encoded data removed]",
      "text/latex": [
       "$$\\omega_{pe} = \\sqrt{\\frac{n_{e} q^{2}}{\\epsilon_{0} m_{e}}}$$"
      ],
      "text/plain": [
       "           _______\n",
       "          ╱     2 \n",
       "         ╱  nₑ⋅q  \n",
       "ωₚₑ =   ╱   ───── \n",
       "      ╲╱    ε₀⋅mₑ "
      ]
     },
     "metadata": {},
     "output_type": "display_data"
    }
   ],
   "source": [
    "if showEqs:\n",
    "    dispDict(frequencies)\n",
    "eqs.update(frequencies)"
   ]
  },
  {
   "cell_type": "code",
   "execution_count": 16,
   "metadata": {
    "collapsed": false
   },
   "outputs": [],
   "source": [
    "frequencies = subsConst(frequencies, gas = gas)\n",
    "if showPartialSubs:\n",
    "    dispDict(frequencies)\n",
    "partSubs.update(frequencies)"
   ]
  },
  {
   "cell_type": "code",
   "execution_count": 17,
   "metadata": {
    "collapsed": false
   },
   "outputs": [
    {
     "name": "stdout",
     "output_type": "stream",
     "text": [
      "omega_ci = 1.916e+7\n",
      "omega_ce = 3.518e+10\n",
      "omega_pe = 7.978e+10\n"
     ]
    }
   ],
   "source": [
    "frequencies = subsConst(frequencies, gas = gas, additionalReplacements=additionalReplacements, evalf=True)\n",
    "if showValue:\n",
    "    dispDict(frequencies, scientific = scientific)\n",
    "vals.update(frequencies)"
   ]
  },
  {
   "cell_type": "markdown",
   "metadata": {},
   "source": [
    "## Sizes"
   ]
  },
  {
   "cell_type": "code",
   "execution_count": 18,
   "metadata": {
    "collapsed": true
   },
   "outputs": [],
   "source": [
    "sizes = {}\n",
    "\n",
    "debyeLen = Eq(lambdaD, sqrt(epsilon0*Te/(ne*q**2)))\n",
    "larmourERadius = Eq(rhoLe, me*vthe/(q*B))\n",
    "larmourIRadius = Eq(rhoLi, mi*vthi/(q*B))\n",
    "hybridRadius = Eq(rhoS, cs/omci)\n",
    "\n",
    "sizes[debyeLen.lhs] = debyeLen\n",
    "sizes[larmourERadius.lhs] = larmourERadius\n",
    "sizes[larmourIRadius.lhs] = larmourIRadius\n",
    "sizes[hybridRadius.lhs] = hybridRadius"
   ]
  },
  {
   "cell_type": "code",
   "execution_count": 19,
   "metadata": {
    "collapsed": false
   },
   "outputs": [
    {
     "data": {
      "image/png": "[encoded data removed]",
      "text/latex": [
       "$$\\rho_{Le} = \\frac{m_{e} v_{the}}{B q}$$"
      ],
      "text/plain": [
       "       mₑ⋅vₜₕₑ\n",
       "ρ_Le = ───────\n",
       "         B⋅q  "
      ]
     },
     "metadata": {},
     "output_type": "display_data"
    },
    {
     "data": {
      "image/png": "[encoded data removed]",
      "text/latex": [
       "$$\\rho_{S} = \\frac{c_{s}}{\\omega_{ci}}$$"
      ],
      "text/plain": [
       "       cₛ \n",
       "ρ_S = ────\n",
       "      ω_ci"
      ]
     },
     "metadata": {},
     "output_type": "display_data"
    },
    {
     "data": {
      "image/png": "[encoded data removed]",
      "text/latex": [
       "$$\\lambda_{D} = \\sqrt{\\frac{T_{e} \\epsilon_{0}}{n_{e} q^{2}}}$$"
      ],
      "text/plain": [
       "           _______\n",
       "          ╱ Tₑ⋅ε₀ \n",
       "λ_D =    ╱  ───── \n",
       "        ╱       2 \n",
       "      ╲╱    nₑ⋅q  "
      ]
     },
     "metadata": {},
     "output_type": "display_data"
    },
    {
     "data": {
      "image/png": "[encoded data removed]",
      "text/latex": [
       "$$\\rho_{Li} = \\frac{m_{i} v_{thi}}{B q}$$"
      ],
      "text/plain": [
       "       mᵢ⋅vₜₕᵢ\n",
       "ρ_Li = ───────\n",
       "         B⋅q  "
      ]
     },
     "metadata": {},
     "output_type": "display_data"
    }
   ],
   "source": [
    "if showEqs:\n",
    "    dispDict(sizes)\n",
    "eqs.update(sizes)"
   ]
  },
  {
   "cell_type": "code",
   "execution_count": 20,
   "metadata": {
    "collapsed": false
   },
   "outputs": [],
   "source": [
    "sizes = subsConst(sizes, gas = gas)\n",
    "if showPartialSubs:\n",
    "    dispDict(sizes)\n",
    "partSubs.update(sizes)"
   ]
  },
  {
   "cell_type": "code",
   "execution_count": 21,
   "metadata": {
    "collapsed": false
   },
   "outputs": [
    {
     "name": "stdout",
     "output_type": "stream",
     "text": [
      "rho_Le = 5.841e-5\n",
      "rho_S = 2.304e-3\n",
      "lambda_D = 1.821e-5\n",
      "rho_Li = 1.616e-3\n"
     ]
    }
   ],
   "source": [
    "sizes = subsConst(sizes, gas = gas, additionalReplacements={**additionalReplacements,\\\n",
    "                                                            omci:vals[omci].rhs     ,\\\n",
    "                                                            vthe:vals[vthe].rhs     ,\\\n",
    "                                                            vthi:vals[vthi].rhs     ,\\\n",
    "                                                            cs  :vals[cs].rhs       ,\\\n",
    "                                                           }, evalf=True)\n",
    "if showValue:\n",
    "    dispDict(sizes, scientific = scientific)\n",
    "vals.update(sizes)"
   ]
  },
  {
   "cell_type": "markdown",
   "metadata": {},
   "source": [
    "## Collisions\n",
    "\n",
    "**NOTE**: No easy functional expression for neutral collisions other than the ones with the rate coefficients"
   ]
  },
  {
   "cell_type": "markdown",
   "metadata": {},
   "source": [
    "### Coulomb logarithm"
   ]
  },
  {
   "cell_type": "code",
   "execution_count": 22,
   "metadata": {
    "collapsed": true
   },
   "outputs": [],
   "source": [
    "coulLog = {}\n",
    "\n",
    "# Friedberg: Plasma Physics and Fusion Energy - equation (9.35)\n",
    "coulombLog = Eq(ln(Lambda), ln(12*pi*(epsilon0*Te)**(3/2)/(sqrt(ne)*q**3)))\n",
    "                \n",
    "coulLog[coulombLog.lhs] = coulombLog"
   ]
  },
  {
   "cell_type": "code",
   "execution_count": 23,
   "metadata": {
    "collapsed": false
   },
   "outputs": [
    {
     "data": {
      "image/png": "[encoded data removed]",
      "text/latex": [
       "$$\\log{\\left (\\Lambda \\right )} = \\log{\\left (\\frac{12 \\pi \\left(T_{e} \\epsilon_{0}\\right)^{1.5}}{\\sqrt{n_{e}} q^{3}} \\right )}$$"
      ],
      "text/plain": [
       "            ⎛            1.5⎞\n",
       "            ⎜12⋅π⋅(Tₑ⋅ε₀)   ⎟\n",
       "log(Λ) = log⎜───────────────⎟\n",
       "            ⎜     ____  3   ⎟\n",
       "            ⎝   ╲╱ nₑ ⋅q    ⎠"
      ]
     },
     "metadata": {},
     "output_type": "display_data"
    }
   ],
   "source": [
    "if showEqs:\n",
    "    dispDict(coulLog)            \n",
    "eqs.update(coulLog)"
   ]
  },
  {
   "cell_type": "code",
   "execution_count": 24,
   "metadata": {
    "collapsed": false
   },
   "outputs": [],
   "source": [
    "coulLog = subsConst(coulLog, gas = gas)\n",
    "if showPartialSubs:\n",
    "    dispDict(coulLog)\n",
    "partSubs.update(coulLog)"
   ]
  },
  {
   "cell_type": "code",
   "execution_count": 25,
   "metadata": {
    "collapsed": false
   },
   "outputs": [
    {
     "name": "stdout",
     "output_type": "stream",
     "text": [
      "log(Lambda) = 1.303e+1\n"
     ]
    }
   ],
   "source": [
    "coulLog = subsConst(coulLog, gas = gas, additionalReplacements={**additionalReplacements}, evalf=True)\n",
    "if showValue:\n",
    "    dispDict(coulLog, scientific = scientific)\n",
    "vals.update(coulLog)"
   ]
  },
  {
   "cell_type": "markdown",
   "metadata": {},
   "source": [
    "### Collision frequencies"
   ]
  },
  {
   "cell_type": "code",
   "execution_count": 26,
   "metadata": {
    "collapsed": true
   },
   "outputs": [],
   "source": [
    "# TODO: Add neutral plot\n",
    "collisions = {}\n",
    "\n",
    "# Friedberg: Plasma Physics and Fusion Energy - equation (9.49) [Agrees with Bellan page 489]\n",
    "eiCollision = Eq(nuei, 1/(4*pi)*(q**4*ne/(epsilon0**2*me**2))*ln(Lambda)*(1/vthe**3))\n",
    "# Friedberg: Plasma Physics and Fusion Energy - equation (9.52)                \n",
    "eeCollision = Eq(nuee, 1/(2*pi)*(q**4*ne/(epsilon0**2*me**2))*ln(Lambda)*(1/vthe**3))\n",
    "iiCollision = Eq(nuii, 1/(2*pi)*(q**4*ne/(epsilon0**2*mi**2))*ln(Lambda)*(1/vthi**3))\n",
    "ieCollision = Eq(nuie, 1/(4*pi)*(q**4*ne/(epsilon0**2*me*mi))*ln(Lambda)*(1/vthe**3))\n",
    "                \n",
    "collisions[eiCollision.lhs] = eiCollision\n",
    "collisions[eeCollision.lhs] = eeCollision\n",
    "collisions[iiCollision.lhs] = iiCollision\n",
    "collisions[ieCollision.lhs] = ieCollision"
   ]
  },
  {
   "cell_type": "code",
   "execution_count": 27,
   "metadata": {
    "collapsed": false
   },
   "outputs": [
    {
     "data": {
      "image/png": "[encoded data removed]",
      "text/latex": [
       "$$\\nu_{ei} = \\frac{n_{e} q^{4} \\log{\\left (\\Lambda \\right )}}{4 \\epsilon_{0}^{2} m_{e}^{2} \\pi v_{the}^{3}}$$"
      ],
      "text/plain": [
       "             4         \n",
       "         nₑ⋅q ⋅log(Λ)  \n",
       "νₑᵢ = ─────────────────\n",
       "          2   2       3\n",
       "      4⋅ε₀ ⋅mₑ ⋅π⋅vₜₕₑ "
      ]
     },
     "metadata": {},
     "output_type": "display_data"
    },
    {
     "data": {
      "image/png": "[encoded data removed]",
      "text/latex": [
       "$$\\nu_{ii} = \\frac{n_{e} q^{4} \\log{\\left (\\Lambda \\right )}}{2 \\epsilon_{0}^{2} m_{i}^{2} \\pi v_{thi}^{3}}$$"
      ],
      "text/plain": [
       "             4         \n",
       "         nₑ⋅q ⋅log(Λ)  \n",
       "νᵢᵢ = ─────────────────\n",
       "          2   2       3\n",
       "      2⋅ε₀ ⋅mᵢ ⋅π⋅vₜₕᵢ "
      ]
     },
     "metadata": {},
     "output_type": "display_data"
    },
    {
     "data": {
      "image/png": "[encoded data removed]",
      "text/latex": [
       "$$\\nu_{ie} = \\frac{n_{e} q^{4} \\log{\\left (\\Lambda \\right )}}{4 \\epsilon_{0}^{2} m_{e} m_{i} \\pi v_{the}^{3}}$$"
      ],
      "text/plain": [
       "              4          \n",
       "          nₑ⋅q ⋅log(Λ)   \n",
       "νᵢₑ = ───────────────────\n",
       "          2             3\n",
       "      4⋅ε₀ ⋅mₑ⋅mᵢ⋅π⋅vₜₕₑ "
      ]
     },
     "metadata": {},
     "output_type": "display_data"
    },
    {
     "data": {
      "image/png": "[encoded data removed]",
      "text/latex": [
       "$$\\nu_{ee} = \\frac{n_{e} q^{4} \\log{\\left (\\Lambda \\right )}}{2 \\epsilon_{0}^{2} m_{e}^{2} \\pi v_{the}^{3}}$$"
      ],
      "text/plain": [
       "             4         \n",
       "         nₑ⋅q ⋅log(Λ)  \n",
       "νₑₑ = ─────────────────\n",
       "          2   2       3\n",
       "      2⋅ε₀ ⋅mₑ ⋅π⋅vₜₕₑ "
      ]
     },
     "metadata": {},
     "output_type": "display_data"
    }
   ],
   "source": [
    "if showEqs:\n",
    "    dispDict(collisions)            \n",
    "eqs.update(collisions)"
   ]
  },
  {
   "cell_type": "code",
   "execution_count": 28,
   "metadata": {
    "collapsed": false
   },
   "outputs": [],
   "source": [
    "collisions = subsConst(collisions, gas = gas)\n",
    "if showPartialSubs:\n",
    "    dispDict(collisions)\n",
    "partSubs.update(collisions)"
   ]
  },
  {
   "cell_type": "code",
   "execution_count": 29,
   "metadata": {
    "collapsed": false
   },
   "outputs": [
    {
     "name": "stdout",
     "output_type": "stream",
     "text": [
      "nu_ei = 2.422e+6\n",
      "nu_ii = 4.203e+5\n",
      "nu_ie = 1.319e+3\n",
      "nu_ee = 4.844e+6\n"
     ]
    }
   ],
   "source": [
    "collisions = subsConst(collisions, gas = gas, additionalReplacements={**additionalReplacements               ,\\\n",
    "                                                                      vthe:vals[vthe].rhs                    ,\\\n",
    "                                                                      vthi:vals[vthi].rhs                    ,\\\n",
    "                                                                      coulombLog.lhs:vals[coulombLog.lhs].rhs,\\\n",
    "                                                                     }, evalf=True)\n",
    "if showValue:\n",
    "    dispDict(collisions, scientific = scientific)\n",
    "vals.update(collisions)"
   ]
  },
  {
   "cell_type": "markdown",
   "metadata": {},
   "source": [
    "## Additional parameters"
   ]
  },
  {
   "cell_type": "code",
   "execution_count": 30,
   "metadata": {
    "collapsed": true
   },
   "outputs": [],
   "source": [
    "additionals = {}\n",
    "\n",
    "# Pecseli: Low frequency waves and turbulence in magnitized plasmas (draft) page 40\n",
    "plasmaBeta = Eq(beta, ne*(Te+((N+2)/N)*Ti)/(B**2/(2*mu0)))\n",
    "plasmaBetaAlt = Eq(betaAlt, 2*cs**2/vA**2)\n",
    "massRatio = Eq(mu, mi/me)\n",
    "creationRate = Eq(nuS, S/ne)\n",
    "\n",
    "additionals[plasmaBeta.lhs] = plasmaBeta\n",
    "additionals[plasmaBetaAlt.lhs] = plasmaBetaAlt\n",
    "additionals[massRatio.lhs] = massRatio        \n",
    "additionals[creationRate.lhs] = creationRate"
   ]
  },
  {
   "cell_type": "code",
   "execution_count": 31,
   "metadata": {
    "collapsed": false
   },
   "outputs": [
    {
     "data": {
      "image/png": "[encoded data removed]",
      "text/latex": [
       "$$\\beta = \\frac{2 \\mu_{0}}{B^{2}} n_{e} \\left(T_{e} + \\frac{T_{i}}{N} \\left(N + 2\\right)\\right)$$"
      ],
      "text/plain": [
       "            ⎛     Tᵢ⋅(N + 2)⎞\n",
       "    2⋅μ₀⋅nₑ⋅⎜Tₑ + ──────────⎟\n",
       "            ⎝         N     ⎠\n",
       "β = ─────────────────────────\n",
       "                 2           \n",
       "                B            "
      ]
     },
     "metadata": {},
     "output_type": "display_data"
    },
    {
     "data": {
      "image/png": "[encoded data removed]",
      "text/latex": [
       "$$\\mu = \\frac{m_{i}}{m_{e}}$$"
      ],
      "text/plain": [
       "    mᵢ\n",
       "μ = ──\n",
       "    mₑ"
      ]
     },
     "metadata": {},
     "output_type": "display_data"
    },
    {
     "data": {
      "image/png": "[encoded data removed]",
      "text/latex": [
       "$$\\beta_{alt} = \\frac{2 c_{s}^{2}}{v_{A}^{2}}$$"
      ],
      "text/plain": [
       "           2\n",
       "       2⋅cₛ \n",
       "βₐₗₜ = ─────\n",
       "           2\n",
       "        v_A "
      ]
     },
     "metadata": {},
     "output_type": "display_data"
    },
    {
     "data": {
      "image/png": "[encoded data removed]",
      "text/latex": [
       "$$\\nu_{S} = \\frac{S}{n_{e}}$$"
      ],
      "text/plain": [
       "      S \n",
       "ν_S = ──\n",
       "      nₑ"
      ]
     },
     "metadata": {},
     "output_type": "display_data"
    }
   ],
   "source": [
    "if showEqs:\n",
    "    dispDict(additionals)\n",
    "eqs.update(additionals)"
   ]
  },
  {
   "cell_type": "code",
   "execution_count": 32,
   "metadata": {
    "collapsed": false
   },
   "outputs": [],
   "source": [
    "additionals = subsConst(additionals, gas = gas)\n",
    "if showPartialSubs:\n",
    "    dispDict(additionals)\n",
    "partSubs.update(additionals)"
   ]
  },
  {
   "cell_type": "code",
   "execution_count": 33,
   "metadata": {
    "collapsed": false
   },
   "outputs": [
    {
     "name": "stdout",
     "output_type": "stream",
     "text": [
      "beta = 4.094e-4\n",
      "mu = 1.836e+3\n",
      "beta_alt = 4.094e-4\n",
      "nu_S = 5.000e+5\n"
     ]
    }
   ],
   "source": [
    "additionals = subsConst(additionals, gas = gas, additionalReplacements = {**additionalReplacements,\\\n",
    "                                                                          cs:vals[cs].rhs         ,\\\n",
    "                                                                          vA:vals[vA].rhs         ,\\\n",
    "                                                                         },evalf=True)\n",
    "if showValue:\n",
    "    dispDict(additionals, scientific = scientific)\n",
    "vals.update(additionals)"
   ]
  },
  {
   "cell_type": "markdown",
   "metadata": {},
   "source": [
    "## Normalized parameters"
   ]
  },
  {
   "cell_type": "code",
   "execution_count": 34,
   "metadata": {
    "collapsed": false
   },
   "outputs": [
    {
     "data": {
      "image/png": "[encoded data removed]",
      "text/latex": [
       "$$\\frac{\\nu_{S}}{\\omega_{ci}} = \\frac{S m_{i}}{B n_{e} q}$$"
      ],
      "text/plain": [
       "ν_S     S⋅mᵢ \n",
       "──── = ──────\n",
       "ω_ci   B⋅nₑ⋅q"
      ]
     },
     "metadata": {},
     "output_type": "display_data"
    },
    {
     "data": {
      "image/png": "[encoded data removed]",
      "text/latex": [
       "$$\\frac{\\nu_{ei}}{\\omega_{ci}} = \\frac{m_{i} n_{e} q^{3} \\log{\\left (\\Lambda \\right )}}{4 B \\epsilon_{0}^{2} m_{e}^{2} \\pi v_{the}^{3}}$$"
      ],
      "text/plain": [
       "                3         \n",
       "νₑᵢ      mᵢ⋅nₑ⋅q ⋅log(Λ)  \n",
       "──── = ───────────────────\n",
       "ω_ci         2   2       3\n",
       "       4⋅B⋅ε₀ ⋅mₑ ⋅π⋅vₜₕₑ "
      ]
     },
     "metadata": {},
     "output_type": "display_data"
    }
   ],
   "source": [
    "normEq = {}\n",
    "\n",
    "normNuEiEq = Eq(eqs[nuei].lhs/eqs[omci].lhs, eqs[nuei].rhs/eqs[omci].rhs)\n",
    "normNuSEq = Eq(eqs[nuS].lhs/eqs[omci].lhs, eqs[nuS].rhs/eqs[omci].rhs)\n",
    "\n",
    "normEq[normNuEiEq.rhs] = normNuEiEq\n",
    "normEq[normNuSEq.rhs] = normNuSEq\n",
    "\n",
    "eqs.update(normEq)\n",
    "if showEqs:\n",
    "    dispDict(normEq)"
   ]
  },
  {
   "cell_type": "code",
   "execution_count": 35,
   "metadata": {
    "collapsed": false
   },
   "outputs": [],
   "source": [
    "normPartSubs = {}\n",
    "normNuEiPartial = Eq(partSubs[nuei].lhs/partSubs[omci].lhs, partSubs[nuei].rhs/partSubs[omci].rhs)\n",
    "normNuSPartial = Eq(partSubs[nuS].lhs/partSubs[omci].lhs, partSubs[nuS].rhs/partSubs[omci].rhs)\n",
    "\n",
    "normPartSubs[normNuEiPartial.rhs] = normNuEiPartial\n",
    "normPartSubs[normNuSPartial.rhs] = normNuSPartial\n",
    "\n",
    "partSubs.update(normPartSubs)\n",
    "if showPartialSubs:\n",
    "    dispDict(normPartSubs)"
   ]
  },
  {
   "cell_type": "code",
   "execution_count": 36,
   "metadata": {
    "collapsed": false
   },
   "outputs": [
    {
     "name": "stdout",
     "output_type": "stream",
     "text": [
      "nu_S/omega_ci = 2.610e-2\n",
      "nu_ei/omega_ci = 1.264e-1\n"
     ]
    }
   ],
   "source": [
    "normVals = {}\n",
    "normNuEiVals = Eq(vals[nuei].lhs/vals[omci].lhs, vals[nuei].rhs/vals[omci].rhs)\n",
    "normNuSVals = Eq(vals[nuS].lhs/vals[omci].lhs, vals[nuS].rhs/vals[omci].rhs)\n",
    "\n",
    "normVals[normNuEiVals.rhs] = normNuEiVals\n",
    "normVals[normNuSVals.rhs] = normNuSVals\n",
    "\n",
    "vals.update(normVals)\n",
    "if showValue:\n",
    "    dispDict(normVals, scientific = scientific)"
   ]
  }
 ],
 "metadata": {
  "anaconda-cloud": {},
  "kernelspec": {
   "display_name": "Python [default]",
   "language": "python",
   "name": "python3"
  },
  "language_info": {
   "codemirror_mode": {
    "name": "ipython",
    "version": 3
   },
   "file_extension": ".py",
   "mimetype": "text/x-python",
   "name": "python",
   "nbconvert_exporter": "python",
   "pygments_lexer": "ipython3",
   "version": "3.5.2"
  }
 },
 "nbformat": 4,
 "nbformat_minor": 0
}
